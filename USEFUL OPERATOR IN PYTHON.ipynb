{
 "cells": [
  {
   "cell_type": "code",
   "execution_count": 6,
   "id": "defcb9be",
   "metadata": {},
   "outputs": [
    {
     "name": "stdout",
     "output_type": "stream",
     "text": [
      "This is your index value: 0  that holds this letter in that pos: a\n",
      "This is your index value: 1  that holds this letter in that pos: b\n",
      "This is your index value: 2  that holds this letter in that pos: c\n",
      "This is your index value: 3  that holds this letter in that pos: d\n",
      "This is your index value: 4  that holds this letter in that pos: e\n"
     ]
    }
   ],
   "source": [
    "counter = 0 # a constant var or counter where increment and data will be assigned\n",
    "for words in \"abcde\": #goes throught index and it values and store in word\n",
    "    print(\"This is your index value: {}  that holds this letter in that pos: {}\".format(counter,words)) #.format method print output of bunch of variable storing it and giving output\n",
    "    counter += 1 # its inrement or adds +1 every time going throught for loop til last index\n",
    "    "
   ]
  },
  {
   "cell_type": "code",
   "execution_count": 20,
   "id": "7848ab18",
   "metadata": {},
   "outputs": [
    {
     "name": "stdout",
     "output_type": "stream",
     "text": [
      "h ['h']\n",
      "e ['h', 'e']\n",
      "l ['h', 'e', 'l']\n",
      "l ['h', 'e', 'l', 'l']\n",
      "o ['h', 'e', 'l', 'l', 'o']\n"
     ]
    }
   ],
   "source": [
    "#LIST COMPREHENSION and range function and loop and one liner\n",
    "string = \"hello\"\n",
    "list1=  [ ]\n",
    "for letter in string:\n",
    "    list1.append(letter)\n",
    "    print(letter,list1)"
   ]
  },
  {
   "cell_type": "code",
   "execution_count": 21,
   "id": "fcd4ac92",
   "metadata": {},
   "outputs": [
    {
     "data": {
      "text/plain": [
       "['h', 'e', 'l', 'l', 'o']"
      ]
     },
     "execution_count": 21,
     "metadata": {},
     "output_type": "execute_result"
    }
   ],
   "source": [
    "list1"
   ]
  },
  {
   "cell_type": "code",
   "execution_count": 22,
   "id": "cd8b22ac",
   "metadata": {},
   "outputs": [],
   "source": [
    "#one liner feature\n",
    "mystring = 'Tassang'\n",
    "mylist = [letter for letter in mystring]"
   ]
  },
  {
   "cell_type": "code",
   "execution_count": 23,
   "id": "52905ad3",
   "metadata": {},
   "outputs": [
    {
     "data": {
      "text/plain": [
       "['T', 'a', 's', 's', 'a', 'n', 'g']"
      ]
     },
     "execution_count": 23,
     "metadata": {},
     "output_type": "execute_result"
    }
   ],
   "source": [
    "mylist"
   ]
  },
  {
   "cell_type": "code",
   "execution_count": 25,
   "id": "9e5baebf",
   "metadata": {},
   "outputs": [],
   "source": [
    "mystring = \"my great\"\n",
    "mylist = [letter for letter in mystring]"
   ]
  },
  {
   "cell_type": "code",
   "execution_count": 26,
   "id": "5d5ba610",
   "metadata": {},
   "outputs": [
    {
     "data": {
      "text/plain": [
       "'my great'"
      ]
     },
     "execution_count": 26,
     "metadata": {},
     "output_type": "execute_result"
    }
   ],
   "source": [
    "mystring"
   ]
  },
  {
   "cell_type": "code",
   "execution_count": 27,
   "id": "19ca1876",
   "metadata": {},
   "outputs": [],
   "source": [
    "mynum = [num**2 for num in range(0,11)]\n",
    "myeven = [x**2 for x in range(0,11)  if x%2 == 0]"
   ]
  },
  {
   "cell_type": "code",
   "execution_count": 29,
   "id": "140c400e",
   "metadata": {},
   "outputs": [
    {
     "data": {
      "text/plain": [
       "[0, 1, 4, 9, 16, 25, 36, 49, 64, 81, 100]"
      ]
     },
     "execution_count": 29,
     "metadata": {},
     "output_type": "execute_result"
    }
   ],
   "source": [
    "mynum"
   ]
  },
  {
   "cell_type": "code",
   "execution_count": 30,
   "id": "1c911691",
   "metadata": {},
   "outputs": [
    {
     "data": {
      "text/plain": [
       "[0, 4, 16, 36, 64, 100]"
      ]
     },
     "execution_count": 30,
     "metadata": {},
     "output_type": "execute_result"
    }
   ],
   "source": [
    "myeven"
   ]
  },
  {
   "cell_type": "code",
   "execution_count": 31,
   "id": "23024560",
   "metadata": {},
   "outputs": [],
   "source": [
    "# Convert Celcius to farenheit\n",
    "celcius = [0,10,20,30,40,50,60,70,80,90,100,35.5]\n",
    "f = [((9/5)*temp+32) for temp in celcius]"
   ]
  },
  {
   "cell_type": "code",
   "execution_count": 32,
   "id": "42d05d32",
   "metadata": {},
   "outputs": [
    {
     "data": {
      "text/plain": [
       "[32.0, 50.0, 68.0, 86.0, 104.0, 122.0, 140.0, 158.0, 176.0, 194.0, 212.0, 95.9]"
      ]
     },
     "execution_count": 32,
     "metadata": {},
     "output_type": "execute_result"
    }
   ],
   "source": [
    "f"
   ]
  },
  {
   "cell_type": "code",
   "execution_count": 33,
   "id": "de3a8c06",
   "metadata": {},
   "outputs": [],
   "source": [
    "results = [x if x%2 == 0 else 'ODD' for x in range(0,10)]"
   ]
  },
  {
   "cell_type": "code",
   "execution_count": 34,
   "id": "e9af5b4a",
   "metadata": {},
   "outputs": [
    {
     "data": {
      "text/plain": [
       "[0, 'ODD', 2, 'ODD', 4, 'ODD', 6, 'ODD', 8, 'ODD']"
      ]
     },
     "execution_count": 34,
     "metadata": {},
     "output_type": "execute_result"
    }
   ],
   "source": [
    "results"
   ]
  },
  {
   "cell_type": "code",
   "execution_count": 35,
   "id": "2a02975b",
   "metadata": {},
   "outputs": [],
   "source": [
    "mylist=[]\n",
    "for x in [2,3,4]:\n",
    "    for y in [1,2,3]:\n",
    "        mylist.append(x*y)"
   ]
  },
  {
   "cell_type": "code",
   "execution_count": 36,
   "id": "cbb5ef98",
   "metadata": {},
   "outputs": [
    {
     "data": {
      "text/plain": [
       "[2, 4, 6, 3, 6, 9, 4, 8, 12]"
      ]
     },
     "execution_count": 36,
     "metadata": {},
     "output_type": "execute_result"
    }
   ],
   "source": [
    "mylist"
   ]
  },
  {
   "cell_type": "code",
   "execution_count": null,
   "id": "0b56c485",
   "metadata": {},
   "outputs": [],
   "source": []
  }
 ],
 "metadata": {
  "kernelspec": {
   "display_name": "Python 3 (ipykernel)",
   "language": "python",
   "name": "python3"
  },
  "language_info": {
   "codemirror_mode": {
    "name": "ipython",
    "version": 3
   },
   "file_extension": ".py",
   "mimetype": "text/x-python",
   "name": "python",
   "nbconvert_exporter": "python",
   "pygments_lexer": "ipython3",
   "version": "3.10.9"
  }
 },
 "nbformat": 4,
 "nbformat_minor": 5
}
