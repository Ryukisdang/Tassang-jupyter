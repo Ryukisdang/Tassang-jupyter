{
 "cells": [
  {
   "cell_type": "markdown",
   "metadata": {},
   "source": [
    "# Errors and Exceptions Assessment"
   ]
  },
  {
   "cell_type": "markdown",
   "metadata": {},
   "source": [
    "### Problem 1\n",
    "Handle the exception thrown by the code below by using <code>try</code> and <code>except</code> blocks."
   ]
  },
  {
   "cell_type": "code",
   "execution_count": 21,
   "metadata": {},
   "outputs": [
    {
     "name": "stdout",
     "output_type": "stream",
     "text": [
      "** operator cant be used with string type\n",
      "unsupported operand type(s) for ** or pow(): 'str' and 'int'\n"
     ]
    }
   ],
   "source": [
    "try:\n",
    "    \n",
    "    for i in ['a','b','c']:\n",
    "        print(i**2)\n",
    "except TypeError as e:\n",
    "    print(\"** operator cant be used with string type\")\n",
    "    print(e)"
   ]
  },
  {
   "cell_type": "markdown",
   "metadata": {},
   "source": [
    "### Problem 2\n",
    "Handle the exception thrown by the code below by using <code>try</code> and <code>except</code> blocks. Then use a <code>finally</code> block to print 'All Done.'"
   ]
  },
  {
   "cell_type": "code",
   "execution_count": 22,
   "metadata": {},
   "outputs": [
    {
     "name": "stdout",
     "output_type": "stream",
     "text": [
      "Dividing by zero is undefined Error\n",
      "division by zero\n",
      "All Done\n"
     ]
    }
   ],
   "source": [
    "try:\n",
    "    x = 5\n",
    "    y = 0\n",
    "\n",
    "    z = x/y\n",
    "    print(z)\n",
    "except ZeroDivisionError as err:\n",
    "    print(f'Dividing by zero is undefined Error\\n{err}')\n",
    "finally:\n",
    "    print(\"All Done\")\n",
    "\n",
    "    "
   ]
  },
  {
   "cell_type": "markdown",
   "metadata": {},
   "source": [
    "### Problem 3\n",
    "Write a function that asks for an integer and prints the square of it. Use a <code>while</code> loop with a <code>try</code>, <code>except</code>, <code>else</code> block to account for incorrect inputs."
   ]
  },
  {
   "cell_type": "code",
   "execution_count": 23,
   "metadata": {},
   "outputs": [],
   "source": [
    "def ask():\n",
    "    while True:\n",
    "        try:\n",
    "            n=int(input(\"Input a integer: \"))\n",
    "        except:\n",
    "            print(\"An error occured! Please try again!\\npls type a correct input\")\n",
    "            #continue \n",
    "            #add continue or not using while loop  until the condition is false it will keep going\n",
    "            #try checking agaiin continue does same good for For loop where loop isnt infinite\n",
    "        else:\n",
    "            print('Your sqaured number is=',n**2)\n",
    "            print(\"Thank You\")\n",
    "            k=input(\"Wanna try sqaures of more number YES OR NO: \")\n",
    "            if k.upper()=='YES':\n",
    "                continue\n",
    "            if k.upper()==\"NO\":\n",
    "                break"
   ]
  },
  {
   "cell_type": "code",
   "execution_count": 24,
   "metadata": {},
   "outputs": [
    {
     "name": "stdout",
     "output_type": "stream",
     "text": [
      "Input a integer: fgfg\n",
      "An error occured! Please try again!\n",
      "pls type a correct input\n",
      "Input a integer: 56\n",
      "Your sqaured number is= 3136\n",
      "Thank You\n",
      "Wanna try sqaures of more number YES OR NO: YES\n",
      "Input a integer: 454\n",
      "Your sqaured number is= 206116\n",
      "Thank You\n",
      "Wanna try sqaures of more number YES OR NO: NO\n"
     ]
    }
   ],
   "source": [
    "ask()"
   ]
  },
  {
   "cell_type": "markdown",
   "metadata": {},
   "source": [
    "# Great Job!"
   ]
  }
 ],
 "metadata": {
  "kernelspec": {
   "display_name": "Python 3 (ipykernel)",
   "language": "python",
   "name": "python3"
  },
  "language_info": {
   "codemirror_mode": {
    "name": "ipython",
    "version": 3
   },
   "file_extension": ".py",
   "mimetype": "text/x-python",
   "name": "python",
   "nbconvert_exporter": "python",
   "pygments_lexer": "ipython3",
   "version": "3.10.9"
  }
 },
 "nbformat": 4,
 "nbformat_minor": 1
}
