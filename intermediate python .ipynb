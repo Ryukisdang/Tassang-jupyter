{
 "cells": [
  {
   "cell_type": "code",
   "execution_count": 1,
   "id": "3976f740",
   "metadata": {},
   "outputs": [
    {
     "ename": "SyntaxError",
     "evalue": "(unicode error) 'unicodeescape' codec can't decode bytes in position 2-3: truncated \\UXXXXXXXX escape (837841322.py, line 9)",
     "output_type": "error",
     "traceback": [
      "\u001b[1;36m  Cell \u001b[1;32mIn[1], line 9\u001b[1;36m\u001b[0m\n\u001b[1;33m    bif=\"C:\\Users\\91936\\Desktop\\PYTHON GAME MAKING\\alien.png\"\u001b[0m\n\u001b[1;37m                                                             ^\u001b[0m\n\u001b[1;31mSyntaxError\u001b[0m\u001b[1;31m:\u001b[0m (unicode error) 'unicodeescape' codec can't decode bytes in position 2-3: truncated \\UXXXXXXXX escape\n"
     ]
    }
   ],
   "source": [
    "# Object oriented programming langaue \n",
    "#args and kwargs\n",
    "#inbuild function\n",
    "#user definded function and methods\n",
    "# class and object \n",
    "#generator and decorators\n",
    "#lamda function\n",
    "\n",
    "bif=\"C:\\Users\\91936\\Desktop\\PYTHON GAME MAKING\\alien.png\"\n",
    "\n",
    "import pygame, sys\n",
    "from pygame.locals import *\n",
    "\n",
    "points=[[-60,20],[-60,-20],[-20,60],[20,60],[60,20],[60,-20],[20,-60],[-20,60]]\n",
    "colour=(0,191,255)\n",
    "\n",
    "pygame.init()\n",
    "\n",
    "screen=pygame.display.set_mode((1280,800),0,32)\n",
    "background=pygame.image.load(bif).convert()\n",
    "\n",
    "movex = 0\n",
    "movey = 0\n",
    "\n",
    "while True:\n",
    "\n",
    "    for event in pygame.event.get():\n",
    "        if event.type == QUIT:\n",
    "            pygame.quit()\n",
    "            sys.exit()\n",
    "        if event.type==KEYDOWN:\n",
    "            if event.key==K_LEFT:\n",
    "                movex=-1\n",
    "            elif event.key==K_RIGHT:\n",
    "                movex=+1\n",
    "            elif event.key==K_UP:\n",
    "                movey=-1\n",
    "            elif event.key==K_DOWN:\n",
    "                movey=+1\n",
    "        if event.type==KEYUP:\n",
    "            if event.key==K_LEFT:\n",
    "                movex=0\n",
    "            elif event.key==K_RIGHT:\n",
    "                movex=0\n",
    "            elif event.key==K_UP:\n",
    "                movey=0\n",
    "            elif event.key==K_DOWN:\n",
    "                movey=0\n",
    "\n",
    "    for point in points:\n",
    "        point[0] += movex\n",
    "        point[1] += movey\n",
    "\n",
    "    screen.blit(background,(0,0))\n",
    "\n",
    "    pygame.draw.polygon(screen,colour,points)\n",
    "\n",
    "    pygame.display.update()  \n",
    "    "
   ]
  },
  {
   "cell_type": "code",
   "execution_count": 10,
   "id": "5642fea0",
   "metadata": {},
   "outputs": [
    {
     "name": "stdout",
     "output_type": "stream",
     "text": [
      "hi is this language ('hage', 'tare')\n",
      "hi is this language ('hage', 'tare')\n"
     ]
    }
   ],
   "source": [
    "def greet_people(language:str , *people:str):\n",
    "    if language == 'eng':\n",
    "        greeting = 'hi'\n",
    "    else:\n",
    "        greeting = 'bonjour'\n",
    "    for person in people:\n",
    "66        print(f'{greeting} is this language {people}')\n",
    "greet_people('eng','hage','tare')\n",
    "\n",
    "        "
   ]
  },
  {
   "cell_type": "code",
   "execution_count": 1,
   "id": "6602c2f9",
   "metadata": {},
   "outputs": [
    {
     "ename": "SyntaxError",
     "evalue": "invalid syntax (2872560311.py, line 18)",
     "output_type": "error",
     "traceback": [
      "\u001b[1;36m  Cell \u001b[1;32mIn[1], line 18\u001b[1;36m\u001b[0m\n\u001b[1;33m    if Running == \"speed\",\"Speed\":\u001b[0m\n\u001b[1;37m                         ^\u001b[0m\n\u001b[1;31mSyntaxError\u001b[0m\u001b[1;31m:\u001b[0m invalid syntax\n"
     ]
    }
   ],
   "source": [
    "#Creating a meme class and object with that tell a person behavior and fart strenght\n",
    "class person:\n",
    "    #attribute or behavior of person\n",
    "    name:none\n",
    "    age:none\n",
    "    height:none\n",
    "    skin:none\n",
    "    personality:none\n",
    "        #Constructing object from that class object person\n",
    "    def __init__(self,name,age,height,skin,personality):\n",
    "        self.name = name\n",
    "        self.age = age\n",
    "        self.height = height\n",
    "        self.skin = skin\n",
    "        self.personality = personality\n",
    "    def run(self): #\n",
    "        Running = str(input(\"Enter how you want to run,speed,slow:\"))\n",
    "        if Running == \"speed\",\"Speed\":\n",
    "            print(f'you are now Running{Running} take care')\n",
    "        elif Running == \"slow\",\"Slow\":\n",
    "            print(f'you are now Running{Running} you are okay')\n",
    "        else:\n",
    "            print(\"you are doing nothing\")\n",
    "    def fart(self):\n",
    "        strenght_of_fart = [1,2,3,4,5,6,7,8,9,10]\n",
    "        Fart = str(input(\"Enter how you wanna fart strong or weak: \"))\n",
    "        Strength =int(input(\"Enter the strenght of your fart: \"))\n",
    "        if Fart == \"strong\":\n",
    "            for strenght in Strenght:\n",
    "                power = list(Strenght)\n",
    "                if power == strenght:\n",
    "                    pass\n",
    "                elif power == \n",
    "                    print(\"Damn you are a hell of a farter\")\n",
    "                    \n",
    "                    \n",
    "                \n",
    "        \n",
    "        "
   ]
  },
  {
   "cell_type": "code",
   "execution_count": null,
   "id": "68c459b9",
   "metadata": {},
   "outputs": [],
   "source": [
    "\n",
    "\n",
    "       "
   ]
  },
  {
   "cell_type": "code",
   "execution_count": null,
   "id": "270f327a",
   "metadata": {},
   "outputs": [],
   "source": [
    "\n"
   ]
  },
  {
   "cell_type": "code",
   "execution_count": null,
   "id": "22d74e02",
   "metadata": {},
   "outputs": [],
   "source": [
    "\n"
   ]
  },
  {
   "cell_type": "code",
   "execution_count": null,
   "id": "23291301",
   "metadata": {},
   "outputs": [],
   "source": []
  }
 ],
 "metadata": {
  "kernelspec": {
   "display_name": "Python 3 (ipykernel)",
   "language": "python",
   "name": "python3"
  },
  "language_info": {
   "codemirror_mode": {
    "name": "ipython",
    "version": 3
   },
   "file_extension": ".py",
   "mimetype": "text/x-python",
   "name": "python",
   "nbconvert_exporter": "python",
   "pygments_lexer": "ipython3",
   "version": "3.10.9"
  }
 },
 "nbformat": 4,
 "nbformat_minor": 5
}
