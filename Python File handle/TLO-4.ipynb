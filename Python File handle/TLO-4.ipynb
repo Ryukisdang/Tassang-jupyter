{
 "cells": [
  {
   "cell_type": "code",
   "execution_count": 27,
   "id": "5aa67a88",
   "metadata": {},
   "outputs": [
    {
     "name": "stdout",
     "output_type": "stream",
     "text": [
      "<_io.TextIOWrapper name='C:\\\\Users\\\\91936\\\\Desktop\\\\Python File handle\\\\xyz.txt' mode='r' encoding='cp1252'>\n",
      "Hello World\n",
      "1234\n",
      "!@#$%^&*()_+{}:\"|<>?[];'\\,./\n",
      "FOUR ON FOURTH\n",
      "FOUR ON FOURTH\n",
      "FOUR ON FOURTH\n",
      "FOUR ON FOURTH\n",
      "0\n",
      "['Hello World\\n', '1234\\n', '!@#$%^&*()_+{}:\"|<>?[];\\'\\\\,./\\n', 'FOUR ON FOURTH\\n', 'FOUR ON FOURTH\\n', 'FOUR ON FOURTH\\n', 'FOUR ON FOURTH']\n",
      "None\n",
      "Hello World\n",
      "1234\n",
      "!@#$%^&*()_+{}:\"|<>?[];'\\,./\n",
      "FOUR ON FOURTH\n",
      "FOUR ON FOURTH\n",
      "FOUR ON FOURTH\n",
      "FOUR ON FOURTH\n"
     ]
    }
   ],
   "source": [
    "#I/O with Basic Files in Python\n",
    "#Utilize booleans, comparison operators, and I/O operations in Python (CLO2)\n",
    "#Exercise 1:\n",
    "\n",
    "myfile = open(\"C:\\\\Users\\\\91936\\\\Desktop\\\\Python File handle\\\\xyz.txt\")\n",
    "print(myfile)\n",
    "content = myfile.read()\n",
    "print(content)\n",
    "reset = myfile.seek(0)\n",
    "print(reset)\n",
    "lines = myfile.readlines()\n",
    "print(lines)\n",
    "close = myfile.close()\n",
    "print(close)\n",
    "with open('my_new_file.txt', mode='a') as f:\n",
    "    f.write('\\nFOUR ON FOURTH')\n",
    "with open(\"C:\\\\Users\\\\91936\\\\Desktop\\\\Python File handle\\\\xyz.txt\") as my_new_file:\n",
    "    contents = my_new_file.read()\n",
    "    print(contents)\n",
    "with open(\"C:\\\\Users\\\\91936\\\\Desktop\\\\Python File handle\\\\xyz.txt\") as my_new_file:\n",
    "    contents = my_new_file.read()   "
   ]
  },
  {
   "cell_type": "code",
   "execution_count": 37,
   "id": "d0c493c2",
   "metadata": {},
   "outputs": [
    {
     "name": "stdout",
     "output_type": "stream",
     "text": [
      "FOUR ON FOURTH\n",
      "tassang\n",
      "hello hi\n",
      "i am friendly easy going human\n"
     ]
    }
   ],
   "source": [
    "#Create a script that reads the entire content of a file named \"example.txt\" and prints the content.\n",
    "with open(\"hey.txt\",mode= \"r\") as file:\n",
    "    content = file.read()\n",
    "    print(content)\n"
   ]
  },
  {
   "cell_type": "code",
   "execution_count": 47,
   "id": "fa48ce34",
   "metadata": {},
   "outputs": [
    {
     "name": "stdout",
     "output_type": "stream",
     "text": [
      "FOUR ON FOURTH\n",
      "\n"
     ]
    }
   ],
   "source": [
    "#Create a script that reads the first line of a file named \"example.txt\" and prints it.\n",
    "with open(\"hey.txt\", mode =\"r\") as file:\n",
    "    first_line = file.readline(-1)\n",
    "    print(first_line)\n"
   ]
  },
  {
   "cell_type": "code",
   "execution_count": 50,
   "id": "264b7a69",
   "metadata": {},
   "outputs": [],
   "source": [
    "#Create a script that creates a new file named \"empty.txt\" and writes the string \"This is an empty file.\" to it.\n",
    "with open(\"empty.txt\", \"w\") as file:\n",
    "    file.write(\"This is an empty file.\")\n"
   ]
  },
  {
   "cell_type": "code",
   "execution_count": 51,
   "id": "77e2b97f",
   "metadata": {},
   "outputs": [
    {
     "name": "stdout",
     "output_type": "stream",
     "text": [
      "This is an empty file.\n"
     ]
    }
   ],
   "source": [
    "#now open new created file\n",
    "with open(\"empty.txt\", \"r\") as file:\n",
    "    read=file.read()\n",
    "    print(read)\n"
   ]
  },
  {
   "cell_type": "code",
   "execution_count": 53,
   "id": "a2c597e6",
   "metadata": {},
   "outputs": [
    {
     "name": "stdout",
     "output_type": "stream",
     "text": [
      "\n",
      "Appended line.\n",
      "Appended line.\n"
     ]
    }
   ],
   "source": [
    "#Create a script that appends a new line with the text \"Appended line.\" to an existing file named \"append_example.txt\".\n",
    "with open(\"append_example.txt\", \"a\") as file:\n",
    "    file.write(\"\\nAppended line.\")\n",
    "#now open new created file\n",
    "with open(\"append_example.txt\", \"r\") as file:\n",
    "    read1=file.read()\n",
    "    print(read1)\n"
   ]
  },
  {
   "cell_type": "code",
   "execution_count": 62,
   "id": "bcfdbf2a",
   "metadata": {},
   "outputs": [
    {
     "name": "stdout",
     "output_type": "stream",
     "text": [
      "14\n",
      "\n",
      "Hage Tassang.\n"
     ]
    }
   ],
   "source": [
    "#Create a script that reads the content of a file named \"example.txt\" and prints the number of characters in the file.\n",
    "with open(\"test.txt\", \"w\") as file:\n",
    "    file.write(\"\\nHage Tassang.\")\n",
    "with open(\"test.txt\", \"r\") as file:\n",
    "    content = file.read()\n",
    "    print(len(content))\n",
    "    print(content)\n"
   ]
  },
  {
   "cell_type": "code",
   "execution_count": 61,
   "id": "d527a412",
   "metadata": {},
   "outputs": [
    {
     "name": "stdout",
     "output_type": "stream",
     "text": [
      "['Thi', ' i', ' an empty file.']\n",
      "\n",
      "3\n"
     ]
    }
   ],
   "source": [
    "#Create a script that reads the content of a file named \"example.txt\" and prints the number of words in the file.\n",
    "with open(\"empty.txt\", \"r\") as file:\n",
    "    content = file.read()\n",
    "    words = content.split(\"s\")\n",
    "    print(words)\n",
    "    print()\n",
    "    print(len(words))\n"
   ]
  },
  {
   "cell_type": "code",
   "execution_count": 67,
   "id": "3639cd45",
   "metadata": {},
   "outputs": [
    {
     "name": "stdout",
     "output_type": "stream",
     "text": [
      "Enter a no: 14\n",
      "True , If the output is True means it is even and False means it is odd\n"
     ]
    }
   ],
   "source": [
    "#Create a script that checks if the variable num is an even number between 10 and 20 (inclusive) and prints the result.\n",
    "# If the output is true that means that is even and false mean it is odd\n",
    "num = int(input(\"Enter a no: \"))\n",
    "result = 10 <= num <= 20 and num % 2 == 0\n",
    "print(result,\", If the output is True means it is even and False means it is odd\")\n",
    "\n"
   ]
  },
  {
   "cell_type": "code",
   "execution_count": 69,
   "id": "74d9976c",
   "metadata": {},
   "outputs": [
    {
     "name": "stdout",
     "output_type": "stream",
     "text": [
      "False\n"
     ]
    }
   ],
   "source": [
    "#Create a script that checks if the length of the string text is between 5 and 10 characters (inclusive) and contains the letter \"a\". Print the result.\n",
    "x = \"Hello World\"\n",
    "result = 5 <=len(x)<=10 and 'a' in x\n",
    "print(result)"
   ]
  },
  {
   "cell_type": "code",
   "execution_count": 72,
   "id": "91f086f8",
   "metadata": {},
   "outputs": [
    {
     "name": "stdout",
     "output_type": "stream",
     "text": [
      "enter a temp: 15\n",
      "enter a humi: 30\n",
      "True\n"
     ]
    }
   ],
   "source": [
    "#Create a script that checks if the variable temperature is between 15 and 25 degrees Celsius (inclusive) or if the variable humidity is less than 30%. Print the result.\n",
    "temp = int(input(\"enter a temp: \"))\n",
    "humidity = int(input(\"enter a humi: \"))\n",
    "result =15 <= temp <=25 or  humidity<30\n",
    "print(result)"
   ]
  },
  {
   "cell_type": "code",
   "execution_count": 73,
   "id": "f1e2377d",
   "metadata": {},
   "outputs": [
    {
     "name": "stdout",
     "output_type": "stream",
     "text": [
      "True\n"
     ]
    }
   ],
   "source": [
    "#Create a script that checks if the variable x is not equal to the variable y and if the variable z is greater than both x and y. Print the result.\n",
    "x = 5\n",
    "y = 7\n",
    "z = 10\n",
    "result = x != y and z > x and z > y\n",
    "print(result)"
   ]
  },
  {
   "cell_type": "code",
   "execution_count": 74,
   "id": "5b2d5142",
   "metadata": {},
   "outputs": [
    {
     "name": "stdout",
     "output_type": "stream",
     "text": [
      "True\n"
     ]
    }
   ],
   "source": [
    "#Create a script that checks if the variable a is equal to the variable b or if the variable c is equal to the variable d. Print the result.\n",
    "a= 3\n",
    "b=2\n",
    "c=12\n",
    "d=  12\n",
    "result = a ==b or c==d\n",
    "print(result)"
   ]
  },
  {
   "cell_type": "code",
   "execution_count": 75,
   "id": "1ed2f694",
   "metadata": {},
   "outputs": [
    {
     "name": "stdout",
     "output_type": "stream",
     "text": [
      "True\n"
     ]
    }
   ],
   "source": [
    "#Create a script that checks if the variable num1 is an odd number and if the variable num2 is an even number. Print the result.\n",
    "num1 = 9\n",
    "num2 = 8\n",
    "result = num1%2 != 0 and num2%2==0\n",
    "print(result)"
   ]
  },
  {
   "cell_type": "code",
   "execution_count": 76,
   "id": "22ece0e8",
   "metadata": {},
   "outputs": [
    {
     "name": "stdout",
     "output_type": "stream",
     "text": [
      "True\n"
     ]
    }
   ],
   "source": [
    "#Create a script that checks if the variable age is between 13 and 19 (inclusive) or if the variable grade is between 7 and 12 (inclusive). Print the result.\n",
    "age = 15\n",
    "grade = 8\n",
    "result = 13 <= age <= 19 or 7 <= grade <= 12\n",
    "print(result)\n"
   ]
  },
  {
   "cell_type": "code",
   "execution_count": 79,
   "id": "4477d35d",
   "metadata": {},
   "outputs": [
    {
     "name": "stdout",
     "output_type": "stream",
     "text": [
      "True\n"
     ]
    }
   ],
   "source": [
    "#Create a script that checks if the variable score is not between 30 and 60 (inclusive). Print the result.\n",
    "score = 25\n",
    "result =  not(30 <= score <= 60)\n",
    "print(result)\n"
   ]
  },
  {
   "cell_type": "code",
   "execution_count": null,
   "id": "b09d776b",
   "metadata": {},
   "outputs": [],
   "source": []
  }
 ],
 "metadata": {
  "kernelspec": {
   "display_name": "Python 3 (ipykernel)",
   "language": "python",
   "name": "python3"
  },
  "language_info": {
   "codemirror_mode": {
    "name": "ipython",
    "version": 3
   },
   "file_extension": ".py",
   "mimetype": "text/x-python",
   "name": "python",
   "nbconvert_exporter": "python",
   "pygments_lexer": "ipython3",
   "version": "3.10.9"
  }
 },
 "nbformat": 4,
 "nbformat_minor": 5
}
