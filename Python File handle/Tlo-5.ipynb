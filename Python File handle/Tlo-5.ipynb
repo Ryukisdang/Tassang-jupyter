{
 "cells": [
  {
   "cell_type": "code",
   "execution_count": 1,
   "id": "80441550",
   "metadata": {},
   "outputs": [
    {
     "name": "stdout",
     "output_type": "stream",
     "text": [
      "Enter the temperature: 34\n",
      "It's hot outside!\n"
     ]
    }
   ],
   "source": [
    "#TLO5: Implement conditional statements, loops, and operators in Python (CLO2)\n",
    "#: Basic if statement with input\n",
    "temperature = int(input(\"Enter the temperature: \"))\n",
    "if temperature > 30:\n",
    "    print(\"It's hot outside!\")\n"
   ]
  },
  {
   "cell_type": "code",
   "execution_count": 2,
   "id": "c556263d",
   "metadata": {},
   "outputs": [
    {
     "name": "stdout",
     "output_type": "stream",
     "text": [
      "It's hot outside!\n"
     ]
    }
   ],
   "source": [
    "#: if-else statement with input\n",
    "if temperature > 30:\n",
    "    print(\"It's hot outside!\")\n",
    "elif 20 <= temperature <= 30:\n",
    "    print(\"It's a pleasant day.\")\n",
    "else:\n",
    "    print(\"It's cold outside!\")\n"
   ]
  },
  {
   "cell_type": "code",
   "execution_count": 3,
   "id": "06475242",
   "metadata": {},
   "outputs": [
    {
     "name": "stdout",
     "output_type": "stream",
     "text": [
      "Enter an animal type: dog\n",
      "I don't know this animal.\n"
     ]
    }
   ],
   "source": [
    "#Multiple branches with if-elif-else and input\n",
    "\n",
    "animal = input(\"Enter an animal type: \")\n",
    "\n",
    "if animal == \"Dog\":\n",
    "    print(\"Woof!\")\n",
    "elif animal == \"Cat\":\n",
    "    print(\"Meow!\")\n",
    "elif animal == \"Bird\":\n",
    "    print(\"Chirp!\")\n",
    "else:\n",
    "    print(\"I don't know this animal.\")\n"
   ]
  },
  {
   "cell_type": "code",
   "execution_count": 4,
   "id": "56fc0fe3",
   "metadata": {},
   "outputs": [
    {
     "name": "stdout",
     "output_type": "stream",
     "text": [
      "Enter the number of elements in the list: 343253\n",
      "Enter element 1: 123\n",
      "Enter element 2: 35\n",
      "Enter element 3: 3\n",
      "Enter element 4: 4\n",
      "Enter element 5: 35\n",
      "Enter element 6: 35\n",
      "Enter element 7: 565\n",
      "Enter element 8: 65\n",
      "Enter element 9: hasgdad\n"
     ]
    },
    {
     "ename": "ValueError",
     "evalue": "invalid literal for int() with base 10: 'hasgdad'",
     "output_type": "error",
     "traceback": [
      "\u001b[1;31m---------------------------------------------------------------------------\u001b[0m",
      "\u001b[1;31mValueError\u001b[0m                                Traceback (most recent call last)",
      "Cell \u001b[1;32mIn[4], line 5\u001b[0m\n\u001b[0;32m      3\u001b[0m elements \u001b[38;5;241m=\u001b[39m []\n\u001b[0;32m      4\u001b[0m \u001b[38;5;28;01mfor\u001b[39;00m i \u001b[38;5;129;01min\u001b[39;00m \u001b[38;5;28mrange\u001b[39m(num_elements):\n\u001b[1;32m----> 5\u001b[0m     element \u001b[38;5;241m=\u001b[39m \u001b[38;5;28;43mint\u001b[39;49m\u001b[43m(\u001b[49m\u001b[38;5;28;43minput\u001b[39;49m\u001b[43m(\u001b[49m\u001b[38;5;124;43mf\u001b[39;49m\u001b[38;5;124;43m\"\u001b[39;49m\u001b[38;5;124;43mEnter element \u001b[39;49m\u001b[38;5;132;43;01m{\u001b[39;49;00m\u001b[43mi\u001b[49m\u001b[43m \u001b[49m\u001b[38;5;241;43m+\u001b[39;49m\u001b[43m \u001b[49m\u001b[38;5;241;43m1\u001b[39;49m\u001b[38;5;132;43;01m}\u001b[39;49;00m\u001b[38;5;124;43m: \u001b[39;49m\u001b[38;5;124;43m\"\u001b[39;49m\u001b[43m)\u001b[49m\u001b[43m)\u001b[49m\n\u001b[0;32m      6\u001b[0m     elements\u001b[38;5;241m.\u001b[39mappend(element)\n\u001b[0;32m      7\u001b[0m \u001b[38;5;28;01mfor\u001b[39;00m num \u001b[38;5;129;01min\u001b[39;00m elements:\n",
      "\u001b[1;31mValueError\u001b[0m: invalid literal for int() with base 10: 'hasgdad'"
     ]
    }
   ],
   "source": [
    "#Iterating through a list with input\n",
    "num_elements = int(input(\"Enter the number of elements in the list: \"))\n",
    "elements = []\n",
    "for i in range(num_elements):\n",
    "    element = int(input(f\"Enter element {i + 1}: \"))\n",
    "    elements.append(element)\n",
    "for num in elements:\n",
    "    print(num)\n"
   ]
  },
  {
   "cell_type": "code",
   "execution_count": 6,
   "id": "af145b1b",
   "metadata": {},
   "outputs": [
    {
     "name": "stdout",
     "output_type": "stream",
     "text": [
      "Enter a string: \"ahagsd\"\n",
      "\"\n",
      "a\n",
      "h\n",
      "a\n",
      "g\n",
      "s\n",
      "d\n",
      "\"\n"
     ]
    }
   ],
   "source": [
    "#Iterating through a string with input\n",
    "input_string = input(\"Enter a string: \")\n",
    "for char in input_string:\n",
    "    print(char)\n"
   ]
  },
  {
   "cell_type": "code",
   "execution_count": 9,
   "id": "b4209215",
   "metadata": {},
   "outputs": [
    {
     "name": "stdout",
     "output_type": "stream",
     "text": [
      "Enter the number of pairs: 23\n",
      "Enter the first element of pair 1: 24\n",
      "Enter the second element of pair 1: 45\n",
      "Enter the first element of pair 2: 2\n",
      "Enter the second element of pair 2: 13sdf\n"
     ]
    },
    {
     "ename": "ValueError",
     "evalue": "invalid literal for int() with base 10: '13sdf'",
     "output_type": "error",
     "traceback": [
      "\u001b[1;31m---------------------------------------------------------------------------\u001b[0m",
      "\u001b[1;31mValueError\u001b[0m                                Traceback (most recent call last)",
      "Cell \u001b[1;32mIn[9], line 6\u001b[0m\n\u001b[0;32m      4\u001b[0m \u001b[38;5;28;01mfor\u001b[39;00m i \u001b[38;5;129;01min\u001b[39;00m \u001b[38;5;28mrange\u001b[39m(num_pairs):\n\u001b[0;32m      5\u001b[0m     first \u001b[38;5;241m=\u001b[39m \u001b[38;5;28mint\u001b[39m(\u001b[38;5;28minput\u001b[39m(\u001b[38;5;124mf\u001b[39m\u001b[38;5;124m\"\u001b[39m\u001b[38;5;124mEnter the first element of pair \u001b[39m\u001b[38;5;132;01m{\u001b[39;00mi \u001b[38;5;241m+\u001b[39m \u001b[38;5;241m1\u001b[39m\u001b[38;5;132;01m}\u001b[39;00m\u001b[38;5;124m: \u001b[39m\u001b[38;5;124m\"\u001b[39m))\n\u001b[1;32m----> 6\u001b[0m     second \u001b[38;5;241m=\u001b[39m \u001b[38;5;28;43mint\u001b[39;49m\u001b[43m(\u001b[49m\u001b[38;5;28;43minput\u001b[39;49m\u001b[43m(\u001b[49m\u001b[38;5;124;43mf\u001b[39;49m\u001b[38;5;124;43m\"\u001b[39;49m\u001b[38;5;124;43mEnter the second element of pair \u001b[39;49m\u001b[38;5;132;43;01m{\u001b[39;49;00m\u001b[43mi\u001b[49m\u001b[43m \u001b[49m\u001b[38;5;241;43m+\u001b[39;49m\u001b[43m \u001b[49m\u001b[38;5;241;43m1\u001b[39;49m\u001b[38;5;132;43;01m}\u001b[39;49;00m\u001b[38;5;124;43m: \u001b[39;49m\u001b[38;5;124;43m\"\u001b[39;49m\u001b[43m)\u001b[49m\u001b[43m)\u001b[49m\n\u001b[0;32m      7\u001b[0m     pairs\u001b[38;5;241m.\u001b[39mappend((first, second))\n\u001b[0;32m      8\u001b[0m \u001b[38;5;28;01mfor\u001b[39;00m a, b \u001b[38;5;129;01min\u001b[39;00m pairs:\n",
      "\u001b[1;31mValueError\u001b[0m: invalid literal for int() with base 10: '13sdf'"
     ]
    }
   ],
   "source": [
    "#Tuple unpacking with input\n",
    "num_pairs = int(input(\"Enter the number of pairs: \"))\n",
    "pairs = []\n",
    "for i in range(num_pairs):\n",
    "    first = int(input(f\"Enter the first element of pair {i + 1}: \"))\n",
    "    second = int(input(f\"Enter the second element of pair {i + 1}: \"))\n",
    "    pairs.append((first, second))\n",
    "for a, b in pairs:\n",
    "    print(f\"First element: {a}, Second element: {b}\")\n"
   ]
  },
  {
   "cell_type": "code",
   "execution_count": null,
   "id": "e47ac05a",
   "metadata": {},
   "outputs": [],
   "source": []
  },
  {
   "cell_type": "code",
   "execution_count": null,
   "id": "7554d80f",
   "metadata": {},
   "outputs": [],
   "source": [
    "#Iterating through a dictionary with input\n",
    "num_entries = int(input(\"Enter the number of entries in the dictionary: \"))\n",
    "input_dict = {}\n",
    "for i in range(num_entries):\n",
    "    key = input(f\"Enter the key for entry {i + 1}: \")\n",
    "    value = input(f\"Enter the value for entry {i + 1}: \")\n",
    "    input_dict[key] = value\n",
    "for key, value in input_dict.items():\n",
    "    print(f\"Key: {key}, Value: {value}\")"
   ]
  },
  {
   "cell_type": "code",
   "execution_count": null,
   "id": "590d4fad",
   "metadata": {},
   "outputs": [],
   "source": [
    "#: Iterating through a dictionary with input\n",
    "num_entries = int(input(\"Enter the number of entries in the dictionary: \"))\n",
    "input_dict = {}\n",
    "for i in range(num_entries):\n",
    "    key = input(f\"Enter the key for entry {i + 1}: \")\n",
    "    value = input(f\"Enter the value for entry {i + 1}: \")\n",
    "    input_dict[key] = value\n",
    "\n",
    "for key, value in input_dict.items():\n",
    "    print(f\"Key: {key}, Value: {value}\")\n"
   ]
  },
  {
   "cell_type": "code",
   "execution_count": null,
   "id": "8eb9e244",
   "metadata": {},
   "outputs": [],
   "source": [
    "#Iterating Through Nested Lists Using Nested For Loops\n",
    "nested_list = [\n",
    "    [1, 2, 3],\n",
    "    [4, 5, 6],\n",
    "    [7, 8, 9]\n",
    "]\n",
    "for i in range(len(nested_list)):\n",
    "    for j in range(len(nested_list[i])):\n",
    "        print(nested_list[i][j], end=' ')\n",
    "    print()\n"
   ]
  },
  {
   "cell_type": "code",
   "execution_count": null,
   "id": "ba6e1092",
   "metadata": {},
   "outputs": [],
   "source": [
    "#Print the first 10 even numbers using a while loop.\n",
    "# Exercise 1\n",
    "counter = 0\n",
    "number = 0\n",
    "while counter < 10:\n",
    "    if number % 2 == 0:\n",
    "        print(number)\n",
    "                counter += 1\n",
    "    number += 1\n",
    "\n"
   ]
  },
  {
   "cell_type": "code",
   "execution_count": null,
   "id": "5e46c738",
   "metadata": {},
   "outputs": [],
   "source": [
    "#Print the first 10 Fibonacci numbers using a while loop.\n",
    "# Exercise 2\n",
    "a, b = 0, 1\n",
    "counter = 0\n",
    "\n",
    "while counter < 10:\n",
    "    print(a)\n",
    "    a, b = b, a + b\n",
    "    counter += 1\n",
    "\n"
   ]
  },
  {
   "cell_type": "code",
   "execution_count": null,
   "id": "c91bac8a",
   "metadata": {},
   "outputs": [],
   "source": [
    "#Calculate the factorial of a number n using a while loop.\n",
    "# Exercise 3\n",
    "n = 5  # Change this value to calculate the factorial of a different number\n",
    "factorial = 1\n",
    "i = 1\n",
    "while i <= n:\n",
    "    factorial *= i\n",
    "    i += 1\n",
    "print(f\"The factorial of {n} is {factorial}.\")\n"
   ]
  },
  {
   "cell_type": "code",
   "execution_count": null,
   "id": "b992e219",
   "metadata": {},
   "outputs": [],
   "source": [
    "#Pass\n",
    "fruits = ['apple', 'banana', 'cherry']\n",
    "for fruit in fruits:\n",
    "    if fruit == 'banana':\n",
    "        pass\n",
    "    print(fruit)\n"
   ]
  },
  {
   "cell_type": "code",
   "execution_count": null,
   "id": "71441390",
   "metadata": {},
   "outputs": [],
   "source": [
    "#Continue\n",
    "fruits = ['apple', 'banana', 'cherry']\n",
    "for fruit in fruits:\n",
    "    if fruit == 'banana':\n",
    "        continue\n",
    "    print(fruit)\n"
   ]
  },
  {
   "cell_type": "code",
   "execution_count": null,
   "id": "9e958e62",
   "metadata": {},
   "outputs": [],
   "source": [
    "#Break\n",
    "fruits = ['apple', 'banana', 'cherry']\n",
    "for fruit in fruits:\n",
    "    if fruit == 'banana':\n",
    "        break\n",
    "    print(fruit)\n"
   ]
  },
  {
   "cell_type": "code",
   "execution_count": null,
   "id": "d540f712",
   "metadata": {},
   "outputs": [],
   "source": [
    "#Range function\n",
    "Problem: Create a list of numbers from 5 to 50 with a step size of 5 using the range function.\n",
    "Solution:\n",
    "numbers = list(range(5, 51, 5))\n",
    "print(numbers)\n"
   ]
  },
  {
   "cell_type": "code",
   "execution_count": null,
   "id": "b105a6cd",
   "metadata": {},
   "outputs": [],
   "source": [
    "#: Enumerate function\n",
    "Problem: Use the enumerate function to print the index and the squared value of each number in a list.\n",
    "Solution:\n",
    "numbers = [1, 2, 3, 4, 5]\n",
    "for index, number in enumerate(numbers):\n",
    "    print(f\"Index {index}, squared value: {number ** 2}\")\n"
   ]
  },
  {
   "cell_type": "code",
   "execution_count": null,
   "id": "06495461",
   "metadata": {},
   "outputs": [],
   "source": [
    "#Zip function\n",
    "Problem: Zip together two lists of numbers and print the sum of the zipped pairs.\n",
    "Solution:\n",
    "\n",
    "list1 = [1, 2, 3, 4, 5]\n",
    "list2 = [6, 7, 8, 9, 10]\n",
    "for num1, num2 in zip(list1, list2):\n",
    "    print(f\"Sum of {num1} and {num2}: {num1 + num2}\")\n"
   ]
  },
  {
   "cell_type": "code",
   "execution_count": null,
   "id": "af9d55a5",
   "metadata": {},
   "outputs": [],
   "source": [
    "#In operator\n",
    "Problem: Check if a given number is present in a list of numbers.\n",
    "Solution:\n",
    "numbers = [1, 3, 5, 7, 9]\n",
    "given_number = 5\n",
    "if given_number in numbers:\n",
    "    print(f\"{given_number} is in the list\")\n",
    "else:\n",
    "    print(f\"{given_number} is not in the list\")\n"
   ]
  },
  {
   "cell_type": "code",
   "execution_count": null,
   "id": "1e5f001d",
   "metadata": {},
   "outputs": [],
   "source": [
    "#Random shuffle and randint\n",
    "Problem: Shuffle a list of numbers and print a random integer between 1 and 100.\n",
    "Solution:\n",
    "from random import shuffle, randint\n",
    "numbers = [1, 2, 3, 4, 5, 6, 7, 8, 9, 10]\n",
    "shuffle(numbers)\n",
    "print(\"Shuffled list:\", numbers)\n",
    "random_number = randint(1, 100)\n",
    "print(\"Random integer between 1 and 100:\", random_number)\n"
   ]
  },
  {
   "cell_type": "code",
   "execution_count": null,
   "id": "50d60363",
   "metadata": {},
   "outputs": [],
   "source": [
    "#User input\n",
    "Problem: Ask the user for their name and age and print the result.\n",
    "Solution:\n",
    "name = input(\"Enter your name: \")\n",
    "age = int(input(\"Enter your age: \"))\n",
    "print(f\"Your name is {name} and your age is {age}.\")\n"
   ]
  },
  {
   "cell_type": "code",
   "execution_count": null,
   "id": "a56e330b",
   "metadata": {},
   "outputs": [],
   "source": [
    "#: Create a list comprehension that takes a string and returns a list of its individual characters.\n",
    "input_string = \"Python\"\n",
    "output_list = [char for char in input_string]\n",
    "print(output_list)\n"
   ]
  },
  {
   "cell_type": "code",
   "execution_count": null,
   "id": "3ca28e4e",
   "metadata": {},
   "outputs": [],
   "source": [
    "#Create a list comprehension that generates a list of squares from 1 to 10.\n",
    "squares = [num**2 for num in range(1, 11)]\n",
    "print(squares)\n"
   ]
  },
  {
   "cell_type": "code",
   "execution_count": null,
   "id": "29ac323c",
   "metadata": {},
   "outputs": [],
   "source": [
    "#: Create a list comprehension that filters out odd numbers from a given list.\n",
    "input_list = [1, 2, 3, 4, 5, 6, 7, 8, 9, 10]\n",
    "even_numbers = [num for num in input_list if num % 2 == 0]\n",
    "print(even_numbers)\n"
   ]
  },
  {
   "cell_type": "code",
   "execution_count": null,
   "id": "c0af002d",
   "metadata": {},
   "outputs": [],
   "source": [
    "#Create a list comprehension that converts a list of Celsius temperatures to Fahrenheit.\n",
    "celsius = [0, 10, 20, 30, 50, 34.5]\n",
    "fahrenheit = [(9/5 * temp + 32) for temp in celsius]\n",
    "print(fahrenheit)\n"
   ]
  },
  {
   "cell_type": "code",
   "execution_count": null,
   "id": "8bfca8e3",
   "metadata": {},
   "outputs": [],
   "source": [
    "#: Create a list comprehension that uses nested loops to multiply each element in one list with every element in another list.\n",
    "list1 = [2, 4, 6]\n",
    "list2 = [1, 10, 100]\n",
    "product_list = [x * y for x in list1 for y in list2]\n",
    "print(product_list)\n"
   ]
  },
  {
   "cell_type": "code",
   "execution_count": null,
   "id": "ea4f8eea",
   "metadata": {},
   "outputs": [],
   "source": []
  }
 ],
 "metadata": {
  "kernelspec": {
   "display_name": "Python 3 (ipykernel)",
   "language": "python",
   "name": "python3"
  },
  "language_info": {
   "codemirror_mode": {
    "name": "ipython",
    "version": 3
   },
   "file_extension": ".py",
   "mimetype": "text/x-python",
   "name": "python",
   "nbconvert_exporter": "python",
   "pygments_lexer": "ipython3",
   "version": "3.10.9"
  }
 },
 "nbformat": 4,
 "nbformat_minor": 5
}
