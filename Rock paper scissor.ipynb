{
 "cells": [
  {
   "cell_type": "code",
   "execution_count": 10,
   "id": "b2f01129",
   "metadata": {},
   "outputs": [
    {
     "name": "stdout",
     "output_type": "stream",
     "text": [
      "Choose your choice: Rock,Papaer,or Scissors ?Paper\n",
      "The computer chose Scissors.\n"
     ]
    },
    {
     "ename": "NameError",
     "evalue": "name 'compare_choices' is not defined",
     "output_type": "error",
     "traceback": [
      "\u001b[1;31m---------------------------------------------------------------------------\u001b[0m",
      "\u001b[1;31mNameError\u001b[0m                                 Traceback (most recent call last)",
      "Cell \u001b[1;32mIn[10], line 26\u001b[0m\n\u001b[0;32m     24\u001b[0m     play_game()\n\u001b[0;32m     25\u001b[0m \u001b[38;5;28;01mif\u001b[39;00m \u001b[38;5;18m__name__\u001b[39m \u001b[38;5;241m==\u001b[39m \u001b[38;5;124m'\u001b[39m\u001b[38;5;124m__main__\u001b[39m\u001b[38;5;124m'\u001b[39m:\n\u001b[1;32m---> 26\u001b[0m     \u001b[43mmain\u001b[49m\u001b[43m(\u001b[49m\u001b[43m)\u001b[49m\n",
      "Cell \u001b[1;32mIn[10], line 24\u001b[0m, in \u001b[0;36mmain\u001b[1;34m()\u001b[0m\n\u001b[0;32m     23\u001b[0m \u001b[38;5;28;01mdef\u001b[39;00m \u001b[38;5;21mmain\u001b[39m():\n\u001b[1;32m---> 24\u001b[0m     \u001b[43mplay_game\u001b[49m\u001b[43m(\u001b[49m\u001b[43m)\u001b[49m\n",
      "Cell \u001b[1;32mIn[10], line 17\u001b[0m, in \u001b[0;36mplay_game\u001b[1;34m()\u001b[0m\n\u001b[0;32m     15\u001b[0m computer_choice \u001b[38;5;241m=\u001b[39m generate_choice()\n\u001b[0;32m     16\u001b[0m \u001b[38;5;28mprint\u001b[39m(\u001b[38;5;124m'\u001b[39m\u001b[38;5;124mThe computer chose \u001b[39m\u001b[38;5;132;01m{}\u001b[39;00m\u001b[38;5;124m.\u001b[39m\u001b[38;5;124m'\u001b[39m\u001b[38;5;241m.\u001b[39mformat(computer_choice))\n\u001b[1;32m---> 17\u001b[0m \u001b[38;5;28;01mif\u001b[39;00m \u001b[43mcompare_choices\u001b[49m(player_choice, computer_choice) \u001b[38;5;241m==\u001b[39m \u001b[38;5;124m'\u001b[39m\u001b[38;5;124mtie\u001b[39m\u001b[38;5;124m'\u001b[39m:\n\u001b[0;32m     18\u001b[0m     \u001b[38;5;28mprint\u001b[39m(\u001b[38;5;124m'\u001b[39m\u001b[38;5;124mThe game is a tie.\u001b[39m\u001b[38;5;124m'\u001b[39m)\n\u001b[0;32m     19\u001b[0m \u001b[38;5;28;01melif\u001b[39;00m compare_choice(player_choice, computer_choice) \u001b[38;5;241m==\u001b[39m player_choice:\n",
      "\u001b[1;31mNameError\u001b[0m: name 'compare_choices' is not defined"
     ]
    }
   ],
   "source": [
    "import random\n",
    "def generate_choice():\n",
    "    return random.choice(['Rock', 'Paper', 'Scissors'])\n",
    "def compare_choice(choice1, choice2):\n",
    "    if choice1 == choice2:\n",
    "        return 'tie'\n",
    "    elif choice1 == 'Rock' and choice2 == 'Scissors':\n",
    "        return 'Rock wins'\n",
    "    elif choice1 == 'Paper' and choice2 == 'Rock':\n",
    "        return 'Paper wins'\n",
    "    elif choice1 == 'Sissors' and choice2 == 'Paper':\n",
    "        return 'Scissors wins'\n",
    "def play_game():\n",
    "    player_choice = input('Choose your choice: Rock,Papaer,or Scissors ?')\n",
    "    computer_choice = generate_choice()\n",
    "    print('The computer chose {}.'.format(computer_choice))\n",
    "    if compare_choices(player_choice, computer_choice) == 'tie':\n",
    "        print('The game is a tie.')\n",
    "    elif compare_choice(player_choice, computer_choice) == player_choice:\n",
    "        print('You win!')\n",
    "    else:\n",
    "        print('You Loose!')\n",
    "def main():\n",
    "    play_game()\n",
    "if __name__ == '__main__':\n",
    "    main()\n",
    "        \n",
    "    \n",
    "    \n",
    "\n",
    "    \n",
    "\n",
    "    \n",
    "    "
   ]
  },
  {
   "cell_type": "code",
   "execution_count": null,
   "id": "55179a4e",
   "metadata": {},
   "outputs": [],
   "source": []
  }
 ],
 "metadata": {
  "kernelspec": {
   "display_name": "Python 3 (ipykernel)",
   "language": "python",
   "name": "python3"
  },
  "language_info": {
   "codemirror_mode": {
    "name": "ipython",
    "version": 3
   },
   "file_extension": ".py",
   "mimetype": "text/x-python",
   "name": "python",
   "nbconvert_exporter": "python",
   "pygments_lexer": "ipython3",
   "version": "3.10.9"
  }
 },
 "nbformat": 4,
 "nbformat_minor": 5
}
