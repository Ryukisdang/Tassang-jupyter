{
 "cells": [
  {
   "cell_type": "code",
   "execution_count": null,
   "id": "ca0ac240",
   "metadata": {},
   "outputs": [],
   "source": [
    "#PYTHON PROGRAM TO CHECK LEAP YEAR \n",
    "#PYTHON PPOGRAM TO CHECK PRIME NUMBER AND PRINT ALL PRIME NUMBERS IN A INTERVAL\n",
    "#PYTHON PROGRAM TO FIND THE FACTORIAL OF A NUMBER\n",
    "#PYTHON PROGRAM TO PRINT THE FIBONACI OF A NUMBER\n",
    "#PYTHON PROGRAM  TO FIND THE ARMSTRONG NUMBER/\n",
    "#PYTHON PROGRAM TO CALCULATE SIMPLE INTEREST"
   ]
  },
  {
   "cell_type": "code",
   "execution_count": 1,
   "id": "5b417103",
   "metadata": {},
   "outputs": [],
   "source": [
    "#PYTHON PROGRAM TO CHECK LEAP YEAR"
   ]
  },
  {
   "cell_type": "code",
   "execution_count": 25,
   "id": "c9c9a729",
   "metadata": {},
   "outputs": [
    {
     "name": "stdout",
     "output_type": "stream",
     "text": [
      "enter a year: 1992\n",
      "1992 This year is an leap year\n"
     ]
    }
   ],
   "source": [
    "user=int(input(\"enter a year: \"))\n",
    "if user%4==0 or user%400==0 and user%100!=0:\n",
    "    print(f'{user} This year is an leap year')\n",
    "else:\n",
    "    print(f'{user} This year is not an leap year')\n",
    "    "
   ]
  },
  {
   "cell_type": "code",
   "execution_count": 5,
   "id": "a6d42b83",
   "metadata": {},
   "outputs": [],
   "source": [
    "#PYTHON PPOGRAM TO CHECK PRIME NUMBER AND PRINT ALL PRIME NUMBERS IN A INTERVAL"
   ]
  },
  {
   "cell_type": "code",
   "execution_count": 43,
   "id": "6f931b30",
   "metadata": {},
   "outputs": [
    {
     "name": "stdout",
     "output_type": "stream",
     "text": [
      "Enter a range to check prime up to that: 11\n",
      "3\n",
      "5\n",
      "7\n",
      "9\n",
      "11\n",
      "This are all the prime number upto that range\n"
     ]
    }
   ],
   "source": [
    "import time\n",
    "user=int(input(\"Enter a range to check prime up to that: \"))\n",
    "prime_check=[p for p in range(user+1) if p%2!=0]\n",
    "for j in prime_check:\n",
    "    if j>1:\n",
    "        time.sleep(0.6)\n",
    "        print(j)\n",
    "print(\"This are all the prime number upto that range\")\n"
   ]
  },
  {
   "cell_type": "code",
   "execution_count": 44,
   "id": "951ad822",
   "metadata": {},
   "outputs": [
    {
     "name": "stdout",
     "output_type": "stream",
     "text": [
      "Enter a no: 5\n",
      "The factorial of the number is  120\n"
     ]
    }
   ],
   "source": [
    "#PYTHON PROGRAM TO FIND THE FACTORIAL OF A NUMBER\n",
    "def factorial(a): \n",
    "    if a == 0:\n",
    "        return 1\n",
    "    else:\n",
    "        return ((a)*factorial(a-1))\n",
    "num = int(input(\"Enter a no: \"))\n",
    "result = factorial(num)\n",
    "print(\"The factorial of the number is \",result)"
   ]
  },
  {
   "cell_type": "code",
   "execution_count": null,
   "id": "9d904acc",
   "metadata": {},
   "outputs": [],
   "source": [
    "#PYTHON PROGRAM TO PRINT THE FIBONACI OF A NUMBER\n"
   ]
  },
  {
   "cell_type": "code",
   "execution_count": 79,
   "id": "47f0c0e7",
   "metadata": {},
   "outputs": [
    {
     "name": "stdout",
     "output_type": "stream",
     "text": [
      "Enter number to find  Fibonacci series: 7\n",
      "0 1 1 2 3 5 8 "
     ]
    }
   ],
   "source": [
    "n = int(input(\"Enter number to find  Fibonacci series: \"))\n",
    "num1 = 0\n",
    "num2 = 1\n",
    "next_number = 0\n",
    "count = 1\n",
    "\n",
    "while(count <= n):\n",
    "    print(next_number, end=\" \")\n",
    "    count += 1\n",
    "    num1 = num2\n",
    "    num2 = next_number\n",
    "    next_number = num1 + num2\n"
   ]
  },
  {
   "cell_type": "code",
   "execution_count": null,
   "id": "307b74fa",
   "metadata": {},
   "outputs": [],
   "source": []
  },
  {
   "cell_type": "code",
   "execution_count": null,
   "id": "c98cf351",
   "metadata": {},
   "outputs": [],
   "source": []
  },
  {
   "cell_type": "code",
   "execution_count": null,
   "id": "abe9a025",
   "metadata": {},
   "outputs": [],
   "source": []
  },
  {
   "cell_type": "code",
   "execution_count": null,
   "id": "9f3f947b",
   "metadata": {},
   "outputs": [],
   "source": []
  },
  {
   "cell_type": "code",
   "execution_count": null,
   "id": "73b44c44",
   "metadata": {},
   "outputs": [],
   "source": []
  },
  {
   "cell_type": "code",
   "execution_count": null,
   "id": "e4fe525e",
   "metadata": {},
   "outputs": [],
   "source": []
  },
  {
   "cell_type": "code",
   "execution_count": null,
   "id": "18974ef8",
   "metadata": {},
   "outputs": [],
   "source": []
  },
  {
   "cell_type": "code",
   "execution_count": null,
   "id": "4fe0e9cb",
   "metadata": {},
   "outputs": [],
   "source": [
    "#PYTHON PROGRAM  TO FIND THE ARMSTRONG NUMBER/"
   ]
  },
  {
   "cell_type": "code",
   "execution_count": 75,
   "id": "86104ba8",
   "metadata": {},
   "outputs": [
    {
     "name": "stdout",
     "output_type": "stream",
     "text": [
      "1\n",
      "5\n",
      "4\n",
      "Enter those number again you entered: 154\n",
      "it is not an armstrong number\n"
     ]
    }
   ],
   "source": [
    "n1=int(input())\n",
    "n2=int(input())\n",
    "n3=int(input())\n",
    "user=int(input(\"Enter those number again you entered: \"))\n",
    "result= sum([(n1**3),(n2**3),(n3**3)])\n",
    "if user==result:\n",
    "    print(user,\"It is an armstrong number\")\n",
    "else:\n",
    "    print(user,\"it is not an armstrong number\")"
   ]
  },
  {
   "cell_type": "code",
   "execution_count": null,
   "id": "62f4f419",
   "metadata": {},
   "outputs": [],
   "source": []
  },
  {
   "cell_type": "code",
   "execution_count": null,
   "id": "d618ecca",
   "metadata": {},
   "outputs": [],
   "source": []
  },
  {
   "cell_type": "code",
   "execution_count": null,
   "id": "6ad5e7ea",
   "metadata": {},
   "outputs": [],
   "source": []
  },
  {
   "cell_type": "code",
   "execution_count": null,
   "id": "ef5d8c65",
   "metadata": {},
   "outputs": [],
   "source": []
  },
  {
   "cell_type": "code",
   "execution_count": null,
   "id": "1ce13d94",
   "metadata": {},
   "outputs": [],
   "source": []
  },
  {
   "cell_type": "code",
   "execution_count": null,
   "id": "684c0715",
   "metadata": {},
   "outputs": [],
   "source": []
  },
  {
   "cell_type": "code",
   "execution_count": null,
   "id": "9dc1dfe9",
   "metadata": {},
   "outputs": [],
   "source": []
  },
  {
   "cell_type": "code",
   "execution_count": null,
   "id": "810be9e4",
   "metadata": {},
   "outputs": [],
   "source": []
  },
  {
   "cell_type": "markdown",
   "id": "414d4c8c",
   "metadata": {},
   "source": [
    "#PYTHON PROGRAM TO CALCULATE SIMPLE INTEREST\n",
    " S.I. = (P × R × T)/100, where P = Principal, R = Rate of Interest in % per annum, and T = Time, \n",
    "usually calculated as the number of years. The rate of interest is in percentage R% \n",
    "(and is to be written as R/100, thus 100 in the formula).\n",
    "Principal: The principal is the amount that was initially borrowed (loan) from the bank or invested. The principal is denoted by P.\n",
    "Rate: Rate is the rate of interest at which the principal amount is given to someone for a certain time, the rate of interest can be 5%, 10%, or 13%, etc. \n",
    "The rate of interest is denoted by R.\n",
    "Time: Time is the duration for which the principal amount is given to someone. Time is denoted by T."
   ]
  },
  {
   "cell_type": "code",
   "execution_count": 36,
   "id": "f7b32938",
   "metadata": {},
   "outputs": [],
   "source": [
    "class SimpleInterest:\n",
    "    def __init__(self,p,r,t):\n",
    "        self.p=p\n",
    "        self.r=r\n",
    "        self.t=t\n",
    "    def show(self):\n",
    "        print('your principal: ',self.p)\n",
    "        print(\"your rate of interest: \",self.r)\n",
    "        print(\"time of duration for which the principal amount is given to someone: \",self.t,' year')\n",
    "        print()\n",
    "    def calculate(self):\n",
    "        result=((self.p*self.r*self.t)/100)\n",
    "        print(\"      P X R X T \\n________________\\n           100\")\n",
    "        print(\"SI: \",result)\n",
    "        print()\n",
    "    def principal(self):\n",
    "        si=((self.p*self.r*self.t)/100)\n",
    "        princ=(100*si)/(self.r*self.t)\n",
    "        print(\"    100 X S.I\\n________________\\n           R X T\")\n",
    "        print(\"P: \",princ)\n",
    "        print()\n",
    "    def rate(self):\n",
    "        si=((self.p*self.r*self.t)/100)\n",
    "        rate=(100*si)/(self.p*self.t)\n",
    "        print(\"    100 X S.I\\n________________\\n           P X T\")\n",
    "        print(\"R: \",rate)\n",
    "        print()\n",
    "    def time(self):\n",
    "        si=((self.p*self.r*self.t)/100)\n",
    "        time=(100*si)/(self.p*self.r)\n",
    "        print(\"    100 X S.I\\n________________\\n           P X R\")\n",
    "        print(\"T: \",time)\n",
    "        print()\n",
    "    def amount(self):\n",
    "        si=((self.p*self.r*self.t)/100)\n",
    "        princ=(100*si)/(self.r*self.t)\n",
    "        rate=(100*si)/(self.p*self.t)\n",
    "        time=(100*si)/(self.p*self.r)\n",
    "        a=principal*(1+(rate*time))\n",
    "        print(\"Amount=Principal + Simple interest \")\n",
    "        print()\n",
    "        print(\"Amount: \",a)\n",
    "        \n",
    "        \n",
    "        \n",
    "        \n",
    "        \n",
    "        \n",
    "        \n",
    "        \n",
    "        \n",
    "    \n",
    "    "
   ]
  },
  {
   "cell_type": "code",
   "execution_count": 37,
   "id": "a5abbdea",
   "metadata": {},
   "outputs": [
    {
     "name": "stdout",
     "output_type": "stream",
     "text": [
      "Principal Amount:$ 3\n",
      "Rate of Interest:% 4\n",
      "Time (in Years): 5\n",
      "your principal:  3\n",
      "your rate of interest:  4\n",
      "time of duration for which the principal amount is given to someone:  5\n",
      "\n",
      "      P X R X T \n",
      "________________\n",
      "           100\n",
      "SI:  0.6\n",
      "\n",
      "    100 X S.I\n",
      "________________\n",
      "           R X T\n",
      "P:  3.0\n",
      "\n",
      "    100 X S.I\n",
      "________________\n",
      "           P X T\n",
      "R:  4.0\n",
      "\n",
      "    100 X S.I\n",
      "________________\n",
      "           P X R\n",
      "T:  5.0\n",
      "\n",
      "Amount=Principal + Simple interest \n",
      "\n",
      "Amount:  63.0\n"
     ]
    }
   ],
   "source": [
    "principal=int(input('Principal Amount:$ '))\n",
    "rate=int(input('Rate of Interest:% '))\n",
    "time=int(input('Time (in Years): '))\n",
    "SI=SimpleInterest(principal,rate,time)\n",
    "SI.show()\n",
    "SI.calculate()\n",
    "SI.principal()\n",
    "SI.rate()\n",
    "SI.time()\n",
    "SI.amount()"
   ]
  },
  {
   "cell_type": "code",
   "execution_count": null,
   "id": "dd00337a",
   "metadata": {},
   "outputs": [],
   "source": []
  },
  {
   "cell_type": "code",
   "execution_count": null,
   "id": "6fd237ea",
   "metadata": {},
   "outputs": [],
   "source": []
  },
  {
   "cell_type": "code",
   "execution_count": null,
   "id": "e1907fb7",
   "metadata": {},
   "outputs": [],
   "source": []
  },
  {
   "cell_type": "code",
   "execution_count": null,
   "id": "cb046d83",
   "metadata": {},
   "outputs": [],
   "source": []
  },
  {
   "cell_type": "code",
   "execution_count": null,
   "id": "b68b9563",
   "metadata": {},
   "outputs": [],
   "source": []
  },
  {
   "cell_type": "code",
   "execution_count": null,
   "id": "0252e5f2",
   "metadata": {},
   "outputs": [],
   "source": []
  },
  {
   "cell_type": "code",
   "execution_count": null,
   "id": "87905588",
   "metadata": {},
   "outputs": [],
   "source": []
  },
  {
   "cell_type": "code",
   "execution_count": null,
   "id": "24d6ad85",
   "metadata": {},
   "outputs": [],
   "source": []
  },
  {
   "cell_type": "code",
   "execution_count": null,
   "id": "812f071e",
   "metadata": {},
   "outputs": [],
   "source": []
  },
  {
   "cell_type": "code",
   "execution_count": null,
   "id": "95aab940",
   "metadata": {},
   "outputs": [],
   "source": []
  },
  {
   "cell_type": "code",
   "execution_count": null,
   "id": "cb6de88c",
   "metadata": {},
   "outputs": [],
   "source": []
  },
  {
   "cell_type": "code",
   "execution_count": null,
   "id": "5e00bda6",
   "metadata": {},
   "outputs": [],
   "source": []
  },
  {
   "cell_type": "code",
   "execution_count": null,
   "id": "5baaca1b",
   "metadata": {},
   "outputs": [],
   "source": []
  },
  {
   "cell_type": "code",
   "execution_count": null,
   "id": "319f683c",
   "metadata": {},
   "outputs": [],
   "source": []
  },
  {
   "cell_type": "code",
   "execution_count": null,
   "id": "740a94bb",
   "metadata": {},
   "outputs": [],
   "source": []
  }
 ],
 "metadata": {
  "kernelspec": {
   "display_name": "Python 3 (ipykernel)",
   "language": "python",
   "name": "python3"
  },
  "language_info": {
   "codemirror_mode": {
    "name": "ipython",
    "version": 3
   },
   "file_extension": ".py",
   "mimetype": "text/x-python",
   "name": "python",
   "nbconvert_exporter": "python",
   "pygments_lexer": "ipython3",
   "version": "3.10.9"
  }
 },
 "nbformat": 4,
 "nbformat_minor": 5
}
