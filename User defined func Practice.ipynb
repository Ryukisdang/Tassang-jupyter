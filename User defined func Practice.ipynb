{
 "cells": [
  {
   "cell_type": "code",
   "execution_count": 24,
   "id": "ef62dab9",
   "metadata": {},
   "outputs": [
    {
     "name": "stdout",
     "output_type": "stream",
     "text": [
      "Enter a number 0,1 to 6: 4\n",
      "Wrong guessed opps\n",
      "['O ', ' ', ' ', ' ', 'P ', ' ', ' ']\n"
     ]
    }
   ],
   "source": [
    "#importing the random module so it can shuffe the list\n",
    "from random import shuffle\n",
    "# This function shuffle  the list we defined\n",
    "def random_list(mylist):\n",
    "    shuffle(mylist)\n",
    "    return mylist\n",
    "# This function takes user input and store the variable in guessed to check from it positional index\n",
    "def user_guess():\n",
    "    guessed = \" \"\n",
    "    while guessed not in ['0','1','2','3','4','5','6']:\n",
    "        guessed = input(\"Enter a number 0,1 to 6: \")\n",
    "        return int(guessed)\n",
    "#This\n",
    "def check_user_guess(mylist,user_guess):\n",
    "    if mylist[guessed] == 'O':\n",
    "        print(\"Correct guessed it was O\")\n",
    "    elif mylist[guessed] == ' P':\n",
    "        print(\"you have been fooled\")\n",
    "    else:\n",
    "        print(\"Wrong guessed opps\")\n",
    "        print(mylist)\n",
    "# Initialize a list a hiding item in list\n",
    "mylist = [ ' ', ' ', 'O ', ' ', 'P ', ' ',' ']\n",
    "#mixed list\n",
    "mixeduplist = random_list(mylist)\n",
    "# user guess\n",
    "#randoms = random_list(mylist)\n",
    "#print(mylist)\n",
    "guessed = user_guess()\n",
    "#user check\n",
    "user_check = check_user_guess(mixeduplist,guessed)\n",
    "# calling out call \n",
    "#print(random_list,guess,user_check)\n"
   ]
  },
  {
   "cell_type": "code",
   "execution_count": 25,
   "id": "99a82e8c",
   "metadata": {},
   "outputs": [
    {
     "name": "stdout",
     "output_type": "stream",
     "text": [
      "Hello world\n"
     ]
    }
   ],
   "source": [
    "#1: print Hello World\n",
    "def hello_world():\n",
    "    print('Hello world')\n",
    "hello_world()\n",
    "\n"
   ]
  },
  {
   "cell_type": "code",
   "execution_count": 3,
   "id": "9007eb2d",
   "metadata": {},
   "outputs": [
    {
     "name": "stdout",
     "output_type": "stream",
     "text": [
      "Enter your name: hage tassanf\n",
      "My name is hage tassanf\n",
      "\n",
      " My name is hage tassanf\n"
     ]
    }
   ],
   "source": [
    "#2: print Hello Name\n",
    "def hello_name():\n",
    "    name = input(\"Enter your name: \")\n",
    "    print('My name is {}'.format(name))\n",
    "    print()\n",
    "    print(f' My name is {name}')\n",
    "hello_name()"
   ]
  },
  {
   "cell_type": "code",
   "execution_count": 33,
   "id": "6a25da51",
   "metadata": {},
   "outputs": [
    {
     "name": "stdout",
     "output_type": "stream",
     "text": [
      "Inside\n",
      "Outside\n"
     ]
    }
   ],
   "source": [
    " #3 - simple Boolean\n",
    "def simple_boolean(a):\n",
    "    if a == True:\n",
    "        return 'Inside'\n",
    "    elif a == False:\n",
    "        return 'Outside'\n",
    "first= simple_boolean(True)\n",
    "second= simple_boolean(False)\n",
    "print(first)\n",
    "print(second)"
   ]
  },
  {
   "cell_type": "code",
   "execution_count": 36,
   "id": "79d03a1c",
   "metadata": {},
   "outputs": [
    {
     "data": {
      "text/plain": [
       "'1'"
      ]
     },
     "execution_count": 36,
     "metadata": {},
     "output_type": "execute_result"
    }
   ],
   "source": [
    " #4 - using Booleans\n",
    "def booleans(a,b,c):\n",
    "    if c == True:\n",
    "        return a\n",
    "    else:\n",
    "        return b\n",
    "booleans('1',2,True)"
   ]
  },
  {
   "cell_type": "code",
   "execution_count": 37,
   "id": "305f49f4",
   "metadata": {},
   "outputs": [
    {
     "data": {
      "text/plain": [
       "4761"
      ]
     },
     "execution_count": 37,
     "metadata": {},
     "output_type": "execute_result"
    }
   ],
   "source": [
    " #5: simple math\n",
    "def simple_maths(a,b):\n",
    "    return a*b\n",
    "simple_maths(69,69)"
   ]
  },
  {
   "cell_type": "code",
   "execution_count": 38,
   "id": "c2833cde",
   "metadata": {},
   "outputs": [
    {
     "data": {
      "text/plain": [
       "True"
      ]
     },
     "execution_count": 38,
     "metadata": {},
     "output_type": "execute_result"
    }
   ],
   "source": [
    " #6: is even\n",
    "def is_evenly_divisible_by_3(n):\n",
    "    if n%3 == 0:\n",
    "        return True\n",
    "    else:\n",
    "        return False\n",
    "is_evenly_divisible_by_3(3)"
   ]
  },
  {
   "cell_type": "code",
   "execution_count": 39,
   "id": "2a682161",
   "metadata": {},
   "outputs": [
    {
     "data": {
      "text/plain": [
       "True"
      ]
     },
     "execution_count": 39,
     "metadata": {},
     "output_type": "execute_result"
    }
   ],
   "source": [
    "#7: is greater\n",
    "def is_less(c,d):\n",
    "    if c < d:\n",
    "        return True\n",
    "    else:\n",
    "        return False\n",
    "is_less(21,69)"
   ]
  },
  {
   "cell_type": "code",
   "execution_count": 4,
   "id": "4a1e4983",
   "metadata": {},
   "outputs": [],
   "source": [
    "# Alternative solution to solve sum function as i dont like to remember inbuilt function when i can see online and use it \n",
    "def test(x,y):\n",
    "    result = (x+y)*0.5\n",
    "    return float(result)"
   ]
  },
  {
   "cell_type": "code",
   "execution_count": 5,
   "id": "31850adf",
   "metadata": {},
   "outputs": [
    {
     "data": {
      "text/plain": [
       "3.5"
      ]
     },
     "execution_count": 5,
     "metadata": {},
     "output_type": "execute_result"
    }
   ],
   "source": [
    "test(3,4)"
   ]
  },
  {
   "cell_type": "code",
   "execution_count": 8,
   "id": "be951211",
   "metadata": {},
   "outputs": [
    {
     "name": "stdout",
     "output_type": "stream",
     "text": [
      "                THIS calculator sucks            \n",
      "enter a what calculator function you wanna call,add,divide,subtract.product,sqaure root and cubic,comparison,percentage: comparison\n",
      "enter number a number...*_*...pls: 34\n",
      "enter number a number...*_*...pls: 556\n",
      "Your x digit34.0 is less than y digit 556.0\n"
     ]
    }
   ],
   "source": [
    "#building a simple calculator taking user input and printing output\n",
    "# head are global variable\n",
    "\n",
    "#body\n",
    "\n",
    "\n",
    "\n",
    "def Add():\n",
    "    add1 = float(input(\"enter number a number...*_*...pls: \"))\n",
    "    add2 = float(input(\"enter number a number...*_*...pls: \"))\n",
    "    adding = add1+add2\n",
    "    return adding\n",
    "def Subtract():\n",
    "    sub1 =  float(input(\"enter number a number...*_*...pls: \"))\n",
    "    sub2 =  float(input(\"enter number a number...*_*...pls: \"))\n",
    "    subtracting = sub1 - sub2\n",
    "    return subtracting\n",
    "def Comparison():\n",
    "    x = float(input(\"enter number a number...*_*...pls: \"))\n",
    "    y = float(input(\"enter number a number...*_*...pls: \"))\n",
    "    if x > y:\n",
    "        print(f'Your x digit{x} is greater than y digit {y}')\n",
    "    elif x <y:\n",
    "        print(f'Your x digit{x} is less than y digit {y}')\n",
    "    elif x==y:\n",
    "        print(f'Your x digit{x} is equal to  y digit {y}')\n",
    "        \n",
    "\n",
    "#foot\n",
    "def Calculator():\n",
    "    #divided,subtracted,product,sqaure_root,cubic):\n",
    "    print(\"                THIS calculator sucks            \")\n",
    "    #call out this function why typing add or subtract\n",
    "    #assign variable for checking\n",
    "    subtracted = \"subtract\"\n",
    "    divided = \"di\"\n",
    "    added = \"add\"\n",
    "    compared = \"comparison\"\n",
    "    user_input = input(\"enter a what calculator function you wanna call,add,divide,subtract.product,sqaure root and cubic,comparison,percentage: \")\n",
    "    if user_input == added:\n",
    "        add = Add()\n",
    "        return add\n",
    "    elif user_input == subtracted:\n",
    "        sub = Subtract()\n",
    "        return sub\n",
    "    elif user_input == compared:\n",
    "        compare = Comparison()\n",
    "\n",
    "    #divided = divide\n",
    "    #subtracted = substract\n",
    "    #product = multiply\n",
    "    #sqaure_root = square\n",
    "    #cubic = cube|\n",
    "Calculator()"
   ]
  },
  {
   "cell_type": "code",
   "execution_count": 7,
   "id": "d6772c04",
   "metadata": {},
   "outputs": [
    {
     "name": "stdout",
     "output_type": "stream",
     "text": [
      "enter number a number...*_*...pls: 1\n",
      "enter number a number...*_*...pls: 1\n"
     ]
    },
    {
     "data": {
      "text/plain": [
       "2.0"
      ]
     },
     "execution_count": 7,
     "metadata": {},
     "output_type": "execute_result"
    }
   ],
   "source": []
  },
  {
   "cell_type": "code",
   "execution_count": null,
   "id": "d5f94757",
   "metadata": {},
   "outputs": [],
   "source": []
  }
 ],
 "metadata": {
  "kernelspec": {
   "display_name": "Python 3 (ipykernel)",
   "language": "python",
   "name": "python3"
  },
  "language_info": {
   "codemirror_mode": {
    "name": "ipython",
    "version": 3
   },
   "file_extension": ".py",
   "mimetype": "text/x-python",
   "name": "python",
   "nbconvert_exporter": "python",
   "pygments_lexer": "ipython3",
   "version": "3.10.9"
  }
 },
 "nbformat": 4,
 "nbformat_minor": 5
}
