{
 "cells": [
  {
   "cell_type": "markdown",
   "id": "886f084f",
   "metadata": {},
   "source": [
    "BASIC OF PYTHON\n",
    "\n",
    "\n",
    "\n",
    "\n",
    "\n",
    "\n",
    "1.VARIABLES and\n",
    "BASIC DATA TYPES- int,float"
   ]
  },
  {
   "cell_type": "code",
   "execution_count": 6,
   "id": "35b699e5",
   "metadata": {},
   "outputs": [
    {
     "name": "stdout",
     "output_type": "stream",
     "text": [
      "3 asfasf\n"
     ]
    },
    {
     "data": {
      "text/plain": [
       "str"
      ]
     },
     "execution_count": 6,
     "metadata": {},
     "output_type": "execute_result"
    }
   ],
   "source": [
    "#assign variables\n",
    "x = 3\n",
    "y ='asfasf'\n",
    "print(x,y)\n",
    "type(x)\n",
    "type(y)"
   ]
  },
  {
   "cell_type": "code",
   "execution_count": null,
   "id": "69a96325",
   "metadata": {},
   "outputs": [],
   "source": [
    "# aritmetmic operation on variables\n"
   ]
  },
  {
   "cell_type": "code",
   "execution_count": 10,
   "id": "ef73eb31",
   "metadata": {},
   "outputs": [
    {
     "name": "stdout",
     "output_type": "stream",
     "text": [
      "6\n",
      "hello human\n",
      "humanhumanhuman\n",
      "humanhumanhumanhumanhuman\n"
     ]
    }
   ],
   "source": [
    "x = 3\n",
    "y ='hello '\n",
    "z=\"human\"\n",
    "r1= x +x\n",
    "print(r1)\n",
    "print(y+z)\n",
    "print(z*x)\n",
    "print(z*5)\n",
    "#  int value and string cant be added\n",
    "#print(x+y) ouput - TypeError: unsupported operand type(s) for +: 'int' and 'str' but string can be added with string or multiplied with int to make copies of it"
   ]
  },
  {
   "cell_type": "code",
   "execution_count": 20,
   "id": "c75dba78",
   "metadata": {},
   "outputs": [
    {
     "name": "stdout",
     "output_type": "stream",
     "text": [
      "Enter a number: 4\n",
      "Enter a number: 3\n",
      "Added:  7\n",
      "subtracted:  1\n",
      "product:  12\n",
      "greater than x:  True\n",
      "lesser than x:  False\n",
      "divide:  1.3333333333333333\n",
      "remainder:  1\n",
      "1\n"
     ]
    }
   ],
   "source": [
    "#simple calculator with user input\n",
    "x=int(input(\"Enter a number: \"))\n",
    "y=int(input(\"Enter a number: \"))\n",
    "add=x+y\n",
    "subtract=x-y\n",
    "multiply=x*y\n",
    "greater= x > y # compare\n",
    "lesser= x< y\n",
    "divide=x/y # float value like decimals\n",
    "remaider=x%y # for remainder\n",
    "float_to_int=x//y #floor value\n",
    "# booolean comparision\n",
    " \n",
    "print('Added: ',add)\n",
    "print('subtracted: ',subtract)\n",
    "print('product: ',multiply)\n",
    "print('greater than x: ',greater)\n",
    "print('lesser than x: ',lesser)\n",
    "print('divide: ',divide)\n",
    "print('remainder: ',remaider)\n",
    "print(float_to_int)\n",
    "\n"
   ]
  },
  {
   "cell_type": "code",
   "execution_count": 57,
   "id": "703a8789",
   "metadata": {},
   "outputs": [
    {
     "name": "stdout",
     "output_type": "stream",
     "text": [
      " i am hage tassang \n",
      " i am a goodu boi \n",
      " i can do lot of stuff and i am gifted\n",
      "hi\n",
      "\n",
      "john\n"
     ]
    }
   ],
   "source": [
    "print(\" i am hage tassang \\n i am a goodu boi \\n i can do lot of stuff and i am gifted\") # print on new line\n",
    "print('hi')\n",
    "print()\n",
    "print('john')"
   ]
  },
  {
   "cell_type": "code",
   "execution_count": 21,
   "id": "b948d2df",
   "metadata": {},
   "outputs": [
    {
     "name": "stdout",
     "output_type": "stream",
     "text": [
      "super man and batman\n"
     ]
    }
   ],
   "source": [
    "#snake case var\n",
    "_hello='super man'\n",
    "_world=' and batman'\n",
    "_added_string=_hello + _world\n",
    "print(_added_string)"
   ]
  },
  {
   "cell_type": "markdown",
   "id": "ac8a10eb",
   "metadata": {},
   "source": [
    "2. Basic Data Structures\n",
    "On this level, you need to know about strings, integers, floats, booleans, arrays, and dictionaries."
   ]
  },
  {
   "cell_type": "code",
   "execution_count": 45,
   "id": "478f1ab1",
   "metadata": {},
   "outputs": [
    {
     "name": "stdout",
     "output_type": "stream",
     "text": [
      "my name is Hage Tassang \n",
      " age is 21 \n",
      " love programming True \n",
      " i dont love coding False \n",
      " my friends are ['Tare', 'Daniel', 'Regina', 'Sanjay']\n",
      " we gonna have my details {'Height': 5.7, 'Colour': 'white', 'Fav food': 'Fhale'} \n",
      " my height 5.7 \n",
      " my color white \n",
      " my fav food Fhale\n"
     ]
    }
   ],
   "source": [
    "name='Hage Tassang' # string\n",
    "age= 21 # integers\n",
    "gpa=10.00\n",
    "programming_is_love = True # boolean\n",
    "dont_Love_coding = False # boolean\n",
    "friends=['Tare','Daniel','Regina','Sanjay'] #List\n",
    "details={'Height':5.7,'Colour':'white','Fav food':'Fhale'} # Dictionary\n",
    "# we gonna use f string and . format method for printing output\n",
    "print(f'my name is {name} \\n age is {age} \\n love programming {programming_is_love} \\n i dont love coding {dont_Love_coding} \\n my friends are {friends}')\n",
    "print(' we gonna have my details {} \\n my height {} \\n my color {} \\n my fav food {}'.format(details,(details.get('Height')),(details.get('Colour')),(details.get('Fav food'))))"
   ]
  },
  {
   "cell_type": "markdown",
   "id": "86cda222",
   "metadata": {},
   "source": [
    "3. Math Operators\n",
    "Exactly what we hated in primary school."
   ]
  },
  {
   "cell_type": "code",
   "execution_count": 47,
   "id": "96f75543",
   "metadata": {},
   "outputs": [
    {
     "name": "stdout",
     "output_type": "stream",
     "text": [
      "9\n",
      "5\n",
      "20\n",
      "3.5\n",
      "3\n",
      "2\n",
      "81\n"
     ]
    }
   ],
   "source": [
    "print(4 + 5)   # 9\n",
    "print(7 - 2)   # 5\n",
    "print(5 * 4)   # 20\n",
    "print(7 / 2)   # 3.5\n",
    "print(7 // 2)  # 3   # Integer division (or quotient)\n",
    "print(11 % 3) # 2   # Remainder\n",
    "print(3 ** 4)  # 81  # raised to the power"
   ]
  },
  {
   "cell_type": "markdown",
   "id": "ed249149",
   "metadata": {},
   "source": [
    "4. Conditions\n",
    "It’s just about true and false. You need to know how to compare two elements\n",
    "for later purpose with conditional statement that is after conditons operators\n",
    "increment= x+= y\n",
    "decrement= x -=y\n",
    "product= x *= y"
   ]
  },
  {
   "cell_type": "code",
   "execution_count": 49,
   "id": "9150356f",
   "metadata": {},
   "outputs": [],
   "source": [
    "x = 30\n",
    "y = 21\n",
    "z = 4"
   ]
  },
  {
   "cell_type": "code",
   "execution_count": 59,
   "id": "fb432602",
   "metadata": {},
   "outputs": [
    {
     "name": "stdout",
     "output_type": "stream",
     "text": [
      "True\n",
      "False\n",
      "True\n",
      "False\n",
      "True\n",
      "True\n",
      "True\n",
      "False\n"
     ]
    }
   ],
   "source": [
    "print(x is x)\n",
    "print( x is y)\n",
    "print(x > y)\n",
    "print(x ==y)\n",
    "print(x == x)\n",
    "print(x != y)\n",
    "print(x >=y)\n",
    "print(x <= y)"
   ]
  },
  {
   "cell_type": "markdown",
   "id": "4e81ca02",
   "metadata": {},
   "source": [
    "5. Control Flow\n",
    "It’s about making a decision based on a condition. You should know how to write ‘if’, ‘elif’, and ‘else’ statements."
   ]
  },
  {
   "cell_type": "code",
   "execution_count": 64,
   "id": "94198d59",
   "metadata": {},
   "outputs": [
    {
     "name": "stdout",
     "output_type": "stream",
     "text": [
      "enter a name: 324\n",
      "nothing hehe\n"
     ]
    }
   ],
   "source": [
    "# if,elif,else first with string and then  integers\n",
    "name = input(\"enter a name: \")\n",
    "if name== 'Tassang':\n",
    "    print(name)\n",
    "elif name=='Alien':\n",
    "    print(\"human you are stupid mofo\")\n",
    "else:\n",
    "    print(\"nothing hehe\")"
   ]
  },
  {
   "cell_type": "code",
   "execution_count": 72,
   "id": "cc9b8663",
   "metadata": {},
   "outputs": [
    {
     "name": "stdout",
     "output_type": "stream",
     "text": [
      "Enter a number 0,1,2,3: 3\n",
      "Opps it was an ODDD number broo 3\n",
      "ooh hit the range limit that was 3 3\n"
     ]
    }
   ],
   "source": [
    "user = int(input(\"Enter a number 0,1,2,3: \"))\n",
    "if user%2==0:\n",
    "    print('it was an even number broo: ',user)\n",
    "if user%2!=0:\n",
    "    print(\"Opps it was an ODDD number broo: \",user)\n",
    "if user==3:\n",
    "    print(\"ooh hit the range limit that was 3: \",user)\n",
    "elif user>3:\n",
    "    print(\"it is invalid out of given set of number\")\n",
    "elif  user<3:\n",
    "    print(\"hmmm it was a valid number\")\n",
    "else:\n",
    "    print(\"plss add number atleast\")"
   ]
  },
  {
   "cell_type": "markdown",
   "id": "3bf22410",
   "metadata": {},
   "source": [
    "6. Loops and Iterables\n",
    "You need to learn to use ‘for’ and ‘while’ loops. Also, how to iterate through iterables like arrays, string, dictionary, etc. using the ‘in’ keyword."
   ]
  },
  {
   "cell_type": "code",
   "execution_count": 74,
   "id": "7005165b",
   "metadata": {},
   "outputs": [
    {
     "name": "stdout",
     "output_type": "stream",
     "text": [
      " Life sucks. \n",
      " Life sucks. \n",
      " Life sucks. \n"
     ]
    }
   ],
   "source": [
    "# we are iterating over a range or limit we set that is 1 to 4\n",
    "# for loop will work it will check 4 times but not 4 as it skips it \n",
    "# that i is for holding iteratared element works as place holder for element that is iterated over\n",
    "for i in range(1, 4):\n",
    "    print(' Life sucks. ')"
   ]
  },
  {
   "cell_type": "markdown",
   "id": "e1624e69",
   "metadata": {},
   "source": [
    "7. Functions\n",
    "After learning all these basic building blocks of the language, the next thing I’d suggest you to look at is function. \n",
    "A function is a piece of code that does a specific task and can be used multiple times."
   ]
  },
  {
   "cell_type": "code",
   "execution_count": null,
   "id": "c7457b31",
   "metadata": {},
   "outputs": [],
   "source": []
  },
  {
   "cell_type": "code",
   "execution_count": 77,
   "id": "b3aa5c16",
   "metadata": {},
   "outputs": [
    {
     "name": "stdout",
     "output_type": "stream",
     "text": [
      "You areAnshika Pattnaikand you're 17years old\n",
      "You areNavjeetand you're 16years old\n"
     ]
    }
   ],
   "source": [
    "#writing fucntions also setting it parameter that is gonna take later on when we call it out\n",
    "def introduce(name, age):\n",
    "     print(\"You are\"+ name + \"and you're \" + str(age) + \"years old\")\n",
    "# this how to call function using funct name and func(parameter or argument here)\n",
    "introduce('Anshika Pattnaik', 17)\n",
    "introduce('Navjeet', 16)"
   ]
  },
  {
   "cell_type": "code",
   "execution_count": 82,
   "id": "d6c3e611",
   "metadata": {},
   "outputs": [
    {
     "name": "stdout",
     "output_type": "stream",
     "text": [
      "enter name: Hage Tassang\n",
      "enter age: 21\n",
      "You are Hage Tassang and you're 21 years old\n"
     ]
    }
   ],
   "source": [
    "#with user input\n",
    "def introduce(name, age):\n",
    "     print(\"You are \"+ name + \" and you're \" + str(age) + \" years old\") # we use str function to change int to string value so we can add string together\n",
    "name=input('enter name: ')\n",
    "age=int(input(\"enter age: \"))\n",
    "func_call = introduce(name,age) # 2nd method to call function or execute it "
   ]
  },
  {
   "cell_type": "markdown",
   "id": "7af2bc6e",
   "metadata": {},
   "source": [
    "8. Some Built-In Methods\n",
    "Methods are a little bit different from functions. We’ll talk about them in the Intermediate section. \n",
    "There are some very commonly used methods already built in the language like converting a text into lowercase, sorting an array in ascending order, etc."
   ]
  },
  {
   "cell_type": "code",
   "execution_count": 14,
   "id": "5211ae54",
   "metadata": {},
   "outputs": [
    {
     "name": "stdout",
     "output_type": "stream",
     "text": [
      "[1, 2, 4, 5, 6]\n"
     ]
    }
   ],
   "source": [
    "array = [ 4, 6, 2, 5,1 ]\n",
    "array.sort() # it sort arrays in correct \n",
    "print(array)\n"
   ]
  },
  {
   "cell_type": "markdown",
   "id": "397e6664",
   "metadata": {},
   "source": [
    "9. User Input and Reading a File\n",
    "Next, you need to learn how to take inputs from the user or any file. You should also know how to open, read, write, and close a file using python.\n",
    "Creating and Opening Files To create and open a file in Python, you can use the open() function with the \n",
    "file name as its argument. For example:\n",
    "myfile = open('myfile.txt')\n",
    "If the file does not exist, Python will raise a FileNotFoundError. To avoid this error, make sure that the \n",
    "file is located in the same directory as your script.\n",
    "Reading Files To read a file, you can use the read() method, which returns the file's content as a string. \n",
    "You can also use the seek() method to reset the file's cursor to the beginning and read the file again. For \n",
    "example:\n",
    "content = myfile.read()\n",
    "myfile.seek(0)\n",
    "If you want to read the file line by line and store each line in a list, you can use the readlines() method. \n",
    "For example:\n",
    "lines = myfile.readlines()\n",
    "File Locations To open a file located in a different directory, pass the entire file path as the argument to \n",
    "the open() function. For Windows, use double backslashes (\\\\) to avoid escape character issues. For \n",
    "example:\n",
    "myfile = open(\"C:\\\\Users\\\\UserName\\\\Folder\\\\Test.txt\")\n",
    "Best Practices for Opening Files It is essential to close a file after you are done working with it to avoid \n",
    "errors. You can use the close() method to close a file. Alternatively, you can use the with statement to \n",
    "automatically close the file when the block of code is executed. For example:\n",
    "with open('myfile.txt') as my_new_file:\n",
    " contents = my_new_file.read()\n",
    "Reading and Writing to Files In addition to reading files, you can also write or append content to a file. \n",
    "To do this, you need to specify the file mode while opening the file.\n",
    "File Modes The different file modes in Python are:\n",
    " 'r': read-only mode\n",
    " 'w': write-only mode (overwrites existing files or creates new files)\n",
    " 'a': append mode (adds content to existing files)\n",
    " 'r+': reading and writing mode\n",
    " 'w+': writing and reading mode (overwrites existing files or creates new files)\n",
    "For example:\n",
    "with open('my_new_file.txt', mode='a') as f:\n",
    " f.write('\\nFOUR ON FOURTH')\n"
   ]
  },
  {
   "cell_type": "code",
   "execution_count": 17,
   "id": "4e981748",
   "metadata": {},
   "outputs": [
    {
     "name": "stdout",
     "output_type": "stream",
     "text": [
      "<_io.TextIOWrapper name='X:\\\\Tassang-jupyter\\\\Tassang.txt' mode='r' encoding='cp1252'>\n"
     ]
    }
   ],
   "source": [
    "myfile = open(\"X:\\Tassang-jupyter\\Tassang.txt\") # with directory address if it is not in your current working folder\n",
    "print(myfile)"
   ]
  },
  {
   "cell_type": "code",
   "execution_count": 18,
   "id": "8d5d03cc",
   "metadata": {},
   "outputs": [
    {
     "name": "stdout",
     "output_type": "stream",
     "text": [
      "<_io.TextIOWrapper name='Tassang.txt' mode='r' encoding='cp1252'>\n"
     ]
    }
   ],
   "source": [
    "myfile = open(\"Tassang.txt\") # with directory address if it is not in your current working folder\n",
    "print(myfile)"
   ]
  },
  {
   "cell_type": "code",
   "execution_count": null,
   "id": "8a7d63ad",
   "metadata": {},
   "outputs": [],
   "source": [
    "# read()- to read files and return file content as string value \n",
    "#open()-to open files\n",
    "#seek() method to reset the file's cursor to the beginning and read the file again.\n",
    "#content = myfile.read()\n",
    "# myfile.seek(0)\n",
    "#readlines() - it reads file line by line\n",
    "# we \\\\ to avoid escape character\n",
    "#close()- it is used to close files\n",
    "# we use with statement to automatically close the file when the code is executed"
   ]
  },
  {
   "cell_type": "code",
   "execution_count": 19,
   "id": "d66e7532",
   "metadata": {},
   "outputs": [],
   "source": [
    "File Modes The different file modes in Python are:\n",
    " 'r': read-only mode\n",
    " 'w': write-only mode (overwrites existing files or creates new files)\n",
    " 'a': append mode (adds content to existing files)\n",
    " 'r+': reading and writing mode\n",
    " 'w+': writing and reading mode (overwrites existing files or creates new files)\n",
    "\n"
   ]
  },
  {
   "cell_type": "code",
   "execution_count": 27,
   "id": "1a07ea60",
   "metadata": {},
   "outputs": [],
   "source": [
    "with open(\"X:\\Tassang-jupyter\\Tassang.txt\", mode='a') as file:\n",
    "    file.write('hello world \\n i love python')\n"
   ]
  },
  {
   "cell_type": "code",
   "execution_count": 28,
   "id": "28ce240b",
   "metadata": {},
   "outputs": [],
   "source": [
    "with open(\"X:\\Tassang-jupyter\\Tassang.txt\") as file:\n",
    "    contents = file.read()\n",
    "    lines = myfile.readlines()\n",
    "    myfile.seek(0)\n",
    "    lines2 = myfile.readlines()\n",
    "    file.close()\n"
   ]
  },
  {
   "cell_type": "code",
   "execution_count": 29,
   "id": "05021500",
   "metadata": {},
   "outputs": [
    {
     "name": "stdout",
     "output_type": "stream",
     "text": [
      "hello world \n",
      " i love pythonhello world \n",
      " i love python\n",
      "['hello world \\n', ' i love python']\n",
      "['hello world \\n', ' i love pythonhello world \\n', ' i love python']\n"
     ]
    }
   ],
   "source": [
    "print(contents)\n",
    "print(lines)\n",
    "print(lines2)"
   ]
  },
  {
   "cell_type": "markdown",
   "id": "5b489eb6",
   "metadata": {},
   "source": [
    "MORE IN BUILT IN FUNCTION AND METHODS AND SOME MORE ON VARIABLES AND ASSIGN MULTIPLE VARIABLE"
   ]
  },
  {
   "cell_type": "code",
   "execution_count": 30,
   "id": "ad966411",
   "metadata": {},
   "outputs": [
    {
     "name": "stdout",
     "output_type": "stream",
     "text": [
      "hage tassang  is super-man\n"
     ]
    }
   ],
   "source": [
    "# tricks for assign variable in cool ways\n",
    "x,y,z='hage',' tassang ',' is super-man'\n",
    "print(x+y+z)"
   ]
  },
  {
   "cell_type": "code",
   "execution_count": 31,
   "id": "0c861ec2",
   "metadata": {},
   "outputs": [
    {
     "name": "stdout",
     "output_type": "stream",
     "text": [
      "Orange\n",
      "Orange\n",
      "Orange\n"
     ]
    }
   ],
   "source": [
    "x = y = z = \"Orange\" # assign one value to all\n",
    "print(x)\n",
    "print(y)\n",
    "print(z)"
   ]
  },
  {
   "cell_type": "code",
   "execution_count": 33,
   "id": "356c3448",
   "metadata": {},
   "outputs": [
    {
     "name": "stdout",
     "output_type": "stream",
     "text": [
      "apple\n",
      "banana\n",
      "cherry\n",
      "mango\n"
     ]
    }
   ],
   "source": [
    "#using multiple variable technique for unpacking things\n",
    "fruits = [\"apple\", \"banana\", \"cherry\",'mango'] # a list\n",
    "x, y, z,k = fruits # accesing each index of fruit taking from it and asssign to new variables\n",
    "print(x)\n",
    "print(y)\n",
    "print(z)\n",
    "print(k)"
   ]
  },
  {
   "cell_type": "markdown",
   "id": "71b7c8b3",
   "metadata": {},
   "source": [
    "Global Variables\n",
    "Variables that are created outside of a function (as in all of the examples above) are known as global variables.\n",
    "If you create a variable with the same name inside a function, this variable will be local, and can only be used inside the function. \n",
    "The global variable with the same name will remain as it was, global and with the original value.\n",
    "Normally, when you create a variable inside a function, that variable is local, and can only be used inside that function.\n",
    "\n",
    "To create a global variable inside a function, you can use the global keyword.\n",
    "Also, use the global keyword if you want to change a global variable inside a function.\n",
    "\n",
    "Example\n",
    "To change the value of a global variable inside a function, refer to the variable by using the global keyword:"
   ]
  },
  {
   "cell_type": "markdown",
   "id": "86f86442",
   "metadata": {},
   "source": [
    "x = \"awesome\" #global\n",
    "\n",
    "def myfunc():\n",
    "    print(\"Python is \" + x)\n",
    "\n",
    "myfunc()"
   ]
  },
  {
   "cell_type": "code",
   "execution_count": 35,
   "id": "1cee5b1e",
   "metadata": {},
   "outputs": [
    {
     "name": "stdout",
     "output_type": "stream",
     "text": [
      "Python is fantastic\n",
      "Python is awesome\n"
     ]
    }
   ],
   "source": [
    "x = \"awesome\" # global\n",
    "\n",
    "def myfunc():\n",
    "    x = \"fantastic\" # local\n",
    "    print(\"Python is \" + x)\n",
    "\n",
    "myfunc()\n",
    "\n",
    "print(\"Python is \" + x)"
   ]
  },
  {
   "cell_type": "code",
   "execution_count": 36,
   "id": "ed18bd14",
   "metadata": {},
   "outputs": [
    {
     "name": "stdout",
     "output_type": "stream",
     "text": [
      "Python is fantastic\n"
     ]
    }
   ],
   "source": [
    "def myfunc():\n",
    "    global x #calling global\n",
    "    x = \"fantastic\"\n",
    "\n",
    "myfunc()\n",
    "\n",
    "print(\"Python is \" + x)"
   ]
  },
  {
   "cell_type": "code",
   "execution_count": 39,
   "id": "28178687",
   "metadata": {},
   "outputs": [
    {
     "name": "stdout",
     "output_type": "stream",
     "text": [
      "fantastic  \n",
      " but now global variables is changed due to calling it and and chaning it to same value as local variables\n"
     ]
    }
   ],
   "source": [
    "print(x,\" \\n but now global variables is changed due to calling it and and chaning it to same value as local variables\")"
   ]
  },
  {
   "cell_type": "markdown",
   "id": "08b03b1f",
   "metadata": {},
   "source": [
    "Built-in Data Types\n",
    "In programming, data type is an important concept.\n",
    "\n",
    "Variables can store data of different types, and different types can do different things.\n",
    "\n",
    "Python has the following data types built-in by default, in these categories:\n",
    "\n",
    "Text Type:\tstr\n",
    "Numeric Types:\tint, float, complex\n",
    "Sequence Types:\tlist, tuple, range\n",
    "Mapping Type:\tdict\n",
    "Set Types:\tset, frozenset\n",
    "Boolean Type:\tbool\n",
    "Binary Types:\tbytes, bytearray, memoryview\n",
    "None Type:\tNoneType"
   ]
  },
  {
   "cell_type": "markdown",
   "id": "2fc6480f",
   "metadata": {},
   "source": [
    "a = str(\"Hello World\")#\tstr\t\n",
    "b = int(20)#\tint\t\n",
    "c = float(20.5)#\tfloat\t\n",
    "d = complex(1j)#\tcomplex\t\n",
    "e = list((\"apple\", \"banana\", \"cherry\"))#\tlist\t\n",
    "f = tuple((\"apple\", \"banana\", \"cherry\"))#\ttuple\t\n",
    "g = range(6)#\trange\t\n",
    "h = dict(name=\"John\", age=36)#\tdict\t\n",
    "i = set((\"apple\", \"banana\", \"cherry\"))#\tset\t\n",
    "j = frozenset((\"apple\", \"banana\", \"cherry\"))#\tfrozenset\t\n",
    "k = bool(5)#\tbool\t\n",
    "l = bytes(5)#\tbytes\t\n",
    "m = bytearray(5)#\tbytearray\t\n",
    "n = memoryview(bytes(5))#\tmemoryview\t\n",
    "print(a)\n",
    "print(b)\n",
    "print(c)\n",
    "print(d)\n",
    "print(e)\n",
    "print(f)\n",
    "print(g)\n",
    "print(h)\n",
    "print(i)\n",
    "print(j)\n",
    "print(k)\n",
    "print(l)\n",
    "print(m)\n",
    "print(n)\n"
   ]
  },
  {
   "cell_type": "markdown",
   "id": "707df77a",
   "metadata": {},
   "source": [
    "Python Numbers\n",
    "There are three numeric types in Python:\n",
    "\n",
    "int\n",
    "float\n",
    "complex\n",
    "Variables of numeric types are created when you assign a value to them:"
   ]
  },
  {
   "cell_type": "code",
   "execution_count": 47,
   "id": "92c1ac37",
   "metadata": {},
   "outputs": [
    {
     "name": "stdout",
     "output_type": "stream",
     "text": [
      "(8+4j)\n"
     ]
    },
    {
     "data": {
      "text/plain": [
       "complex"
      ]
     },
     "execution_count": 47,
     "metadata": {},
     "output_type": "execute_result"
    }
   ],
   "source": [
    "# complex number\n",
    "x = 3+ 4j\n",
    "y = 5\n",
    "_complex=x +y\n",
    "print(_complex)\n",
    "type(_complex)"
   ]
  },
  {
   "cell_type": "code",
   "execution_count": 49,
   "id": "0d580e27",
   "metadata": {},
   "outputs": [
    {
     "name": "stdout",
     "output_type": "stream",
     "text": [
      "1.0\n",
      "2\n",
      "(1+0j)\n",
      "<class 'float'>\n",
      "<class 'int'>\n",
      "<class 'complex'>\n"
     ]
    }
   ],
   "source": [
    "#conversion of one python number to other\n",
    "x = 1    # int\n",
    "y = 2.8  # float\n",
    "z = 1j   # complex\n",
    "\n",
    "#convert from int to float:\n",
    "a = float(x)\n",
    "\n",
    "#convert from float to int:\n",
    "b = int(y)\n",
    "\n",
    "#convert from int to complex:\n",
    "c = complex(x)\n",
    "\n",
    "print(a)\n",
    "print(b)\n",
    "print(c)\n",
    "\n",
    "print(type(a))\n",
    "print(type(b))\n",
    "print(type(c))"
   ]
  },
  {
   "cell_type": "markdown",
   "id": "859af744",
   "metadata": {},
   "source": [
    "Python Casting\n",
    "Specify a Variable Type\n",
    "There may be times when you want to specify a type on to a variable. \n",
    "This can be done with casting. Python is an object-orientated language, and as such it uses classes to define data types, including its primitive types.\n",
    "\n",
    "Casting in python is therefore done using constructor functions:\n",
    "\n",
    "int() - constructs an integer number from an integer literal, a float literal (by removing all decimals), or\n",
    "a string literal (providing the string represents a whole number)\n",
    "float() - constructs a float number from an integer literal, a float literal or a string literal (providing the string represents a float or an integer)\n",
    "str() - constructs a string from a wide variety of data types, including strings, integer literals and float literals"
   ]
  },
  {
   "cell_type": "code",
   "execution_count": null,
   "id": "ae955cfb",
   "metadata": {},
   "outputs": [],
   "source": [
    "x = int(1)   # x will be 1\n",
    "y = int(2.8) # y will be 2\n",
    "z = int(\"3\") # z will be 3"
   ]
  },
  {
   "cell_type": "code",
   "execution_count": 57,
   "id": "31f2a1f1",
   "metadata": {},
   "outputs": [
    {
     "name": "stdout",
     "output_type": "stream",
     "text": [
      "x value is 1.0 and y value 2.8 and z value 3.0 all are int type \n"
     ]
    }
   ],
   "source": [
    "print(f'x value is {x} and y value {y} and z value {z} all are int type ')"
   ]
  },
  {
   "cell_type": "code",
   "execution_count": 55,
   "id": "bab2a9fa",
   "metadata": {},
   "outputs": [],
   "source": [
    "x = float(1)     # x will be 1.0\n",
    "y = float(2.8)   # y will be 2.8\n",
    "z = float(\"3\")   # z will be 3.0\n",
    "w = float(\"4.2\") # w will be 4.2"
   ]
  },
  {
   "cell_type": "code",
   "execution_count": 58,
   "id": "7ae24ce6",
   "metadata": {},
   "outputs": [
    {
     "name": "stdout",
     "output_type": "stream",
     "text": [
      "x value is 1.0 and y value 2.8 and z value 3.0 and w value 4.2 all are float type\n"
     ]
    }
   ],
   "source": [
    "print(f'x value is {x} and y value {y} and z value {z} and w value {w} all are float type')"
   ]
  },
  {
   "cell_type": "code",
   "execution_count": 59,
   "id": "8571ca02",
   "metadata": {},
   "outputs": [],
   "source": [
    "x = str(\"s1\") # x will be 's1'\n",
    "y = str(2)    # y will be '2'\n",
    "z = str(3.0)  # z will be '3.0'"
   ]
  },
  {
   "cell_type": "code",
   "execution_count": 60,
   "id": "22c0189f",
   "metadata": {},
   "outputs": [
    {
     "name": "stdout",
     "output_type": "stream",
     "text": [
      "x value is s1 and y value 2 and z value 3.0 all are str or string type \n"
     ]
    }
   ],
   "source": [
    "print(f'x value is {x} and y value {y} and z value {z} all are str or string type ')"
   ]
  },
  {
   "cell_type": "markdown",
   "id": "e1e7a636",
   "metadata": {},
   "source": [
    "STRING PROPERTIES AND METHODSSS"
   ]
  },
  {
   "cell_type": "code",
   "execution_count": 61,
   "id": "77a099f0",
   "metadata": {},
   "outputs": [
    {
     "name": "stdout",
     "output_type": "stream",
     "text": [
      "\n",
      "hellllo\n"
     ]
    }
   ],
   "source": [
    "a= '' #empty string\n",
    "b= 'hellllo'\n",
    "print(a)\n",
    "print(b)"
   ]
  },
  {
   "cell_type": "code",
   "execution_count": 62,
   "id": "2abbe551",
   "metadata": {},
   "outputs": [
    {
     "name": "stdout",
     "output_type": "stream",
     "text": [
      "Lorem ipsum dolor sit amet,\n",
      "consectetur adipiscing elit,\n",
      "sed do eiusmod tempor incididunt\n",
      "ut labore et dolore magna aliqua.\n"
     ]
    }
   ],
   "source": [
    "# multiline string\n",
    "a = '''Lorem ipsum dolor sit amet,\n",
    "consectetur adipiscing elit,\n",
    "sed do eiusmod tempor incididunt\n",
    "ut labore et dolore magna aliqua.'''\n",
    "print(a)"
   ]
  },
  {
   "cell_type": "code",
   "execution_count": null,
   "id": "d37fa7d3",
   "metadata": {},
   "outputs": [],
   "source": [
    "Like many other popular programming languages, strings in Python are arrays of bytes representing unicode characters.\n",
    "\n",
    "However, Python does not have a character data type, a single character is simply a string with a length of 1.\n",
    "\n",
    "Square brackets can be used to access elements of the string."
   ]
  },
  {
   "cell_type": "code",
   "execution_count": 64,
   "id": "c6cb2cd3",
   "metadata": {},
   "outputs": [
    {
     "name": "stdout",
     "output_type": "stream",
     "text": [
      "H\n",
      "e\n",
      "l\n",
      "l\n",
      "o\n"
     ]
    }
   ],
   "source": [
    "a = \"Hello, World!\"\n",
    "# 0,1,2,3,4,5 this are position of character in a index value 0-H ,1-e,2-l,3-l,4-o\n",
    "print(a[0])\n",
    "print(a[1])\n",
    "print(a[2])\n",
    "print(a[3])\n",
    "print(a[4])\n",
    "\n"
   ]
  },
  {
   "cell_type": "code",
   "execution_count": null,
   "id": "7ac7d353",
   "metadata": {},
   "outputs": [],
   "source": [
    "Looping Through a String\n",
    "Since strings are arrays, we can loop through the characters in a string, with a for loop."
   ]
  },
  {
   "cell_type": "code",
   "execution_count": 72,
   "id": "5107b7ba",
   "metadata": {},
   "outputs": [
    {
     "name": "stdout",
     "output_type": "stream",
     "text": [
      "M\n",
      "e\n",
      "d\n",
      "h\n",
      "a\n",
      "v\n",
      "i\n",
      "0\n",
      "1\n",
      "2\n",
      "3\n",
      "4\n",
      "5\n",
      "6\n"
     ]
    }
   ],
   "source": [
    "for x in 'Medhavi':\n",
    "    print(x)\n",
    "for index in range(len(\"Medhavi\")):\n",
    "    print(index)"
   ]
  },
  {
   "cell_type": "code",
   "execution_count": null,
   "id": "cb06bee0",
   "metadata": {},
   "outputs": [],
   "source": [
    "String Length\n",
    "To get the length of a string, use the len() function."
   ]
  },
  {
   "cell_type": "code",
   "execution_count": 73,
   "id": "fc57954d",
   "metadata": {},
   "outputs": [
    {
     "name": "stdout",
     "output_type": "stream",
     "text": [
      "13\n"
     ]
    }
   ],
   "source": [
    "a = \"Hello, World!\"\n",
    "print(len(a))"
   ]
  },
  {
   "cell_type": "code",
   "execution_count": null,
   "id": "57809774",
   "metadata": {},
   "outputs": [],
   "source": [
    "Check String\n",
    "To check if a certain phrase or character is present in a string, we can use the keyword in"
   ]
  },
  {
   "cell_type": "code",
   "execution_count": 76,
   "id": "dcee744e",
   "metadata": {},
   "outputs": [
    {
     "name": "stdout",
     "output_type": "stream",
     "text": [
      "True\n",
      "False\n"
     ]
    }
   ],
   "source": [
    "txt = \"The best things in life are free!\"\n",
    "print(\"free\" in txt)\n",
    "print(\"hill\" in txt)"
   ]
  },
  {
   "cell_type": "code",
   "execution_count": 85,
   "id": "94bd8a7f",
   "metadata": {},
   "outputs": [
    {
     "name": "stdout",
     "output_type": "stream",
     "text": [
      "enter a word to check in txtfree\n",
      "Yes, 'free' is present inside txt\n"
     ]
    }
   ],
   "source": [
    "# We can also use conditional statement too in string\n",
    "txt = \"The best things in life are free!\"\n",
    "user=input(\"enter a word to check in txt\")\n",
    "if user in txt:\n",
    "    print(\"Yes, 'free' is present inside txt\")\n",
    "else:\n",
    "    print(f'no, {user} is not  present in txt')"
   ]
  },
  {
   "cell_type": "code",
   "execution_count": null,
   "id": "3fad043e",
   "metadata": {},
   "outputs": [],
   "source": [
    "Check if NOT\n",
    "To check if a certain phrase or character is NOT present in a string, we can use the keyword not in"
   ]
  },
  {
   "cell_type": "code",
   "execution_count": 80,
   "id": "751ea27d",
   "metadata": {
    "scrolled": true
   },
   "outputs": [
    {
     "name": "stdout",
     "output_type": "stream",
     "text": [
      "True\n",
      "True\n",
      "False\n"
     ]
    }
   ],
   "source": [
    "txt = \"The best things in life are free!\"\n",
    "print(\"expensive\" not in txt)\n",
    "print(\"hello\" not in txt)\n",
    "print(\"free\" not in txt)"
   ]
  },
  {
   "cell_type": "code",
   "execution_count": 1,
   "id": "c7cd9020",
   "metadata": {},
   "outputs": [
    {
     "name": "stdout",
     "output_type": "stream",
     "text": [
      "No, 'expensive' is NOT present.\n"
     ]
    }
   ],
   "source": [
    "txt = \"The best things in life are free!\"\n",
    "if \"expensive\" not in txt:\n",
    "    print(\"No, 'expensive' is NOT present.\")"
   ]
  },
  {
   "cell_type": "code",
   "execution_count": 2,
   "id": "76c5cfa9",
   "metadata": {},
   "outputs": [
    {
     "name": "stdout",
     "output_type": "stream",
     "text": [
      "3.10.9 | packaged by Anaconda, Inc. | (main, Mar  1 2023, 18:18:15) [MSC v.1916 64 bit (AMD64)]\n"
     ]
    }
   ],
   "source": [
    "import sys\n",
    "print(sys.version)"
   ]
  },
  {
   "cell_type": "code",
   "execution_count": null,
   "id": "55279298",
   "metadata": {},
   "outputs": [],
   "source": []
  },
  {
   "cell_type": "code",
   "execution_count": null,
   "id": "f0d756fb",
   "metadata": {},
   "outputs": [],
   "source": []
  },
  {
   "cell_type": "code",
   "execution_count": null,
   "id": "8fa57f23",
   "metadata": {},
   "outputs": [],
   "source": []
  },
  {
   "cell_type": "code",
   "execution_count": null,
   "id": "4e0629ee",
   "metadata": {},
   "outputs": [],
   "source": []
  },
  {
   "cell_type": "code",
   "execution_count": null,
   "id": "58849879",
   "metadata": {},
   "outputs": [],
   "source": []
  },
  {
   "cell_type": "code",
   "execution_count": null,
   "id": "fdc56ac4",
   "metadata": {},
   "outputs": [],
   "source": []
  },
  {
   "cell_type": "code",
   "execution_count": null,
   "id": "66cc0600",
   "metadata": {},
   "outputs": [],
   "source": []
  },
  {
   "cell_type": "code",
   "execution_count": null,
   "id": "ed19106b",
   "metadata": {},
   "outputs": [],
   "source": []
  },
  {
   "cell_type": "code",
   "execution_count": null,
   "id": "5e850dd9",
   "metadata": {},
   "outputs": [],
   "source": []
  },
  {
   "cell_type": "code",
   "execution_count": null,
   "id": "7b11cbb4",
   "metadata": {},
   "outputs": [],
   "source": []
  },
  {
   "cell_type": "code",
   "execution_count": null,
   "id": "402c5d65",
   "metadata": {},
   "outputs": [],
   "source": []
  },
  {
   "cell_type": "code",
   "execution_count": null,
   "id": "c4864712",
   "metadata": {},
   "outputs": [],
   "source": []
  },
  {
   "cell_type": "code",
   "execution_count": null,
   "id": "7a2f9386",
   "metadata": {},
   "outputs": [],
   "source": []
  },
  {
   "cell_type": "code",
   "execution_count": null,
   "id": "fac3a483",
   "metadata": {},
   "outputs": [],
   "source": []
  },
  {
   "cell_type": "code",
   "execution_count": null,
   "id": "b983955a",
   "metadata": {},
   "outputs": [],
   "source": []
  },
  {
   "cell_type": "code",
   "execution_count": null,
   "id": "35e71fbb",
   "metadata": {},
   "outputs": [],
   "source": []
  },
  {
   "cell_type": "code",
   "execution_count": null,
   "id": "ae398d1d",
   "metadata": {},
   "outputs": [],
   "source": []
  },
  {
   "cell_type": "code",
   "execution_count": null,
   "id": "4193244e",
   "metadata": {},
   "outputs": [],
   "source": []
  },
  {
   "cell_type": "code",
   "execution_count": null,
   "id": "163fe185",
   "metadata": {},
   "outputs": [],
   "source": []
  },
  {
   "cell_type": "code",
   "execution_count": null,
   "id": "63dd8ef9",
   "metadata": {},
   "outputs": [],
   "source": []
  },
  {
   "cell_type": "code",
   "execution_count": null,
   "id": "8fe636af",
   "metadata": {},
   "outputs": [],
   "source": []
  },
  {
   "cell_type": "code",
   "execution_count": null,
   "id": "4d2b0bce",
   "metadata": {},
   "outputs": [],
   "source": []
  },
  {
   "cell_type": "code",
   "execution_count": null,
   "id": "aa7766e1",
   "metadata": {},
   "outputs": [],
   "source": []
  },
  {
   "cell_type": "code",
   "execution_count": null,
   "id": "ac886a22",
   "metadata": {},
   "outputs": [],
   "source": []
  },
  {
   "cell_type": "code",
   "execution_count": null,
   "id": "ad786d42",
   "metadata": {},
   "outputs": [],
   "source": []
  },
  {
   "cell_type": "code",
   "execution_count": null,
   "id": "adc03935",
   "metadata": {},
   "outputs": [],
   "source": []
  },
  {
   "cell_type": "code",
   "execution_count": null,
   "id": "84fcb322",
   "metadata": {},
   "outputs": [],
   "source": []
  },
  {
   "cell_type": "code",
   "execution_count": null,
   "id": "eeee0de7",
   "metadata": {},
   "outputs": [],
   "source": []
  },
  {
   "cell_type": "code",
   "execution_count": null,
   "id": "fc0b2841",
   "metadata": {},
   "outputs": [],
   "source": []
  }
 ],
 "metadata": {
  "kernelspec": {
   "display_name": "Python 3 (ipykernel)",
   "language": "python",
   "name": "python3"
  },
  "language_info": {
   "codemirror_mode": {
    "name": "ipython",
    "version": 3
   },
   "file_extension": ".py",
   "mimetype": "text/x-python",
   "name": "python",
   "nbconvert_exporter": "python",
   "pygments_lexer": "ipython3",
   "version": "3.10.9"
  }
 },
 "nbformat": 4,
 "nbformat_minor": 5
}
