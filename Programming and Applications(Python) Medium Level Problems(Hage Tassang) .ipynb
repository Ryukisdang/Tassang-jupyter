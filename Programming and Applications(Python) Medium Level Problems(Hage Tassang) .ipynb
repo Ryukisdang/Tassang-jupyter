{
 "cells": [
  {
   "cell_type": "code",
   "execution_count": null,
   "id": "c7d08f70",
   "metadata": {},
   "outputs": [],
   "source": [
    "1. Python Program to convert decimal to binary, octal and hexadecimal.-Done #easy\n",
    "2.Python Program to multiply and add two Matrices.-Done # easy-medium\n",
    "\n",
    "3. Python Program to Sort Words in Alphabetic Order.-Done #easy \n",
    "4.Python Program to implement at least five geometric Figures using turtle.-Done easy-medium\n",
    "\n",
    "5. Python Program to check whether a string is palindrome or not. - Done #easy\n",
    "6.Python Program to create Pyramid Pattern.- Done #medium\n",
    "\n",
    "7. Python Program to get file creation and modification Date.\n",
    "8.Python Program to convert lists to dictionary.-Done easy\n",
    "\n",
    "9. Python Program to create a Lap Timer.- Done medium hard\n",
    "10.Python Program to create unique values from dictionary values.-Done medium"
   ]
  },
  {
   "cell_type": "code",
   "execution_count": null,
   "id": "883baf24",
   "metadata": {},
   "outputs": [],
   "source": []
  },
  {
   "cell_type": "code",
   "execution_count": 1,
   "id": "a0db23fd",
   "metadata": {},
   "outputs": [],
   "source": [
    "#4. Python Program to implement at least five geometric Figures using turtle.\n",
    "# Reference - https://docs.python.org/3/library/turtle.html\n",
    "import turtle\n",
    "import time\n",
    "def circle():\n",
    "    window = turtle.Screen()\n",
    "    window.bgcolor(\"white\")\n",
    "    turtle_4 = turtle.Turtle()\n",
    "    turtle_4.shape(\"turtle\")\n",
    "    turtle_4.color(\"red\")\n",
    "    turtle_4.penup()\n",
    "    turtle_4.goto(-100, 50)\n",
    "    turtle_4.pendown()\n",
    "    turtle_4.circle(50)\n",
    "    turtle_4.hideturtle()\n",
    "    window.exitonclick()\n",
    "    return commandDraw()\n",
    "def sqaure():\n",
    "    window = turtle.Screen()\n",
    "    window.bgcolor(\"white\")\n",
    "    turtle_1 = turtle.Turtle()\n",
    "    turtle_1.shape(\"turtle\")\n",
    "    turtle_1.color(\"red\")\n",
    "    turtle_1.forward(100)\n",
    "    turtle_1.right(90)\n",
    "    turtle_1.forward(100)\n",
    "    turtle_1.right(90)\n",
    "    turtle_1.forward(100)\n",
    "    turtle_1.right(90)\n",
    "    turtle_1.forward(100)\n",
    "    turtle_1.hideturtle()\n",
    "    window.exitonclick()\n",
    "    return commandDraw()\n",
    "def rectangle():\n",
    "    window = turtle.Screen()\n",
    "    window.bgcolor(\"white\")\n",
    "    turtle_2 = turtle.Turtle()\n",
    "    turtle_2.shape(\"turtle\")\n",
    "    turtle_2.color(\"red\")\n",
    "    turtle_2.forward(200)\n",
    "    turtle_2.right(90)\n",
    "    turtle_2.forward(100)\n",
    "    turtle_2.right(90)\n",
    "    turtle_2.forward(200)\n",
    "    turtle_2.right(90)\n",
    "    turtle_2.forward(100)\n",
    "    turtle_2.hideturtle()\n",
    "    window.exitonclick()\n",
    "    return commandDraw()\n",
    "    \n",
    "def pentagon():\n",
    "    window = turtle.Screen()\n",
    "    window.bgcolor(\"white\")\n",
    "    turtle_3 = turtle.Turtle()\n",
    "    turtle_3.shape(\"turtle\")\n",
    "    turtle_3.color(\"red\")\n",
    "    for i in range(5):\n",
    "        turtle_3.foward(100)\n",
    "        turtle_3.left(72)\n",
    "    turtle_3.hideturtle()\n",
    "    window.exitonclick()\n",
    "    return commandDraw()\n",
    "def triangle():\n",
    "    window = turtle.Screen()\n",
    "    window.bgcolor(\"white\")\n",
    "    turtle_5= turtle.Turtle()\n",
    "    turtle_5.penup()\n",
    "    turtle_5.goto(-250, 200)\n",
    "    turtle_5.pendown()\n",
    "    turtle_5.shape(\"arrow\")\n",
    "    turtle_5.color(\"cyan\")\n",
    "    for i in range(3):\n",
    "        turtle_5.foward(100)\n",
    "        turtle_5.left(120)\n",
    "    turtle_5.hideturtle()\n",
    "    window.exitonclick()\n",
    "    return commandDraw()\n",
    "def commandDraw():\n",
    "    while True:\n",
    "        try:\n",
    "            user_input=int(input(\"1.draw circle\\n2.draw sqaure\\n3.draw rectangle\\n4.draw pentagon\\n5.draw triangle\\n6.exit\\n7.continue=>>  \"))\n",
    "            \n",
    "                \n",
    "        except:\n",
    "                print(\"Sorry enter a int value not char type as it cant be executed due to rule and regulation of this program\")\n",
    "        finally:\n",
    "            if user_input==6:\n",
    "                print(\"Code is executed properly\")\n",
    "                break\n",
    "            if user_input==7:\n",
    "                _input=input(\"Wanna Draw more shape Y or N: \")\n",
    "                if _input.lower()==\"y\":\n",
    "                    continue\n",
    "                else:\n",
    "                    break\n",
    "            if user_input==1:\n",
    "                print('drawing circle')\n",
    "                return circle()\n",
    "                \n",
    "            if user_input==2:\n",
    "                print('drawing sqaure')\n",
    "                return sqaure()\n",
    "                    \n",
    "            if user_input==3:\n",
    "                print('drawing rectangle')\n",
    "                return rectangle()\n",
    "               \n",
    "                    \n",
    "            if user_input==4:\n",
    "                print('drawing pentagon')\n",
    "                return pentagon()\n",
    "              \n",
    "                    \n",
    "            if user_input==5:\n",
    "                print('drawing triangle')\n",
    "                return triangle()\n",
    "                \n",
    "            \n",
    "\n",
    "    \n",
    "        "
   ]
  },
  {
   "cell_type": "code",
   "execution_count": 2,
   "id": "ec7f1e98",
   "metadata": {},
   "outputs": [
    {
     "name": "stdout",
     "output_type": "stream",
     "text": [
      "1.draw circle\n",
      "2.draw sqaure\n",
      "3.draw rectangle\n",
      "4.draw pentagon\n",
      "5.draw triangle\n",
      "6.exit\n",
      "7.continue=>>  1\n",
      "drawing circle\n",
      "1.draw circle\n",
      "2.draw sqaure\n",
      "3.draw rectangle\n",
      "4.draw pentagon\n",
      "5.draw triangle\n",
      "6.exit\n",
      "7.continue=>>  2\n",
      "drawing sqaure\n"
     ]
    },
    {
     "ename": "Terminator",
     "evalue": "",
     "output_type": "error",
     "traceback": [
      "\u001b[1;31m---------------------------------------------------------------------------\u001b[0m",
      "\u001b[1;31mTerminator\u001b[0m                                Traceback (most recent call last)",
      "Cell \u001b[1;32mIn[2], line 2\u001b[0m\n\u001b[0;32m      1\u001b[0m \u001b[38;5;28;01mif\u001b[39;00m \u001b[38;5;18m__name__\u001b[39m\u001b[38;5;241m==\u001b[39m\u001b[38;5;124m\"\u001b[39m\u001b[38;5;124m__main__\u001b[39m\u001b[38;5;124m\"\u001b[39m:\n\u001b[1;32m----> 2\u001b[0m     start\u001b[38;5;241m=\u001b[39m\u001b[43mcommandDraw\u001b[49m\u001b[43m(\u001b[49m\u001b[43m)\u001b[49m\n",
      "Cell \u001b[1;32mIn[1], line 98\u001b[0m, in \u001b[0;36mcommandDraw\u001b[1;34m()\u001b[0m\n\u001b[0;32m     96\u001b[0m \u001b[38;5;28;01mif\u001b[39;00m user_input\u001b[38;5;241m==\u001b[39m\u001b[38;5;241m1\u001b[39m:\n\u001b[0;32m     97\u001b[0m     \u001b[38;5;28mprint\u001b[39m(\u001b[38;5;124m'\u001b[39m\u001b[38;5;124mdrawing circle\u001b[39m\u001b[38;5;124m'\u001b[39m)\n\u001b[1;32m---> 98\u001b[0m     \u001b[38;5;28;01mreturn\u001b[39;00m \u001b[43mcircle\u001b[49m\u001b[43m(\u001b[49m\u001b[43m)\u001b[49m\n\u001b[0;32m    100\u001b[0m \u001b[38;5;28;01mif\u001b[39;00m user_input\u001b[38;5;241m==\u001b[39m\u001b[38;5;241m2\u001b[39m:\n\u001b[0;32m    101\u001b[0m     \u001b[38;5;28mprint\u001b[39m(\u001b[38;5;124m'\u001b[39m\u001b[38;5;124mdrawing sqaure\u001b[39m\u001b[38;5;124m'\u001b[39m)\n",
      "Cell \u001b[1;32mIn[1], line 17\u001b[0m, in \u001b[0;36mcircle\u001b[1;34m()\u001b[0m\n\u001b[0;32m     15\u001b[0m turtle_4\u001b[38;5;241m.\u001b[39mhideturtle()\n\u001b[0;32m     16\u001b[0m window\u001b[38;5;241m.\u001b[39mexitonclick()\n\u001b[1;32m---> 17\u001b[0m \u001b[38;5;28;01mreturn\u001b[39;00m \u001b[43mcommandDraw\u001b[49m\u001b[43m(\u001b[49m\u001b[43m)\u001b[49m\n",
      "Cell \u001b[1;32mIn[1], line 102\u001b[0m, in \u001b[0;36mcommandDraw\u001b[1;34m()\u001b[0m\n\u001b[0;32m    100\u001b[0m \u001b[38;5;28;01mif\u001b[39;00m user_input\u001b[38;5;241m==\u001b[39m\u001b[38;5;241m2\u001b[39m:\n\u001b[0;32m    101\u001b[0m     \u001b[38;5;28mprint\u001b[39m(\u001b[38;5;124m'\u001b[39m\u001b[38;5;124mdrawing sqaure\u001b[39m\u001b[38;5;124m'\u001b[39m)\n\u001b[1;32m--> 102\u001b[0m     \u001b[38;5;28;01mreturn\u001b[39;00m \u001b[43msqaure\u001b[49m\u001b[43m(\u001b[49m\u001b[43m)\u001b[49m\n\u001b[0;32m    104\u001b[0m \u001b[38;5;28;01mif\u001b[39;00m user_input\u001b[38;5;241m==\u001b[39m\u001b[38;5;241m3\u001b[39m:\n\u001b[0;32m    105\u001b[0m     \u001b[38;5;28mprint\u001b[39m(\u001b[38;5;124m'\u001b[39m\u001b[38;5;124mdrawing rectangle\u001b[39m\u001b[38;5;124m'\u001b[39m)\n",
      "Cell \u001b[1;32mIn[1], line 21\u001b[0m, in \u001b[0;36msqaure\u001b[1;34m()\u001b[0m\n\u001b[0;32m     19\u001b[0m window \u001b[38;5;241m=\u001b[39m turtle\u001b[38;5;241m.\u001b[39mScreen()\n\u001b[0;32m     20\u001b[0m window\u001b[38;5;241m.\u001b[39mbgcolor(\u001b[38;5;124m\"\u001b[39m\u001b[38;5;124mwhite\u001b[39m\u001b[38;5;124m\"\u001b[39m)\n\u001b[1;32m---> 21\u001b[0m turtle_1 \u001b[38;5;241m=\u001b[39m \u001b[43mturtle\u001b[49m\u001b[38;5;241;43m.\u001b[39;49m\u001b[43mTurtle\u001b[49m\u001b[43m(\u001b[49m\u001b[43m)\u001b[49m\n\u001b[0;32m     22\u001b[0m turtle_1\u001b[38;5;241m.\u001b[39mshape(\u001b[38;5;124m\"\u001b[39m\u001b[38;5;124mturtle\u001b[39m\u001b[38;5;124m\"\u001b[39m)\n\u001b[0;32m     23\u001b[0m turtle_1\u001b[38;5;241m.\u001b[39mcolor(\u001b[38;5;124m\"\u001b[39m\u001b[38;5;124mred\u001b[39m\u001b[38;5;124m\"\u001b[39m)\n",
      "File \u001b[1;32m~\\anaconda3\\lib\\turtle.py:3815\u001b[0m, in \u001b[0;36mTurtle.__init__\u001b[1;34m(self, shape, undobuffersize, visible)\u001b[0m\n\u001b[0;32m   3813\u001b[0m \u001b[38;5;28;01mif\u001b[39;00m Turtle\u001b[38;5;241m.\u001b[39m_screen \u001b[38;5;129;01mis\u001b[39;00m \u001b[38;5;28;01mNone\u001b[39;00m:\n\u001b[0;32m   3814\u001b[0m     Turtle\u001b[38;5;241m.\u001b[39m_screen \u001b[38;5;241m=\u001b[39m Screen()\n\u001b[1;32m-> 3815\u001b[0m \u001b[43mRawTurtle\u001b[49m\u001b[38;5;241;43m.\u001b[39;49m\u001b[38;5;21;43m__init__\u001b[39;49m\u001b[43m(\u001b[49m\u001b[38;5;28;43mself\u001b[39;49m\u001b[43m,\u001b[49m\u001b[43m \u001b[49m\u001b[43mTurtle\u001b[49m\u001b[38;5;241;43m.\u001b[39;49m\u001b[43m_screen\u001b[49m\u001b[43m,\u001b[49m\n\u001b[0;32m   3816\u001b[0m \u001b[43m                   \u001b[49m\u001b[43mshape\u001b[49m\u001b[38;5;241;43m=\u001b[39;49m\u001b[43mshape\u001b[49m\u001b[43m,\u001b[49m\n\u001b[0;32m   3817\u001b[0m \u001b[43m                   \u001b[49m\u001b[43mundobuffersize\u001b[49m\u001b[38;5;241;43m=\u001b[39;49m\u001b[43mundobuffersize\u001b[49m\u001b[43m,\u001b[49m\n\u001b[0;32m   3818\u001b[0m \u001b[43m                   \u001b[49m\u001b[43mvisible\u001b[49m\u001b[38;5;241;43m=\u001b[39;49m\u001b[43mvisible\u001b[49m\u001b[43m)\u001b[49m\n",
      "File \u001b[1;32m~\\anaconda3\\lib\\turtle.py:2557\u001b[0m, in \u001b[0;36mRawTurtle.__init__\u001b[1;34m(self, canvas, shape, undobuffersize, visible)\u001b[0m\n\u001b[0;32m   2555\u001b[0m \u001b[38;5;28mself\u001b[39m\u001b[38;5;241m.\u001b[39m_undobuffersize \u001b[38;5;241m=\u001b[39m undobuffersize\n\u001b[0;32m   2556\u001b[0m \u001b[38;5;28mself\u001b[39m\u001b[38;5;241m.\u001b[39mundobuffer \u001b[38;5;241m=\u001b[39m Tbuffer(undobuffersize)\n\u001b[1;32m-> 2557\u001b[0m \u001b[38;5;28;43mself\u001b[39;49m\u001b[38;5;241;43m.\u001b[39;49m\u001b[43m_update\u001b[49m\u001b[43m(\u001b[49m\u001b[43m)\u001b[49m\n",
      "File \u001b[1;32m~\\anaconda3\\lib\\turtle.py:2660\u001b[0m, in \u001b[0;36mRawTurtle._update\u001b[1;34m(self)\u001b[0m\n\u001b[0;32m   2658\u001b[0m     \u001b[38;5;28;01mreturn\u001b[39;00m\n\u001b[0;32m   2659\u001b[0m \u001b[38;5;28;01melif\u001b[39;00m screen\u001b[38;5;241m.\u001b[39m_tracing \u001b[38;5;241m==\u001b[39m \u001b[38;5;241m1\u001b[39m:\n\u001b[1;32m-> 2660\u001b[0m     \u001b[38;5;28;43mself\u001b[39;49m\u001b[38;5;241;43m.\u001b[39;49m\u001b[43m_update_data\u001b[49m\u001b[43m(\u001b[49m\u001b[43m)\u001b[49m\n\u001b[0;32m   2661\u001b[0m     \u001b[38;5;28mself\u001b[39m\u001b[38;5;241m.\u001b[39m_drawturtle()\n\u001b[0;32m   2662\u001b[0m     screen\u001b[38;5;241m.\u001b[39m_update()                  \u001b[38;5;66;03m# TurtleScreenBase\u001b[39;00m\n",
      "File \u001b[1;32m~\\anaconda3\\lib\\turtle.py:2646\u001b[0m, in \u001b[0;36mRawTurtle._update_data\u001b[1;34m(self)\u001b[0m\n\u001b[0;32m   2645\u001b[0m \u001b[38;5;28;01mdef\u001b[39;00m \u001b[38;5;21m_update_data\u001b[39m(\u001b[38;5;28mself\u001b[39m):\n\u001b[1;32m-> 2646\u001b[0m     \u001b[38;5;28;43mself\u001b[39;49m\u001b[38;5;241;43m.\u001b[39;49m\u001b[43mscreen\u001b[49m\u001b[38;5;241;43m.\u001b[39;49m\u001b[43m_incrementudc\u001b[49m\u001b[43m(\u001b[49m\u001b[43m)\u001b[49m\n\u001b[0;32m   2647\u001b[0m     \u001b[38;5;28;01mif\u001b[39;00m \u001b[38;5;28mself\u001b[39m\u001b[38;5;241m.\u001b[39mscreen\u001b[38;5;241m.\u001b[39m_updatecounter \u001b[38;5;241m!=\u001b[39m \u001b[38;5;241m0\u001b[39m:\n\u001b[0;32m   2648\u001b[0m         \u001b[38;5;28;01mreturn\u001b[39;00m\n",
      "File \u001b[1;32m~\\anaconda3\\lib\\turtle.py:1292\u001b[0m, in \u001b[0;36mTurtleScreen._incrementudc\u001b[1;34m(self)\u001b[0m\n\u001b[0;32m   1290\u001b[0m \u001b[38;5;28;01mif\u001b[39;00m \u001b[38;5;129;01mnot\u001b[39;00m TurtleScreen\u001b[38;5;241m.\u001b[39m_RUNNING:\n\u001b[0;32m   1291\u001b[0m     TurtleScreen\u001b[38;5;241m.\u001b[39m_RUNNING \u001b[38;5;241m=\u001b[39m \u001b[38;5;28;01mTrue\u001b[39;00m\n\u001b[1;32m-> 1292\u001b[0m     \u001b[38;5;28;01mraise\u001b[39;00m Terminator\n\u001b[0;32m   1293\u001b[0m \u001b[38;5;28;01mif\u001b[39;00m \u001b[38;5;28mself\u001b[39m\u001b[38;5;241m.\u001b[39m_tracing \u001b[38;5;241m>\u001b[39m \u001b[38;5;241m0\u001b[39m:\n\u001b[0;32m   1294\u001b[0m     \u001b[38;5;28mself\u001b[39m\u001b[38;5;241m.\u001b[39m_updatecounter \u001b[38;5;241m+\u001b[39m\u001b[38;5;241m=\u001b[39m \u001b[38;5;241m1\u001b[39m\n",
      "\u001b[1;31mTerminator\u001b[0m: "
     ]
    }
   ],
   "source": [
    "if __name__==\"__main__\":\n",
    "    start=commandDraw()"
   ]
  },
  {
   "cell_type": "code",
   "execution_count": 3,
   "id": "bdd6b9ee",
   "metadata": {},
   "outputs": [
    {
     "name": "stdout",
     "output_type": "stream",
     "text": [
      "enter no of rows: 4\n",
      "   * \n",
      "  * * \n",
      " * * * \n",
      "* * * * \n"
     ]
    }
   ],
   "source": [
    "#6.Python Program to create Pyramid Pattern.- Done #medium\n",
    "def pyramid(n):\n",
    "    k = n - 1\n",
    " \n",
    "    # outer loop to handle number of rows\n",
    "    for i in range(0, n):\n",
    "     \n",
    "        # inner loop to handle number spaces\n",
    "        for j in range(0, k):\n",
    "            print(end=\" \")\n",
    "     \n",
    "        # decrementing k after each loop\n",
    "        k = k - 1\n",
    "     \n",
    "        # inner loop to handle number of columns\n",
    "        for o in range(0, i+1):\n",
    "         \n",
    "            # printing stars\n",
    "            print(\"* \", end=\"\")\n",
    "     \n",
    "        # ending line after each row\n",
    "        print(\"\\r\")\n",
    "n=int(input(\"enter no of rows: \"))\n",
    "pyramid(n)\n"
   ]
  },
  {
   "cell_type": "code",
   "execution_count": 4,
   "id": "4d103c03",
   "metadata": {},
   "outputs": [
    {
     "name": "stdout",
     "output_type": "stream",
     "text": [
      "Creation time>>  Wed Jun 21 12:20:33 2023\n",
      "modification time>>  Wed Jun 21 12:20:33 2023\n"
     ]
    }
   ],
   "source": [
    "#7. Python Program to get file creation and modification Date.\n",
    "# Reference https://docs.python.org/3/library/pathlib.html\n",
    "# https://docs.python.org/3/library/os.path.html\n",
    "import os,time\n",
    "t_c=os.path.getctime('X:\\Tassang-jupyter\\Today.txt')\n",
    "t_m=os.path.getmtime('X:\\Tassang-jupyter\\Today.txt')\n",
    "print(\"Creation time>> \",time.ctime(t_c))\n",
    "print(\"modification time>> \",time.ctime(t_m))"
   ]
  },
  {
   "cell_type": "code",
   "execution_count": 5,
   "id": "aeef0623",
   "metadata": {},
   "outputs": [
    {
     "name": "stdout",
     "output_type": "stream",
     "text": [
      "Last modification time:  Wed Jun 21 12:20:33 2023\n",
      "Last metadata change time or path creation time:  Wed Jun 21 12:20:33 2023\n"
     ]
    }
   ],
   "source": [
    "#method two efficient method with path lib module\n",
    "import os.path, time #pip install path\n",
    "import pathlib\n",
    "\n",
    "file = pathlib.Path('X:\\Tassang-jupyter\\Today.txt')\n",
    "print(\"Last modification time: \",time.ctime(os.path.getmtime(file)))\n",
    "print(\"Last metadata change time or path creation time: \",time.ctime(os.path.getctime(file)))"
   ]
  },
  {
   "cell_type": "code",
   "execution_count": null,
   "id": "18ce2f4e",
   "metadata": {},
   "outputs": [],
   "source": []
  },
  {
   "cell_type": "code",
   "execution_count": 6,
   "id": "b1864675",
   "metadata": {},
   "outputs": [
    {
     "name": "stdout",
     "output_type": "stream",
     "text": [
      "[12, 12, 12]\n",
      "[12, 12, 12]\n",
      "[12, 12, 12]\n"
     ]
    }
   ],
   "source": [
    "#2.Python Program to multiply and add two Matrices.-Done # easy-medium\n",
    "# Matrice add\n",
    "a=[[1,2,3],\n",
    "     [1,2,3],\n",
    "     [1,2,3]]\n",
    "b=[[3,2,1],\n",
    "   [3,2,1],\n",
    "   [3,2,1]]\n",
    "result_add=[[0,0,0],\n",
    "                   [0,0,0],\n",
    "                   [0,0,0]]\n",
    "\n",
    "\n",
    "for i in range(len(a)): #iterate through row to create row\n",
    "    #print(i) remove comment to check the process how it works\n",
    "    for j in range(len(b[0])): # to iterate over  column to check element column\n",
    "        #print(i,end=\" \")\n",
    "        #print(j,end=\" \")\n",
    "        for k in range(len(b)): #iterate through colomn to create column\n",
    "            #print(k,end=\" \")\n",
    "            result_add[i][j] += a[i][j] + b[i][j]\n",
    "for r in result_add:\n",
    "    print(r)"
   ]
  },
  {
   "cell_type": "code",
   "execution_count": 7,
   "id": "30cd01dc",
   "metadata": {},
   "outputs": [
    {
     "name": "stdout",
     "output_type": "stream",
     "text": [
      "[9, 12, 9]\n",
      "[9, 12, 9]\n",
      "[9, 12, 9]\n"
     ]
    }
   ],
   "source": [
    "#matrice multiply\n",
    "a=[[1,2,3],\n",
    "     [1,2,3],\n",
    "     [1,2,3]]\n",
    "b=[[3,2,1],\n",
    "   [3,2,1],\n",
    "   [3,2,1]]\n",
    "result_mult=[[0,0,0],\n",
    "                    [0,0,0],\n",
    "                    [0,0,0]]\n",
    "for i in range(len(a)): #iterate through row to create row\n",
    "    #print(i) remove comment to check the process how it works\n",
    "    for j in range(len(b[0])): # to iterate over  column to check element column\n",
    "        #print(i,end=\" \")\n",
    "        #print(j,end=\" \")\n",
    "        for k in range(len(b)): #iterate through colomn to create column\n",
    "            #print(k,end=\" \")\n",
    "            result_mult[i][j] += a[i][j] * b[i][j]\n",
    "            #print(a[i][j])\n",
    "            #print(b[i][j])\n",
    "            #print(result_mult)\n",
    "for r in result_mult:\n",
    "    print(r)"
   ]
  },
  {
   "cell_type": "code",
   "execution_count": null,
   "id": "4bfeff4e",
   "metadata": {},
   "outputs": [],
   "source": []
  },
  {
   "cell_type": "code",
   "execution_count": 8,
   "id": "faa70680",
   "metadata": {},
   "outputs": [
    {
     "name": "stdout",
     "output_type": "stream",
     "text": [
      "pls enter digit as value\n",
      "enter a decimal number for binary conversion: 1\n",
      "enter a decimal number for binary conversion: 1\n",
      "enter a decimal number for binary conversion: 1\n",
      "a.To check binary\n",
      "b.To check octal\n",
      "c.To check hexadecimal\n",
      "Enter which you wanna see\\Enter no later on to exit code\n",
      ">>  no\n",
      "Enter which you wanna see\\Enter no later on to exit code\n",
      ">>  n\n",
      "Enter which you wanna see\\Enter no later on to exit code\n",
      ">>  a\n",
      "Binary conversion of 1 is 0b1\n",
      "Enter which you wanna see\\Enter no later on to exit code\n",
      ">>  no\n",
      "program ending\n",
      "program ended!!, Thank you!!!\n"
     ]
    }
   ],
   "source": [
    "#1. Python Program to convert decimal to binary, octal and hexadecimal.-easy\n",
    "import time\n",
    "print(\"pls enter digit as value\")\n",
    "\n",
    "def unit_conversion(a,b,c):\n",
    "    while True:\n",
    "        _input=input(\"Enter which you wanna see\\Enter no later on to exit code\\n>>  \")\n",
    "        \n",
    "        if _input.lower()=='a':\n",
    "            n1=bin(a)\n",
    "            print(f'Binary conversion of {a} is {n1}')\n",
    "            _input=input(\"Enter which you wanna see\\Enter no later on to exit code\\n>>  \")\n",
    "            if _input.lower()=='no':\n",
    "                print(\"program ending\")\n",
    "                time.sleep(0.6)\n",
    "                print(\"program ended!!, Thank you!!!\")\n",
    "                break\n",
    "            \n",
    "        if _input.lower()=='b':\n",
    "            n2=oct(a)\n",
    "            print(f'Binary conversion of {b} is {n2}')\n",
    "            _input=input(\"Enter which you wanna see\\Enter no later on to exit code\\n>>  \")\n",
    "            if _input.lower()=='no':\n",
    "                print(\"program ending\")\n",
    "                time.sleep(0.6)\n",
    "                print(\"program ended!!, Thank you!!!\")\n",
    "                break\n",
    "            \n",
    "            \n",
    "        if _input.lower()=='c':\n",
    "            n3=hex(a)\n",
    "            print(f'Binary conversion of {c} is {n3}')\n",
    "            _input=input(\"Enter which you wanna see\\Enter no later on to exit code\\n>>  \")\n",
    "            if _input.lower()=='no':\n",
    "                print(\"program ending\")\n",
    "                time.sleep(0.6)\n",
    "                print(\"program ended!!, Thank you!!!\")\n",
    "                break\n",
    "    \n",
    "    \n",
    "if __name__ ==\"__main__\":\n",
    "    binary=int(input(\"enter a decimal number for binary conversion: \"))\n",
    "    octal=int(input(\"enter a decimal number for binary conversion: \"))\n",
    "    hexadecimal=int(input(\"enter a decimal number for binary conversion: \"))\n",
    "    print(\"a.To check binary\\nb.To check octal\\nc.To check hexadecimal\")\n",
    "    unit_conversion(binary,octal,hexadecimal)\n"
   ]
  },
  {
   "cell_type": "code",
   "execution_count": 9,
   "id": "a8770ca4",
   "metadata": {},
   "outputs": [
    {
     "name": "stdout",
     "output_type": "stream",
     "text": [
      "Enter any phrase: fgfdg sdfsd dfd\n",
      "dfd fgfdg sdfsd "
     ]
    }
   ],
   "source": [
    "#3. Python Program to Sort Words in Alphabetic Order.\n",
    "def sort_words():\n",
    "    #l=\"i am name is hage tassang currently learning python programming\"\n",
    "    l=str(input(\"Enter any phrase: \"))\n",
    "    newlist=[]\n",
    "    for i in l.split(\" \"):\n",
    "        newlist.append(i)\n",
    "    newlist.sort()\n",
    "    for j in newlist:\n",
    "        print(j,end=\" \")\n",
    "sort_words()"
   ]
  },
  {
   "cell_type": "code",
   "execution_count": 10,
   "id": "2a2b57c2",
   "metadata": {},
   "outputs": [
    {
     "name": "stdout",
     "output_type": "stream",
     "text": [
      "Enter a word to check if it is palindrome or not>>: mam\n",
      "You will be checking for this word>>  mam\n",
      "mam That Word,yes it is an palindrome\n",
      "Wanna check more of palindrome Y or N>>: n\n"
     ]
    }
   ],
   "source": [
    "#5. Python Program to check whether a string is palindrome or not. - easy\n",
    "import time\n",
    "\n",
    "def palindrome_check(string):\n",
    "    print('You will be checking for this word>> ',string)\n",
    "    time.sleep(0.8)\n",
    "    while True:\n",
    "        Y='y'\n",
    "        N='n'\n",
    "        modified=''\n",
    "        reverse=string[::-1]\n",
    "        if string==reverse:\n",
    "            modified+=reverse\n",
    "            print(modified,'That Word,yes it is an palindrome')\n",
    "            _input=input(\"Wanna check more of palindrome Y or N>>: \")\n",
    "            if _input.lower()==Y:\n",
    "                continue\n",
    "            if _input.lower()==N:\n",
    "                break\n",
    "        if string!=reverse:\n",
    "            modified+=reverse\n",
    "            print(modified,'That Word,no it is not palindrome')\n",
    "            _input=input(\"Wanna check more of palindrome Y or N>>: \")\n",
    "            if _input.lower()==Y:\n",
    "                continue\n",
    "            if _input.lower()==N:\n",
    "                break\n",
    "if __name__==\"__main__\":\n",
    "    x=str(input(\"Enter a word to check if it is palindrome or not>>: \")).lower()\n",
    "    palindrome_check(x)\n",
    "\n",
    "        \n",
    "        "
   ]
  },
  {
   "cell_type": "code",
   "execution_count": 12,
   "id": "c8b3d4b4",
   "metadata": {},
   "outputs": [
    {
     "name": "stdout",
     "output_type": "stream",
     "text": [
      "give 5 digit with spacing\n",
      "Enter set of digit1\n",
      "Enter set of digit2\n",
      "Enter set of digit3\n",
      "Enter set of digit1\n",
      "Enter set of digit1\n",
      "{'a': 1, 'b': 2, 'c': 3, 'd': 1, 'e': 1}\n",
      "unique values are >>  {1, 2, 3}\n"
     ]
    }
   ],
   "source": [
    "#10.Python Program to create unique values from dictionary values.-medium\n",
    "import time\n",
    "x,y,z,v,n=int(input(\"Enter set of digit\")),int(input(\"Enter set of digit\")),int(input(\"Enter set of digit\")),int(input(\"Enter set of digit\")),int(input(\"Enter set of digit\"))\n",
    "_dict={'a': x, 'b': y, 'c': z, 'd': v, 'e': n}\n",
    "print(_dict)\n",
    "time.sleep(0.9)\n",
    "unique_values=set(_dict.values())\n",
    "print('unique values are >> ',unique_values)\n",
    "\n",
    "\n"
   ]
  },
  {
   "cell_type": "code",
   "execution_count": 13,
   "id": "018f2b92",
   "metadata": {},
   "outputs": [
    {
     "name": "stdout",
     "output_type": "stream",
     "text": [
      "Created dict from two given list:  {'1': 'one', '2': 'two', '3': 'three'}\n"
     ]
    }
   ],
   "source": [
    "#8.Python Program to convert lists to dictionary.-easy use of zipfunct  and like list comprehension dictionary comprehension technique\n",
    "keys=['1','2','3']\n",
    "values=['one','two','three']\n",
    "created_dict={k:v for k,v in zip(keys,values)}\n",
    "print('Created dict from two given list: ',created_dict)\n"
   ]
  },
  {
   "cell_type": "code",
   "execution_count": 14,
   "id": "be5cc4f4",
   "metadata": {},
   "outputs": [
    {
     "name": "stdout",
     "output_type": "stream",
     "text": [
      "[('1', 'one'), ('2', 'two'), ('3', 'three')]\n"
     ]
    }
   ],
   "source": [
    "#test area\n",
    "keys=['1','2','3']\n",
    "values=['one','two','three']\n",
    "print(list(zip(keys,values)))"
   ]
  },
  {
   "cell_type": "code",
   "execution_count": 15,
   "id": "443dace8",
   "metadata": {},
   "outputs": [],
   "source": [
    "#9. Python Program to create a Lap Timer.-medium hard"
   ]
  },
  {
   "cell_type": "code",
   "execution_count": 16,
   "id": "92b746a9",
   "metadata": {},
   "outputs": [
    {
     "name": "stdout",
     "output_type": "stream",
     "text": [
      "stop\n"
     ]
    }
   ],
   "source": [
    "import time\n",
    "\n",
    "def countdown(time_sec):\n",
    "    while time_sec:\n",
    "        mins, secs = divmod(time_sec, 60)\n",
    "        timeformat = '{:01d},{:01d}'.format(mins, secs)\n",
    "        print(timeformat, end='\\r')\n",
    "        time.sleep(1)\n",
    "        time_sec -= 1\n",
    "\n",
    "    print(\"stop\")\n",
    "\n",
    "countdown(5)"
   ]
  },
  {
   "cell_type": "code",
   "execution_count": 50,
   "id": "8980c54b",
   "metadata": {},
   "outputs": [
    {
     "name": "stdout",
     "output_type": "stream",
     "text": [
      "Press ENTER to start the timer, Press Ctrl + C to stop the timer\n",
      "\n",
      "Timer started...\n",
      "\n",
      "Timer started...\n",
      "\n",
      "Timer started...\n",
      "\n",
      "Timer started...\n",
      "\n",
      "Timer started...\n",
      "\n",
      "Timer started...\n",
      "exit\n",
      "Timer started...\n",
      "\n",
      "Timer started...\n",
      "\n",
      "Timer started...\n",
      "\n",
      "Timer started...\n",
      "\n",
      "Timer started...\n",
      "Timer stopped...\n",
      "Elapsed time: 47.130544499999814 seconds.\n"
     ]
    }
   ],
   "source": [
    "# reference\n",
    "import time\n",
    "\n",
    "print(\"Press ENTER to start the timer, Press Ctrl + C to stop the timer\")\n",
    "\n",
    "while True:\n",
    "    try:\n",
    "        input()\n",
    "        start_time = time.perf_counter()\n",
    "        print(\"Timer started...\")\n",
    "        \n",
    "    except KeyboardInterrupt:\n",
    "        print(\"Timer stopped...\")\n",
    "        end_time = time.perf_counter()\n",
    "        print(\"Elapsed time:\", end_time - start_time, \"seconds.\")\n",
    "        break\n"
   ]
  },
  {
   "cell_type": "code",
   "execution_count": 17,
   "id": "74f93d10",
   "metadata": {},
   "outputs": [
    {
     "name": "stdout",
     "output_type": "stream",
     "text": [
      "3\n",
      "4\n",
      "3\n",
      "2\n",
      "1\n",
      "Elapsed time: 15412.8665908 15411.1008831\n",
      "Elapsed time during the whole program in seconds: 1.7657077000003483\n"
     ]
    }
   ],
   "source": [
    "from time import perf_counter\n",
    "n, m = int(input()),int(input()) # n for range of loop , taking two user input\n",
    " \n",
    "# Start the counter\n",
    "t1_start = perf_counter()\n",
    " \n",
    "for i in range(n):\n",
    "    t = int(input()) # user gave input n times until that value is not  divisible by m\n",
    "    if t % m == 0:\n",
    "        print(t) #print t n time of the loop and exit the loop even t%m is not equal to zero\n",
    "# counter\n",
    "t1_stop = perf_counter()\n",
    " \n",
    "print(\"Elapsed time:\", t1_stop, t1_start)\n",
    " \n",
    "print(\"Elapsed time during the whole program in seconds:\",t1_stop-t1_start)"
   ]
  },
  {
   "cell_type": "code",
   "execution_count": null,
   "id": "1ab13320",
   "metadata": {},
   "outputs": [],
   "source": []
  },
  {
   "cell_type": "code",
   "execution_count": 18,
   "id": "efb6cb0f",
   "metadata": {},
   "outputs": [],
   "source": [
    "import turtle\n",
    "window = turtle.Screen()\n",
    "window.bgcolor(\"white\")\n",
    "turtle_1 = turtle.Turtle()\n",
    "turtle_1.shape(\"turtle\")\n",
    "turtle_1.color(\"red\")\n",
    "turtle_1.forward(100)\n",
    "turtle_1.right(90)\n",
    "turtle_1.forward(100)\n",
    "turtle_1.right(90)\n",
    "turtle_1.forward(100)\n",
    "turtle_1.right(90)\n",
    "turtle_1.forward(100)\n",
    "\n",
    "\n",
    "\n",
    "window.exitonclick()"
   ]
  },
  {
   "cell_type": "code",
   "execution_count": null,
   "id": "d4e3839b",
   "metadata": {},
   "outputs": [],
   "source": []
  },
  {
   "cell_type": "code",
   "execution_count": null,
   "id": "ab2a591d",
   "metadata": {},
   "outputs": [],
   "source": []
  },
  {
   "cell_type": "code",
   "execution_count": null,
   "id": "c8835b19",
   "metadata": {},
   "outputs": [],
   "source": []
  },
  {
   "cell_type": "code",
   "execution_count": null,
   "id": "e519ca48",
   "metadata": {},
   "outputs": [],
   "source": [
    "#window.exitonclick() #exit command"
   ]
  },
  {
   "cell_type": "code",
   "execution_count": null,
   "id": "5015f8c3",
   "metadata": {},
   "outputs": [],
   "source": []
  },
  {
   "cell_type": "code",
   "execution_count": null,
   "id": "06c4e538",
   "metadata": {},
   "outputs": [],
   "source": []
  },
  {
   "cell_type": "code",
   "execution_count": null,
   "id": "44140be3",
   "metadata": {},
   "outputs": [],
   "source": []
  },
  {
   "cell_type": "code",
   "execution_count": null,
   "id": "4c40a146",
   "metadata": {},
   "outputs": [],
   "source": []
  },
  {
   "cell_type": "code",
   "execution_count": null,
   "id": "d78a7d7e",
   "metadata": {},
   "outputs": [],
   "source": []
  },
  {
   "cell_type": "code",
   "execution_count": null,
   "id": "fa9153ef",
   "metadata": {},
   "outputs": [],
   "source": []
  }
 ],
 "metadata": {
  "kernelspec": {
   "display_name": "Python 3 (ipykernel)",
   "language": "python",
   "name": "python3"
  },
  "language_info": {
   "codemirror_mode": {
    "name": "ipython",
    "version": 3
   },
   "file_extension": ".py",
   "mimetype": "text/x-python",
   "name": "python",
   "nbconvert_exporter": "python",
   "pygments_lexer": "ipython3",
   "version": "3.10.9"
  }
 },
 "nbformat": 4,
 "nbformat_minor": 5
}
