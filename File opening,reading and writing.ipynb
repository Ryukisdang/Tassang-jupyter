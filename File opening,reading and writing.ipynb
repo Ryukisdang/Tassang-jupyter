{
 "cells": [
  {
   "cell_type": "code",
   "execution_count": null,
   "id": "4f70473b",
   "metadata": {},
   "outputs": [],
   "source": [
    "Question 1: File Reading and Writing - 5 Marks\n",
    "\n",
    "Your task is to create a Python program that reads a text file and writes its content to a new file but in reverse order.\n",
    "\n",
    "Requirements:\n",
    "\n",
    "The input file will contain multiple lines of text.\n",
    "Your program should read from an input file named input.txt.\n",
    "It should write the content to an output file named output.txt.\n",
    "The output file should contain the same lines as the input file but in reverse order. The last line of the input file should be the first line of the output file, and so on.\n",
    "\n",
    "Question 2: Object-Oriented Programming - 5 Marks\n",
    "\n",
    "Write a Python program using Object-Oriented Programming principles.\n",
    "\n",
    "Your program should include a class named Circle. The Circle class should have:\n",
    "\n",
    "An _init_ method that accepts the radius of the circle (default to 1 if not provided).\n",
    "A method area that calculates and returns the area of the circle.\n",
    "A method circumference that calculates and returns the circumference of the circle.\n",
    "You should also include a main function that creates an instance of the Circle class and demonstrates the functionality of its methods."
   ]
  },
  {
   "cell_type": "code",
   "execution_count": 22,
   "id": "e709873c",
   "metadata": {},
   "outputs": [],
   "source": [
    "def open_reverse_content_to_another_file():\n",
    "    file = \"X:\\\\Tassang-jupyter\\\\Python File handle\\\\Story.txt\"\n",
    "    with open(file) as f:\n",
    "        lines = f.readlines()\n",
    "        print(\"Original content>> \",str(lines))\n",
    "    reverse_file = \"X:\\\\Tassang-jupyter\\\\Python File handle\\\\Reversed content.txt\"\n",
    "    with open(reverse_file, 'w') as rev:\n",
    "        rev.writelines(lines[::-1])\n",
    "    file = \"X:\\\\Tassang-jupyter\\\\Python File handle\\\\Reversed content.txt\"\n",
    "    with open(file) as f:\n",
    "        lines = f.readlines()\n",
    "        print('\\n')\n",
    "        print('Reversed content>> ',str(lines))\n",
    "        "
   ]
  },
  {
   "cell_type": "code",
   "execution_count": 23,
   "id": "e1700ab3",
   "metadata": {},
   "outputs": [
    {
     "name": "stdout",
     "output_type": "stream",
     "text": [
      "Original content>>  ['Hage tassang is hage tassang nothingggg ehlse\\n', 'oh maaa gooood \\n', 'yahoooooo\\n']\n",
      "\n",
      "\n",
      "Reversed content>>  ['yahoooooo\\n', 'oh maaa gooood \\n', 'Hage tassang is hage tassang nothingggg ehlse\\n']\n"
     ]
    }
   ],
   "source": [
    "open_reverse_content_to_another_file()"
   ]
  },
  {
   "cell_type": "code",
   "execution_count": null,
   "id": "f1ec61d7",
   "metadata": {},
   "outputs": [],
   "source": []
  },
  {
   "cell_type": "code",
   "execution_count": null,
   "id": "189a37ff",
   "metadata": {},
   "outputs": [],
   "source": []
  },
  {
   "cell_type": "code",
   "execution_count": null,
   "id": "eb112c54",
   "metadata": {},
   "outputs": [],
   "source": []
  },
  {
   "cell_type": "code",
   "execution_count": null,
   "id": "0b634d40",
   "metadata": {},
   "outputs": [],
   "source": []
  },
  {
   "cell_type": "code",
   "execution_count": null,
   "id": "3568789d",
   "metadata": {},
   "outputs": [],
   "source": []
  },
  {
   "cell_type": "code",
   "execution_count": null,
   "id": "86664c14",
   "metadata": {},
   "outputs": [],
   "source": []
  },
  {
   "cell_type": "code",
   "execution_count": null,
   "id": "57e3d80f",
   "metadata": {},
   "outputs": [],
   "source": []
  },
  {
   "cell_type": "code",
   "execution_count": null,
   "id": "c907d6a1",
   "metadata": {},
   "outputs": [],
   "source": []
  },
  {
   "cell_type": "code",
   "execution_count": null,
   "id": "66e379ff",
   "metadata": {},
   "outputs": [],
   "source": []
  },
  {
   "cell_type": "code",
   "execution_count": null,
   "id": "dbf61f59",
   "metadata": {},
   "outputs": [],
   "source": []
  },
  {
   "cell_type": "code",
   "execution_count": 24,
   "id": "273ce261",
   "metadata": {},
   "outputs": [],
   "source": [
    "#Write a Python program using Object-Oriented Programming principles.\n",
    "#given Your program should include a class named Circle. The Circle class should have:\n",
    "#Area = π × r2, where 'r' is the radius. Area = (π/4) × d2, where 'd' is the diameter. Area = C2/4π, where 'C' is the circumference  ,C = 2 × π × r"
   ]
  },
  {
   "cell_type": "code",
   "execution_count": 26,
   "id": "5ff6467b",
   "metadata": {},
   "outputs": [
    {
     "name": "stdout",
     "output_type": "stream",
     "text": [
      "enter a radius: 34\n",
      "Current value of circle radius:  34\n",
      "Current value of circle Pi value:  3.14\n",
      "Area of circle:  3629.84\n",
      "Circumference of circle:  213.52\n"
     ]
    }
   ],
   "source": [
    "class Circle:\n",
    "    def __init__(self,r,pi=3.14): # r is for radius\n",
    "        self.r=r\n",
    "        self.pi=pi\n",
    "    def show(self):\n",
    "        print(\"Current value of circle radius: \",self.r)\n",
    "        print(\"Current value of circle Pi value: \",self.pi)\n",
    "    def area_of_circle(self):\n",
    "        area=self.pi * (self.r**2)\n",
    "        print(\"Area of circle: \",area)\n",
    "    \n",
    "    def circumference_of_circle(self):\n",
    "        c= 2* self.pi*self.r\n",
    "        print(\"Circumference of circle: \",c)\n",
    "def main():\n",
    "    user=int(input(\"enter a radius: \"))\n",
    "    circle=Circle(user)\n",
    "    circle.show()\n",
    "    circle.area_of_circle()\n",
    "    circle.circumference_of_circle()\n",
    "    \n",
    "    \n",
    "    \n",
    "if __name__== \"__main__\":\n",
    "    run=main()\n",
    "    \n",
    "    \n",
    "    "
   ]
  },
  {
   "cell_type": "code",
   "execution_count": null,
   "id": "3f58b6c8",
   "metadata": {},
   "outputs": [],
   "source": []
  },
  {
   "cell_type": "code",
   "execution_count": null,
   "id": "7d46c5d7",
   "metadata": {},
   "outputs": [],
   "source": []
  },
  {
   "cell_type": "code",
   "execution_count": null,
   "id": "db233b77",
   "metadata": {},
   "outputs": [],
   "source": []
  }
 ],
 "metadata": {
  "kernelspec": {
   "display_name": "Python 3 (ipykernel)",
   "language": "python",
   "name": "python3"
  },
  "language_info": {
   "codemirror_mode": {
    "name": "ipython",
    "version": 3
   },
   "file_extension": ".py",
   "mimetype": "text/x-python",
   "name": "python",
   "nbconvert_exporter": "python",
   "pygments_lexer": "ipython3",
   "version": "3.10.9"
  }
 },
 "nbformat": 4,
 "nbformat_minor": 5
}
