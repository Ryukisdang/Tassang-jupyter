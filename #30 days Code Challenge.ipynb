{
 "cells": [
  {
   "cell_type": "code",
   "execution_count": 1,
   "id": "8ef9a7f9",
   "metadata": {},
   "outputs": [],
   "source": [
    "#HACKERRANK ONE PROBLEM SOLVE PRACTICE SECTION and Attempts"
   ]
  },
  {
   "cell_type": "code",
   "execution_count": 2,
   "id": "40c511ec",
   "metadata": {},
   "outputs": [
    {
     "name": "stdout",
     "output_type": "stream",
     "text": [
      "16\n",
      "8.0\n",
      "HackerRank is the best place to learn and practice coding!.\n"
     ]
    }
   ],
   "source": [
    "i = 4\n",
    "d = 4.0\n",
    "s = 'HackerRank '\n",
    "# Declare second integer, double, and String variables.\n",
    "int_var= 6+6\n",
    "double_var= 2+2.0\n",
    "string_var= 'is the best place to learn and practice coding!.'\n",
    "# Read and save an integer, double, and String to your variables.\n",
    "i1=int_var\n",
    "d1=double_var\n",
    "s1=string_var\n",
    "# Print the sum of both integer variables on a new line.\n",
    "print(i+i1)\n",
    "# Print the sum of the double variables on a new line.\n",
    "print(d+d1)\n",
    "# Concatenate and print the String variables on a new line\n",
    "print(s+s1)\n",
    "# The 's' variable above should be printed first.\n"
   ]
  },
  {
   "cell_type": "code",
   "execution_count": 3,
   "id": "9fcc55f3",
   "metadata": {},
   "outputs": [
    {
     "name": "stdout",
     "output_type": "stream",
     "text": [
      "2\n",
      "0\n",
      "1\n",
      "4\n"
     ]
    }
   ],
   "source": [
    "if __name__ == '__main__':\n",
    "    n = int(input())\n",
    "    for i in range(0,n+1):\n",
    "        sqaured= i**2\n",
    "        print(sqaured)"
   ]
  },
  {
   "cell_type": "code",
   "execution_count": 4,
   "id": "e95a17d2",
   "metadata": {},
   "outputs": [
    {
     "name": "stdout",
     "output_type": "stream",
     "text": [
      "enter a year2203\n",
      "it is not leap year\n"
     ]
    }
   ],
   "source": [
    "check= int(input(\"enter a year\"))\n",
    "if check%100 == 0:\n",
    "    result= check%100\n",
    "    print(\"it is a leap year\")\n",
    "    print(result)\n",
    "elif check%100!=0:\n",
    "    print(\"it is not leap year\")\n",
    "else:\n",
    "    print(\"it is not a leap year\")"
   ]
  },
  {
   "cell_type": "code",
   "execution_count": 5,
   "id": "615fd846",
   "metadata": {},
   "outputs": [
    {
     "name": "stdout",
     "output_type": "stream",
     "text": [
      "2222\n",
      "True\n"
     ]
    }
   ],
   "source": [
    "def is_leap(year):\n",
    "    leap = False\n",
    "    \n",
    "    # Write your logic here\n",
    "    while leap==False:\n",
    "        if year%100==0:\n",
    "            leap=False\n",
    "            return False\n",
    "        elif year%100!=0:\n",
    "            leap=True\n",
    "            return True\n",
    "        elif year%400==0:\n",
    "            leap=True\n",
    "            return True\n",
    "        elif year%400!=0:\n",
    "            leap=False\n",
    "            return False\n",
    "        elif year%4==0:\n",
    "            leap=True\n",
    "            return True\n",
    "        elif year%4!=0:\n",
    "            leap=False\n",
    "            return False\n",
    "        else:\n",
    "            leap=False\n",
    "            return False\n",
    "    \n",
    "    return leap\n",
    "\n",
    "year = int(input())\n",
    "print(is_leap(year))"
   ]
  },
  {
   "cell_type": "code",
   "execution_count": 6,
   "id": "860afd54",
   "metadata": {},
   "outputs": [
    {
     "name": "stdout",
     "output_type": "stream",
     "text": [
      "2222\n",
      "False\n"
     ]
    }
   ],
   "source": [
    "def is_leap(year):\n",
    "    leap = False\n",
    "    \n",
    "    # Write your logic here\n",
    "    while leap==False:\n",
    "        if year%4==0:\n",
    "            return True\n",
    "        if year%4!=0:\n",
    "            return False\n",
    "    return leap\n",
    "\n",
    "year = int(input())\n",
    "print(is_leap(year))"
   ]
  },
  {
   "cell_type": "code",
   "execution_count": 7,
   "id": "beb787c1",
   "metadata": {},
   "outputs": [
    {
     "name": "stdout",
     "output_type": "stream",
     "text": [
      "2222\n",
      "False\n"
     ]
    }
   ],
   "source": [
    "def is_leap(year):\n",
    "    leap = False\n",
    "    \n",
    "    # Write your logic here\n",
    "    while leap==False:\n",
    "        if year%4==0:\n",
    "            return True\n",
    "        if year%4!=0:\n",
    "            return False\n",
    "        if year%100==0:\n",
    "            return False\n",
    "        if year%100!=0:\n",
    "            return True\n",
    "        if year%400==0:\n",
    "            return True\n",
    "        if year%400!=0:\n",
    "            return False\n",
    "        else:\n",
    "            leap=True\n",
    "            return False\n",
    "    return leap\n",
    "\n",
    "year = int(input())\n",
    "print(is_leap(year))"
   ]
  },
  {
   "cell_type": "code",
   "execution_count": 8,
   "id": "3fde40bf",
   "metadata": {},
   "outputs": [
    {
     "name": "stdout",
     "output_type": "stream",
     "text": [
      "2222\n",
      "False\n"
     ]
    }
   ],
   "source": [
    "def is_leap(year):\n",
    "    leap = False\n",
    "    \n",
    "    # Write your logic here\n",
    "    while leap==False:\n",
    "        if (year%4==0) and (year%100!=0):\n",
    "            return True\n",
    "        elif (year%100==0) and (year%400!=0):\n",
    "            leap=True\n",
    "            return True\n",
    "        elif year%400==0:\n",
    "            leap=True\n",
    "            return True\n",
    "        else:\n",
    "            leap=False\n",
    "            return False\n",
    "    return leap\n",
    "\n",
    "year = int(input())\n",
    "print(is_leap(year))"
   ]
  },
  {
   "cell_type": "code",
   "execution_count": 9,
   "id": "3970df04",
   "metadata": {},
   "outputs": [
    {
     "name": "stdout",
     "output_type": "stream",
     "text": [
      "22222\n",
      "False\n"
     ]
    }
   ],
   "source": [
    "def is_leap(year):\n",
    "    leap = False\n",
    "    \n",
    "    # Write your logic here\n",
    "    while leap==False:\n",
    "        if (year%4==0) and (year%100!=0):\n",
    "            return True\n",
    "        elif (year%100==0) and (year%400!=0):\n",
    "            leap=True\n",
    "            return True\n",
    "        elif year%4==0:\n",
    "            leap=True\n",
    "            return True\n",
    "        elif year%400==0:\n",
    "            leap=True\n",
    "            return True\n",
    "        else:\n",
    "            leap=False\n",
    "            return False\n",
    "\n",
    "year = int(input())\n",
    "print(is_leap(year))"
   ]
  },
  {
   "cell_type": "code",
   "execution_count": 10,
   "id": "2d8d938a",
   "metadata": {},
   "outputs": [
    {
     "name": "stdout",
     "output_type": "stream",
     "text": [
      "22222\n",
      "True\n"
     ]
    }
   ],
   "source": [
    "def is_leap(year):\n",
    "    leap = False\n",
    "    \n",
    "    # Write your logic here\n",
    "    while leap==False:\n",
    "        if (year%4==0) and (year%100!=0):\n",
    "            return True\n",
    "        elif (year%100==0) and (year%400!=0):\n",
    "            leap=True\n",
    "            return True\n",
    "        elif year%4!=0:\n",
    "            leap=True\n",
    "            return True\n",
    "        elif year%4==0:\n",
    "            leap=False\n",
    "            return False\n",
    "        elif year%400==0:\n",
    "            leap=True\n",
    "            return True\n",
    "        else:\n",
    "            leap=False\n",
    "            return False\n",
    "\n",
    "year = int(input())\n",
    "print(is_leap(year))"
   ]
  },
  {
   "cell_type": "code",
   "execution_count": 11,
   "id": "0e144bfd",
   "metadata": {},
   "outputs": [
    {
     "name": "stdout",
     "output_type": "stream",
     "text": [
      "100000\n"
     ]
    }
   ],
   "source": [
    "n=10**5\n",
    "print(n)"
   ]
  },
  {
   "cell_type": "code",
   "execution_count": 12,
   "id": "0c935bf6",
   "metadata": {},
   "outputs": [
    {
     "name": "stdout",
     "output_type": "stream",
     "text": [
      "123123\n"
     ]
    },
    {
     "data": {
      "text/plain": [
       "True"
      ]
     },
     "execution_count": 12,
     "metadata": {},
     "output_type": "execute_result"
    }
   ],
   "source": [
    "def leap():\n",
    "    loop = True\n",
    "    year = int(input())\n",
    "    if year in range(0,10**5):\n",
    "        \n",
    "        while loop==True:\n",
    "            if year%4==0:\n",
    "                loop=False\n",
    "                return True\n",
    "            else:\n",
    "                loop=True\n",
    "                print(year)\n",
    "    return loop\n",
    "leap()"
   ]
  },
  {
   "cell_type": "code",
   "execution_count": 13,
   "id": "7275517a",
   "metadata": {},
   "outputs": [
    {
     "name": "stdout",
     "output_type": "stream",
     "text": [
      "\n"
     ]
    },
    {
     "ename": "ValueError",
     "evalue": "invalid literal for int() with base 10: ''",
     "output_type": "error",
     "traceback": [
      "\u001b[1;31m---------------------------------------------------------------------------\u001b[0m",
      "\u001b[1;31mValueError\u001b[0m                                Traceback (most recent call last)",
      "Cell \u001b[1;32mIn[13], line 17\u001b[0m\n\u001b[0;32m     14\u001b[0m         \u001b[38;5;28;01mpass\u001b[39;00m\n\u001b[0;32m     15\u001b[0m     \u001b[38;5;28;01mreturn\u001b[39;00m leap\n\u001b[1;32m---> 17\u001b[0m year \u001b[38;5;241m=\u001b[39m \u001b[38;5;28;43mint\u001b[39;49m\u001b[43m(\u001b[49m\u001b[38;5;28;43minput\u001b[39;49m\u001b[43m(\u001b[49m\u001b[43m)\u001b[49m\u001b[43m)\u001b[49m\n\u001b[0;32m     18\u001b[0m \u001b[38;5;28mprint\u001b[39m(is_leap(year))\n",
      "\u001b[1;31mValueError\u001b[0m: invalid literal for int() with base 10: ''"
     ]
    }
   ],
   "source": [
    "def is_leap(year):\n",
    "    leap = False\n",
    "    \n",
    "    # Write your logic here\n",
    "    if (year%4==0) and (year%100==0):\n",
    "        leap=False\n",
    "    if (year%100!=0) and (year%4==0):\n",
    "        leap=True\n",
    "    if (year%100!=0) and (year%400==0):\n",
    "        leap=True\n",
    "    if (year%4==0)and(year%400==0):\n",
    "        leap=True\n",
    "    else:\n",
    "        pass\n",
    "    return leap\n",
    "\n",
    "year = int(input())\n",
    "print(is_leap(year))"
   ]
  },
  {
   "cell_type": "code",
   "execution_count": 14,
   "id": "f6f5a613",
   "metadata": {},
   "outputs": [
    {
     "name": "stdout",
     "output_type": "stream",
     "text": [
      "asdasd\n"
     ]
    },
    {
     "ename": "ValueError",
     "evalue": "invalid literal for int() with base 10: 'asdasd'",
     "output_type": "error",
     "traceback": [
      "\u001b[1;31m---------------------------------------------------------------------------\u001b[0m",
      "\u001b[1;31mValueError\u001b[0m                                Traceback (most recent call last)",
      "Cell \u001b[1;32mIn[14], line 2\u001b[0m\n\u001b[0;32m      1\u001b[0m \u001b[38;5;28;01mif\u001b[39;00m \u001b[38;5;18m__name__\u001b[39m \u001b[38;5;241m==\u001b[39m \u001b[38;5;124m'\u001b[39m\u001b[38;5;124m__main__\u001b[39m\u001b[38;5;124m'\u001b[39m:\n\u001b[1;32m----> 2\u001b[0m     n \u001b[38;5;241m=\u001b[39m \u001b[38;5;28;43mint\u001b[39;49m\u001b[43m(\u001b[49m\u001b[38;5;28;43minput\u001b[39;49m\u001b[43m(\u001b[49m\u001b[43m)\u001b[49m\u001b[43m)\u001b[49m\n\u001b[0;32m      3\u001b[0m     i\u001b[38;5;241m=\u001b[39m\u001b[38;5;241m0\u001b[39m\n\u001b[0;32m      4\u001b[0m     \u001b[38;5;28;01mwhile\u001b[39;00m i\u001b[38;5;241m<\u001b[39mn:\n",
      "\u001b[1;31mValueError\u001b[0m: invalid literal for int() with base 10: 'asdasd'"
     ]
    }
   ],
   "source": [
    "if __name__ == '__main__':\n",
    "    n = int(input())\n",
    "    i=0\n",
    "    while i<n:\n",
    "        i+=1\n",
    "        result=str(i)\n",
    "        result2=str(result)\n",
    "        print(int(result2))"
   ]
  },
  {
   "cell_type": "code",
   "execution_count": 15,
   "id": "bcd3a7b3",
   "metadata": {},
   "outputs": [
    {
     "name": "stdout",
     "output_type": "stream",
     "text": [
      "\n"
     ]
    },
    {
     "ename": "ValueError",
     "evalue": "invalid literal for int() with base 10: ''",
     "output_type": "error",
     "traceback": [
      "\u001b[1;31m---------------------------------------------------------------------------\u001b[0m",
      "\u001b[1;31mValueError\u001b[0m                                Traceback (most recent call last)",
      "Cell \u001b[1;32mIn[15], line 2\u001b[0m\n\u001b[0;32m      1\u001b[0m \u001b[38;5;28;01mif\u001b[39;00m \u001b[38;5;18m__name__\u001b[39m \u001b[38;5;241m==\u001b[39m \u001b[38;5;124m'\u001b[39m\u001b[38;5;124m__main__\u001b[39m\u001b[38;5;124m'\u001b[39m:\n\u001b[1;32m----> 2\u001b[0m     n \u001b[38;5;241m=\u001b[39m \u001b[38;5;28;43mint\u001b[39;49m\u001b[43m(\u001b[49m\u001b[38;5;28;43minput\u001b[39;49m\u001b[43m(\u001b[49m\u001b[43m)\u001b[49m\u001b[43m)\u001b[49m\n\u001b[0;32m      3\u001b[0m     i\u001b[38;5;241m=\u001b[39m\u001b[38;5;241m0\u001b[39m\n\u001b[0;32m      4\u001b[0m     \u001b[38;5;28;01mwhile\u001b[39;00m i\u001b[38;5;241m<\u001b[39mn:\n",
      "\u001b[1;31mValueError\u001b[0m: invalid literal for int() with base 10: ''"
     ]
    }
   ],
   "source": [
    "if __name__ == '__main__':\n",
    "    n = int(input())\n",
    "    i=0\n",
    "    while i<n:\n",
    "        i+=1\n",
    "        result=str(i)\n",
    "        result2=str(result)\n",
    "        print(int(result2))"
   ]
  },
  {
   "cell_type": "code",
   "execution_count": 16,
   "id": "2258982b",
   "metadata": {},
   "outputs": [
    {
     "name": "stdout",
     "output_type": "stream",
     "text": [
      "1 2 3 4 5\n"
     ]
    }
   ],
   "source": [
    "# Initialize a list of numbers\n",
    "numbers = [1, 2, 3, 4, 5]\n",
    "\n",
    "# Create a new list by adding items as strings using list comprehension\n",
    "string_numbers = [str(num) for num in numbers]\n",
    "\n",
    "# Unpack the list using the asterisk (*) operator\n",
    "print(*string_numbers)\n"
   ]
  },
  {
   "cell_type": "code",
   "execution_count": 17,
   "id": "7960c4cb",
   "metadata": {},
   "outputs": [
    {
     "name": "stdout",
     "output_type": "stream",
     "text": [
      "Enter a number: \n"
     ]
    },
    {
     "ename": "ValueError",
     "evalue": "invalid literal for int() with base 10: ''",
     "output_type": "error",
     "traceback": [
      "\u001b[1;31m---------------------------------------------------------------------------\u001b[0m",
      "\u001b[1;31mValueError\u001b[0m                                Traceback (most recent call last)",
      "Cell \u001b[1;32mIn[17], line 1\u001b[0m\n\u001b[1;32m----> 1\u001b[0m n \u001b[38;5;241m=\u001b[39m \u001b[38;5;28;43mint\u001b[39;49m\u001b[43m(\u001b[49m\u001b[38;5;28;43minput\u001b[39;49m\u001b[43m(\u001b[49m\u001b[38;5;124;43m\"\u001b[39;49m\u001b[38;5;124;43mEnter a number: \u001b[39;49m\u001b[38;5;124;43m\"\u001b[39;49m\u001b[43m)\u001b[49m\u001b[43m)\u001b[49m\n\u001b[0;32m      3\u001b[0m \u001b[38;5;66;03m# Create an empty string to store the result\u001b[39;00m\n\u001b[0;32m      4\u001b[0m result \u001b[38;5;241m=\u001b[39m \u001b[38;5;124m\"\u001b[39m\u001b[38;5;124m\"\u001b[39m\n",
      "\u001b[1;31mValueError\u001b[0m: invalid literal for int() with base 10: ''"
     ]
    }
   ],
   "source": [
    "n = int(input(\"Enter a number: \"))\n",
    "\n",
    "# Create an empty string to store the result\n",
    "result = \"\"\n",
    "\n",
    "# Iterate through the range from 1 to n+1\n",
    "for i in range(1, n+1):\n",
    "    # Add the current number to the result string\n",
    "    result += str(i)\n",
    "\n",
    "# Print the result string\n",
    "print(result)\n"
   ]
  },
  {
   "cell_type": "code",
   "execution_count": 18,
   "id": "f5413519",
   "metadata": {},
   "outputs": [
    {
     "name": "stdout",
     "output_type": "stream",
     "text": [
      "1 2 3\n",
      "1 2 [3, 4, 5]\n",
      "2\n",
      "[3, 4, 5]\n"
     ]
    }
   ],
   "source": [
    "# Example 1: Unpacking a list with known length\n",
    "numbers = [1, 2, 3]\n",
    "a, b, c = numbers\n",
    "print(a,b,c)  # Output: 1\n",
    " # Output: 3\n",
    "\n",
    "# Example 2: Unpacking a list with unknown length using an asterisk (*)\n",
    "numbers = [1, 2, 3, 4, 5]\n",
    "a, b, *rest = numbers\n",
    "print(a,b,rest)     # Output: 1\n",
    "print(b)     # Output: 2\n",
    "print(rest)  # Output: [3, 4, 5]\n"
   ]
  },
  {
   "cell_type": "code",
   "execution_count": 19,
   "id": "86008726",
   "metadata": {},
   "outputs": [
    {
     "name": "stdout",
     "output_type": "stream",
     "text": [
      "\n"
     ]
    },
    {
     "ename": "ValueError",
     "evalue": "invalid literal for int() with base 10: ''",
     "output_type": "error",
     "traceback": [
      "\u001b[1;31m---------------------------------------------------------------------------\u001b[0m",
      "\u001b[1;31mValueError\u001b[0m                                Traceback (most recent call last)",
      "Cell \u001b[1;32mIn[19], line 15\u001b[0m\n\u001b[0;32m     12\u001b[0m         leap\u001b[38;5;241m=\u001b[39m\u001b[38;5;28;01mFalse\u001b[39;00m\n\u001b[0;32m     13\u001b[0m     \u001b[38;5;28;01mreturn\u001b[39;00m leap\n\u001b[1;32m---> 15\u001b[0m year \u001b[38;5;241m=\u001b[39m \u001b[38;5;28;43mint\u001b[39;49m\u001b[43m(\u001b[49m\u001b[38;5;28;43minput\u001b[39;49m\u001b[43m(\u001b[49m\u001b[43m)\u001b[49m\u001b[43m)\u001b[49m\n\u001b[0;32m     16\u001b[0m \u001b[38;5;28mprint\u001b[39m(is_leap(year))\n",
      "\u001b[1;31mValueError\u001b[0m: invalid literal for int() with base 10: ''"
     ]
    }
   ],
   "source": [
    "def is_leap(year):\n",
    "    leap = False\n",
    "    \n",
    "    # Write your logic here\n",
    "    if (year%4==0) and (year%100==0):\n",
    "        leap=False\n",
    "    if (year%100!=0) and (year%4==0):\n",
    "        leap=True\n",
    "    if (year%4==0) and (year%400==0):\n",
    "        leap=True\n",
    "    else:\n",
    "        leap=False\n",
    "    return leap\n",
    "\n",
    "year = int(input())\n",
    "print(is_leap(year))"
   ]
  },
  {
   "cell_type": "code",
   "execution_count": 20,
   "id": "01e8c164",
   "metadata": {},
   "outputs": [
    {
     "ename": "IndentationError",
     "evalue": "expected an indented block after function definition on line 18 (260642090.py, line 21)",
     "output_type": "error",
     "traceback": [
      "\u001b[1;36m  Cell \u001b[1;32mIn[20], line 21\u001b[1;36m\u001b[0m\n\u001b[1;33m    if __name__ == '__main__':\u001b[0m\n\u001b[1;37m    ^\u001b[0m\n\u001b[1;31mIndentationError\u001b[0m\u001b[1;31m:\u001b[0m expected an indented block after function definition on line 18\n"
     ]
    }
   ],
   "source": [
    "#!/bin/python3\n",
    "\n",
    "import math\n",
    "import os\n",
    "import random\n",
    "import re\n",
    "import sys\n",
    "\n",
    "#\n",
    "# Complete the 'solve' function below.\n",
    "#\n",
    "# The function accepts following parameters:\n",
    "#  1. DOUBLE meal_cost\n",
    "#  2. INTEGER tip_percent\n",
    "#  3. INTEGER tax_percent\n",
    "#\n",
    "\n",
    "def solve(meal_cost, tip_percent, tax_percent):\n",
    "    # Write your code here\n",
    "\n",
    "if __name__ == '__main__':\n",
    "    meal_cost = float(input().strip())\n",
    "\n",
    "    tip_percent = int(input().strip())\n",
    "\n",
    "    tax_percent = int(input().strip())\n",
    "\n",
    "    solve(meal_cost, tip_percent, tax_percent)\n"
   ]
  },
  {
   "cell_type": "code",
   "execution_count": 21,
   "id": "50850087",
   "metadata": {},
   "outputs": [
    {
     "name": "stdout",
     "output_type": "stream",
     "text": [
      "19.8\n",
      "3\n",
      "34\n",
      "56.8\n",
      "57\n"
     ]
    }
   ],
   "source": [
    "x=float(99/5)\n",
    "y=int(34/9)\n",
    "z=int(69/2)\n",
    "r=x+y+z\n",
    "print(x)\n",
    "print(y)\n",
    "print(z)\n",
    "print(r)\n",
    "print(round(r))\n",
    "#print(round(x))"
   ]
  },
  {
   "cell_type": "code",
   "execution_count": 22,
   "id": "696a9e49",
   "metadata": {},
   "outputs": [
    {
     "name": "stdout",
     "output_type": "stream",
     "text": [
      "\n"
     ]
    },
    {
     "ename": "ValueError",
     "evalue": "could not convert string to float: ''",
     "output_type": "error",
     "traceback": [
      "\u001b[1;31m---------------------------------------------------------------------------\u001b[0m",
      "\u001b[1;31mValueError\u001b[0m                                Traceback (most recent call last)",
      "Cell \u001b[1;32mIn[22], line 28\u001b[0m\n\u001b[0;32m     24\u001b[0m     \u001b[38;5;28mprint\u001b[39m(result)\n\u001b[0;32m     27\u001b[0m \u001b[38;5;28;01mif\u001b[39;00m \u001b[38;5;18m__name__\u001b[39m \u001b[38;5;241m==\u001b[39m \u001b[38;5;124m'\u001b[39m\u001b[38;5;124m__main__\u001b[39m\u001b[38;5;124m'\u001b[39m:\n\u001b[1;32m---> 28\u001b[0m     meal_cost \u001b[38;5;241m=\u001b[39m \u001b[38;5;28;43mfloat\u001b[39;49m\u001b[43m(\u001b[49m\u001b[38;5;28;43minput\u001b[39;49m\u001b[43m(\u001b[49m\u001b[43m)\u001b[49m\u001b[38;5;241;43m.\u001b[39;49m\u001b[43mstrip\u001b[49m\u001b[43m(\u001b[49m\u001b[43m)\u001b[49m\u001b[43m)\u001b[49m\n\u001b[0;32m     30\u001b[0m     tip_percent \u001b[38;5;241m=\u001b[39m \u001b[38;5;28mint\u001b[39m(\u001b[38;5;28minput\u001b[39m()\u001b[38;5;241m.\u001b[39mstrip())\n\u001b[0;32m     32\u001b[0m     tax_percent \u001b[38;5;241m=\u001b[39m \u001b[38;5;28mint\u001b[39m(\u001b[38;5;28minput\u001b[39m()\u001b[38;5;241m.\u001b[39mstrip())\n",
      "\u001b[1;31mValueError\u001b[0m: could not convert string to float: ''"
     ]
    }
   ],
   "source": [
    "#!/bin/python3\n",
    "\n",
    "import math\n",
    "import os\n",
    "import random\n",
    "import re\n",
    "import sys\n",
    "\n",
    "#\n",
    "# Complete the 'solve' function below.\n",
    "#\n",
    "# The function accepts following parameters:\n",
    "#  1. DOUBLE meal_cost\n",
    "#  2. INTEGER tip_percent\n",
    "#  3. INTEGER tax_percent\n",
    "#\n",
    "\n",
    "def solve(meal_cost, tip_percent, tax_percent):\n",
    "    # Write your code here\n",
    "    tip=(meal_cost/100)*tip_percent\n",
    "    tax=(tax_percent/100)*meal_cost\n",
    "    total_cost=meal_cost+tip+tax\n",
    "    result=int(round(total_cost))\n",
    "    print(result)\n",
    "    \n",
    "\n",
    "if __name__ == '__main__':\n",
    "    meal_cost = float(input().strip())\n",
    "\n",
    "    tip_percent = int(input().strip())\n",
    "\n",
    "    tax_percent = int(input().strip())\n",
    "\n",
    "    solve(meal_cost, tip_percent, tax_percent)"
   ]
  },
  {
   "cell_type": "code",
   "execution_count": 23,
   "id": "d77d118c",
   "metadata": {},
   "outputs": [
    {
     "name": "stdout",
     "output_type": "stream",
     "text": [
      "\n"
     ]
    },
    {
     "ename": "ValueError",
     "evalue": "could not convert string to float: ''",
     "output_type": "error",
     "traceback": [
      "\u001b[1;31m---------------------------------------------------------------------------\u001b[0m",
      "\u001b[1;31mValueError\u001b[0m                                Traceback (most recent call last)",
      "Cell \u001b[1;32mIn[23], line 28\u001b[0m\n\u001b[0;32m     24\u001b[0m     \u001b[38;5;28mprint\u001b[39m(result)\n\u001b[0;32m     27\u001b[0m \u001b[38;5;28;01mif\u001b[39;00m \u001b[38;5;18m__name__\u001b[39m \u001b[38;5;241m==\u001b[39m \u001b[38;5;124m'\u001b[39m\u001b[38;5;124m__main__\u001b[39m\u001b[38;5;124m'\u001b[39m:\n\u001b[1;32m---> 28\u001b[0m     meal_cost \u001b[38;5;241m=\u001b[39m \u001b[38;5;28;43mfloat\u001b[39;49m\u001b[43m(\u001b[49m\u001b[38;5;28;43minput\u001b[39;49m\u001b[43m(\u001b[49m\u001b[43m)\u001b[49m\u001b[38;5;241;43m.\u001b[39;49m\u001b[43mstrip\u001b[49m\u001b[43m(\u001b[49m\u001b[43m)\u001b[49m\u001b[43m)\u001b[49m\n\u001b[0;32m     30\u001b[0m     tip_percent \u001b[38;5;241m=\u001b[39m \u001b[38;5;28mint\u001b[39m(\u001b[38;5;28minput\u001b[39m()\u001b[38;5;241m.\u001b[39mstrip())\n\u001b[0;32m     32\u001b[0m     tax_percent \u001b[38;5;241m=\u001b[39m \u001b[38;5;28mint\u001b[39m(\u001b[38;5;28minput\u001b[39m()\u001b[38;5;241m.\u001b[39mstrip())\n",
      "\u001b[1;31mValueError\u001b[0m: could not convert string to float: ''"
     ]
    }
   ],
   "source": [
    "#!/bin/python3\n",
    "\n",
    "import math\n",
    "import os\n",
    "import random\n",
    "import re\n",
    "import sys\n",
    "\n",
    "#\n",
    "# Complete the 'solve' function below.\n",
    "#\n",
    "# The function accepts following parameters:\n",
    "#  1. DOUBLE meal_cost\n",
    "#  2. INTEGER tip_percent\n",
    "#  3. INTEGER tax_percent\n",
    "#\n",
    "\n",
    "def solve(meal_cost, tip_percent, tax_percent):\n",
    "    # Write your code here\n",
    "    tip=meal_cost/100*tip_percent\n",
    "    tax=tax_percent/100*meal_cost\n",
    "    total_cost=meal_cost+tip+tax\n",
    "    result=round(total_cost)\n",
    "    print(result)\n",
    "    \n",
    "\n",
    "if __name__ == '__main__':\n",
    "    meal_cost = float(input().strip())\n",
    "\n",
    "    tip_percent = int(input().strip())\n",
    "\n",
    "    tax_percent = int(input().strip())\n",
    "\n",
    "    solve(meal_cost, tip_percent, tax_percent)\n"
   ]
  },
  {
   "cell_type": "code",
   "execution_count": null,
   "id": "12d8fbbb",
   "metadata": {},
   "outputs": [],
   "source": []
  },
  {
   "cell_type": "code",
   "execution_count": 24,
   "id": "8680c517",
   "metadata": {},
   "outputs": [
    {
     "name": "stdout",
     "output_type": "stream",
     "text": [
      "\n"
     ]
    },
    {
     "ename": "ValueError",
     "evalue": "invalid literal for int() with base 10: ''",
     "output_type": "error",
     "traceback": [
      "\u001b[1;31m---------------------------------------------------------------------------\u001b[0m",
      "\u001b[1;31mValueError\u001b[0m                                Traceback (most recent call last)",
      "Cell \u001b[1;32mIn[24], line 10\u001b[0m\n\u001b[0;32m      5\u001b[0m \u001b[38;5;28;01mimport\u001b[39;00m \u001b[38;5;21;01msys\u001b[39;00m\n\u001b[0;32m      9\u001b[0m \u001b[38;5;28;01mif\u001b[39;00m \u001b[38;5;18m__name__\u001b[39m \u001b[38;5;241m==\u001b[39m \u001b[38;5;124m'\u001b[39m\u001b[38;5;124m__main__\u001b[39m\u001b[38;5;124m'\u001b[39m:\n\u001b[1;32m---> 10\u001b[0m     N \u001b[38;5;241m=\u001b[39m \u001b[38;5;28;43mint\u001b[39;49m\u001b[43m(\u001b[49m\u001b[38;5;28;43minput\u001b[39;49m\u001b[43m(\u001b[49m\u001b[43m)\u001b[49m\u001b[38;5;241;43m.\u001b[39;49m\u001b[43mstrip\u001b[49m\u001b[43m(\u001b[49m\u001b[43m)\u001b[49m\u001b[43m)\u001b[49m\n\u001b[0;32m     11\u001b[0m     \u001b[38;5;28;01mif\u001b[39;00m \u001b[38;5;241m1\u001b[39m\u001b[38;5;241m<\u001b[39m\u001b[38;5;241m=\u001b[39mN\u001b[38;5;241m<\u001b[39m\u001b[38;5;241m=\u001b[39m\u001b[38;5;241m100\u001b[39m:\n\u001b[0;32m     12\u001b[0m         \u001b[38;5;28;01mif\u001b[39;00m N\u001b[38;5;241m%\u001b[39m\u001b[38;5;241m2\u001b[39m\u001b[38;5;241m==\u001b[39m\u001b[38;5;241m0\u001b[39m \u001b[38;5;129;01mor\u001b[39;00m N \u001b[38;5;129;01min\u001b[39;00m \u001b[38;5;28mrange\u001b[39m(\u001b[38;5;241m2\u001b[39m,\u001b[38;5;241m5\u001b[39m):\n",
      "\u001b[1;31mValueError\u001b[0m: invalid literal for int() with base 10: ''"
     ]
    }
   ],
   "source": [
    "import math\n",
    "import os\n",
    "import random\n",
    "import re\n",
    "import sys\n",
    "\n",
    "\n",
    "\n",
    "if __name__ == '__main__':\n",
    "    N = int(input().strip())\n",
    "    if 1<=N<=100:\n",
    "        if N%2==0 or N in range(2,5):\n",
    "            print('Not Weird')"
   ]
  },
  {
   "cell_type": "code",
   "execution_count": 25,
   "id": "2448e189",
   "metadata": {},
   "outputs": [
    {
     "name": "stdout",
     "output_type": "stream",
     "text": [
      "\n"
     ]
    },
    {
     "ename": "ValueError",
     "evalue": "invalid literal for int() with base 10: ''",
     "output_type": "error",
     "traceback": [
      "\u001b[1;31m---------------------------------------------------------------------------\u001b[0m",
      "\u001b[1;31mValueError\u001b[0m                                Traceback (most recent call last)",
      "Cell \u001b[1;32mIn[25], line 12\u001b[0m\n\u001b[0;32m      7\u001b[0m \u001b[38;5;28;01mimport\u001b[39;00m \u001b[38;5;21;01msys\u001b[39;00m\n\u001b[0;32m     11\u001b[0m \u001b[38;5;28;01mif\u001b[39;00m \u001b[38;5;18m__name__\u001b[39m \u001b[38;5;241m==\u001b[39m \u001b[38;5;124m'\u001b[39m\u001b[38;5;124m__main__\u001b[39m\u001b[38;5;124m'\u001b[39m:\n\u001b[1;32m---> 12\u001b[0m     N \u001b[38;5;241m=\u001b[39m \u001b[38;5;28;43mint\u001b[39;49m\u001b[43m(\u001b[49m\u001b[38;5;28;43minput\u001b[39;49m\u001b[43m(\u001b[49m\u001b[43m)\u001b[49m\u001b[38;5;241;43m.\u001b[39;49m\u001b[43mstrip\u001b[49m\u001b[43m(\u001b[49m\u001b[43m)\u001b[49m\u001b[43m)\u001b[49m\n\u001b[0;32m     13\u001b[0m     \u001b[38;5;28;01mif\u001b[39;00m \u001b[38;5;241m1\u001b[39m\u001b[38;5;241m<\u001b[39m\u001b[38;5;241m=\u001b[39mN\u001b[38;5;241m<\u001b[39m\u001b[38;5;241m=\u001b[39m\u001b[38;5;241m100\u001b[39m:\n\u001b[0;32m     14\u001b[0m         \u001b[38;5;28;01mif\u001b[39;00m N\u001b[38;5;241m%\u001b[39m\u001b[38;5;241m2\u001b[39m\u001b[38;5;241m==\u001b[39m\u001b[38;5;241m0\u001b[39m \u001b[38;5;129;01mand\u001b[39;00m N \u001b[38;5;129;01min\u001b[39;00m \u001b[38;5;28mrange\u001b[39m(\u001b[38;5;241m2\u001b[39m,\u001b[38;5;241m5\u001b[39m):\n",
      "\u001b[1;31mValueError\u001b[0m: invalid literal for int() with base 10: ''"
     ]
    }
   ],
   "source": [
    "#!/bin/python3\n",
    "\n",
    "import math\n",
    "import os\n",
    "import random\n",
    "import re\n",
    "import sys\n",
    "\n",
    "\n",
    "\n",
    "if __name__ == '__main__':\n",
    "    N = int(input().strip())\n",
    "    if 1<=N<=100:\n",
    "        if N%2==0 and N in range(2,5):\n",
    "            print('Not Weird')\n",
    "        if N%2==0 and N in range(6,20):\n",
    "            print('Weird')\n",
    "        if N%2==0 and N>20:\n",
    "            print('Not Weird')"
   ]
  },
  {
   "cell_type": "code",
   "execution_count": 26,
   "id": "df26cffa",
   "metadata": {},
   "outputs": [
    {
     "name": "stdout",
     "output_type": "stream",
     "text": [
      "\n"
     ]
    },
    {
     "ename": "ValueError",
     "evalue": "invalid literal for int() with base 10: ''",
     "output_type": "error",
     "traceback": [
      "\u001b[1;31m---------------------------------------------------------------------------\u001b[0m",
      "\u001b[1;31mValueError\u001b[0m                                Traceback (most recent call last)",
      "Cell \u001b[1;32mIn[26], line 12\u001b[0m\n\u001b[0;32m      7\u001b[0m \u001b[38;5;28;01mimport\u001b[39;00m \u001b[38;5;21;01msys\u001b[39;00m\n\u001b[0;32m     11\u001b[0m \u001b[38;5;28;01mif\u001b[39;00m \u001b[38;5;18m__name__\u001b[39m \u001b[38;5;241m==\u001b[39m \u001b[38;5;124m'\u001b[39m\u001b[38;5;124m__main__\u001b[39m\u001b[38;5;124m'\u001b[39m:\n\u001b[1;32m---> 12\u001b[0m     N \u001b[38;5;241m=\u001b[39m \u001b[38;5;28;43mint\u001b[39;49m\u001b[43m(\u001b[49m\u001b[38;5;28;43minput\u001b[39;49m\u001b[43m(\u001b[49m\u001b[43m)\u001b[49m\u001b[38;5;241;43m.\u001b[39;49m\u001b[43mstrip\u001b[49m\u001b[43m(\u001b[49m\u001b[43m)\u001b[49m\u001b[43m)\u001b[49m\n\u001b[0;32m     13\u001b[0m     \u001b[38;5;28;01mif\u001b[39;00m \u001b[38;5;241m1\u001b[39m\u001b[38;5;241m<\u001b[39m\u001b[38;5;241m=\u001b[39mN\u001b[38;5;241m<\u001b[39m\u001b[38;5;241m=\u001b[39m\u001b[38;5;241m100\u001b[39m:\n\u001b[0;32m     14\u001b[0m         \u001b[38;5;28;01mif\u001b[39;00m N\u001b[38;5;241m%\u001b[39m\u001b[38;5;241m2\u001b[39m\u001b[38;5;241m!=\u001b[39m\u001b[38;5;241m0\u001b[39m \u001b[38;5;129;01mand\u001b[39;00m N \u001b[38;5;129;01min\u001b[39;00m \u001b[38;5;28mrange\u001b[39m(\u001b[38;5;241m2\u001b[39m,\u001b[38;5;241m5\u001b[39m):\n",
      "\u001b[1;31mValueError\u001b[0m: invalid literal for int() with base 10: ''"
     ]
    }
   ],
   "source": [
    "#!/bin/python3\n",
    "\n",
    "import math\n",
    "import os\n",
    "import random\n",
    "import re\n",
    "import sys\n",
    "\n",
    "\n",
    "\n",
    "if __name__ == '__main__':\n",
    "    N = int(input().strip())\n",
    "    if 1<=N<=100:\n",
    "        if N%2!=0 and N in range(2,5):\n",
    "            print('Not Weird')\n",
    "        if N%2==0 and N in range(6,20):\n",
    "            print('Weird')\n",
    "        if N%2==0 and N>20:\n",
    "            print('Not Weird')"
   ]
  },
  {
   "cell_type": "code",
   "execution_count": 27,
   "id": "a74a8559",
   "metadata": {},
   "outputs": [
    {
     "name": "stdout",
     "output_type": "stream",
     "text": [
      "asdasd\n"
     ]
    },
    {
     "ename": "ValueError",
     "evalue": "invalid literal for int() with base 10: 'asdasd'",
     "output_type": "error",
     "traceback": [
      "\u001b[1;31m---------------------------------------------------------------------------\u001b[0m",
      "\u001b[1;31mValueError\u001b[0m                                Traceback (most recent call last)",
      "Cell \u001b[1;32mIn[27], line 12\u001b[0m\n\u001b[0;32m      7\u001b[0m \u001b[38;5;28;01mimport\u001b[39;00m \u001b[38;5;21;01msys\u001b[39;00m\n\u001b[0;32m     11\u001b[0m \u001b[38;5;28;01mif\u001b[39;00m \u001b[38;5;18m__name__\u001b[39m \u001b[38;5;241m==\u001b[39m \u001b[38;5;124m'\u001b[39m\u001b[38;5;124m__main__\u001b[39m\u001b[38;5;124m'\u001b[39m:\n\u001b[1;32m---> 12\u001b[0m     N \u001b[38;5;241m=\u001b[39m \u001b[38;5;28;43mint\u001b[39;49m\u001b[43m(\u001b[49m\u001b[38;5;28;43minput\u001b[39;49m\u001b[43m(\u001b[49m\u001b[43m)\u001b[49m\u001b[38;5;241;43m.\u001b[39;49m\u001b[43mstrip\u001b[49m\u001b[43m(\u001b[49m\u001b[43m)\u001b[49m\u001b[43m)\u001b[49m\n\u001b[0;32m     13\u001b[0m     \u001b[38;5;28;01mif\u001b[39;00m \u001b[38;5;241m1\u001b[39m\u001b[38;5;241m<\u001b[39m\u001b[38;5;241m=\u001b[39mN\u001b[38;5;241m<\u001b[39m\u001b[38;5;241m=\u001b[39m\u001b[38;5;241m100\u001b[39m:\n\u001b[0;32m     14\u001b[0m         \u001b[38;5;28;01mif\u001b[39;00m N\u001b[38;5;241m%\u001b[39m\u001b[38;5;241m2\u001b[39m\u001b[38;5;241m!=\u001b[39m\u001b[38;5;241m0\u001b[39m:\n",
      "\u001b[1;31mValueError\u001b[0m: invalid literal for int() with base 10: 'asdasd'"
     ]
    }
   ],
   "source": [
    "#!/bin/python3\n",
    "\n",
    "import math\n",
    "import os\n",
    "import random\n",
    "import re\n",
    "import sys\n",
    "\n",
    "\n",
    "\n",
    "if __name__ == '__main__':\n",
    "    N = int(input().strip())\n",
    "    if 1<=N<=100:\n",
    "        if N%2!=0:\n",
    "            print('Weird')\n",
    "        if N%2==0 and N in range(2,5):\n",
    "            print('Not Weird')\n",
    "        if N%2==0 and N in range(6,20):\n",
    "            print('Weird')\n",
    "        if N%2==0 and N>20:\n",
    "            print('Not Weird')"
   ]
  },
  {
   "cell_type": "code",
   "execution_count": 28,
   "id": "7f3d0b82",
   "metadata": {},
   "outputs": [
    {
     "name": "stdout",
     "output_type": "stream",
     "text": [
      "ASDASD\n"
     ]
    },
    {
     "ename": "ValueError",
     "evalue": "invalid literal for int() with base 10: 'ASDASD'",
     "output_type": "error",
     "traceback": [
      "\u001b[1;31m---------------------------------------------------------------------------\u001b[0m",
      "\u001b[1;31mValueError\u001b[0m                                Traceback (most recent call last)",
      "Cell \u001b[1;32mIn[28], line 12\u001b[0m\n\u001b[0;32m      7\u001b[0m \u001b[38;5;28;01mimport\u001b[39;00m \u001b[38;5;21;01msys\u001b[39;00m\n\u001b[0;32m     11\u001b[0m \u001b[38;5;28;01mif\u001b[39;00m \u001b[38;5;18m__name__\u001b[39m \u001b[38;5;241m==\u001b[39m \u001b[38;5;124m'\u001b[39m\u001b[38;5;124m__main__\u001b[39m\u001b[38;5;124m'\u001b[39m:\n\u001b[1;32m---> 12\u001b[0m     N \u001b[38;5;241m=\u001b[39m \u001b[38;5;28;43mint\u001b[39;49m\u001b[43m(\u001b[49m\u001b[38;5;28;43minput\u001b[39;49m\u001b[43m(\u001b[49m\u001b[43m)\u001b[49m\u001b[38;5;241;43m.\u001b[39;49m\u001b[43mstrip\u001b[49m\u001b[43m(\u001b[49m\u001b[43m)\u001b[49m\u001b[43m)\u001b[49m\n\u001b[0;32m     13\u001b[0m     \u001b[38;5;28;01mif\u001b[39;00m \u001b[38;5;241m1\u001b[39m\u001b[38;5;241m<\u001b[39m\u001b[38;5;241m=\u001b[39mN\u001b[38;5;241m<\u001b[39m\u001b[38;5;241m=\u001b[39m\u001b[38;5;241m100\u001b[39m:\n\u001b[0;32m     14\u001b[0m         \u001b[38;5;28;01mif\u001b[39;00m N\u001b[38;5;241m%\u001b[39m\u001b[38;5;241m2\u001b[39m\u001b[38;5;241m!=\u001b[39m\u001b[38;5;241m0\u001b[39m:\n",
      "\u001b[1;31mValueError\u001b[0m: invalid literal for int() with base 10: 'ASDASD'"
     ]
    }
   ],
   "source": [
    "#!/bin/python3\n",
    "\n",
    "import math\n",
    "import os\n",
    "import random\n",
    "import re\n",
    "import sys\n",
    "\n",
    "\n",
    "\n",
    "if __name__ == '__main__':\n",
    "    N = int(input().strip())\n",
    "    if 1<=N<=100:\n",
    "        if N%2!=0:\n",
    "            print('Weird')\n",
    "        if N%2==0 and N in range(2,5):\n",
    "            print('Not Weird')\n",
    "        if N%2==0 and N in range(6,20+1):\n",
    "            print('Weird')\n",
    "        if N%2==0 and N>20:\n",
    "            print('Not Weird')"
   ]
  },
  {
   "cell_type": "code",
   "execution_count": 29,
   "id": "fad82226",
   "metadata": {},
   "outputs": [
    {
     "name": "stdout",
     "output_type": "stream",
     "text": [
      "SD\n"
     ]
    },
    {
     "ename": "ValueError",
     "evalue": "invalid literal for int() with base 10: 'SD'",
     "output_type": "error",
     "traceback": [
      "\u001b[1;31m---------------------------------------------------------------------------\u001b[0m",
      "\u001b[1;31mValueError\u001b[0m                                Traceback (most recent call last)",
      "Cell \u001b[1;32mIn[29], line 25\u001b[0m\n\u001b[0;32m     21\u001b[0m             \u001b[38;5;28mprint\u001b[39m(i)\n\u001b[0;32m     24\u001b[0m \u001b[38;5;28;01mif\u001b[39;00m \u001b[38;5;18m__name__\u001b[39m \u001b[38;5;241m==\u001b[39m \u001b[38;5;124m'\u001b[39m\u001b[38;5;124m__main__\u001b[39m\u001b[38;5;124m'\u001b[39m:\n\u001b[1;32m---> 25\u001b[0m     n \u001b[38;5;241m=\u001b[39m \u001b[38;5;28;43mint\u001b[39;49m\u001b[43m(\u001b[49m\u001b[38;5;28;43minput\u001b[39;49m\u001b[43m(\u001b[49m\u001b[43m)\u001b[49m\u001b[38;5;241;43m.\u001b[39;49m\u001b[43mstrip\u001b[49m\u001b[43m(\u001b[49m\u001b[43m)\u001b[49m\u001b[43m)\u001b[49m\n\u001b[0;32m     27\u001b[0m     fizzBuzz(n)\n",
      "\u001b[1;31mValueError\u001b[0m: invalid literal for int() with base 10: 'SD'"
     ]
    }
   ],
   "source": [
    "#!/bin/python3\n",
    "\n",
    "import math\n",
    "import os\n",
    "import random\n",
    "import re\n",
    "import sys\n",
    "\n",
    "\n",
    "\n",
    "#\n",
    "# Complete the 'fizzBuzz' function below.\n",
    "#\n",
    "# The function accepts INTEGER n as parameter.\n",
    "#\n",
    "\n",
    "def fizzBuzz(n):\n",
    "    # Write your code here\n",
    "    if 0<=n<=(10**5):\n",
    "        for i in range(1,n+1):\n",
    "            print(i)\n",
    "            \n",
    "\n",
    "if __name__ == '__main__':\n",
    "    n = int(input().strip())\n",
    "\n",
    "    fizzBuzz(n)\n"
   ]
  },
  {
   "cell_type": "code",
   "execution_count": 30,
   "id": "1aa183ff",
   "metadata": {},
   "outputs": [
    {
     "name": "stdout",
     "output_type": "stream",
     "text": [
      "ASD\n"
     ]
    },
    {
     "ename": "ValueError",
     "evalue": "invalid literal for int() with base 10: 'ASD'",
     "output_type": "error",
     "traceback": [
      "\u001b[1;31m---------------------------------------------------------------------------\u001b[0m",
      "\u001b[1;31mValueError\u001b[0m                                Traceback (most recent call last)",
      "Cell \u001b[1;32mIn[30], line 30\u001b[0m\n\u001b[0;32m     27\u001b[0m                 \u001b[38;5;28mprint\u001b[39m(i)\n\u001b[0;32m     29\u001b[0m \u001b[38;5;28;01mif\u001b[39;00m \u001b[38;5;18m__name__\u001b[39m \u001b[38;5;241m==\u001b[39m \u001b[38;5;124m'\u001b[39m\u001b[38;5;124m__main__\u001b[39m\u001b[38;5;124m'\u001b[39m:\n\u001b[1;32m---> 30\u001b[0m     n \u001b[38;5;241m=\u001b[39m \u001b[38;5;28;43mint\u001b[39;49m\u001b[43m(\u001b[49m\u001b[38;5;28;43minput\u001b[39;49m\u001b[43m(\u001b[49m\u001b[43m)\u001b[49m\u001b[38;5;241;43m.\u001b[39;49m\u001b[43mstrip\u001b[49m\u001b[43m(\u001b[49m\u001b[43m)\u001b[49m\u001b[43m)\u001b[49m\n\u001b[0;32m     32\u001b[0m     fizzBuzz(n)\n",
      "\u001b[1;31mValueError\u001b[0m: invalid literal for int() with base 10: 'ASD'"
     ]
    }
   ],
   "source": [
    "#!/bin/python3\n",
    "\n",
    "import math\n",
    "import os\n",
    "import random\n",
    "import re\n",
    "import sys\n",
    "\n",
    "\n",
    "#\n",
    "# Complete the 'fizzBuzz' function below.\n",
    "#\n",
    "# The function accepts INTEGER n as parameter.\n",
    "#\n",
    "\n",
    "def fizzBuzz(n):\n",
    "    # Write your code here\n",
    "    if 0<=n<=(2*(10**5)):\n",
    "        for i in range(1,n):\n",
    "            if i%3==0 and i%5==0:\n",
    "                print('FizzBuzz')\n",
    "            if i%3==0 and i%5!=0:\n",
    "                print('Fizz')\n",
    "            if i%5==0 and i%3!=0:\n",
    "                print('Buzz')\n",
    "            if i%3!=0 and i%5!=0:\n",
    "                print(i)\n",
    "            \n",
    "if __name__ == '__main__':\n",
    "    n = int(input().strip())\n",
    "\n",
    "    fizzBuzz(n)\n"
   ]
  },
  {
   "cell_type": "code",
   "execution_count": 31,
   "id": "53719fd2",
   "metadata": {},
   "outputs": [
    {
     "name": "stdout",
     "output_type": "stream",
     "text": [
      "A\n"
     ]
    },
    {
     "ename": "ValueError",
     "evalue": "invalid literal for int() with base 10: 'A'",
     "output_type": "error",
     "traceback": [
      "\u001b[1;31m---------------------------------------------------------------------------\u001b[0m",
      "\u001b[1;31mValueError\u001b[0m                                Traceback (most recent call last)",
      "Cell \u001b[1;32mIn[31], line 31\u001b[0m\n\u001b[0;32m     28\u001b[0m             \u001b[38;5;28;01mpass\u001b[39;00m\n\u001b[0;32m     30\u001b[0m \u001b[38;5;28;01mif\u001b[39;00m \u001b[38;5;18m__name__\u001b[39m \u001b[38;5;241m==\u001b[39m \u001b[38;5;124m'\u001b[39m\u001b[38;5;124m__main__\u001b[39m\u001b[38;5;124m'\u001b[39m:\n\u001b[1;32m---> 31\u001b[0m     n \u001b[38;5;241m=\u001b[39m \u001b[38;5;28;43mint\u001b[39;49m\u001b[43m(\u001b[49m\u001b[38;5;28;43minput\u001b[39;49m\u001b[43m(\u001b[49m\u001b[43m)\u001b[49m\u001b[38;5;241;43m.\u001b[39;49m\u001b[43mstrip\u001b[49m\u001b[43m(\u001b[49m\u001b[43m)\u001b[49m\u001b[43m)\u001b[49m\n\u001b[0;32m     33\u001b[0m     fizzBuzz(n)\n",
      "\u001b[1;31mValueError\u001b[0m: invalid literal for int() with base 10: 'A'"
     ]
    }
   ],
   "source": [
    "#!/bin/python3\n",
    "\n",
    "import math\n",
    "import os\n",
    "import random\n",
    "import re\n",
    "import sys\n",
    "\n",
    "\n",
    "#\n",
    "# Complete the 'fizzBuzz' function below.\n",
    "#\n",
    "# The function accepts INTEGER n as parameter.\n",
    "#\n",
    "\n",
    "def fizzBuzz(n):\n",
    "    # Write your code here\n",
    "    for i in range(1,n+1):\n",
    "        if i%3==0 and i%5==0:\n",
    "            print('FizzBuzz')\n",
    "        if i%3==0 and i%5!=0:\n",
    "            print('Fizz')\n",
    "        if i%5==0 and i%3!=0:\n",
    "            print('Buzz')\n",
    "        if i%3!=0 and i%5!=0:\n",
    "            print(i)\n",
    "        else:\n",
    "            pass\n",
    "            \n",
    "if __name__ == '__main__':\n",
    "    n = int(input().strip())\n",
    "\n",
    "    fizzBuzz(n)\n"
   ]
  },
  {
   "cell_type": "code",
   "execution_count": 32,
   "id": "488f6025",
   "metadata": {},
   "outputs": [
    {
     "name": "stdout",
     "output_type": "stream",
     "text": [
      "4\n"
     ]
    }
   ],
   "source": [
    " #Len() and Sum()\n",
    "list1=[1,2,3,4,5,6,7,8]\n",
    "result=sum(list1)//len(list1)\n",
    "print(result)"
   ]
  },
  {
   "cell_type": "code",
   "execution_count": null,
   "id": "666f3846",
   "metadata": {},
   "outputs": [],
   "source": []
  },
  {
   "cell_type": "code",
   "execution_count": 33,
   "id": "1dac6ad4",
   "metadata": {},
   "outputs": [
    {
     "name": "stdout",
     "output_type": "stream",
     "text": [
      "euler: 2.718\n"
     ]
    }
   ],
   "source": [
    "# we import the euler constant from the math module\n",
    "from math import e\n",
    "# then we print the constant value with two digits after the period\n",
    "print(f'euler: {e:.3f}')         # euler: 2.71"
   ]
  },
  {
   "cell_type": "code",
   "execution_count": 34,
   "id": "f10e1d06",
   "metadata": {},
   "outputs": [
    {
     "name": "stdout",
     "output_type": "stream",
     "text": [
      "helloo++++\n"
     ]
    }
   ],
   "source": [
    "tassang='helloo'\n",
    "print(f'{tassang:+<10}')\n",
    "      "
   ]
  },
  {
   "cell_type": "code",
   "execution_count": 35,
   "id": "791e33f0",
   "metadata": {},
   "outputs": [
    {
     "name": "stdout",
     "output_type": "stream",
     "text": [
      "    a     \n",
      "   bcd    \n",
      "  efghi   \n",
      " jklmnop  \n",
      "  qrstu   \n",
      "   vwx    \n",
      "    y     \n"
     ]
    }
   ],
   "source": [
    "print(f\"{'a':^10}\")\n",
    "print(f\"{'bcd':^10}\")\n",
    "print(f\"{'efghi':^10}\")\n",
    "print(f\"{'jklmnop':^10}\")\n",
    "print(f\"{'qrstu':^10}\")\n",
    "print(f\"{'vwx':^10}\")\n",
    "print(f\"{'y':^10}\")\n",
    "\n",
    "#    a\n",
    "#   bcd\n",
    "#  efghi\n",
    "# jklmnop\n",
    "#  qrstu\n",
    "#   vwx\n",
    "#    y"
   ]
  },
  {
   "cell_type": "code",
   "execution_count": 36,
   "id": "4a07814b",
   "metadata": {},
   "outputs": [
    {
     "name": "stdout",
     "output_type": "stream",
     "text": [
      "     *    \n",
      "   ***    \n",
      "  *****   \n",
      "********* \n",
      "  *****   \n",
      "   ****   \n",
      "     *    \n"
     ]
    }
   ],
   "source": [
    "print(f\"{' *':^10}\")\n",
    "print(f\"{'***':^10}\")\n",
    "print(f\"{'*****':^10}\")\n",
    "print(f\"{'*********':^10}\")\n",
    "print(f\"{'*****':^10}\")\n",
    "print(f\"{'****':^10}\")\n",
    "print(f\"{' *':^10}\")\n",
    "\n",
    "#    a\n",
    "#   bcd\n",
    "#  efghi\n",
    "# jklmnop\n",
    "#  qrstu\n",
    "#   vwx\n",
    "#    y"
   ]
  },
  {
   "cell_type": "code",
   "execution_count": null,
   "id": "4bdf7786",
   "metadata": {},
   "outputs": [],
   "source": []
  },
  {
   "cell_type": "code",
   "execution_count": 37,
   "id": "2493c377",
   "metadata": {},
   "outputs": [
    {
     "ename": "KeyError",
     "evalue": "'OUTPUT_PATH'",
     "output_type": "error",
     "traceback": [
      "\u001b[1;31m---------------------------------------------------------------------------\u001b[0m",
      "\u001b[1;31mKeyError\u001b[0m                                  Traceback (most recent call last)",
      "Cell \u001b[1;32mIn[37], line 17\u001b[0m\n\u001b[0;32m     15\u001b[0m             \u001b[38;5;28;01mreturn\u001b[39;00m result\n\u001b[0;32m     16\u001b[0m \u001b[38;5;28;01mif\u001b[39;00m \u001b[38;5;18m__name__\u001b[39m \u001b[38;5;241m==\u001b[39m \u001b[38;5;124m'\u001b[39m\u001b[38;5;124m__main__\u001b[39m\u001b[38;5;124m'\u001b[39m:\n\u001b[1;32m---> 17\u001b[0m     fptr \u001b[38;5;241m=\u001b[39m \u001b[38;5;28mopen\u001b[39m(\u001b[43mos\u001b[49m\u001b[38;5;241;43m.\u001b[39;49m\u001b[43menviron\u001b[49m\u001b[43m[\u001b[49m\u001b[38;5;124;43m'\u001b[39;49m\u001b[38;5;124;43mOUTPUT_PATH\u001b[39;49m\u001b[38;5;124;43m'\u001b[39;49m\u001b[43m]\u001b[49m, \u001b[38;5;124m'\u001b[39m\u001b[38;5;124mw\u001b[39m\u001b[38;5;124m'\u001b[39m)\n\u001b[0;32m     19\u001b[0m     nums \u001b[38;5;241m=\u001b[39m \u001b[38;5;28mlist\u001b[39m(\u001b[38;5;28mmap\u001b[39m(\u001b[38;5;28mint\u001b[39m, \u001b[38;5;28minput\u001b[39m()\u001b[38;5;241m.\u001b[39msplit()))\n\u001b[0;32m     20\u001b[0m     res \u001b[38;5;241m=\u001b[39m avg(\u001b[38;5;241m*\u001b[39mnums)\n",
      "File \u001b[1;32m~\\anaconda3\\lib\\os.py:680\u001b[0m, in \u001b[0;36m_Environ.__getitem__\u001b[1;34m(self, key)\u001b[0m\n\u001b[0;32m    677\u001b[0m     value \u001b[38;5;241m=\u001b[39m \u001b[38;5;28mself\u001b[39m\u001b[38;5;241m.\u001b[39m_data[\u001b[38;5;28mself\u001b[39m\u001b[38;5;241m.\u001b[39mencodekey(key)]\n\u001b[0;32m    678\u001b[0m \u001b[38;5;28;01mexcept\u001b[39;00m \u001b[38;5;167;01mKeyError\u001b[39;00m:\n\u001b[0;32m    679\u001b[0m     \u001b[38;5;66;03m# raise KeyError with the original key value\u001b[39;00m\n\u001b[1;32m--> 680\u001b[0m     \u001b[38;5;28;01mraise\u001b[39;00m \u001b[38;5;167;01mKeyError\u001b[39;00m(key) \u001b[38;5;28;01mfrom\u001b[39;00m \u001b[38;5;28mNone\u001b[39m\n\u001b[0;32m    681\u001b[0m \u001b[38;5;28;01mreturn\u001b[39;00m \u001b[38;5;28mself\u001b[39m\u001b[38;5;241m.\u001b[39mdecodevalue(value)\n",
      "\u001b[1;31mKeyError\u001b[0m: 'OUTPUT_PATH'"
     ]
    }
   ],
   "source": [
    "#!/bin/python3\n",
    "\n",
    "import math\n",
    "import os\n",
    "import random\n",
    "import re\n",
    "import sys\n",
    "\n",
    "\n",
    "# write your code here\n",
    "def avg(*nums,res):\n",
    "    for i in nums:\n",
    "        result =sum(i)//len(i)\n",
    "        if result==res:\n",
    "            return result\n",
    "if __name__ == '__main__':\n",
    "    fptr = open(os.environ['OUTPUT_PATH'], 'w')\n",
    "    \n",
    "    nums = list(map(int, input().split()))\n",
    "    res = avg(*nums)\n",
    "    \n",
    "    fptr.write('%.2f' % res + '\\n')\n",
    "\n",
    "    fptr.close()"
   ]
  },
  {
   "cell_type": "code",
   "execution_count": 38,
   "id": "25fa5c34",
   "metadata": {},
   "outputs": [
    {
     "data": {
      "text/plain": [
       "True"
      ]
     },
     "execution_count": 38,
     "metadata": {},
     "output_type": "execute_result"
    }
   ],
   "source": [
    "'16'.isdigit()"
   ]
  },
  {
   "cell_type": "code",
   "execution_count": 39,
   "id": "f2d1159d",
   "metadata": {},
   "outputs": [
    {
     "data": {
      "text/plain": [
       "True"
      ]
     },
     "execution_count": 39,
     "metadata": {},
     "output_type": "execute_result"
    }
   ],
   "source": [
    "a = '123'\n",
    "a.isnumeric()"
   ]
  },
  {
   "cell_type": "code",
   "execution_count": 40,
   "id": "360735a8",
   "metadata": {},
   "outputs": [
    {
     "data": {
      "text/plain": [
       "True"
      ]
     },
     "execution_count": 40,
     "metadata": {},
     "output_type": "execute_result"
    }
   ],
   "source": [
    "s = '-17'\n",
    "s.startswith('-') and s[1:].isdigit()"
   ]
  },
  {
   "cell_type": "code",
   "execution_count": 41,
   "id": "5f272994",
   "metadata": {},
   "outputs": [
    {
     "name": "stdout",
     "output_type": "stream",
     "text": [
      "enter a num: AS\n"
     ]
    }
   ],
   "source": [
    "def check_int(s):\n",
    "    if s[0] in ('-', '+'):\n",
    "        return s[1:].isdigit()\n",
    "    return s.isdigit()\n",
    "value=input(\"enter a num: \")\n",
    "check=check_int(value)\n"
   ]
  },
  {
   "cell_type": "code",
   "execution_count": 42,
   "id": "fac3c716",
   "metadata": {},
   "outputs": [
    {
     "ename": "SyntaxError",
     "evalue": "invalid syntax (497346000.py, line 1)",
     "output_type": "error",
     "traceback": [
      "\u001b[1;36m  Cell \u001b[1;32mIn[42], line 1\u001b[1;36m\u001b[0m\n\u001b[1;33m    Exract possible keywords from any two programming language\u001b[0m\n\u001b[1;37m           ^\u001b[0m\n\u001b[1;31mSyntaxError\u001b[0m\u001b[1;31m:\u001b[0m invalid syntax\n"
     ]
    }
   ],
   "source": [
    "Exract possible keywords from any two programming language"
   ]
  },
  {
   "cell_type": "code",
   "execution_count": 43,
   "id": "26b7b986",
   "metadata": {},
   "outputs": [
    {
     "name": "stdout",
     "output_type": "stream",
     "text": [
      "The Black Tesla car's engine is starting In.\n",
      "0\n",
      "1\n",
      "2\n",
      "3\n"
     ]
    }
   ],
   "source": [
    "import time\n",
    "class Car:\n",
    "    dmg =\"Damaged\"\n",
    "    numbers= 3\n",
    "    def __init__(self, brand, color):\n",
    "        self.brand = brand\n",
    "        self.color = color\n",
    "\n",
    "    def start_engine(self):\n",
    "        print(f\"The {self.color} {self.brand} car's engine is starting In.\")\n",
    "    def timer(self):\n",
    "        for i in range(4):\n",
    "            print(i)\n",
    "            time.sleep(0.5)\n",
    "elon_musk=Car(\"Tesla\",\"Black\")\n",
    "elon_musk.start_engine()\n",
    "elon_musk.timer()\n"
   ]
  },
  {
   "cell_type": "code",
   "execution_count": 44,
   "id": "fd5b2a0f",
   "metadata": {},
   "outputs": [],
   "source": [
    "class Person:\n",
    "    course=\"BCA\"\n",
    "    \n",
    "    def __init__(self,name,age):\n",
    "        self.name=name\n",
    "        self.age=age"
   ]
  },
  {
   "cell_type": "code",
   "execution_count": null,
   "id": "c035facc",
   "metadata": {},
   "outputs": [],
   "source": []
  },
  {
   "cell_type": "code",
   "execution_count": null,
   "id": "1772a2e8",
   "metadata": {},
   "outputs": [],
   "source": []
  },
  {
   "cell_type": "code",
   "execution_count": 45,
   "id": "acddf83f",
   "metadata": {},
   "outputs": [
    {
     "ename": "NameError",
     "evalue": "name 'audi' is not defined",
     "output_type": "error",
     "traceback": [
      "\u001b[1;31m---------------------------------------------------------------------------\u001b[0m",
      "\u001b[1;31mNameError\u001b[0m                                 Traceback (most recent call last)",
      "Cell \u001b[1;32mIn[45], line 1\u001b[0m\n\u001b[1;32m----> 1\u001b[0m \u001b[38;5;28mprint\u001b[39m(\u001b[43maudi\u001b[49m\u001b[38;5;241m.\u001b[39mcolor)\n\u001b[0;32m      2\u001b[0m \u001b[38;5;28mprint\u001b[39m(audi\u001b[38;5;241m.\u001b[39mmodel)\n\u001b[0;32m      3\u001b[0m \u001b[38;5;28mprint\u001b[39m(\u001b[38;5;124m\"\u001b[39m\u001b[38;5;124mthe car model is \u001b[39m\u001b[38;5;124m\"\u001b[39m,gtr_skyline_r36\u001b[38;5;241m.\u001b[39mmodel,\u001b[38;5;124m\"\u001b[39m\u001b[38;5;124mthe car color is:\u001b[39m\u001b[38;5;124m\"\u001b[39m,gtr_skyline_r36\u001b[38;5;241m.\u001b[39mcolor)\n",
      "\u001b[1;31mNameError\u001b[0m: name 'audi' is not defined"
     ]
    }
   ],
   "source": [
    "print(audi.color)\n",
    "print(audi.model)\n",
    "print(\"the car model is \",gtr_skyline_r36.model,\"the car color is:\",gtr_skyline_r36.color)"
   ]
  },
  {
   "cell_type": "code",
   "execution_count": null,
   "id": "c7fccbaa",
   "metadata": {},
   "outputs": [],
   "source": [
    "audi.show()"
   ]
  },
  {
   "cell_type": "code",
   "execution_count": null,
   "id": "3a5748bc",
   "metadata": {},
   "outputs": [],
   "source": [
    "# Python program to show that the variables with a value\n",
    "# assigned in class declaration, are class variables\n",
    "\n",
    "# Objects of CSStudent class\n",
    "\n",
    "# Python program to show that the variables with a value\n",
    "# assigned in class declaration, are class variables\n",
    "\n",
    "# Class for Computer Science Student\n",
    "class CSStudent:\n",
    "    stream = 'Web Dev'\n",
    "    def __init__(self,name,roll,year):\n",
    "        self.name = name\t\t # Instance Variable\n",
    "        self.roll = roll\t\t # Instance Variable\n",
    "        self.year = str(year)\n",
    "    def show_student(self):\n",
    "        print(\"student name:\",self.name,\"roll no:\",self.roll,\"in: \",self.year,'in this stream: ',CSStudent.stream)\n",
    "        \n",
    "\n",
    "# Objects of CSStudent class\n",
    "a = CSStudent('Tassang', 1,'4th year')\n",
    "b = CSStudent('Tare', 2,'2nd year')\n",
    "d = CSStudent('Daniel', 27,'3rd year')\n",
    "d.show_student()\n",
    "CSStudent.stream='Hacking'\n",
    "d.show_student()\n",
    "a.roll='24'\n",
    "d.roll='69'\n",
    "d.show_student()\n",
    "a.show_student()\n",
    "a.stream='BCA'\n",
    "a.show_student()\n",
    "\n",
    "\n",
    "\n",
    "\n",
    "\n",
    "#print(a.stream) # prints \"cse\"\n",
    "#print(b.stream) # prints \"cse\"\n",
    "#print(a.name) # prints \"Geek\"\n",
    "#print(b.name) # prints \"Nerd\"\n",
    "#print(a.roll) # prints \"1\"\n",
    "#print(b.roll) # prints \"2\"\n",
    "\n",
    "# Class variables can be accessed using class\n",
    "# name also\n",
    "#print(CSStudent.stream) # prints \"BCA\"\n",
    "\n",
    "# Now if we change the stream for just a it won't be changed for b\n",
    "#a.stream = 'ece' # chaning object variables\n",
    "#print(a.stream) # prints 'ece'\n",
    "#print(b.stream) # prints 'cse'\n",
    "\n",
    "# To change the stream for all instances of the class we can change it\n",
    "# directly from the class\n",
    "#CSStudent.stream = 'mech'\n",
    "\n",
    "#print(a.stream) # prints 'ece'\n",
    "#print(b.stream) # prints 'mech'\n",
    "\n",
    "\n",
    "# Class variables can be accessed using class\n",
    "# name also\n",
    "#print(CSStudent.stream) # prints \"cse\"\n",
    "\n",
    "# Now if we change the stream for just a it won't be changed for b\n",
    "#a.stream = 'ece'\n",
    "#print(a.stream) # prints 'ece'\n",
    "#print(b.stream) # prints 'cse'\n",
    "\n",
    "# To change the stream for all instances of the class we can change it\n",
    "# directly from the class\n",
    "#CSStudent.stream = 'mech'\n",
    "\n",
    "#print(a.stream) # prints 'ece'\n",
    "#print(b.stream) # prints 'mech'\n"
   ]
  },
  {
   "cell_type": "code",
   "execution_count": 46,
   "id": "12a25065",
   "metadata": {},
   "outputs": [
    {
     "ename": "AttributeError",
     "evalue": "'str' object has no attribute 'stream'",
     "output_type": "error",
     "traceback": [
      "\u001b[1;31m---------------------------------------------------------------------------\u001b[0m",
      "\u001b[1;31mAttributeError\u001b[0m                            Traceback (most recent call last)",
      "Cell \u001b[1;32mIn[46], line 1\u001b[0m\n\u001b[1;32m----> 1\u001b[0m \u001b[38;5;28mprint\u001b[39m(\u001b[43ma\u001b[49m\u001b[38;5;241;43m.\u001b[39;49m\u001b[43mstream\u001b[49m)\n\u001b[0;32m      2\u001b[0m a\u001b[38;5;241m.\u001b[39mshow_student()\n\u001b[0;32m      3\u001b[0m a\u001b[38;5;241m.\u001b[39mstream\u001b[38;5;241m=\u001b[39m\u001b[38;5;124m'\u001b[39m\u001b[38;5;124mBCAAA\u001b[39m\u001b[38;5;124m'\u001b[39m\n",
      "\u001b[1;31mAttributeError\u001b[0m: 'str' object has no attribute 'stream'"
     ]
    }
   ],
   "source": [
    "print(a.stream)\n",
    "a.show_student()\n",
    "a.stream='BCAAA'\n",
    "print(a.stream)\n"
   ]
  },
  {
   "cell_type": "code",
   "execution_count": 47,
   "id": "a1b8e463",
   "metadata": {},
   "outputs": [
    {
     "ename": "AttributeError",
     "evalue": "'str' object has no attribute 'name'",
     "output_type": "error",
     "traceback": [
      "\u001b[1;31m---------------------------------------------------------------------------\u001b[0m",
      "\u001b[1;31mAttributeError\u001b[0m                            Traceback (most recent call last)",
      "Cell \u001b[1;32mIn[47], line 1\u001b[0m\n\u001b[1;32m----> 1\u001b[0m \u001b[38;5;28mprint\u001b[39m(\u001b[38;5;124m\"\u001b[39m\u001b[38;5;124mstudent name:\u001b[39m\u001b[38;5;124m\"\u001b[39m,\u001b[43ma\u001b[49m\u001b[38;5;241;43m.\u001b[39;49m\u001b[43mname\u001b[49m,\u001b[38;5;124m\"\u001b[39m\u001b[38;5;124mroll no:\u001b[39m\u001b[38;5;124m\"\u001b[39m,a\u001b[38;5;241m.\u001b[39mroll,\u001b[38;5;124m\"\u001b[39m\u001b[38;5;124min: \u001b[39m\u001b[38;5;124m\"\u001b[39m,a\u001b[38;5;241m.\u001b[39myear,\u001b[38;5;124m'\u001b[39m\u001b[38;5;124min this stream: \u001b[39m\u001b[38;5;124m'\u001b[39m,a\u001b[38;5;241m.\u001b[39mstream)\n",
      "\u001b[1;31mAttributeError\u001b[0m: 'str' object has no attribute 'name'"
     ]
    }
   ],
   "source": [
    "print(\"student name:\",a.name,\"roll no:\",a.roll,\"in: \",a.year,'in this stream: ',a.stream)"
   ]
  },
  {
   "cell_type": "code",
   "execution_count": 48,
   "id": "afb850d2",
   "metadata": {},
   "outputs": [
    {
     "name": "stdout",
     "output_type": "stream",
     "text": [
      "2\n",
      "4\n",
      "6\n",
      "6\n",
      "8\n"
     ]
    }
   ],
   "source": [
    "class MyClass:\n",
    "\tstatic_var = 0\n",
    "\n",
    "\tdef __init__(self):\n",
    "\t\tMyClass.static_var += 2\n",
    "\t\tself.instance_var = MyClass.static_var\n",
    "\n",
    "obj1 = MyClass()\n",
    "print(obj1.instance_var) # Output: 1\n",
    "\n",
    "obj2 = MyClass()\n",
    "obj3=MyClass()\n",
    "print(obj2.instance_var) # Output: 2\n",
    "\n",
    "print(MyClass.static_var) # Output: 2\n",
    "print(obj3.instance_var)\n",
    "obj4=MyClass()\n",
    "print(obj4.instance_var)\n"
   ]
  },
  {
   "cell_type": "code",
   "execution_count": 49,
   "id": "18bf8cf8",
   "metadata": {},
   "outputs": [
    {
     "name": "stdout",
     "output_type": "stream",
     "text": [
      "student name is : Mohan\n",
      "Student id is:  102\n",
      "student school is:  Delhi public school\n"
     ]
    }
   ],
   "source": [
    "class student:\n",
    "    def __init__(self,a,b,c):\n",
    "        self.id=a\n",
    "        self.name=b\n",
    "        self.school=c\n",
    "    def show(self):\n",
    "        print(\"student name is :\",self.name)\n",
    "    def display(self):\n",
    "        print(\"Student id is: \",self.id)\n",
    "        print(\"student school is: \",self.school)\n",
    "s1=student(102,'Mohan',\"Delhi public school\")\n",
    "s1.show()\n",
    "s1.display()"
   ]
  },
  {
   "cell_type": "code",
   "execution_count": 50,
   "id": "1ad8f6a6",
   "metadata": {},
   "outputs": [],
   "source": [
    "class Singleton:\n",
    "    _instance = None\n",
    "\n",
    "    def __new__(cls):\n",
    "        if not cls._instance:\n",
    "            cls._instance = super().__new__(cls)\n",
    "        return cls._instance\n"
   ]
  },
  {
   "cell_type": "code",
   "execution_count": 51,
   "id": "ab27e34b",
   "metadata": {},
   "outputs": [],
   "source": [
    "instance1 = Singleton()"
   ]
  },
  {
   "cell_type": "code",
   "execution_count": 52,
   "id": "7dd0d020",
   "metadata": {},
   "outputs": [
    {
     "name": "stdout",
     "output_type": "stream",
     "text": [
      "<__main__.Singleton object at 0x000002D73928D3C0>\n"
     ]
    }
   ],
   "source": [
    "print(instance1)"
   ]
  },
  {
   "cell_type": "code",
   "execution_count": 53,
   "id": "0dd87a02",
   "metadata": {},
   "outputs": [
    {
     "name": "stdout",
     "output_type": "stream",
     "text": [
      "True\n"
     ]
    }
   ],
   "source": [
    "class Singleton:\n",
    "    _instance = True\n",
    "\n",
    "    def __new__(cls):\n",
    "        if not cls._instance:\n",
    "            cls._instance = super().__new__(cls)\n",
    "        return cls._instance\n",
    "\n",
    "# Creating two instances of the Singleton class\n",
    "instance1 = Singleton()\n",
    "instance2 = Singleton()\n",
    "\n",
    "# Checking if both instances are the same\n",
    "print(instance1 is instance2)  # Output: True\n"
   ]
  },
  {
   "cell_type": "code",
   "execution_count": 54,
   "id": "7869c6ad",
   "metadata": {},
   "outputs": [
    {
     "name": "stdout",
     "output_type": "stream",
     "text": [
      "Drawing a circle.\n",
      "Drawing a rectangle.\n",
      "Drawing a Sqaure\n"
     ]
    }
   ],
   "source": [
    "class Shape:\n",
    "    def draw(self):\n",
    "        pass\n",
    "\n",
    "class Circle(Shape):\n",
    "    def draw(self):\n",
    "        print(\"Drawing a circle.\")\n",
    "\n",
    "class Rectangle(Shape):\n",
    "    def draw(self):\n",
    "        print(\"Drawing a rectangle.\")\n",
    "class Sqaure(Shape):\n",
    "    def draw(self):\n",
    "        print(\"Drawing a Sqaure\")\n",
    "\n",
    "class ShapeFactory:\n",
    "    def create_shape(self, shape_type):\n",
    "        if shape_type == \"circle\":\n",
    "            return Circle()\n",
    "        elif shape_type == \"rectangle\":\n",
    "            return Rectangle()\n",
    "        elif shape_type==\"square\":\n",
    "            return Sqaure()\n",
    "            \n",
    "        else:\n",
    "            raise ValueError(\"Invalid shape type.\")\n",
    "#driver code\n",
    "\n",
    "# Creating shapes using the ShapeFactory\n",
    "factory = ShapeFactory()\n",
    "circle = factory.create_shape(\"circle\")\n",
    "rectangle = factory.create_shape(\"rectangle\")\n",
    "sqaure=factory.create_shape(\"square\")\n",
    "\n",
    "\n",
    "\n",
    "# Drawing the shapes\n",
    "circle.draw()     # Output: Drawing a circle.\n",
    "rectangle.draw()  # Output: Drawing a rectangle.\n",
    "sqaure.draw()\n",
    "\n"
   ]
  },
  {
   "cell_type": "code",
   "execution_count": 55,
   "id": "13524427",
   "metadata": {},
   "outputs": [
    {
     "name": "stdout",
     "output_type": "stream",
     "text": [
      "Enter first number: AS\n"
     ]
    },
    {
     "ename": "ValueError",
     "evalue": "invalid literal for int() with base 10: 'AS'",
     "output_type": "error",
     "traceback": [
      "\u001b[1;31m---------------------------------------------------------------------------\u001b[0m",
      "\u001b[1;31mValueError\u001b[0m                                Traceback (most recent call last)",
      "Cell \u001b[1;32mIn[55], line 22\u001b[0m\n\u001b[0;32m     20\u001b[0m         \u001b[38;5;28mprint\u001b[39m(\u001b[38;5;124m\"\u001b[39m\u001b[38;5;124mI am show method of child class\u001b[39m\u001b[38;5;124m\"\u001b[39m)\n\u001b[0;32m     21\u001b[0m \u001b[38;5;66;03m#creating the instance of the child/derived class\u001b[39;00m\n\u001b[1;32m---> 22\u001b[0m x\u001b[38;5;241m=\u001b[39m\u001b[38;5;28;43mint\u001b[39;49m\u001b[43m(\u001b[49m\u001b[38;5;28;43minput\u001b[39;49m\u001b[43m(\u001b[49m\u001b[38;5;124;43m\"\u001b[39;49m\u001b[38;5;124;43mEnter first number: \u001b[39;49m\u001b[38;5;124;43m\"\u001b[39;49m\u001b[43m)\u001b[49m\u001b[43m)\u001b[49m\n\u001b[0;32m     23\u001b[0m y\u001b[38;5;241m=\u001b[39m\u001b[38;5;28mint\u001b[39m(\u001b[38;5;28minput\u001b[39m(\u001b[38;5;124m\"\u001b[39m\u001b[38;5;124mEnter second number: \u001b[39m\u001b[38;5;124m\"\u001b[39m))\n\u001b[0;32m     24\u001b[0m z\u001b[38;5;241m=\u001b[39m\u001b[38;5;28mint\u001b[39m(\u001b[38;5;28minput\u001b[39m(\u001b[38;5;124m\"\u001b[39m\u001b[38;5;124mEnter third number: \u001b[39m\u001b[38;5;124m\"\u001b[39m))\n",
      "\u001b[1;31mValueError\u001b[0m: invalid literal for int() with base 10: 'AS'"
     ]
    }
   ],
   "source": [
    "#parent class\n",
    "class student:\n",
    "    def __init__(self):\n",
    "        print(\"I am parent class constructor\")\n",
    "    def display(self):\n",
    "         print(\"I am parent class display method\")\n",
    "    def calculate(self,a,b,c):\n",
    "        self.a=a\n",
    "        self.b=b\n",
    "        self.c=c\n",
    "        self.s=a+b+c\n",
    "        print(\"Sum of three numbers is= \",self.s)        \n",
    "#child class\n",
    "class student_child(student):\n",
    "    def __init__(self):\n",
    "         #call the super function\n",
    "            super().__init__()\n",
    "            print(\"I am child class constructor\")\n",
    "    def show(self,name):\n",
    "        print(\"I am show method of child class\")\n",
    "#creating the instance of the child/derived class\n",
    "x=int(input(\"Enter first number: \"))\n",
    "y=int(input(\"Enter second number: \"))\n",
    "z=int(input(\"Enter third number: \"))\n",
    "c1=student_child()\n",
    "d1=c1.display()\n",
    "maths=c1.calculate(x,y,z)\n",
    "daniel=c1.show(\"daniel\")\n",
    "c2=student_child()\n",
    "d2=c2.display()\n",
    "maths2=c2.calculate(x,y,z)\n",
    "tassang=c2.show(\"tassang\")\n",
    "print(c2,d2,maths2)"
   ]
  },
  {
   "cell_type": "code",
   "execution_count": 56,
   "id": "64aac425",
   "metadata": {},
   "outputs": [
    {
     "name": "stdout",
     "output_type": "stream",
     "text": [
      "enter numberDA\n"
     ]
    },
    {
     "ename": "ValueError",
     "evalue": "invalid literal for int() with base 10: 'DA'",
     "output_type": "error",
     "traceback": [
      "\u001b[1;31m---------------------------------------------------------------------------\u001b[0m",
      "\u001b[1;31mValueError\u001b[0m                                Traceback (most recent call last)",
      "Cell \u001b[1;32mIn[56], line 18\u001b[0m\n\u001b[0;32m     16\u001b[0m     \u001b[38;5;28;01mdef\u001b[39;00m \u001b[38;5;21mshow\u001b[39m(\u001b[38;5;28mself\u001b[39m):\n\u001b[0;32m     17\u001b[0m         \u001b[38;5;28mprint\u001b[39m(\u001b[38;5;124m\"\u001b[39m\u001b[38;5;124mi am show method of child class\u001b[39m\u001b[38;5;124m\"\u001b[39m)\n\u001b[1;32m---> 18\u001b[0m x\u001b[38;5;241m=\u001b[39m\u001b[38;5;28;43mint\u001b[39;49m\u001b[43m(\u001b[49m\u001b[38;5;28;43minput\u001b[39;49m\u001b[43m(\u001b[49m\u001b[38;5;124;43m\"\u001b[39;49m\u001b[38;5;124;43menter number\u001b[39;49m\u001b[38;5;124;43m\"\u001b[39;49m\u001b[43m)\u001b[49m\u001b[43m)\u001b[49m\n\u001b[0;32m     19\u001b[0m y\u001b[38;5;241m=\u001b[39m\u001b[38;5;28mint\u001b[39m(\u001b[38;5;28minput\u001b[39m(\u001b[38;5;124m\"\u001b[39m\u001b[38;5;124menter number\u001b[39m\u001b[38;5;124m\"\u001b[39m))\n\u001b[0;32m     20\u001b[0m z\u001b[38;5;241m=\u001b[39m\u001b[38;5;28mint\u001b[39m(\u001b[38;5;28minput\u001b[39m(\u001b[38;5;124m\"\u001b[39m\u001b[38;5;124menter number\u001b[39m\u001b[38;5;124m\"\u001b[39m))\n",
      "\u001b[1;31mValueError\u001b[0m: invalid literal for int() with base 10: 'DA'"
     ]
    }
   ],
   "source": [
    "class student:\n",
    "    def __init__(self):\n",
    "        print(\"i am parent class constructor\")\n",
    "    def display(self):\n",
    "        print(\"i am parent class display method\")\n",
    "    def calculate(self,a,b,c):\n",
    "        self.a=a\n",
    "        self.b=b\n",
    "        self.c=c\n",
    "        self.r=a+b+c\n",
    "        print(\"Sum of Three number is: \",self.r)\n",
    "class student_child(student):\n",
    "    def __init__(self):\n",
    "        super().__init__()\n",
    "        print(\"i am child class constructor\")\n",
    "    def show(self):\n",
    "        print(\"i am show method of child class\")\n",
    "x=int(input(\"enter number\"))\n",
    "y=int(input(\"enter number\"))\n",
    "z=int(input(\"enter number\"))\n",
    "schild=student_child()\n",
    "s2=student_child()\n",
    "s2.calculate(x,y,z)\n",
    "s3=student_child()\n",
    "s4=student_child()\n",
    "print(\"i am s2\",s2.calculate(x,y,z))    \n",
    "    \n",
    "        "
   ]
  },
  {
   "cell_type": "code",
   "execution_count": 57,
   "id": "67646a93",
   "metadata": {},
   "outputs": [
    {
     "name": "stdout",
     "output_type": "stream",
     "text": [
      "Initializing BaseClass\n",
      "Initializing SubClass\n",
      "<__main__.SubClass object at 0x000002D7392C3FD0>\n"
     ]
    }
   ],
   "source": [
    "class BaseClass:\n",
    "    def __init__(self):\n",
    "        print(\"Initializing BaseClass\")\n",
    "\n",
    "class SubClass(BaseClass):\n",
    "    def __init__(self):\n",
    "        super().__init__()  # Calling the initializer of the base class\n",
    "        print(\"Initializing SubClass\")\n",
    "\n",
    "# Creating an instance of the SubClass\n",
    "sub_obj = SubClass()\n",
    "print(sub_obj)"
   ]
  },
  {
   "cell_type": "code",
   "execution_count": 58,
   "id": "047c3320",
   "metadata": {},
   "outputs": [
    {
     "name": "stdout",
     "output_type": "stream",
     "text": [
      "Initializing BaseClass\n",
      "Initializing SubClass\n"
     ]
    }
   ],
   "source": [
    "class BaseClass:\n",
    "    def __init__(self):\n",
    "        print(\"Initializing BaseClass\")\n",
    "\n",
    "class SubClass(BaseClass):\n",
    "    def __init__(self):\n",
    "        super().__init__()  # Calling the initializer of the base class\n",
    "        print(\"Initializing SubClass\")\n",
    "\n",
    "# Creating an instance of the SubClass\n",
    "sub_obj = SubClass()\n"
   ]
  },
  {
   "cell_type": "markdown",
   "id": "785a2812",
   "metadata": {},
   "source": [
    "When the method signature (name and parameters) are the same in the superclass and the child class, \n",
    "it's called overriding. When two or more methods in the same class have the same name but different parameters,\n",
    "it's called overloading."
   ]
  },
  {
   "cell_type": "markdown",
   "id": "51177441",
   "metadata": {},
   "source": [
    "#polymorphism mthod \n",
    "overiding"
   ]
  },
  {
   "cell_type": "code",
   "execution_count": 59,
   "id": "5d7091a1",
   "metadata": {},
   "outputs": [
    {
     "name": "stdout",
     "output_type": "stream",
     "text": [
      "The vehicle starts and i am parent class\n",
      "The car starts with a key and sub class.\n"
     ]
    }
   ],
   "source": [
    "#super class or parent class\n",
    "class Vehicle:\n",
    "    def start(self):\n",
    "        print(\"The vehicle starts and i am parent class\")\n",
    "#child class or sub class\n",
    "class Car(Vehicle): # inherit super class but not with initializer\n",
    "    def start(self):\n",
    "        print(\"The car starts with a key and sub class.\")\n",
    "\n",
    "# Creating instances and calling the overridden method\n",
    "vehicle = Vehicle()\n",
    "vehicle.start()  # Output: The vehicle starts.\n",
    "\n",
    "car = Car()\n",
    "car.start()  # Output: The car starts with a key.\n"
   ]
  },
  {
   "cell_type": "markdown",
   "id": "4f48b636",
   "metadata": {},
   "source": [
    "Method Overloading (Emulation):\n",
    "Unlike some programming languages, Python does not support traditional method overloading where multiple methods have the same name but different parameter lists.\n",
    "However, you can emulate method overloading by defining a single method with default parameter values or using variable arguments (*args or **kwargs) to handle different cases."
   ]
  },
  {
   "cell_type": "code",
   "execution_count": 60,
   "id": "ec5a4878",
   "metadata": {},
   "outputs": [
    {
     "name": "stdout",
     "output_type": "stream",
     "text": [
      "2\n",
      "5\n",
      "12\n"
     ]
    }
   ],
   "source": [
    "class Calculator:\n",
    "    def add(self, a, b=0):\n",
    "        return a + b\n",
    "\n",
    "# Creating an instance and calling the overloaded method\n",
    "calc = Calculator()\n",
    "result1 = calc.add(2)  # Output: 2 (default value of b is used)\n",
    "result2 = calc.add(2, 3)  # Output: 5 (both a and b values are provided)\n",
    "result3=calc.add(3,9)\n",
    "\n",
    "print(result1)\n",
    "print(result2)\n",
    "print(result3)\n"
   ]
  },
  {
   "cell_type": "code",
   "execution_count": 61,
   "id": "2674ee5b",
   "metadata": {},
   "outputs": [
    {
     "name": "stdout",
     "output_type": "stream",
     "text": [
      "My good name is Ram\n",
      "I am a good student\n",
      "My name is Rajesh chauhan\n",
      "I am not a good employee\n"
     ]
    }
   ],
   "source": [
    "class student:\n",
    "    def name(self):\n",
    "        print(\"My good name is Ram\")\n",
    "    def display(self):\n",
    "        print(\"I am a good student\")\n",
    "class employee:\n",
    "    def name(self):\n",
    "        print(\"My name is Rajesh chauhan\")\n",
    "    def display(self):\n",
    "        print(\"I am not a good employee\")\n",
    "#common Interfacefunction\n",
    "def func_name(object):\n",
    "    object.name()\n",
    "    object.display()\n",
    "#creating the instace/object of the class\n",
    "s1=student()\n",
    "e1=employee()\n",
    "#Passing these class objects in common interface function one by one and get output\n",
    "func_name(s1)\n",
    "func_name(e1)"
   ]
  },
  {
   "cell_type": "code",
   "execution_count": 62,
   "id": "9c4ef1dd",
   "metadata": {},
   "outputs": [
    {
     "name": "stdout",
     "output_type": "stream",
     "text": [
      "salary of the employee 2000\n",
      "Employee name is: Ram\n",
      "Employee name is: 30\n",
      "salary of the employee 50000\n",
      "400\n",
      "salary of the employee 400\n"
     ]
    }
   ],
   "source": [
    "class employee:\n",
    "    def __init__(self):\n",
    "        self._salary=2000\n",
    "        self.name='Ram'\n",
    "        self.age=30\n",
    "    def show(self):\n",
    "        print(\"salary of the employee\",self._salary)\n",
    "    def display_data(self):\n",
    "        print(\"Employee name is:\",self.name)\n",
    "        print(\"Employee name is:\",self.age)\n",
    "    def change_salary(self,sal):\n",
    "        self._salary=sal\n",
    "        print(sal)\n",
    "#creating the instance/object of the employee class\n",
    "e1=employee()\n",
    "e1.show()\n",
    "e1.display_data()\n",
    "e1._salary=50000\n",
    "e1.show()\n",
    "e1.change_salary(400)\n",
    "e1.show()"
   ]
  },
  {
   "cell_type": "code",
   "execution_count": 63,
   "id": "aad82cfe",
   "metadata": {},
   "outputs": [
    {
     "ename": "SyntaxError",
     "evalue": "invalid syntax (3724817984.py, line 2)",
     "output_type": "error",
     "traceback": [
      "\u001b[1;36m  Cell \u001b[1;32mIn[63], line 2\u001b[1;36m\u001b[0m\n\u001b[1;33m    def __init__(self,name.age):\u001b[0m\n\u001b[1;37m                          ^\u001b[0m\n\u001b[1;31mSyntaxError\u001b[0m\u001b[1;31m:\u001b[0m invalid syntax\n"
     ]
    }
   ],
   "source": [
    "class employee:\n",
    "    def __init__(self,name.age):\n",
    "        self._salary=1000\n",
    "        self.sal=5000\n",
    "        self.name=name\n",
    "        self.age=age\n",
    "    def show(self):\n",
    "        print(\"salary of the per employee \",self.salary)\n",
    "        print(\"salary of the this employee \",self._salary)\n",
    "    def display_data(self):\n",
    "        print(\"Employee name is:\",self.name)\n",
    "        print(\"Employee name is:\",self.age)\n",
    "    def change_salary(self,salary):\n",
    "        self._salary=salary\n",
    "        return salary\n",
    "e1=employee(\"tassang\",\"20\")\n",
    "        "
   ]
  },
  {
   "cell_type": "code",
   "execution_count": 64,
   "id": "afaa6d95",
   "metadata": {},
   "outputs": [
    {
     "name": "stdout",
     "output_type": "stream",
     "text": [
      "Value of sum is=  11\n"
     ]
    }
   ],
   "source": [
    "class student:\n",
    "    a=5\n",
    "    b=6\n",
    "    s=a+b\n",
    "    def show_data(self):\n",
    "        print(\"Value of sum is= \",self.s)\n",
    "s1=student()\n",
    "s1.show_data()"
   ]
  },
  {
   "cell_type": "code",
   "execution_count": 65,
   "id": "560659b0",
   "metadata": {},
   "outputs": [
    {
     "name": "stdout",
     "output_type": "stream",
     "text": [
      "Employee id is=  102\n",
      "Employee name is=  Ram\n",
      "Employee salary is=  5000\n",
      "Employee id is=  kt\n",
      "Employee name is=  tassang\n",
      "Employee salary is=  300\n",
      "DSA\n",
      "DSA\n",
      "DSA\n"
     ]
    },
    {
     "ename": "ValueError",
     "evalue": "invalid literal for int() with base 10: 'DSA'",
     "output_type": "error",
     "traceback": [
      "\u001b[1;31m---------------------------------------------------------------------------\u001b[0m",
      "\u001b[1;31mValueError\u001b[0m                                Traceback (most recent call last)",
      "Cell \u001b[1;32mIn[65], line 22\u001b[0m\n\u001b[0;32m     20\u001b[0m x\u001b[38;5;241m=\u001b[39m\u001b[38;5;28minput\u001b[39m()\n\u001b[0;32m     21\u001b[0m y\u001b[38;5;241m=\u001b[39m\u001b[38;5;28minput\u001b[39m()\n\u001b[1;32m---> 22\u001b[0m z\u001b[38;5;241m=\u001b[39m\u001b[38;5;28;43mint\u001b[39;49m\u001b[43m(\u001b[49m\u001b[38;5;28;43minput\u001b[39;49m\u001b[43m(\u001b[49m\u001b[43m)\u001b[49m\u001b[43m)\u001b[49m\n\u001b[0;32m     23\u001b[0m e3\u001b[38;5;241m=\u001b[39memployee(x,y,z)\n\u001b[0;32m     24\u001b[0m d3\u001b[38;5;241m=\u001b[39me3\u001b[38;5;241m.\u001b[39mdisplay()\n",
      "\u001b[1;31mValueError\u001b[0m: invalid literal for int() with base 10: 'DSA'"
     ]
    }
   ],
   "source": [
    "class employee:\n",
    "    def __init__(self,a,b,c):\n",
    "        self.id=a\n",
    "        self.name=b\n",
    "        self.salary=c\n",
    "        self._salary=100\n",
    "    def display(self):\n",
    "        print(\"Employee id is= \",self.id)\n",
    "        print(\"Employee name is= \",self.name)\n",
    "        print(\"Employee salary is= \",self.salary)\n",
    "    def diff_sal(self,_salary):\n",
    "        self._salary=9000\n",
    "        self.salary=sal\n",
    "        print(\"Employee salary is= \",sal)\n",
    "#create the object/instance of the class       \n",
    "e1=employee(102,'Ram',5000)\n",
    "d1=e1.display()\n",
    "e2=employee(\"kt\",\"tassang\",300)\n",
    "d2=e2.display()\n",
    "x=input()\n",
    "y=input()\n",
    "z=int(input())\n",
    "e3=employee(x,y,z)\n",
    "d3=e3.display()\n",
    "diff=e3.diff_sal(700)"
   ]
  },
  {
   "cell_type": "code",
   "execution_count": 66,
   "id": "acaef2e1",
   "metadata": {},
   "outputs": [
    {
     "name": "stdout",
     "output_type": "stream",
     "text": [
      "Employee id is=  102\n",
      "Employee name is=  Ram\n",
      "Employee salary is=  5000\n",
      "e1 None\n",
      "e2 <__main__.employee object at 0x000002D7392C3F10> None\n"
     ]
    }
   ],
   "source": [
    "print(\"e1\",e1.display())\n",
    "print(\"e2\",e2,d2)"
   ]
  },
  {
   "cell_type": "code",
   "execution_count": 67,
   "id": "0882e1ab",
   "metadata": {},
   "outputs": [
    {
     "name": "stdout",
     "output_type": "stream",
     "text": [
      "Employee name is: Ram\n",
      "Employee age is: 30\n",
      "Employee salary is: 5000\n",
      "1\n"
     ]
    }
   ],
   "source": [
    "class employee:\n",
    "    def __init__(self):\n",
    "        self._salary=2000\n",
    "        self.name='Ram'\n",
    "        self.age=30\n",
    "        self.salary=5000\n",
    "    def show(self):\n",
    "        print(\"salary of the employee\",self._salary)\n",
    "    def display_data(self):\n",
    "        print(\"Employee name is:\",self.name)\n",
    "        print(\"Employee age is:\",self.age)\n",
    "        print(\"Employee salary is:\",self.salary)\n",
    "    def change_employee(self):\n",
    "        print(\"Employee name is:\",self.name)\n",
    "        print(\"Employee age is:\",self.age)\n",
    "        print(\"Employee salary is:\",self._salary)\n",
    "    def change_salary(self,sal):\n",
    "        self._salary=sal\n",
    "        print(sal)\n",
    "    \n",
    "#creating the instance/object of the employee class\n",
    "e1=employee()\n",
    "e1.display_data()\n",
    "e1._salary=400\n",
    "e1.change_salary(1)"
   ]
  },
  {
   "cell_type": "code",
   "execution_count": 68,
   "id": "5c4628db",
   "metadata": {},
   "outputs": [
    {
     "name": "stdout",
     "output_type": "stream",
     "text": [
      "Employee name is: Ram\n",
      "Employee age is: 30\n",
      "Employee salary is: 5000\n",
      "salary of the employee 2000\n",
      "900000\n",
      "Employee name is: Ram\n",
      "Employee age is: 30\n",
      "Employee salary is: 900000\n"
     ]
    }
   ],
   "source": [
    "e2=employee()\n",
    "x=e2.display_data()\n",
    "y=e2.show()\n",
    "e2._salary=5000\n",
    "z=e2.change_salary(900000)\n",
    "c=e2.change_employee()\n",
    "\n"
   ]
  },
  {
   "cell_type": "code",
   "execution_count": 69,
   "id": "7add48af",
   "metadata": {},
   "outputs": [
    {
     "name": "stdout",
     "output_type": "stream",
     "text": [
      "Enter first number: D\n"
     ]
    },
    {
     "ename": "ValueError",
     "evalue": "invalid literal for int() with base 10: 'D'",
     "output_type": "error",
     "traceback": [
      "\u001b[1;31m---------------------------------------------------------------------------\u001b[0m",
      "\u001b[1;31mValueError\u001b[0m                                Traceback (most recent call last)",
      "Cell \u001b[1;32mIn[69], line 22\u001b[0m\n\u001b[0;32m     20\u001b[0m         \u001b[38;5;28mprint\u001b[39m(\u001b[38;5;124m\"\u001b[39m\u001b[38;5;124mI am show method of child class\u001b[39m\u001b[38;5;124m\"\u001b[39m)\n\u001b[0;32m     21\u001b[0m \u001b[38;5;66;03m#creating the instance of the child/derived class\u001b[39;00m\n\u001b[1;32m---> 22\u001b[0m x\u001b[38;5;241m=\u001b[39m\u001b[38;5;28;43mint\u001b[39;49m\u001b[43m(\u001b[49m\u001b[38;5;28;43minput\u001b[39;49m\u001b[43m(\u001b[49m\u001b[38;5;124;43m\"\u001b[39;49m\u001b[38;5;124;43mEnter first number: \u001b[39;49m\u001b[38;5;124;43m\"\u001b[39;49m\u001b[43m)\u001b[49m\u001b[43m)\u001b[49m\n\u001b[0;32m     23\u001b[0m y\u001b[38;5;241m=\u001b[39m\u001b[38;5;28mint\u001b[39m(\u001b[38;5;28minput\u001b[39m(\u001b[38;5;124m\"\u001b[39m\u001b[38;5;124mEnter second number: \u001b[39m\u001b[38;5;124m\"\u001b[39m))\n\u001b[0;32m     24\u001b[0m z\u001b[38;5;241m=\u001b[39m\u001b[38;5;28mint\u001b[39m(\u001b[38;5;28minput\u001b[39m(\u001b[38;5;124m\"\u001b[39m\u001b[38;5;124mEnter third number: \u001b[39m\u001b[38;5;124m\"\u001b[39m))\n",
      "\u001b[1;31mValueError\u001b[0m: invalid literal for int() with base 10: 'D'"
     ]
    }
   ],
   "source": [
    "#parent class\n",
    "class student:\n",
    "    def __init__(self):\n",
    "        print(\"I am parent class constructor\")\n",
    "    def display(self):\n",
    "         print(\"I am parent class display method\")\n",
    "    def calculate(self,a,b,c):\n",
    "        self.a=a\n",
    "        self.b=b\n",
    "        self.c=c\n",
    "        self.s=a+b+c\n",
    "        print(\"Sum of three numbers is= \",self.s)        \n",
    "#child class\n",
    "class student_child(student):\n",
    "    def __init__(self):\n",
    "         #call the super function\n",
    "            super().__init__()\n",
    "            print(\"I am child class constructor\")\n",
    "    def show(self):\n",
    "        print(\"I am show method of child class\")\n",
    "#creating the instance of the child/derived class\n",
    "x=int(input(\"Enter first number: \"))\n",
    "y=int(input(\"Enter second number: \"))\n",
    "z=int(input(\"Enter third number: \"))\n",
    "c1=student_child()\n",
    "c1.display()\n",
    "c1.calculate(x,y,z)\n",
    "c1.show()"
   ]
  },
  {
   "cell_type": "code",
   "execution_count": 70,
   "id": "788c4e66",
   "metadata": {},
   "outputs": [
    {
     "name": "stdout",
     "output_type": "stream",
     "text": [
      "My good name is Ram\n",
      "I am a good student\n",
      "My name is Rajesh chauhan\n",
      "I am not a good employee\n"
     ]
    }
   ],
   "source": [
    "class student:\n",
    "    def name(self):\n",
    "        print(\"My good name is Ram\")\n",
    "    def display(self):\n",
    "        print(\"I am a good student\")\n",
    "class employee:\n",
    "    def name(self):\n",
    "        print(\"My name is Rajesh chauhan\")\n",
    "    def display(self):\n",
    "        print(\"I am not a good employee\")\n",
    "#common Interfacefunction\n",
    "def func_name(object):\n",
    "    object.name()\n",
    "    object.display()\n",
    "#creating the instace/object of the class\n",
    "s1=student()\n",
    "e1=employee()\n",
    "#Passing these class objects in common interface function one by one and get output\n",
    "func_name(s1)\n",
    "func_name(e1)"
   ]
  },
  {
   "cell_type": "code",
   "execution_count": 71,
   "id": "435d8fd9",
   "metadata": {},
   "outputs": [
    {
     "name": "stdout",
     "output_type": "stream",
     "text": [
      "salary of the employee 2000\n",
      "Employee name is: Ram\n",
      "Employee name is: 30\n",
      "salary of the employee 50000\n"
     ]
    }
   ],
   "source": [
    "class employee:\n",
    "    def __init__(self):\n",
    "        self._salary=2000\n",
    "        self.name='Ram'\n",
    "        self.age=30\n",
    "    def show(self):\n",
    "        print(\"salary of the employee\",self._salary)\n",
    "    def display_data(self):\n",
    "        print(\"Employee name is:\",self.name)\n",
    "        print(\"Employee name is:\",self.age)\n",
    "    def change_salary(self,sal):\n",
    "        self._salary=sal\n",
    "#creating the instance/object of the employee class\n",
    "e1=employee()\n",
    "e1.show()\n",
    "e1.display_data()\n",
    "e1._salary=50000\n",
    "e1.show()"
   ]
  },
  {
   "cell_type": "markdown",
   "id": "b7726f07",
   "metadata": {},
   "source": [
    "abc stands for abstract base classes.To create an abstract class we need to derive it from class ABC present in abc module.\n",
    "Now we need to mark draw() as abstract method using the decorator @abstractmethod. \n",
    "If an abstract class contains only methods marked by the decorator @abstractmethod,it is called interface."
   ]
  },
  {
   "cell_type": "code",
   "execution_count": 72,
   "id": "ab8cc602",
   "metadata": {},
   "outputs": [
    {
     "name": "stdout",
     "output_type": "stream",
     "text": [
      "Draw the circle\n"
     ]
    }
   ],
   "source": [
    "from abc import ABC,abstractmethod\n",
    "class shape(ABC):\n",
    "    @abstractmethod\n",
    "    def draw(self):\n",
    "        pass\n",
    "class circle(shape):\n",
    "    def draw(self):\n",
    "        print(\"Draw the circle\")\n",
    "class square(shape):\n",
    "    def draw(self):\n",
    "        print(\"Draw the square\")\n",
    "#s=shape()  --> this will show error because shape is abstract class\n",
    "c=circle()\n",
    "c.draw()"
   ]
  },
  {
   "cell_type": "code",
   "execution_count": 73,
   "id": "7172e9c5",
   "metadata": {},
   "outputs": [
    {
     "name": "stdout",
     "output_type": "stream",
     "text": [
      "Draw the square\n"
     ]
    }
   ],
   "source": [
    "s=square()\n",
    "s.draw()"
   ]
  },
  {
   "cell_type": "code",
   "execution_count": 74,
   "id": "d83feac6",
   "metadata": {},
   "outputs": [
    {
     "name": "stdout",
     "output_type": "stream",
     "text": [
      "DA\n"
     ]
    },
    {
     "ename": "ValueError",
     "evalue": "invalid literal for int() with base 10: 'DA'",
     "output_type": "error",
     "traceback": [
      "\u001b[1;31m---------------------------------------------------------------------------\u001b[0m",
      "\u001b[1;31mValueError\u001b[0m                                Traceback (most recent call last)",
      "Cell \u001b[1;32mIn[74], line 21\u001b[0m\n\u001b[0;32m     18\u001b[0m             age\u001b[38;5;241m=\u001b[39m\u001b[38;5;241m+\u001b[39m\u001b[38;5;241m1\u001b[39m\n\u001b[0;32m     19\u001b[0m             \u001b[38;5;28mprint\u001b[39m(p\u001b[38;5;241m.\u001b[39mamIOld())\n\u001b[1;32m---> 21\u001b[0m t \u001b[38;5;241m=\u001b[39m \u001b[38;5;28;43mint\u001b[39;49m\u001b[43m(\u001b[49m\u001b[38;5;28;43minput\u001b[39;49m\u001b[43m(\u001b[49m\u001b[43m)\u001b[49m\u001b[43m)\u001b[49m\n\u001b[0;32m     22\u001b[0m \u001b[38;5;28;01mfor\u001b[39;00m i \u001b[38;5;129;01min\u001b[39;00m \u001b[38;5;28mrange\u001b[39m(\u001b[38;5;241m0\u001b[39m, t):\n\u001b[0;32m     23\u001b[0m     age \u001b[38;5;241m=\u001b[39m \u001b[38;5;28mint\u001b[39m(\u001b[38;5;28minput\u001b[39m())         \n",
      "\u001b[1;31mValueError\u001b[0m: invalid literal for int() with base 10: 'DA'"
     ]
    }
   ],
   "source": [
    "class Person:\n",
    "    def __init__(self,initialAge):\n",
    "        # Add some more code to run some checks on initialAge\n",
    "        self.initialAge=age\n",
    "        if self.initialAge is age<0:\n",
    "            print(\"Age is not valid, setting age to 0.\")\n",
    "    def amIOld(self):\n",
    "        # Do some computations in here and print out the correct statement to the console\n",
    "        if age<=13:\n",
    "            print(\"You are Young.\")\n",
    "        if age>=13 and age<18:\n",
    "            print(\"You are a teenager.\")\n",
    "        else:\n",
    "            print(\"You are old.\")\n",
    "    def yearPasses(self):\n",
    "        # Increment the age of the person in here\n",
    "        if 1<t<4:\n",
    "            age=+1\n",
    "            print(p.amIOld())\n",
    "\n",
    "t = int(input())\n",
    "for i in range(0, t):\n",
    "    age = int(input())         \n",
    "    p = Person(age)  \n",
    "    p.amIOld()\n",
    "    for j in range(0, 3):\n",
    "        p.yearPasses()       \n",
    "    p.amIOld()\n",
    "    print(\"\")"
   ]
  },
  {
   "cell_type": "code",
   "execution_count": 75,
   "id": "b6eb70fb",
   "metadata": {},
   "outputs": [
    {
     "name": "stdout",
     "output_type": "stream",
     "text": [
      "DSA\n"
     ]
    },
    {
     "ename": "ValueError",
     "evalue": "invalid literal for int() with base 10: 'DSA'",
     "output_type": "error",
     "traceback": [
      "\u001b[1;31m---------------------------------------------------------------------------\u001b[0m",
      "\u001b[1;31mValueError\u001b[0m                                Traceback (most recent call last)",
      "Cell \u001b[1;32mIn[75], line 20\u001b[0m\n\u001b[0;32m     17\u001b[0m         \u001b[38;5;28;01mif\u001b[39;00m \u001b[38;5;241m1\u001b[39m\u001b[38;5;241m<\u001b[39mt\u001b[38;5;241m<\u001b[39m\u001b[38;5;241m4\u001b[39m:\n\u001b[0;32m     18\u001b[0m             age\u001b[38;5;241m=\u001b[39m\u001b[38;5;241m+\u001b[39m\u001b[38;5;241m1\u001b[39m\n\u001b[1;32m---> 20\u001b[0m t \u001b[38;5;241m=\u001b[39m \u001b[38;5;28;43mint\u001b[39;49m\u001b[43m(\u001b[49m\u001b[38;5;28;43minput\u001b[39;49m\u001b[43m(\u001b[49m\u001b[43m)\u001b[49m\u001b[43m)\u001b[49m\n\u001b[0;32m     21\u001b[0m \u001b[38;5;28;01mfor\u001b[39;00m i \u001b[38;5;129;01min\u001b[39;00m \u001b[38;5;28mrange\u001b[39m(\u001b[38;5;241m0\u001b[39m, t):\n\u001b[0;32m     22\u001b[0m     age \u001b[38;5;241m=\u001b[39m \u001b[38;5;28mint\u001b[39m(\u001b[38;5;28minput\u001b[39m())         \n",
      "\u001b[1;31mValueError\u001b[0m: invalid literal for int() with base 10: 'DSA'"
     ]
    }
   ],
   "source": [
    "class Person:\n",
    "    def __init__(self,initialAge):\n",
    "        # Add some more code to run some checks on initialAge\n",
    "        self.initialAge=age\n",
    "        if self.initialAge is age<0:\n",
    "            print(\"Age is not valid, setting age to 0.\")\n",
    "    def amIOld(self):\n",
    "        # Do some computations in here and print out the correct statement to the console\n",
    "        if age<=13:\n",
    "            print(\"You are Young.\")\n",
    "        if age>=13 and age<18:\n",
    "            print(\"You are a teenager.\")\n",
    "        else:\n",
    "            print(\"You are old.\")\n",
    "    def yearPasses(self):\n",
    "        # Increment the age of the person in here\n",
    "        if 1<t<4:\n",
    "            age=+1\n",
    "\n",
    "t = int(input())\n",
    "for i in range(0, t):\n",
    "    age = int(input())         \n",
    "    p = Person(age)  \n",
    "    p.amIOld()\n",
    "    for j in range(0, 3):\n",
    "        p.yearPasses()       \n",
    "    p.amIOld()\n",
    "    print(\"\")"
   ]
  },
  {
   "cell_type": "code",
   "execution_count": 76,
   "id": "f669da8a",
   "metadata": {},
   "outputs": [
    {
     "name": "stdout",
     "output_type": "stream",
     "text": [
      "DA\n"
     ]
    },
    {
     "ename": "ValueError",
     "evalue": "invalid literal for int() with base 10: 'DA'",
     "output_type": "error",
     "traceback": [
      "\u001b[1;31m---------------------------------------------------------------------------\u001b[0m",
      "\u001b[1;31mValueError\u001b[0m                                Traceback (most recent call last)",
      "Cell \u001b[1;32mIn[76], line 20\u001b[0m\n\u001b[0;32m     17\u001b[0m         \u001b[38;5;28;01mif\u001b[39;00m \u001b[38;5;241m1\u001b[39m\u001b[38;5;241m<\u001b[39mt\u001b[38;5;241m<\u001b[39m\u001b[38;5;241m4\u001b[39m:\n\u001b[0;32m     18\u001b[0m             age\u001b[38;5;241m=\u001b[39m\u001b[38;5;241m+\u001b[39m\u001b[38;5;241m1\u001b[39m\n\u001b[1;32m---> 20\u001b[0m t \u001b[38;5;241m=\u001b[39m \u001b[38;5;28;43mint\u001b[39;49m\u001b[43m(\u001b[49m\u001b[38;5;28;43minput\u001b[39;49m\u001b[43m(\u001b[49m\u001b[43m)\u001b[49m\u001b[43m)\u001b[49m\n\u001b[0;32m     21\u001b[0m \u001b[38;5;28;01mfor\u001b[39;00m i \u001b[38;5;129;01min\u001b[39;00m \u001b[38;5;28mrange\u001b[39m(\u001b[38;5;241m0\u001b[39m, t):\n\u001b[0;32m     22\u001b[0m     age \u001b[38;5;241m=\u001b[39m \u001b[38;5;28mint\u001b[39m(\u001b[38;5;28minput\u001b[39m())         \n",
      "\u001b[1;31mValueError\u001b[0m: invalid literal for int() with base 10: 'DA'"
     ]
    }
   ],
   "source": [
    "class Person:\n",
    "    def __init__(self,initialAge):\n",
    "        # Add some more code to run some checks on initialAge\n",
    "        self.initialAge=age\n",
    "        if self.initialAge is age<0:\n",
    "            print(\"Age is not valid, setting age to 0.\")\n",
    "    def amIOld(self):\n",
    "        # Do some computations in here and print out the correct statement to the console\n",
    "        if age<=13:\n",
    "            print(\"You are Young.\")\n",
    "        if age>=13 and age<18:\n",
    "            print(\"You are a teenager.\")\n",
    "        else:\n",
    "            print(\"You are old.\")\n",
    "    def yearPasses(self):\n",
    "        # Increment the age of the person in here\n",
    "        if 1<t<4:\n",
    "            age=+1\n",
    "\n",
    "t = int(input())\n",
    "for i in range(0, t):\n",
    "    age = int(input())         \n",
    "    p = Person(age)  \n",
    "    p.amIOld()\n",
    "    for j in range(0, 3):\n",
    "        p.yearPasses()       \n",
    "    p.amIOld()\n",
    "    print(\"\")"
   ]
  },
  {
   "cell_type": "code",
   "execution_count": 77,
   "id": "68a84ad8",
   "metadata": {},
   "outputs": [
    {
     "name": "stdout",
     "output_type": "stream",
     "text": [
      "DA\n"
     ]
    },
    {
     "ename": "ValueError",
     "evalue": "invalid literal for int() with base 10: 'DA'",
     "output_type": "error",
     "traceback": [
      "\u001b[1;31m---------------------------------------------------------------------------\u001b[0m",
      "\u001b[1;31mValueError\u001b[0m                                Traceback (most recent call last)",
      "Cell \u001b[1;32mIn[77], line 25\u001b[0m\n\u001b[0;32m     21\u001b[0m         \u001b[38;5;28;01mif\u001b[39;00m \u001b[38;5;241m1\u001b[39m\u001b[38;5;241m<\u001b[39mt\u001b[38;5;241m<\u001b[39m\u001b[38;5;241m4\u001b[39m:\n\u001b[0;32m     22\u001b[0m             age\u001b[38;5;241m=\u001b[39m\u001b[38;5;241m+\u001b[39m\u001b[38;5;241m1\u001b[39m\n\u001b[1;32m---> 25\u001b[0m t \u001b[38;5;241m=\u001b[39m \u001b[38;5;28;43mint\u001b[39;49m\u001b[43m(\u001b[49m\u001b[38;5;28;43minput\u001b[39;49m\u001b[43m(\u001b[49m\u001b[43m)\u001b[49m\u001b[43m)\u001b[49m\n\u001b[0;32m     26\u001b[0m \u001b[38;5;28;01mfor\u001b[39;00m i \u001b[38;5;129;01min\u001b[39;00m \u001b[38;5;28mrange\u001b[39m(\u001b[38;5;241m0\u001b[39m, t):\n\u001b[0;32m     27\u001b[0m     age \u001b[38;5;241m=\u001b[39m \u001b[38;5;28mint\u001b[39m(\u001b[38;5;28minput\u001b[39m())         \n",
      "\u001b[1;31mValueError\u001b[0m: invalid literal for int() with base 10: 'DA'"
     ]
    }
   ],
   "source": [
    "class Person:\n",
    "    def __init__(self,initialAge):\n",
    "        # Add some more code to run some checks on initialAge\n",
    "        self.initialAge=age\n",
    "        if self.initialAge is age<0:\n",
    "            print(\"Age is not valid, setting age to 0.\")\n",
    "    def amIOld(self):\n",
    "        # Do some computations in here and print out the correct statement to the console\n",
    "        if -5<age<30:\n",
    "            if age<=13:\n",
    "                print(\"You are Young.\")\n",
    "            if age>=13 and age<18:\n",
    "                print(\"You are a teenager.\")\n",
    "            if age>18:\n",
    "                print(\"You are old.\")\n",
    "            else:\n",
    "                pass\n",
    "        \n",
    "    def yearPasses(self):\n",
    "        # Increment the age of the person in here\n",
    "        if 1<t<4:\n",
    "            age=+1\n",
    "        \n",
    "\n",
    "t = int(input())\n",
    "for i in range(0, t):\n",
    "    age = int(input())         \n",
    "    p = Person(age)  \n",
    "    p.amIOld()\n",
    "    for j in range(0, 3):\n",
    "        p.yearPasses()       \n",
    "    p.amIOld()\n",
    "    print(\"\")"
   ]
  },
  {
   "cell_type": "code",
   "execution_count": 78,
   "id": "6c1e1904",
   "metadata": {},
   "outputs": [
    {
     "name": "stdout",
     "output_type": "stream",
     "text": [
      "SD\n"
     ]
    },
    {
     "ename": "ValueError",
     "evalue": "invalid literal for int() with base 10: 'SD'",
     "output_type": "error",
     "traceback": [
      "\u001b[1;31m---------------------------------------------------------------------------\u001b[0m",
      "\u001b[1;31mValueError\u001b[0m                                Traceback (most recent call last)",
      "Cell \u001b[1;32mIn[78], line 25\u001b[0m\n\u001b[0;32m     21\u001b[0m         \u001b[38;5;28;01mif\u001b[39;00m \u001b[38;5;241m1\u001b[39m\u001b[38;5;241m<\u001b[39mt\u001b[38;5;241m<\u001b[39m\u001b[38;5;241m5\u001b[39m:\n\u001b[0;32m     22\u001b[0m             age\u001b[38;5;241m=\u001b[39m\u001b[38;5;241m+\u001b[39m\u001b[38;5;241m1\u001b[39m\n\u001b[1;32m---> 25\u001b[0m t \u001b[38;5;241m=\u001b[39m \u001b[38;5;28;43mint\u001b[39;49m\u001b[43m(\u001b[49m\u001b[38;5;28;43minput\u001b[39;49m\u001b[43m(\u001b[49m\u001b[43m)\u001b[49m\u001b[43m)\u001b[49m\n\u001b[0;32m     26\u001b[0m \u001b[38;5;28;01mfor\u001b[39;00m i \u001b[38;5;129;01min\u001b[39;00m \u001b[38;5;28mrange\u001b[39m(\u001b[38;5;241m0\u001b[39m, t):\n\u001b[0;32m     27\u001b[0m     age \u001b[38;5;241m=\u001b[39m \u001b[38;5;28mint\u001b[39m(\u001b[38;5;28minput\u001b[39m())         \n",
      "\u001b[1;31mValueError\u001b[0m: invalid literal for int() with base 10: 'SD'"
     ]
    }
   ],
   "source": [
    "class Person:\n",
    "    def __init__(self,initialAge):\n",
    "        # Add some more code to run some checks on initialAge\n",
    "        self.initialAge=age\n",
    "        if self.initialAge == age<0:\n",
    "            print(\"Age is not valid, setting age to 0.\")\n",
    "    def amIOld(self):\n",
    "        # Do some computations in here and print out the correct statement to the console\n",
    "        if -5<age<30:\n",
    "            if age<=13:\n",
    "                print(\"You are Young.\")\n",
    "            if age>=13 and age<18:\n",
    "                print(\"You are a teenager.\")\n",
    "                if age>=18:\n",
    "                    print(\"You are old.\")\n",
    "            else:\n",
    "                pass\n",
    "        \n",
    "    def yearPasses(self):\n",
    "        # Increment the age of the person in here\n",
    "        if 1<t<5:\n",
    "            age=+1\n",
    "        \n",
    "\n",
    "t = int(input())\n",
    "for i in range(0, t):\n",
    "    age = int(input())         \n",
    "    p = Person(age)  \n",
    "    p.amIOld()\n",
    "    for j in range(0, 3):\n",
    "        p.yearPasses()       \n",
    "    p.amIOld()\n",
    "    print(\"\")"
   ]
  },
  {
   "cell_type": "code",
   "execution_count": 79,
   "id": "b25a9082",
   "metadata": {},
   "outputs": [
    {
     "name": "stdout",
     "output_type": "stream",
     "text": [
      "D\n"
     ]
    },
    {
     "ename": "ValueError",
     "evalue": "invalid literal for int() with base 10: 'D'",
     "output_type": "error",
     "traceback": [
      "\u001b[1;31m---------------------------------------------------------------------------\u001b[0m",
      "\u001b[1;31mValueError\u001b[0m                                Traceback (most recent call last)",
      "Cell \u001b[1;32mIn[79], line 24\u001b[0m\n\u001b[0;32m     20\u001b[0m         \u001b[38;5;28;01mif\u001b[39;00m \u001b[38;5;241m1\u001b[39m\u001b[38;5;241m<\u001b[39mt\u001b[38;5;241m<\u001b[39m\u001b[38;5;241m5\u001b[39m:\n\u001b[0;32m     21\u001b[0m             age\u001b[38;5;241m=\u001b[39m\u001b[38;5;241m+\u001b[39m\u001b[38;5;241m1\u001b[39m\n\u001b[1;32m---> 24\u001b[0m t \u001b[38;5;241m=\u001b[39m \u001b[38;5;28;43mint\u001b[39;49m\u001b[43m(\u001b[49m\u001b[38;5;28;43minput\u001b[39;49m\u001b[43m(\u001b[49m\u001b[43m)\u001b[49m\u001b[43m)\u001b[49m\n\u001b[0;32m     25\u001b[0m \u001b[38;5;28;01mfor\u001b[39;00m i \u001b[38;5;129;01min\u001b[39;00m \u001b[38;5;28mrange\u001b[39m(\u001b[38;5;241m0\u001b[39m, t):\n\u001b[0;32m     26\u001b[0m     age \u001b[38;5;241m=\u001b[39m \u001b[38;5;28mint\u001b[39m(\u001b[38;5;28minput\u001b[39m())         \n",
      "\u001b[1;31mValueError\u001b[0m: invalid literal for int() with base 10: 'D'"
     ]
    }
   ],
   "source": [
    "class Person:\n",
    "    def __init__(self,initialAge):\n",
    "        # Add some more code to run some checks on initialAge\n",
    "        self.initialAge=age\n",
    "        if self.initialAge == age<0:\n",
    "            print(\"Age is not valid, setting age to 0.\")\n",
    "    def amIOld(self):\n",
    "        # Do some computations in here and print out the correct statement to the console\n",
    "        if -5<age<30:\n",
    "            if age<=13:\n",
    "                print(\"You are Young.\")\n",
    "            if age>=13 and age<18:\n",
    "                print(\"You are a teenager.\")\n",
    "            else:\n",
    "                if age<=13 and age>=18:\n",
    "                    print(\"You are old.\")\n",
    "        \n",
    "    def yearPasses(self):\n",
    "        # Increment the age of the person in here\n",
    "        if 1<t<5:\n",
    "            age=+1\n",
    "        \n",
    "\n",
    "t = int(input())\n",
    "for i in range(0, t):\n",
    "    age = int(input())         \n",
    "    p = Person(age)  \n",
    "    p.amIOld()\n",
    "    for j in range(0, 3):\n",
    "        p.yearPasses()       \n",
    "    p.amIOld()\n",
    "    print(\"\")"
   ]
  },
  {
   "cell_type": "code",
   "execution_count": 80,
   "id": "e3060529",
   "metadata": {},
   "outputs": [
    {
     "name": "stdout",
     "output_type": "stream",
     "text": [
      "324\n",
      "324\n",
      "\n",
      "2343\n",
      "\n",
      "234\n",
      "\n",
      "324\n",
      "\n",
      "32\n",
      "\n",
      "4\n",
      "You are Young.\n",
      "You are a teenager.\n",
      "You are Young.\n",
      "You are a teenager.\n",
      "\n",
      "34\n",
      "\n",
      "34\n",
      "\n",
      "34\n",
      "\n",
      "34\n",
      "\n",
      "34\n",
      "\n",
      "34\n",
      "\n",
      "3\n",
      "You are Young.\n",
      "You are a teenager.\n",
      "You are Young.\n",
      "You are a teenager.\n",
      "\n",
      "3\n",
      "You are Young.\n",
      "You are a teenager.\n",
      "You are Young.\n",
      "You are a teenager.\n",
      "\n",
      "4\n",
      "You are Young.\n",
      "You are a teenager.\n",
      "You are Young.\n",
      "You are a teenager.\n",
      "\n",
      "4\n",
      "You are Young.\n",
      "You are a teenager.\n",
      "You are Young.\n",
      "You are a teenager.\n",
      "\n",
      "34\n",
      "\n",
      "3\n",
      "You are Young.\n",
      "You are a teenager.\n",
      "You are Young.\n",
      "You are a teenager.\n",
      "\n",
      "4\n",
      "You are Young.\n",
      "You are a teenager.\n",
      "You are Young.\n",
      "You are a teenager.\n",
      "\n",
      "34\n",
      "\n",
      "3\n",
      "You are Young.\n",
      "You are a teenager.\n",
      "You are Young.\n",
      "You are a teenager.\n",
      "\n",
      "4\n",
      "You are Young.\n",
      "You are a teenager.\n",
      "You are Young.\n",
      "You are a teenager.\n",
      "\n",
      "34\n",
      "\n",
      "\n"
     ]
    },
    {
     "ename": "ValueError",
     "evalue": "invalid literal for int() with base 10: ''",
     "output_type": "error",
     "traceback": [
      "\u001b[1;31m---------------------------------------------------------------------------\u001b[0m",
      "\u001b[1;31mValueError\u001b[0m                                Traceback (most recent call last)",
      "Cell \u001b[1;32mIn[80], line 25\u001b[0m\n\u001b[0;32m     23\u001b[0m t \u001b[38;5;241m=\u001b[39m \u001b[38;5;28mint\u001b[39m(\u001b[38;5;28minput\u001b[39m())\n\u001b[0;32m     24\u001b[0m \u001b[38;5;28;01mfor\u001b[39;00m i \u001b[38;5;129;01min\u001b[39;00m \u001b[38;5;28mrange\u001b[39m(\u001b[38;5;241m0\u001b[39m, t):\n\u001b[1;32m---> 25\u001b[0m     age \u001b[38;5;241m=\u001b[39m \u001b[38;5;28;43mint\u001b[39;49m\u001b[43m(\u001b[49m\u001b[38;5;28;43minput\u001b[39;49m\u001b[43m(\u001b[49m\u001b[43m)\u001b[49m\u001b[43m)\u001b[49m         \n\u001b[0;32m     26\u001b[0m     p \u001b[38;5;241m=\u001b[39m Person(age)  \n\u001b[0;32m     27\u001b[0m     p\u001b[38;5;241m.\u001b[39mamIOld()\n",
      "\u001b[1;31mValueError\u001b[0m: invalid literal for int() with base 10: ''"
     ]
    }
   ],
   "source": [
    "class Person:\n",
    "    def __init__(self,initialAge):\n",
    "        # Add some more code to run some checks on initialAge\n",
    "        self.initialAge=age\n",
    "    def amIOld(self):\n",
    "        # Do some computations in here and print out the correct statement to the console\n",
    "        if -5<age<30:\n",
    "            if age==0 or age<0:\n",
    "                print(\"Age is not valid, setting age to 0.\")\n",
    "            if age<=13:\n",
    "                print(\"You are Young.\")\n",
    "            if age>=13 or age<18:\n",
    "                print(\"You are a teenager.\")\n",
    "            else:\n",
    "                print(\"You are old.\")\n",
    "        \n",
    "    def yearPasses(self):\n",
    "        # Increment the age of the person in here\n",
    "        if 1<t<5:\n",
    "            age=+1\n",
    "        \n",
    "\n",
    "t = int(input())\n",
    "for i in range(0, t):\n",
    "    age = int(input())         \n",
    "    p = Person(age)  \n",
    "    p.amIOld()\n",
    "    for j in range(0, 3):\n",
    "        p.yearPasses()       \n",
    "    p.amIOld()\n",
    "    print(\"\")"
   ]
  },
  {
   "cell_type": "markdown",
   "id": "e6539d26",
   "metadata": {},
   "source": [
    "### class Person:\n",
    "    def __init__(self,initialAge):\n",
    "        # Add some more code to run some checks on initialAge\n",
    "        self.initialAge=age\n",
    "    def amIOld(self):\n",
    "        # Do some computations in here and print out the correct statement to the console\n",
    "        if -5<age<30:\n",
    "            if age==0 or age<0:\n",
    "                print(\"Age is not valid, setting age to 0.\")\n",
    "            if age<=13:\n",
    "                print(\"You are Young.\")\n",
    "            if age>=13 or age<18:\n",
    "                print(\"You are a teenager.\")\n",
    "            else:\n",
    "                print(\"You are old.\")\n",
    "        \n",
    "    def yearPasses(self):\n",
    "        # Increment the age of the person in here\n",
    "        if 1<t<4:\n",
    "            age+=1\n",
    "            pass\n",
    "        \n",
    "\n",
    "t = int(input())\n",
    "for i in range(0, t):\n",
    "    age = int(input())         \n",
    "    p = Person(age)  \n",
    "    p.amIOld()\n",
    "    for j in range(0, 3):\n",
    "        p.yearPasses()       \n",
    "    p.amIOld()\n",
    "    print(\"\")"
   ]
  },
  {
   "cell_type": "code",
   "execution_count": 81,
   "id": "8ada8088",
   "metadata": {},
   "outputs": [
    {
     "name": "stdout",
     "output_type": "stream",
     "text": [
      "2\n",
      "34\n"
     ]
    },
    {
     "ename": "UnboundLocalError",
     "evalue": "local variable 'age' referenced before assignment",
     "output_type": "error",
     "traceback": [
      "\u001b[1;31m---------------------------------------------------------------------------\u001b[0m",
      "\u001b[1;31mUnboundLocalError\u001b[0m                         Traceback (most recent call last)",
      "Cell \u001b[1;32mIn[81], line 29\u001b[0m\n\u001b[0;32m     27\u001b[0m p\u001b[38;5;241m.\u001b[39mamIOld()\n\u001b[0;32m     28\u001b[0m \u001b[38;5;28;01mfor\u001b[39;00m j \u001b[38;5;129;01min\u001b[39;00m \u001b[38;5;28mrange\u001b[39m(\u001b[38;5;241m0\u001b[39m, \u001b[38;5;241m3\u001b[39m):\n\u001b[1;32m---> 29\u001b[0m     \u001b[43mp\u001b[49m\u001b[38;5;241;43m.\u001b[39;49m\u001b[43myearPasses\u001b[49m\u001b[43m(\u001b[49m\u001b[43m)\u001b[49m       \n\u001b[0;32m     30\u001b[0m p\u001b[38;5;241m.\u001b[39mamIOld()\n\u001b[0;32m     31\u001b[0m \u001b[38;5;28mprint\u001b[39m(\u001b[38;5;124m\"\u001b[39m\u001b[38;5;124m\"\u001b[39m)\n",
      "Cell \u001b[1;32mIn[81], line 20\u001b[0m, in \u001b[0;36mPerson.yearPasses\u001b[1;34m(self)\u001b[0m\n\u001b[0;32m     17\u001b[0m \u001b[38;5;28;01mdef\u001b[39;00m \u001b[38;5;21myearPasses\u001b[39m(\u001b[38;5;28mself\u001b[39m):\n\u001b[0;32m     18\u001b[0m     \u001b[38;5;66;03m# Increment the age of the person in here\u001b[39;00m\n\u001b[0;32m     19\u001b[0m     \u001b[38;5;28;01mfor\u001b[39;00m i \u001b[38;5;129;01min\u001b[39;00m \u001b[38;5;28mrange\u001b[39m(\u001b[38;5;241m1\u001b[39m,t):\n\u001b[1;32m---> 20\u001b[0m         age\u001b[38;5;241m+\u001b[39m\u001b[38;5;241m=\u001b[39m\u001b[38;5;241m1\u001b[39m\n",
      "\u001b[1;31mUnboundLocalError\u001b[0m: local variable 'age' referenced before assignment"
     ]
    }
   ],
   "source": [
    "class Person:\n",
    "    def __init__(self,initialAge):\n",
    "        # Add some more code to run some checks on initialAge\n",
    "        self.initialAge=age\n",
    "    def amIOld(self):\n",
    "        # Do some computations in here and print out the correct statement to the console\n",
    "        if -5<age<30:\n",
    "            if age==0 or age<0:\n",
    "                print(\"Age is not valid, setting age to 0.\")\n",
    "            if age<=13:\n",
    "                print(\"You are Young.\")\n",
    "            if age>=13 or age<18:\n",
    "                print(\"You are a teenager.\")\n",
    "            else:\n",
    "                print(\"You are old.\")\n",
    "        \n",
    "    def yearPasses(self):\n",
    "        # Increment the age of the person in here\n",
    "        for i in range(1,t):\n",
    "            age+=1\n",
    "        \n",
    "\n",
    "t = int(input())\n",
    "for i in range(0, t):\n",
    "    age = int(input())         \n",
    "    p = Person(age)  \n",
    "    p.amIOld()\n",
    "    for j in range(0, 3):\n",
    "        p.yearPasses()       \n",
    "    p.amIOld()\n",
    "    print(\"\")"
   ]
  },
  {
   "cell_type": "markdown",
   "id": "41eb985d",
   "metadata": {},
   "source": [
    "#### class Person:\n",
    "    def __init__(self,initialAge):\n",
    "        # Add some more code to run some checks on initialAge\n",
    "        self.initialAge=age\n",
    "    def amIOld(self):\n",
    "        # Do some computations in here and print out the correct statement to the console\n",
    "        if -5<age<30:\n",
    "            if age==0 or age<0:\n",
    "                print(\"Age is not valid, setting age to 0.\")\n",
    "            if age<=13:\n",
    "                print(\"You are Young.\")\n",
    "            if age>=13 or age<18:\n",
    "                print(\"You are a teenager.\")\n",
    "            else:\n",
    "                print(\"You are old.\")\n",
    "        \n",
    "    def yearPasses(self):\n",
    "        # Increment the age of the person in here\n",
    "        if 1<t<4:\n",
    "            age+=1\n",
    "            pass\n",
    "        \n",
    "def _driver():\n",
    "    t = int(input())\n",
    "    for i in range(0, t):\n",
    "        age = int(input())\n",
    "        p = Person(age)  \n",
    "        p.amIOld()\n",
    "        for j in range(0, 3):\n",
    "            p.yearPasses()       \n",
    "        p.amIOld()\n",
    "        print(\"\")"
   ]
  },
  {
   "cell_type": "code",
   "execution_count": 82,
   "id": "415b86d4",
   "metadata": {},
   "outputs": [
    {
     "ename": "NameError",
     "evalue": "name '_driver' is not defined",
     "output_type": "error",
     "traceback": [
      "\u001b[1;31m---------------------------------------------------------------------------\u001b[0m",
      "\u001b[1;31mNameError\u001b[0m                                 Traceback (most recent call last)",
      "Cell \u001b[1;32mIn[82], line 1\u001b[0m\n\u001b[1;32m----> 1\u001b[0m \u001b[43m_driver\u001b[49m()\n",
      "\u001b[1;31mNameError\u001b[0m: name '_driver' is not defined"
     ]
    }
   ],
   "source": [
    "_driver()"
   ]
  },
  {
   "cell_type": "code",
   "execution_count": 83,
   "id": "9ecf53cb",
   "metadata": {},
   "outputs": [],
   "source": [
    "class Person:\n",
    "    def __init__(self,initialAge):\n",
    "        # Add some more code to run some checks on initialAge\n",
    "        self.initialAge=age\n",
    "    def amIOld(self):\n",
    "        # Do some computations in here and print out the correct statement to the console\n",
    "        if -5<age<30:\n",
    "            if age==0 or age<0:\n",
    "                print(\"Age is not valid, setting age to 0.\")\n",
    "            if age<=13:\n",
    "                print(\"You are Young.\")\n",
    "            if age>=13 or age==18:\n",
    "                print(\"You are a teenager.\")\n",
    "            else:\n",
    "                print(\"You are old.\")\n",
    "        \n",
    "    def yearPasses(self):\n",
    "        # Increment the age of the person in here\n",
    "        if 1<t<4:\n",
    "            age+=1\n",
    "            pass\n",
    "        \n",
    "def _driver():\n",
    "    t = int(input())\n",
    "    for i in range(0, t):\n",
    "        age = int(input())\n",
    "        p = Person(age)  \n",
    "        p.amIOld()\n",
    "        for j in range(0, 3):\n",
    "            p.yearPasses()       \n",
    "        p.amIOld()\n",
    "        print(\"\")"
   ]
  },
  {
   "cell_type": "code",
   "execution_count": 84,
   "id": "9e0c0c7c",
   "metadata": {},
   "outputs": [
    {
     "name": "stdout",
     "output_type": "stream",
     "text": [
      "\n"
     ]
    },
    {
     "ename": "ValueError",
     "evalue": "invalid literal for int() with base 10: ''",
     "output_type": "error",
     "traceback": [
      "\u001b[1;31m---------------------------------------------------------------------------\u001b[0m",
      "\u001b[1;31mValueError\u001b[0m                                Traceback (most recent call last)",
      "Cell \u001b[1;32mIn[84], line 23\u001b[0m\n\u001b[0;32m     18\u001b[0m     \u001b[38;5;28;01mdef\u001b[39;00m \u001b[38;5;21myearPasses\u001b[39m(\u001b[38;5;28mself\u001b[39m):\n\u001b[0;32m     19\u001b[0m         \u001b[38;5;66;03m# Increment the age of the person in here\u001b[39;00m\n\u001b[0;32m     20\u001b[0m         Person\u001b[38;5;241m.\u001b[39mage\u001b[38;5;241m=\u001b[39m\u001b[38;5;241m+\u001b[39m\u001b[38;5;241m1\u001b[39m\n\u001b[1;32m---> 23\u001b[0m t \u001b[38;5;241m=\u001b[39m \u001b[38;5;28;43mint\u001b[39;49m\u001b[43m(\u001b[49m\u001b[38;5;28;43minput\u001b[39;49m\u001b[43m(\u001b[49m\u001b[43m)\u001b[49m\u001b[43m)\u001b[49m\n\u001b[0;32m     24\u001b[0m \u001b[38;5;28;01mfor\u001b[39;00m i \u001b[38;5;129;01min\u001b[39;00m \u001b[38;5;28mrange\u001b[39m(\u001b[38;5;241m0\u001b[39m, t):\n\u001b[0;32m     25\u001b[0m     age \u001b[38;5;241m=\u001b[39m \u001b[38;5;28mint\u001b[39m(\u001b[38;5;28minput\u001b[39m())         \n",
      "\u001b[1;31mValueError\u001b[0m: invalid literal for int() with base 10: ''"
     ]
    }
   ],
   "source": [
    "import time\n",
    "class Person:\n",
    "    def __init__(self,initialAge):\n",
    "        # Add some more code to run some checks on initialAge\n",
    "        self.initialAge=age\n",
    "        if age<0:\n",
    "            print(\"Age is not valid, setting age to 0.\")\n",
    "    def amIOld(self):\n",
    "        # Do some computations in here and print out the correct statement to the console\n",
    "        if age>13 and age<0:\n",
    "            print(\"You are Young.\")\n",
    "        if age>13 and age<18 and age!=18:\n",
    "            print(\"You are a teenager.\") \n",
    "        else:\n",
    "            print(\"You are old.\")\n",
    "            \n",
    "        \n",
    "    def yearPasses(self):\n",
    "        # Increment the age of the person in here\n",
    "        Person.age=+1\n",
    "        \n",
    "\n",
    "t = int(input())\n",
    "for i in range(0, t):\n",
    "    age = int(input())         \n",
    "    p = Person(age)  \n",
    "    p.amIOld()\n",
    "    time.sleep(0.3)\n",
    "    for j in range(0, 3):\n",
    "        p.yearPasses()       \n",
    "    p.amIOld()\n",
    "    time.sleep(0.3)\n",
    "    print(\"\")"
   ]
  },
  {
   "cell_type": "code",
   "execution_count": 85,
   "id": "c5182a7a",
   "metadata": {},
   "outputs": [
    {
     "name": "stdout",
     "output_type": "stream",
     "text": [
      "3434\n",
      "34\n",
      "You are old.\n",
      "You are old.\n",
      "\n",
      "34#\n"
     ]
    },
    {
     "ename": "ValueError",
     "evalue": "invalid literal for int() with base 10: '34#'",
     "output_type": "error",
     "traceback": [
      "\u001b[1;31m---------------------------------------------------------------------------\u001b[0m",
      "\u001b[1;31mValueError\u001b[0m                                Traceback (most recent call last)",
      "Cell \u001b[1;32mIn[85], line 26\u001b[0m\n\u001b[0;32m     24\u001b[0m t \u001b[38;5;241m=\u001b[39m \u001b[38;5;28mint\u001b[39m(\u001b[38;5;28minput\u001b[39m())\n\u001b[0;32m     25\u001b[0m \u001b[38;5;28;01mfor\u001b[39;00m i \u001b[38;5;129;01min\u001b[39;00m \u001b[38;5;28mrange\u001b[39m(\u001b[38;5;241m0\u001b[39m, t):\n\u001b[1;32m---> 26\u001b[0m     age \u001b[38;5;241m=\u001b[39m \u001b[38;5;28;43mint\u001b[39;49m\u001b[43m(\u001b[49m\u001b[38;5;28;43minput\u001b[39;49m\u001b[43m(\u001b[49m\u001b[43m)\u001b[49m\u001b[43m)\u001b[49m         \n\u001b[0;32m     27\u001b[0m     p \u001b[38;5;241m=\u001b[39m Person(age)  \n\u001b[0;32m     28\u001b[0m     p\u001b[38;5;241m.\u001b[39mamIOld()\n",
      "\u001b[1;31mValueError\u001b[0m: invalid literal for int() with base 10: '34#'"
     ]
    }
   ],
   "source": [
    "class Person:\n",
    "    def __init__(self,initialAge):\n",
    "        # Add some more code to run some checks on initialAge\n",
    "        self.initialAge=age\n",
    "        if age<0:\n",
    "            print(\"Age is not valid, setting age to 0.\")\n",
    "    def amIOld(self):\n",
    "        # Do some computations in here and print out the correct statement to the console\n",
    "        if age<=13 or 0:\n",
    "            print(\"You are Young.\")\n",
    "        if 13<age<18:\n",
    "            print(\"You are a teenager.\")\n",
    "            #print(\"You are old.\")\n",
    "        else:\n",
    "            print(\"You are old.\")\n",
    "            \n",
    "        \n",
    "    def yearPasses(self):\n",
    "        # Increment the age of the person in here\n",
    "        Person.age=+1\n",
    "    \n",
    "        \n",
    "\n",
    "t = int(input())\n",
    "for i in range(0, t):\n",
    "    age = int(input())         \n",
    "    p = Person(age)  \n",
    "    p.amIOld()\n",
    "    for j in range(0, 3):\n",
    "        p.yearPasses()       \n",
    "    p.amIOld()\n",
    "    print(\"\")"
   ]
  },
  {
   "cell_type": "code",
   "execution_count": 86,
   "id": "a51f5112",
   "metadata": {},
   "outputs": [
    {
     "ename": "IndentationError",
     "evalue": "unexpected indent (849430020.py, line 2)",
     "output_type": "error",
     "traceback": [
      "\u001b[1;36m  Cell \u001b[1;32mIn[86], line 2\u001b[1;36m\u001b[0m\n\u001b[1;33m    def __init__(self,initialAge):\u001b[0m\n\u001b[1;37m    ^\u001b[0m\n\u001b[1;31mIndentationError\u001b[0m\u001b[1;31m:\u001b[0m unexpected indent\n"
     ]
    }
   ],
   "source": [
    "# class Person:\n",
    "    def __init__(self,initialAge):\n",
    "        # Add some more code to run some checks on initialAge\n",
    "        self.initialAge=age\n",
    "        if age<0:\n",
    "            print(\"Age is not valid, setting age to 0.\")\n",
    "    def amIOld(self):\n",
    "        # Do some computations in here and print out the correct statement to the console\n",
    "        if age<=13 or 0:\n",
    "            print(\"You are Young.\")\n",
    "        if 13<age<18:\n",
    "            print(\"You are a teenager.\")\n",
    "            #print(\"You are old.\")\n",
    "        else:\n",
    "            print(\"You are old.\")\n",
    "            \n",
    "        \n",
    "    def yearPasses(self):\n",
    "        # Increment the age of the person in here\n",
    "        if t<4:\n",
    "            Person.age=+1\n",
    "        else:\n",
    "            pass\n",
    "        \n",
    "    \n",
    "        \n",
    "\n",
    "t = int(input())\n",
    "for i in range(0, t):\n",
    "    age = int(input())         \n",
    "    p = Person(age)  \n",
    "    p.amIOld()\n",
    "    for j in range(0, 3):\n",
    "        p.yearPasses()       \n",
    "    p.amIOld()\n",
    "    print(\"\")"
   ]
  },
  {
   "cell_type": "code",
   "execution_count": 87,
   "id": "f3814402",
   "metadata": {},
   "outputs": [
    {
     "name": "stdout",
     "output_type": "stream",
     "text": [
      "#\n"
     ]
    },
    {
     "ename": "ValueError",
     "evalue": "invalid literal for int() with base 10: '#'",
     "output_type": "error",
     "traceback": [
      "\u001b[1;31m---------------------------------------------------------------------------\u001b[0m",
      "\u001b[1;31mValueError\u001b[0m                                Traceback (most recent call last)",
      "Cell \u001b[1;32mIn[87], line 23\u001b[0m\n\u001b[0;32m     17\u001b[0m     \u001b[38;5;28;01mdef\u001b[39;00m \u001b[38;5;21myearPasses\u001b[39m(\u001b[38;5;28mself\u001b[39m):\n\u001b[0;32m     18\u001b[0m         \u001b[38;5;66;03m# Increment the age of the person in here\u001b[39;00m\n\u001b[0;32m     19\u001b[0m         \u001b[38;5;28mself\u001b[39m\u001b[38;5;241m.\u001b[39mage\u001b[38;5;241m=\u001b[39m\u001b[38;5;241m+\u001b[39m\u001b[38;5;241m1\u001b[39m\n\u001b[1;32m---> 23\u001b[0m t \u001b[38;5;241m=\u001b[39m \u001b[38;5;28;43mint\u001b[39;49m\u001b[43m(\u001b[49m\u001b[38;5;28;43minput\u001b[39;49m\u001b[43m(\u001b[49m\u001b[43m)\u001b[49m\u001b[43m)\u001b[49m\n\u001b[0;32m     24\u001b[0m \u001b[38;5;28;01mfor\u001b[39;00m i \u001b[38;5;129;01min\u001b[39;00m \u001b[38;5;28mrange\u001b[39m(\u001b[38;5;241m0\u001b[39m, t):\n\u001b[0;32m     25\u001b[0m     age \u001b[38;5;241m=\u001b[39m \u001b[38;5;28mint\u001b[39m(\u001b[38;5;28minput\u001b[39m())         \n",
      "\u001b[1;31mValueError\u001b[0m: invalid literal for int() with base 10: '#'"
     ]
    }
   ],
   "source": [
    "class Person:\n",
    "    def __init__(self,initialAge):\n",
    "        # Add some more code to run some checks on initialAge\n",
    "        self.initialAge=age\n",
    "        if self.initialAge<0:\n",
    "            print(\"Age is not valid, setting age to 0.\")\n",
    "    def amIOld(self):\n",
    "        # Do some computations in here and print out the correct statement to the console\n",
    "        if age<13:\n",
    "            print(\"You are Young.\")\n",
    "        elif age<18:\n",
    "            print(\"You are a teenager.\")\n",
    "        else:\n",
    "            print(\"You are old.\")\n",
    "            \n",
    "        \n",
    "    def yearPasses(self):\n",
    "        # Increment the age of the person in here\n",
    "        self.age=+1\n",
    "    \n",
    "        \n",
    "\n",
    "t = int(input())\n",
    "for i in range(0, t):\n",
    "    age = int(input())         \n",
    "    p = Person(age)  \n",
    "    p.amIOld()\n",
    "    for j in range(0, 3):\n",
    "        p.yearPasses()       \n",
    "    p.amIOld()\n",
    "    print(\"\")"
   ]
  },
  {
   "cell_type": "code",
   "execution_count": 88,
   "id": "5a5d7d2d",
   "metadata": {},
   "outputs": [
    {
     "name": "stdout",
     "output_type": "stream",
     "text": [
      "$\n"
     ]
    },
    {
     "ename": "ValueError",
     "evalue": "invalid literal for int() with base 10: '$'",
     "output_type": "error",
     "traceback": [
      "\u001b[1;31m---------------------------------------------------------------------------\u001b[0m",
      "\u001b[1;31mValueError\u001b[0m                                Traceback (most recent call last)",
      "Cell \u001b[1;32mIn[88], line 23\u001b[0m\n\u001b[0;32m     17\u001b[0m     \u001b[38;5;28;01mdef\u001b[39;00m \u001b[38;5;21myearPasses\u001b[39m(\u001b[38;5;28mself\u001b[39m):\n\u001b[0;32m     18\u001b[0m         \u001b[38;5;66;03m# Increment the age of the person in here\u001b[39;00m\n\u001b[0;32m     19\u001b[0m         \u001b[38;5;28mself\u001b[39m\u001b[38;5;241m.\u001b[39minitialAge\u001b[38;5;241m=\u001b[39m\u001b[38;5;241m+\u001b[39m\u001b[38;5;241m1\u001b[39m\n\u001b[1;32m---> 23\u001b[0m t \u001b[38;5;241m=\u001b[39m \u001b[38;5;28;43mint\u001b[39;49m\u001b[43m(\u001b[49m\u001b[38;5;28;43minput\u001b[39;49m\u001b[43m(\u001b[49m\u001b[43m)\u001b[49m\u001b[43m)\u001b[49m\n\u001b[0;32m     24\u001b[0m \u001b[38;5;28;01mfor\u001b[39;00m i \u001b[38;5;129;01min\u001b[39;00m \u001b[38;5;28mrange\u001b[39m(\u001b[38;5;241m0\u001b[39m, t):\n\u001b[0;32m     25\u001b[0m     age \u001b[38;5;241m=\u001b[39m \u001b[38;5;28mint\u001b[39m(\u001b[38;5;28minput\u001b[39m())         \n",
      "\u001b[1;31mValueError\u001b[0m: invalid literal for int() with base 10: '$'"
     ]
    }
   ],
   "source": [
    "class Person:\n",
    "    def __init__(self,initialAge):\n",
    "        # Add some more code to run some checks on initialAge\n",
    "        self.initialAge=age\n",
    "        if self.initialAge<0:\n",
    "            print(\"Age is not valid, setting age to 0.\")\n",
    "    def amIOld(self):\n",
    "        # Do some computations in here and print out the correct statement to the console\n",
    "        if self.initialAge<13:\n",
    "            print(\"You are Young.\")\n",
    "        elif self.initialAge<18:\n",
    "            print(\"You are a teenager.\")\n",
    "        else:\n",
    "            print(\"You are old.\")\n",
    "            \n",
    "        \n",
    "    def yearPasses(self):\n",
    "        # Increment the age of the person in here\n",
    "        self.initialAge=+1\n",
    "    \n",
    "        \n",
    "\n",
    "t = int(input())\n",
    "for i in range(0, t):\n",
    "    age = int(input())         \n",
    "    p = Person(age)  \n",
    "    p.amIOld()\n",
    "    for j in range(0, 3):\n",
    "        p.yearPasses()       \n",
    "    p.amIOld()\n",
    "    print(\"\")"
   ]
  },
  {
   "cell_type": "code",
   "execution_count": 89,
   "id": "9aa0b68f",
   "metadata": {},
   "outputs": [
    {
     "name": "stdout",
     "output_type": "stream",
     "text": [
      "@\n"
     ]
    },
    {
     "ename": "ValueError",
     "evalue": "invalid literal for int() with base 10: '@'",
     "output_type": "error",
     "traceback": [
      "\u001b[1;31m---------------------------------------------------------------------------\u001b[0m",
      "\u001b[1;31mValueError\u001b[0m                                Traceback (most recent call last)",
      "Cell \u001b[1;32mIn[89], line 12\u001b[0m\n\u001b[0;32m      7\u001b[0m \u001b[38;5;28;01mimport\u001b[39;00m \u001b[38;5;21;01msys\u001b[39;00m\n\u001b[0;32m     11\u001b[0m \u001b[38;5;28;01mif\u001b[39;00m \u001b[38;5;18m__name__\u001b[39m \u001b[38;5;241m==\u001b[39m \u001b[38;5;124m'\u001b[39m\u001b[38;5;124m__main__\u001b[39m\u001b[38;5;124m'\u001b[39m:\n\u001b[1;32m---> 12\u001b[0m     n \u001b[38;5;241m=\u001b[39m \u001b[38;5;28;43mint\u001b[39;49m\u001b[43m(\u001b[49m\u001b[38;5;28;43minput\u001b[39;49m\u001b[43m(\u001b[49m\u001b[43m)\u001b[49m\u001b[38;5;241;43m.\u001b[39;49m\u001b[43mstrip\u001b[49m\u001b[43m(\u001b[49m\u001b[43m)\u001b[49m\u001b[43m)\u001b[49m\n\u001b[0;32m     13\u001b[0m     \u001b[38;5;28;01mfor\u001b[39;00m i \u001b[38;5;129;01min\u001b[39;00m \u001b[38;5;28mrange\u001b[39m(\u001b[38;5;241m1\u001b[39m,\u001b[38;5;241m10\u001b[39m\u001b[38;5;241m+\u001b[39m\u001b[38;5;241m1\u001b[39m):\n\u001b[0;32m     14\u001b[0m         result\u001b[38;5;241m=\u001b[39mn\u001b[38;5;241m*\u001b[39mi\n",
      "\u001b[1;31mValueError\u001b[0m: invalid literal for int() with base 10: '@'"
     ]
    }
   ],
   "source": [
    "# !/bin/python3\n",
    "\n",
    "import math\n",
    "import os\n",
    "import random\n",
    "import re\n",
    "import sys\n",
    "\n",
    "\n",
    "\n",
    "if __name__ == '__main__':\n",
    "    n = int(input().strip())\n",
    "    for i in range(1,10+1):\n",
    "        result=n*i\n",
    "        x=\"x\"\n",
    "        e=\"=\"\n",
    "        \n",
    "        print(n,x,i,e,result)"
   ]
  },
  {
   "cell_type": "markdown",
   "id": "4625fcf6",
   "metadata": {},
   "source": [
    "DAY-7 ARRAYS and print it element in reversed\n",
    "Task\n",
    "Given an array, , of  integers, print 's elements in reverse order as a single line of space-separated numbers.\n",
    "\n",
    "Example\n",
    "\n",
    "\n",
    "Print 4 3 2 1. Each integer is separated by one space.\n",
    "\n",
    "Input Format\n",
    "\n",
    "The first line contains an integer,  (the size of our array).\n",
    "The second line contains  space-separated integers that describe array 's elements.\n",
    "\n",
    "Constraints\n",
    "\n",
    "Constraints\n",
    "\n",
    ", where  is the  integer in the array.\n",
    "Output Format\n",
    "\n",
    "Print the elements of array  in reverse order as a single line of space-separated numbers.\n",
    "\n",
    "Sample Input\n",
    "\n",
    "4\n",
    "1 4 3 2\n",
    "Sample Output\n",
    "\n",
    "2 3 4 1"
   ]
  },
  {
   "cell_type": "code",
   "execution_count": null,
   "id": "2b8b0c11",
   "metadata": {},
   "outputs": [],
   "source": []
  },
  {
   "cell_type": "code",
   "execution_count": 90,
   "id": "8741c991",
   "metadata": {},
   "outputs": [],
   "source": [
    "import time\n",
    "class Car:\n",
    "    def __init__(self,brand,model,color):\n",
    "        self.brand=brand\n",
    "        self.model=model\n",
    "        self.color=color\n",
    "    def engine(self):\n",
    "        user=input('Enter action start or stop: ')\n",
    "        if user==\"start\":\n",
    "            print(\"The Car {} is Starting\".format(self.brand))\n",
    "        else:\n",
    "            if user=='stop':\n",
    "                print(\"The Car {} is not started yet\".format(self.brand))\n",
    "    def show(self):\n",
    "        print('the car brand: ',self.brand)\n",
    "        print('the car color: ',self.color)\n",
    "        print('the car model: ',self.model)\n",
    "    \n",
    "           \n",
    "        \n",
    "                \n",
    "                "
   ]
  },
  {
   "cell_type": "markdown",
   "id": "78607620",
   "metadata": {},
   "source": [
    "### car1=Car('audi','34tvh34','red')"
   ]
  },
  {
   "cell_type": "code",
   "execution_count": 91,
   "id": "f2c8d5b2",
   "metadata": {},
   "outputs": [
    {
     "ename": "NameError",
     "evalue": "name 'car1' is not defined",
     "output_type": "error",
     "traceback": [
      "\u001b[1;31m---------------------------------------------------------------------------\u001b[0m",
      "\u001b[1;31mNameError\u001b[0m                                 Traceback (most recent call last)",
      "Cell \u001b[1;32mIn[91], line 1\u001b[0m\n\u001b[1;32m----> 1\u001b[0m \u001b[43mcar1\u001b[49m\u001b[38;5;241m.\u001b[39mshow()\n\u001b[0;32m      2\u001b[0m car1\u001b[38;5;241m.\u001b[39mengine()\n",
      "\u001b[1;31mNameError\u001b[0m: name 'car1' is not defined"
     ]
    }
   ],
   "source": [
    "car1.show()\n",
    "car1.engine()"
   ]
  },
  {
   "cell_type": "code",
   "execution_count": 92,
   "id": "9e0e3c0e",
   "metadata": {},
   "outputs": [
    {
     "name": "stdout",
     "output_type": "stream",
     "text": [
      "enter a brand: Q$#%\n",
      "enter a model: Q$#%\n",
      "enter a color: Q$#\n"
     ]
    }
   ],
   "source": [
    "import time\n",
    "class Car:\n",
    "    def __init__(self,brand,model,color):\n",
    "        self.brand=brand\n",
    "        self.model=model\n",
    "        self.color=color\n",
    "    def engine(self):\n",
    "        user=input('Enter action start or stop: ')\n",
    "        if user==\"start\":\n",
    "            print(\"The Car {} is Starting\".format(self.brand))\n",
    "        else:\n",
    "            if user=='stop':\n",
    "                print(\"The Car {} is not started yet\".format(self.brand))\n",
    "    def show(self):\n",
    "        print('the car brand: ',self.brand)\n",
    "        print('the car color: ',self.color)\n",
    "        print('the car model: ',self.model)\n",
    "brand=input('enter a brand: ')\n",
    "model=input(\"enter a model: \")\n",
    "color=input(\"enter a color: \")\n",
    "           \n",
    "        \n",
    "                \n",
    "                "
   ]
  },
  {
   "cell_type": "code",
   "execution_count": 93,
   "id": "11c5eb29",
   "metadata": {},
   "outputs": [
    {
     "name": "stdout",
     "output_type": "stream",
     "text": [
      "the car brand:  Q$#%\n",
      "the car color:  Q$#\n",
      "the car model:  Q$#%\n",
      "Enter action start or stop: %$\n"
     ]
    }
   ],
   "source": [
    "car=Car(brand,model,color)\n",
    "car.show()\n",
    "car.engine()"
   ]
  },
  {
   "cell_type": "code",
   "execution_count": 94,
   "id": "fb5c0061",
   "metadata": {},
   "outputs": [
    {
     "name": "stdout",
     "output_type": "stream",
     "text": [
      "Q%\n"
     ]
    },
    {
     "ename": "ValueError",
     "evalue": "invalid literal for int() with base 10: 'Q%'",
     "output_type": "error",
     "traceback": [
      "\u001b[1;31m---------------------------------------------------------------------------\u001b[0m",
      "\u001b[1;31mValueError\u001b[0m                                Traceback (most recent call last)",
      "Cell \u001b[1;32mIn[94], line 12\u001b[0m\n\u001b[0;32m      7\u001b[0m \u001b[38;5;28;01mimport\u001b[39;00m \u001b[38;5;21;01msys\u001b[39;00m\n\u001b[0;32m     11\u001b[0m \u001b[38;5;28;01mif\u001b[39;00m \u001b[38;5;18m__name__\u001b[39m \u001b[38;5;241m==\u001b[39m \u001b[38;5;124m'\u001b[39m\u001b[38;5;124m__main__\u001b[39m\u001b[38;5;124m'\u001b[39m:\n\u001b[1;32m---> 12\u001b[0m     n \u001b[38;5;241m=\u001b[39m \u001b[38;5;28;43mint\u001b[39;49m\u001b[43m(\u001b[49m\u001b[38;5;28;43minput\u001b[39;49m\u001b[43m(\u001b[49m\u001b[43m)\u001b[49m\u001b[38;5;241;43m.\u001b[39;49m\u001b[43mstrip\u001b[49m\u001b[43m(\u001b[49m\u001b[43m)\u001b[49m\u001b[43m)\u001b[49m\n\u001b[0;32m     14\u001b[0m     arr \u001b[38;5;241m=\u001b[39m \u001b[38;5;28mlist\u001b[39m(\u001b[38;5;28mmap\u001b[39m(\u001b[38;5;28mint\u001b[39m, \u001b[38;5;28minput\u001b[39m()\u001b[38;5;241m.\u001b[39mrstrip()\u001b[38;5;241m.\u001b[39msplit()))\n\u001b[0;32m     15\u001b[0m reversed_arr\u001b[38;5;241m=\u001b[39m[]    \n",
      "\u001b[1;31mValueError\u001b[0m: invalid literal for int() with base 10: 'Q%'"
     ]
    }
   ],
   "source": [
    "#!/bin/python3\n",
    "\n",
    "import math\n",
    "import os\n",
    "import random\n",
    "import re\n",
    "import sys\n",
    "\n",
    "\n",
    "\n",
    "if __name__ == '__main__':\n",
    "    n = int(input().strip())\n",
    "\n",
    "    arr = list(map(int, input().rstrip().split()))\n",
    "reversed_arr=[]    \n",
    "for i in range(n):\n",
    "    reversed_arr.append(arr[n-i-1])\n",
    "output= ''\n",
    "for i in range(len(reversed_arr)):\n",
    "    output +=  str(reversed_arr[i])+ ' '\n",
    "print(output)"
   ]
  },
  {
   "cell_type": "code",
   "execution_count": 95,
   "id": "e9229b91",
   "metadata": {},
   "outputs": [
    {
     "name": "stdout",
     "output_type": "stream",
     "text": [
      "Enter a number to find its factorial#%\n"
     ]
    },
    {
     "ename": "ValueError",
     "evalue": "invalid literal for int() with base 10: '#%'",
     "output_type": "error",
     "traceback": [
      "\u001b[1;31m---------------------------------------------------------------------------\u001b[0m",
      "\u001b[1;31mValueError\u001b[0m                                Traceback (most recent call last)",
      "Cell \u001b[1;32mIn[95], line 6\u001b[0m\n\u001b[0;32m      4\u001b[0m     \u001b[38;5;28;01melse\u001b[39;00m:\n\u001b[0;32m      5\u001b[0m         \u001b[38;5;28;01mreturn\u001b[39;00m (n\u001b[38;5;241m*\u001b[39mrecur(n\u001b[38;5;241m-\u001b[39m\u001b[38;5;241m1\u001b[39m))\n\u001b[1;32m----> 6\u001b[0m num\u001b[38;5;241m=\u001b[39m\u001b[38;5;28;43mint\u001b[39;49m\u001b[43m(\u001b[49m\u001b[38;5;28;43minput\u001b[39;49m\u001b[43m(\u001b[49m\u001b[38;5;124;43m\"\u001b[39;49m\u001b[38;5;124;43mEnter a number to find its factorial\u001b[39;49m\u001b[38;5;124;43m\"\u001b[39;49m\u001b[43m)\u001b[49m\u001b[43m)\u001b[49m\n\u001b[0;32m      7\u001b[0m resut\u001b[38;5;241m=\u001b[39mrecur(num)\n\u001b[0;32m      8\u001b[0m \u001b[38;5;28mprint\u001b[39m(\u001b[38;5;124m\"\u001b[39m\u001b[38;5;124mfact of num :\u001b[39m\u001b[38;5;124m\"\u001b[39m,num,\u001b[38;5;124m\"\u001b[39m\u001b[38;5;124mis \u001b[39m\u001b[38;5;124m\"\u001b[39m,resut)\n",
      "\u001b[1;31mValueError\u001b[0m: invalid literal for int() with base 10: '#%'"
     ]
    }
   ],
   "source": [
    "def recur(n):\n",
    "    if n==1:\n",
    "        return 1\n",
    "    else:\n",
    "        return (n*recur(n-1))\n",
    "num=int(input(\"Enter a number to find its factorial\"))\n",
    "resut=recur(num)\n",
    "print(\"fact of num :\",num,\"is \",resut)\n"
   ]
  },
  {
   "cell_type": "markdown",
   "id": "0871ee3b",
   "metadata": {},
   "source": [
    "### how to find binary of a number\n",
    "n=127\n",
    "k=[]\n",
    "for i in range(1,n+1):\n",
    "    r= i%2\n",
    "    k.append(r)\n",
    "    \n",
    "    "
   ]
  },
  {
   "cell_type": "code",
   "execution_count": 96,
   "id": "b8963721",
   "metadata": {},
   "outputs": [
    {
     "name": "stdout",
     "output_type": "stream",
     "text": [
      "$%\n"
     ]
    },
    {
     "ename": "ValueError",
     "evalue": "invalid literal for int() with base 10: '$%'",
     "output_type": "error",
     "traceback": [
      "\u001b[1;31m---------------------------------------------------------------------------\u001b[0m",
      "\u001b[1;31mValueError\u001b[0m                                Traceback (most recent call last)",
      "Cell \u001b[1;32mIn[96], line 12\u001b[0m\n\u001b[0;32m      7\u001b[0m \u001b[38;5;28;01mimport\u001b[39;00m \u001b[38;5;21;01msys\u001b[39;00m\n\u001b[0;32m     11\u001b[0m \u001b[38;5;28;01mif\u001b[39;00m \u001b[38;5;18m__name__\u001b[39m \u001b[38;5;241m==\u001b[39m \u001b[38;5;124m'\u001b[39m\u001b[38;5;124m__main__\u001b[39m\u001b[38;5;124m'\u001b[39m:\n\u001b[1;32m---> 12\u001b[0m     n \u001b[38;5;241m=\u001b[39m \u001b[38;5;28;43mint\u001b[39;49m\u001b[43m(\u001b[49m\u001b[38;5;28;43minput\u001b[39;49m\u001b[43m(\u001b[49m\u001b[43m)\u001b[49m\u001b[38;5;241;43m.\u001b[39;49m\u001b[43mstrip\u001b[49m\u001b[43m(\u001b[49m\u001b[43m)\u001b[49m\u001b[43m)\u001b[49m\n\u001b[0;32m     13\u001b[0m     current_c_1s \u001b[38;5;241m=\u001b[39m \u001b[38;5;241m0\u001b[39m\n\u001b[0;32m     14\u001b[0m     max_c_1s \u001b[38;5;241m=\u001b[39m \u001b[38;5;241m0\u001b[39m\n",
      "\u001b[1;31mValueError\u001b[0m: invalid literal for int() with base 10: '$%'"
     ]
    }
   ],
   "source": [
    "#!/bin/python3\n",
    "\n",
    "import math\n",
    "import os\n",
    "import random\n",
    "import re\n",
    "import sys\n",
    "\n",
    "\n",
    "\n",
    "if __name__ == '__main__':\n",
    "    n = int(input().strip())\n",
    "    current_c_1s = 0\n",
    "    max_c_1s = 0\n",
    "    while n>0:\n",
    "        r=n%2\n",
    "        if r==1:\n",
    "            current_c_1s += 1\n",
    "            if current_c_1s > max_c_1s:\n",
    "                max_c_1s = current_c_1s\n",
    "        else:\n",
    "            current_c_1s = 0\n",
    "        n=n//2\n",
    "    print(\"maximum num of consecutive 1s: \",max_c_1s)\n",
    "            \n"
   ]
  },
  {
   "cell_type": "code",
   "execution_count": 97,
   "id": "9308b8a1",
   "metadata": {},
   "outputs": [],
   "source": [
    "def recusive(n):\n",
    "    cons_1s=0\n",
    "    max_1s=0\n",
    "    \n",
    "    r=n%2\n",
    "    if r==1:\n",
    "        cons_1s+=1\n",
    "        if cons_1s >max_1s:\n",
    "            max_1s+=cons_1s\n",
    "    else:\n",
    "        r=n%2\n",
    "        if r==0:\n",
    "            return max_1s \n",
    "        \n",
    "        \n",
    "        \n",
    "        \n",
    "        \n",
    "        "
   ]
  },
  {
   "cell_type": "code",
   "execution_count": 98,
   "id": "22b89b3c",
   "metadata": {},
   "outputs": [],
   "source": [
    "recusive(31)"
   ]
  },
  {
   "cell_type": "code",
   "execution_count": 99,
   "id": "267cfa24",
   "metadata": {},
   "outputs": [],
   "source": [
    "def recusive(n):\n",
    "    cons_1s=0\n",
    "    max_1s=0\n",
    "    while n>0:\n",
    "        r=n%2\n",
    "        if r==1:\n",
    "            cons_1s+=1\n",
    "            if cons_1s >max_1s:\n",
    "                max_1s+=cons_1s\n",
    "        else:\n",
    "            r=n%2\n",
    "            if r==0:\n",
    "                n=n//2\n",
    "                return max_1s\n",
    "\n",
    "        \n",
    "        \n",
    "        \n",
    "        \n",
    "        \n",
    "        "
   ]
  },
  {
   "cell_type": "code",
   "execution_count": null,
   "id": "fbae8314",
   "metadata": {},
   "outputs": [],
   "source": [
    "recusive(32)"
   ]
  },
  {
   "cell_type": "code",
   "execution_count": null,
   "id": "2f389b33",
   "metadata": {},
   "outputs": [],
   "source": [
    "r=32\n",
    "x=r%2\n",
    "y=r//2\n",
    "print(y)"
   ]
  },
  {
   "cell_type": "code",
   "execution_count": 102,
   "id": "8adf0715",
   "metadata": {},
   "outputs": [
    {
     "data": {
      "text/plain": [
       "16"
      ]
     },
     "execution_count": 102,
     "metadata": {},
     "output_type": "execute_result"
    }
   ],
   "source": [
    "r=32\n",
    "x=r%2\n",
    "y=r//2\n",
    "x+y"
   ]
  },
  {
   "cell_type": "code",
   "execution_count": null,
   "id": "c88a3ded",
   "metadata": {},
   "outputs": [],
   "source": []
  },
  {
   "cell_type": "code",
   "execution_count": null,
   "id": "2ac9e03c",
   "metadata": {},
   "outputs": [],
   "source": []
  },
  {
   "cell_type": "code",
   "execution_count": 31,
   "id": "e6e739bd",
   "metadata": {},
   "outputs": [
    {
     "name": "stdout",
     "output_type": "stream",
     "text": [
      "32\n",
      "even array [0, 2, 4, 6, 8, 10, 12, 14, 16, 18, 20, 22, 24, 26, 28, 30, 32]\n",
      "odd array [1, 3, 5, 7, 9, 11, 13, 15, 17, 19, 21, 23, 25, 27, 29, 31]\n",
      "array even sum of total element:  272\n",
      "array even sum of total element:  256\n",
      "reversed of the array_even:  [32, 30, 28, 26, 24, 22, 20, 18, 16, 14, 12, 10, 8, 6, 4, 2, 0]\n",
      "reversed of the array_odd:  [31, 29, 27, 25, 23, 21, 19, 17, 15, 13, 11, 9, 7, 5, 3, 1]\n",
      "even_to_odd:  [1, 3, 5, 7, 9, 11, 13, 15, 17, 19, 21, 23, 25, 27, 29, 31, 33] \n",
      "odd to even:  [2, 4, 6, 8, 10, 12, 14, 16, 18, 20, 22, 24, 26, 28, 30, 32]\n"
     ]
    }
   ],
   "source": [
    "n=int(input())\n",
    "array_even=[]\n",
    "array_odd=[]\n",
    "for i in range(n+1):\n",
    "    if i%2==0:\n",
    "        array_even.append(i)\n",
    "    if i%2!=0:\n",
    "        array_odd.append(i)\n",
    "        \n",
    "print(\"even array\",array_even)\n",
    "print(\"odd array\",array_odd)\n",
    "\n",
    "def array_sum(array_even,array_odd):\n",
    "    result=sum(array_even)\n",
    "    print(\"array even sum of total element: \",result)\n",
    "    result2=sum(array_odd)\n",
    "    print(\"array even sum of total element: \",result2)\n",
    "array_sum(array_even,array_odd)\n",
    "def reverse_array(r1,r2):\n",
    "    reverse=r1[::-1]\n",
    "    print(\"reversed of the array_even: \",reverse)\n",
    "    reverse2=r2[::-1]\n",
    "    print(\"reversed of the array_odd: \",reverse2)\n",
    "reverse_array(array_even,array_odd)\n",
    "def even_to_odd_vice_versa(ae,ad):\n",
    "    even_to_odd=[]\n",
    "    odd_to_even=[]\n",
    "    for i in ae:\n",
    "        r= i+1\n",
    "        even_to_odd.append(r)\n",
    "    for j in ad:\n",
    "        r2=j+1\n",
    "        odd_to_even.append(r2)\n",
    "    print(\"even_to_odd: \",even_to_odd,'\\nodd to even: ',odd_to_even)\n",
    "even_to_odd_vice_versa(array_even,array_odd)\n",
    "#later on more continueeeeeee..............................\n",
    "\n",
    "                "
   ]
  },
  {
   "cell_type": "code",
   "execution_count": null,
   "id": "caf4f58f",
   "metadata": {},
   "outputs": [],
   "source": [
    "# Using 2d array/list the right way"
   ]
  },
  {
   "cell_type": "code",
   "execution_count": 32,
   "id": "635d289d",
   "metadata": {},
   "outputs": [
    {
     "name": "stdout",
     "output_type": "stream",
     "text": [
      "[0, 0, 0, 0, 0]\n"
     ]
    }
   ],
   "source": [
    "#1d array\n",
    "n=5\n",
    "arr=[0 for i in range(n)]\n",
    "print(arr)"
   ]
  },
  {
   "cell_type": "code",
   "execution_count": 49,
   "id": "618daaef",
   "metadata": {},
   "outputs": [
    {
     "name": "stdout",
     "output_type": "stream",
     "text": [
      "[['A', 'A', 'A', 'A', 'A'], ['A', 'A', 'A', 'A', 'A'], ['A', 'A', 'A', 'A', 'A'], ['A', 'A', 'A', 'A', 'A'], ['A', 'A', 'A', 'A', 'A']] before\n",
      "[['A', 'A', (1, 2, 3), 'A', 'A'], ['A', 'A', (1, 2, 3), 'A', 'A'], ['A', 'A', (1, 2, 3), 'A', 'A'], ['A', 'A', (1, 2, 3), 'A', 'A'], ['A', 'A', (1, 2, 3), 'A', 'A']] after\n"
     ]
    }
   ],
   "source": [
    "# creating 2d list with list comprehension\n",
    "\n",
    "rows, cols = (5, 5)\n",
    "arr = [['A']*cols]*rows\n",
    "print(arr,'before')\n",
    "arr[3][2]=1,2,3\n",
    "print(arr,\"after\")\n"
   ]
  },
  {
   "cell_type": "code",
   "execution_count": 57,
   "id": "a336ce93",
   "metadata": {},
   "outputs": [
    {
     "name": "stdout",
     "output_type": "stream",
     "text": [
      "[0, 0, 0, 0, 0]\n"
     ]
    }
   ],
   "source": [
    "rows = (5)\n",
    "arr = [0 for i in range(rows)]\n",
    "print(arr)"
   ]
  },
  {
   "cell_type": "code",
   "execution_count": 69,
   "id": "fee4c652",
   "metadata": {},
   "outputs": [
    {
     "name": "stdout",
     "output_type": "stream",
     "text": [
      "[[0, 0, 0, 0, 0, 0], [0, 0, 0, 0, 0, 0], [0, 0, 0, 0, 0, 0], [0, 0, 0, 0, 0, 0], [0, 0, 0, 0, 0, 0], [0, 0, 0, 0, 0, 0]]\n"
     ]
    }
   ],
   "source": [
    "rows,cols=(6, 6)\n",
    "arr=[[0 for i in range(rows)] for j in range(cols)]\n",
    "print(arr)"
   ]
  },
  {
   "cell_type": "code",
   "execution_count": 67,
   "id": "92937d00",
   "metadata": {},
   "outputs": [
    {
     "name": "stdout",
     "output_type": "stream",
     "text": [
      "[[0, 0, 0, 0, 0], [0, 0, 0, 0, 0], [0, 0, 0, 0, 0], [0, 0, 0, 0, 0], [0, 0, 0, 0, 0]]\n"
     ]
    }
   ],
   "source": [
    "rows, cols = (6, 5)\n",
    "arr = [[0 for i in range(rows)] for j in range(cols)]\n",
    "print(arr)"
   ]
  },
  {
   "cell_type": "code",
   "execution_count": 79,
   "id": "9054127e",
   "metadata": {},
   "outputs": [
    {
     "name": "stdout",
     "output_type": "stream",
     "text": [
      "[[0, 0, 0, 0, 0], [0, 0, 0, 0, 0], [0, 0, 0, 0, 0], [0, 0, 0, 0, 0], [0, 0, 0, 0, 0]]\n"
     ]
    }
   ],
   "source": [
    "arr=[]\n",
    "rows, cols=5,5\n",
    "for i in range(rows):\n",
    "    col = []\n",
    "    for j in range(cols):\n",
    "        col.append(0)\n",
    "    arr.append(col)\n",
    "print(arr)\n"
   ]
  },
  {
   "cell_type": "code",
   "execution_count": 80,
   "id": "db75dcb9",
   "metadata": {},
   "outputs": [
    {
     "name": "stdout",
     "output_type": "stream",
     "text": [
      "[0, 0, 0, 0, 0]\n",
      "[0, 0, 0, 0, 0]\n",
      "[0, 0, 0, 0, 0]\n",
      "[0, 0, 0, 0, 0]\n",
      "[0, 0, 0, 0, 0]\n"
     ]
    }
   ],
   "source": [
    "for row in arr:\n",
    "    print(row)"
   ]
  },
  {
   "cell_type": "code",
   "execution_count": 101,
   "id": "52c29577",
   "metadata": {},
   "outputs": [
    {
     "name": "stdout",
     "output_type": "stream",
     "text": [
      "[3, 0, 0, 0, 0, 0]\n",
      "[3, 0, 0, 0, 0, 0]\n",
      "[3, 0, 0, 0, 0, 0]\n",
      "[3, 0, 0, 0, 0, 0]\n",
      "[3, 0, 0, 0, 0, 0]\n",
      "[3, 0, 0, 0, 0, 0]\n"
     ]
    }
   ],
   "source": [
    "rows,cols=(6,6)\n",
    "arr=[[0]*rows]*cols\n",
    "arr[0][0]=3\n",
    "for i in arr:\n",
    "    print(i)\n",
    "    "
   ]
  },
  {
   "cell_type": "code",
   "execution_count": 100,
   "id": "976747c8",
   "metadata": {},
   "outputs": [
    {
     "name": "stdout",
     "output_type": "stream",
     "text": [
      "[1, 0, 0, 0, 0, 0]\n",
      "[0, 0, 0, 0, 0, 0]\n",
      "[0, 0, 0, 0, 0, 0]\n",
      "[0, 0, 0, 0, 0, 0]\n",
      "[0, 0, 0, 0, 0, 0]\n",
      "[0, 0, 0, 0, 0, 0]\n"
     ]
    }
   ],
   "source": [
    "arr=[[0 for i in range(rows)] for j in range(cols)]\n",
    "arr[0][0] = 1\n",
    "for row in arr:\n",
    "    print(row)"
   ]
  },
  {
   "cell_type": "code",
   "execution_count": 102,
   "id": "11dec37e",
   "metadata": {},
   "outputs": [
    {
     "name": "stdout",
     "output_type": "stream",
     "text": [
      "[1, 0, 0, 0, 0]\n",
      "[1, 0, 0, 0, 0]\n",
      "[1, 0, 0, 0, 0]\n",
      "[1, 0, 0, 0, 0]\n",
      "[1, 0, 0, 0, 0]\n",
      "[1, 0, 0, 0, 0]\n",
      "[0, 0, 0, 0, 0]\n",
      "[0, 0, 0, 0, 0]\n",
      "[0, 0, 0, 0, 0]\n",
      "[0, 0, 0, 0, 0]\n"
     ]
    }
   ],
   "source": [
    "# Python 3 program to demonstrate working\n",
    "# of method 1 and method 2.\n",
    "rows, cols = (5, 5)\n",
    "# method 2 1st approach\n",
    "arr = [[0]*cols]*rows\n",
    "# lets change the first element of the\n",
    "# first row to 1 and print the array\n",
    "arr[0][0] = 1\n",
    "\n",
    "for row in arr:\n",
    "\tprint(row)\n",
    "# outputs the following\n",
    "#[1, 0, 0, 0, 0]\n",
    "#[1, 0, 0, 0, 0]\n",
    "#[1, 0, 0, 0, 0]\n",
    "#[1, 0, 0, 0, 0]\n",
    "#[1, 0, 0, 0, 0]\n",
    "\n",
    "# method 2 2nd approach\n",
    "arr = [[0 for i in range(cols)] for j in range(rows)]\n",
    "\n",
    "# again in this new array lets change\n",
    "# the first element of the first row\n",
    "# to 1 and print the array\n",
    "arr[0][0] = 1\n",
    "for row in arr:\n",
    "\tprint(row)\n",
    "\n",
    "# outputs the following as expected\n",
    "#[1, 0, 0, 0, 0]\n",
    "#[0, 0, 0, 0, 0]\n",
    "#[0, 0, 0, 0, 0]\n",
    "#[0, 0, 0, 0, 0]\n",
    "#[0, 0, 0, 0, 0]\n"
   ]
  },
  {
   "cell_type": "code",
   "execution_count": 104,
   "id": "2af9b328",
   "metadata": {},
   "outputs": [
    {
     "name": "stdout",
     "output_type": "stream",
     "text": [
      "4\n",
      "4\n",
      "4\n",
      "4\n",
      "4\n",
      "4\n"
     ]
    },
    {
     "ename": "IndexError",
     "evalue": "list index out of range",
     "output_type": "error",
     "traceback": [
      "\u001b[1;31m---------------------------------------------------------------------------\u001b[0m",
      "\u001b[1;31mIndexError\u001b[0m                                Traceback (most recent call last)",
      "Cell \u001b[1;32mIn[104], line 22\u001b[0m\n\u001b[0;32m     20\u001b[0m \u001b[38;5;28;01mfor\u001b[39;00m j \u001b[38;5;129;01min\u001b[39;00m \u001b[38;5;28mrange\u001b[39m(\u001b[38;5;241m4\u001b[39m):\n\u001b[0;32m     21\u001b[0m     arr2\u001b[38;5;241m.\u001b[39mextend(arr[i][j:j\u001b[38;5;241m+\u001b[39m\u001b[38;5;241m3\u001b[39m])\n\u001b[1;32m---> 22\u001b[0m     arr2\u001b[38;5;241m.\u001b[39mextend(\u001b[43marr\u001b[49m\u001b[43m[\u001b[49m\u001b[43mi\u001b[49m\u001b[38;5;241;43m+\u001b[39;49m\u001b[38;5;241;43m1\u001b[39;49m\u001b[43m]\u001b[49m\u001b[43m[\u001b[49m\u001b[43mj\u001b[49m\u001b[38;5;241;43m+\u001b[39;49m\u001b[38;5;241;43m1\u001b[39;49m\u001b[43m]\u001b[49m)\n\u001b[0;32m     23\u001b[0m     arr2\u001b[38;5;241m.\u001b[39mextend(arr[i\u001b[38;5;241m-\u001b[39m\u001b[38;5;241m2\u001b[39m][j:j\u001b[38;5;241m+\u001b[39m\u001b[38;5;241m3\u001b[39m])\n\u001b[0;32m     25\u001b[0m     max_sum\u001b[38;5;241m.\u001b[39mappend(\u001b[38;5;28msum\u001b[39m(arr2))\n",
      "\u001b[1;31mIndexError\u001b[0m: list index out of range"
     ]
    }
   ],
   "source": [
    "#!/bin/python3\n",
    "\n",
    "import math\n",
    "import os\n",
    "import random\n",
    "import re\n",
    "import sys\n",
    "\n",
    "\n",
    "\n",
    "if __name__ == '__main__':\n",
    "\n",
    "    arr = []\n",
    "    arr2= []\n",
    "    max_sum= []\n",
    "\n",
    "    for _ in range(6):\n",
    "        arr.append(list(map(int, input().rstrip().split())))\n",
    "    for i in range(len(arr)-2):\n",
    "        for j in range(4):\n",
    "            arr2.extend(arr[i][j:j+3])\n",
    "            arr2.extend(arr[i+1][j+1])\n",
    "            arr2.extend(arr[i-2][j:j+3])\n",
    "            \n",
    "            max_sum.append(sum(arr2))\n",
    "            arr2=[]\n",
    "    print(max(max_sum))\n",
    "        \n"
   ]
  },
  {
   "cell_type": "code",
   "execution_count": 107,
   "id": "a26d2e64",
   "metadata": {},
   "outputs": [
    {
     "name": "stdout",
     "output_type": "stream",
     "text": [
      "2,3,4,6,5\n"
     ]
    },
    {
     "ename": "ValueError",
     "evalue": "invalid literal for int() with base 10: '2,3,4,6,5'",
     "output_type": "error",
     "traceback": [
      "\u001b[1;31m---------------------------------------------------------------------------\u001b[0m",
      "\u001b[1;31mValueError\u001b[0m                                Traceback (most recent call last)",
      "Cell \u001b[1;32mIn[107], line 2\u001b[0m\n\u001b[0;32m      1\u001b[0m \u001b[38;5;28;01mif\u001b[39;00m \u001b[38;5;18m__name__\u001b[39m \u001b[38;5;241m==\u001b[39m \u001b[38;5;124m'\u001b[39m\u001b[38;5;124m__main__\u001b[39m\u001b[38;5;124m'\u001b[39m:\n\u001b[1;32m----> 2\u001b[0m     n \u001b[38;5;241m=\u001b[39m \u001b[38;5;28;43mint\u001b[39;49m\u001b[43m(\u001b[49m\u001b[38;5;28;43minput\u001b[39;49m\u001b[43m(\u001b[49m\u001b[43m)\u001b[49m\u001b[43m)\u001b[49m\n\u001b[0;32m      3\u001b[0m     arr \u001b[38;5;241m=\u001b[39m \u001b[38;5;28mmap\u001b[39m(\u001b[38;5;28mint\u001b[39m, \u001b[38;5;28minput\u001b[39m()\u001b[38;5;241m.\u001b[39msplit())\n\u001b[0;32m      4\u001b[0m     \u001b[38;5;28;01mfor\u001b[39;00m i \u001b[38;5;129;01min\u001b[39;00m \u001b[38;5;28mrange\u001b[39m(arr):\n",
      "\u001b[1;31mValueError\u001b[0m: invalid literal for int() with base 10: '2,3,4,6,5'"
     ]
    }
   ],
   "source": [
    "if __name__ == '__main__':\n",
    "    n = int(input())\n",
    "    arr = map(int, input().split())\n",
    "    for i in range(arr):\n",
    "        r=max(i)\n",
    "    print(r)"
   ]
  },
  {
   "cell_type": "code",
   "execution_count": 136,
   "id": "d05c56d6",
   "metadata": {},
   "outputs": [
    {
     "name": "stdout",
     "output_type": "stream",
     "text": [
      "hage tassang 3434\n",
      "3\n",
      "100 100 100\n",
      "Name: tassang, hage\n",
      "ID: 3434\n",
      "Grade: O\n"
     ]
    }
   ],
   "source": [
    "class Person:\n",
    "\tdef __init__(self, firstName, lastName, idNumber):\n",
    "\t\tself.firstName = firstName\n",
    "\t\tself.lastName = lastName\n",
    "\t\tself.idNumber = idNumber\n",
    "\tdef printPerson(self):\n",
    "\t\tprint(\"Name:\", self.lastName + \",\", self.firstName)\n",
    "\t\tprint(\"ID:\", self.idNumber)\n",
    "\n",
    "class Student(Person):\n",
    "    \n",
    "    #   Class Constructor\n",
    "    #   \n",
    "    #   Parameters:\n",
    "    #   firstName - A string denoting the Person's first name.\n",
    "    #   lastName - A string denoting the Person's last name.\n",
    "    #   id - An integer denoting the Person's ID number.\n",
    "    #   scores - An array of integers denoting the Person's test scores.\n",
    "    #\n",
    "    # Write your constructor here\n",
    "    def __init__(self,firstName, lastName, idNumber,scores):\n",
    "        Person.__init__(self,firstName, lastName, idNumber)\n",
    "        self.firstName = firstName\n",
    "        self.lastName = lastName\n",
    "        self.idNumber = idNumber\n",
    "        self.scores = scores\n",
    " \n",
    "    #   Function Name: calculate\n",
    "    #   Return: A character denoting the grade.\n",
    "    #\n",
    "    # Write your function here\n",
    "    def calculate(self):\n",
    "        result= sum(self.scores)//len(self.scores)\n",
    "        if result in range(90,100+1):\n",
    "            return 'O'\n",
    "        elif result in range(80,90+1):\n",
    "            return 'E'\n",
    "        elif result in range(70,80+1):\n",
    "            return 'A'\n",
    "        elif result in range(55,70+1):\n",
    "            return 'P'\n",
    "        elif result in range(40,55+1):\n",
    "            return 'D'\n",
    "        elif result in range(40+1):\n",
    "            return 'T'\n",
    "        \n",
    "\n",
    "line = input().split()\n",
    "firstName = line[0]\n",
    "lastName = line[1]\n",
    "idNum = line[2]\n",
    "numScores = int(input()) # not needed for Python\n",
    "scores = list( map(int, input().split()) )\n",
    "s = Student(firstName, lastName, idNum, scores)\n",
    "s.printPerson()\n",
    "print(\"Grade:\", s.calculate())"
   ]
  },
  {
   "cell_type": "code",
   "execution_count": null,
   "id": "0ca16e1f",
   "metadata": {},
   "outputs": [],
   "source": []
  },
  {
   "cell_type": "code",
   "execution_count": 115,
   "id": "0fb8fc19",
   "metadata": {},
   "outputs": [
    {
     "name": "stdout",
     "output_type": "stream",
     "text": [
      "745\n"
     ]
    }
   ],
   "source": [
    "s= [23,432,423,52,35,235,23,5,235,23,5]\n",
    "print(sum(s)//2)"
   ]
  },
  {
   "cell_type": "code",
   "execution_count": 133,
   "id": "95642cea",
   "metadata": {},
   "outputs": [
    {
     "name": "stdout",
     "output_type": "stream",
     "text": [
      "sdgfsd sfd 343\n",
      "2\n",
      "100 80\n",
      "Name: sfd, sdgfsd\n",
      "ID: 343\n"
     ]
    },
    {
     "ename": "TypeError",
     "evalue": "can only concatenate list (not \"int\") to list",
     "output_type": "error",
     "traceback": [
      "\u001b[1;31m---------------------------------------------------------------------------\u001b[0m",
      "\u001b[1;31mTypeError\u001b[0m                                 Traceback (most recent call last)",
      "Cell \u001b[1;32mIn[133], line 58\u001b[0m\n\u001b[0;32m     56\u001b[0m s \u001b[38;5;241m=\u001b[39m Student(firstName, lastName, idNum, scores)\n\u001b[0;32m     57\u001b[0m s\u001b[38;5;241m.\u001b[39mprintPerson()\n\u001b[1;32m---> 58\u001b[0m \u001b[38;5;28mprint\u001b[39m(\u001b[38;5;124m\"\u001b[39m\u001b[38;5;124mGrade:\u001b[39m\u001b[38;5;124m\"\u001b[39m, \u001b[43ms\u001b[49m\u001b[38;5;241;43m.\u001b[39;49m\u001b[43mcalculate\u001b[49m\u001b[43m(\u001b[49m\u001b[43m)\u001b[49m)\n",
      "Cell \u001b[1;32mIn[133], line 34\u001b[0m, in \u001b[0;36mStudent.calculate\u001b[1;34m(self)\u001b[0m\n\u001b[0;32m     32\u001b[0m \u001b[38;5;28;01mdef\u001b[39;00m \u001b[38;5;21mcalculate\u001b[39m(\u001b[38;5;28mself\u001b[39m):\n\u001b[0;32m     33\u001b[0m     \u001b[38;5;28;01mfor\u001b[39;00m i \u001b[38;5;129;01min\u001b[39;00m \u001b[38;5;28mself\u001b[39m\u001b[38;5;241m.\u001b[39mscores[::\u001b[38;5;241m-\u001b[39m\u001b[38;5;241m1\u001b[39m]:\n\u001b[1;32m---> 34\u001b[0m         result\u001b[38;5;241m=\u001b[39m\u001b[38;5;28;43mself\u001b[39;49m\u001b[38;5;241;43m.\u001b[39;49m\u001b[43mscores\u001b[49m\u001b[38;5;241;43m+\u001b[39;49m\u001b[43mi\u001b[49m\n\u001b[0;32m     35\u001b[0m     \u001b[38;5;28;01mif\u001b[39;00m result \u001b[38;5;129;01min\u001b[39;00m \u001b[38;5;28mrange\u001b[39m(\u001b[38;5;241m90\u001b[39m,\u001b[38;5;241m100\u001b[39m\u001b[38;5;241m+\u001b[39m\u001b[38;5;241m1\u001b[39m):\n\u001b[0;32m     36\u001b[0m         \u001b[38;5;28;01mreturn\u001b[39;00m \u001b[38;5;124m'\u001b[39m\u001b[38;5;124mO\u001b[39m\u001b[38;5;124m'\u001b[39m\n",
      "\u001b[1;31mTypeError\u001b[0m: can only concatenate list (not \"int\") to list"
     ]
    }
   ],
   "source": [
    "class Person:\n",
    "\tdef __init__(self, firstName, lastName, idNumber):\n",
    "\t\tself.firstName = firstName\n",
    "\t\tself.lastName = lastName\n",
    "\t\tself.idNumber = idNumber\n",
    "\tdef printPerson(self):\n",
    "\t\tprint(\"Name:\", self.lastName + \",\", self.firstName)\n",
    "\t\tprint(\"ID:\", self.idNumber)\n",
    "\n",
    "class Student(Person):\n",
    "    \n",
    "    #   Class Constructor\n",
    "    #   \n",
    "    #   Parameters:\n",
    "    #   firstName - A string denoting the Person's first name.\n",
    "    #   lastName - A string denoting the Person's last name.\n",
    "    #   id - An integer denoting the Person's ID number.\n",
    "    #   scores - An array of integers denoting the Person's test scores.\n",
    "    #\n",
    "    # Write your constructor here\n",
    "    def __init__(self,firstName, lastName, idNumber,scores):\n",
    "        Person.__init__(self,firstName, lastName, idNumber)\n",
    "        self.firstName = firstName\n",
    "        self.lastName = lastName\n",
    "        self.idNumber = idNumber\n",
    "        self.scores = scores\n",
    " \n",
    "    #   Function Name: calculate\n",
    "    #   Return: A character denoting the grade.\n",
    "    #\n",
    "    # Write your function here\n",
    "    def calculate(self):\n",
    "        \n",
    "        if result in range(90,100+1):\n",
    "            return 'O'\n",
    "        if result in range(80,90+1):\n",
    "            return 'E'\n",
    "        if result in range(70,80+1):\n",
    "            return 'A'\n",
    "        if result in range(55,70+1):\n",
    "            return 'P'\n",
    "        if result in range(40,55+1):\n",
    "            return 'D'\n",
    "        if result <40:\n",
    "            return 'T'\n",
    "        \n",
    "        \n",
    "\n",
    "line = input().split()\n",
    "firstName = line[0]\n",
    "lastName = line[1]\n",
    "idNum = line[2]\n",
    "numScores = int(input()) # not needed for Python\n",
    "scores = list( map(int, input().split()) )\n",
    "s = Student(firstName, lastName, idNum, scores)\n",
    "s.printPerson()\n",
    "print(\"Grade:\", s.calculate())"
   ]
  },
  {
   "cell_type": "code",
   "execution_count": null,
   "id": "a364f937",
   "metadata": {},
   "outputs": [],
   "source": []
  },
  {
   "cell_type": "code",
   "execution_count": 117,
   "id": "e202ce7f",
   "metadata": {},
   "outputs": [
    {
     "name": "stdout",
     "output_type": "stream",
     "text": [
      "24324\n"
     ]
    }
   ],
   "source": [
    "scores = list( map(int, input().split()) )"
   ]
  },
  {
   "cell_type": "code",
   "execution_count": 118,
   "id": "a7dbc280",
   "metadata": {},
   "outputs": [
    {
     "name": "stdout",
     "output_type": "stream",
     "text": [
      "<class 'list'>\n"
     ]
    }
   ],
   "source": [
    "print(type(scores))"
   ]
  },
  {
   "cell_type": "code",
   "execution_count": 121,
   "id": "adb6ceb9",
   "metadata": {},
   "outputs": [
    {
     "data": {
      "text/plain": [
       "495"
      ]
     },
     "execution_count": 121,
     "metadata": {},
     "output_type": "execute_result"
    }
   ],
   "source": [
    "(324+324+343)//2"
   ]
  },
  {
   "cell_type": "code",
   "execution_count": null,
   "id": "3555ab4c",
   "metadata": {},
   "outputs": [],
   "source": [
    "arr=[]\n",
    "        r=sum(arr)\n",
    "        \n",
    "        for i in self.scores:\n",
    "            arr.append(i)\n",
    "            \n",
    "            \n",
    "arr.\\ "
   ]
  },
  {
   "cell_type": "code",
   "execution_count": 137,
   "id": "f3b77896",
   "metadata": {},
   "outputs": [
    {
     "name": "stdout",
     "output_type": "stream",
     "text": [
      "The Alchemist\n",
      "Paulo Coelho\n",
      "248\n",
      "Title: The Alchemist\n",
      "Author: Paulo Coelho\n",
      "Price: 248\n"
     ]
    }
   ],
   "source": [
    "from abc import ABCMeta, abstractmethod\n",
    "class Book(object, metaclass=ABCMeta):\n",
    "    def __init__(self,title,author):\n",
    "        self.title=title\n",
    "        self.author=author   \n",
    "    @abstractmethod\n",
    "    def display(): pass\n",
    "#Write MyBook class\n",
    "class MyBook(Book):\n",
    "    def __init__(self,title,author,price):\n",
    "        Book.__init__(self,title,author)\n",
    "        self.price=price\n",
    "    def display(self):\n",
    "        print(\"Title:\",self.title)\n",
    "        print(\"Author:\",self.author)\n",
    "        print(\"Price:\",self.price)\n",
    "\n",
    "\n",
    "title=input()\n",
    "author=input()\n",
    "price=int(input())\n",
    "new_novel=MyBook(title,author,price)\n",
    "new_novel.display()"
   ]
  },
  {
   "cell_type": "code",
   "execution_count": null,
   "id": "46a2af09",
   "metadata": {},
   "outputs": [],
   "source": [
    "The Alchemist\n",
    "Paulo Coelho\n",
    "248"
   ]
  },
  {
   "cell_type": "code",
   "execution_count": 1,
   "id": "6b5c4460",
   "metadata": {},
   "outputs": [
    {
     "name": "stdout",
     "output_type": "stream",
     "text": [
      "1 2 5\n",
      "1 2 3\n",
      "0\n",
      "1\n",
      "2\n"
     ]
    }
   ],
   "source": [
    "class Difference:\n",
    "    def __init__(self, a):\n",
    "        self.__elements = a\n",
    "\n",
    "\t# Add your code here\n",
    "     def computeDifference(self):\n",
    "        maxDiff = 0\n",
    "        arr = self.__elements\n",
    "        for i in range(len(arr)):\n",
    "            for j in range(i+1, len(arr)):\n",
    "                if abs(arr[j] - arr[i]) > maxDiff:\n",
    "                    maxDiff = abs(arr[j] - arr[i])\n",
    "        self.maximumDifference = maxDiff\n",
    "            \n",
    "\n",
    "# End of Difference class\n",
    "\n",
    "_ = input()\n",
    "a = [int(e) for e in input().split(' ')]\n",
    "\n",
    "d = Difference(a)\n",
    "d.computeDifference()\n",
    "\n",
    "#print(d.maximumDifference)"
   ]
  },
  {
   "cell_type": "code",
   "execution_count": 2,
   "id": "542e73a2",
   "metadata": {},
   "outputs": [
    {
     "name": "stdout",
     "output_type": "stream",
     "text": [
      "Help on built-in function abs in module builtins:\n",
      "\n",
      "abs(x, /)\n",
      "    Return the absolute value of the argument.\n",
      "\n"
     ]
    }
   ],
   "source": [
    " help(abs)"
   ]
  },
  {
   "cell_type": "code",
   "execution_count": 36,
   "id": "ea299e61",
   "metadata": {},
   "outputs": [
    {
     "name": "stdout",
     "output_type": "stream",
     "text": [
      "1\n",
      "2\n",
      "2\n"
     ]
    }
   ],
   "source": [
    "x=[1,2,5]\n",
    "for i in range(len(x)):\n",
    "    for j in range(i+1,len(x)):\n",
    "        print(j)"
   ]
  },
  {
   "cell_type": "code",
   "execution_count": 35,
   "id": "ae802b91",
   "metadata": {},
   "outputs": [
    {
     "data": {
      "text/plain": [
       "3"
      ]
     },
     "execution_count": 35,
     "metadata": {},
     "output_type": "execute_result"
    }
   ],
   "source": [
    "x=[1,2,5]\n",
    "len(x)"
   ]
  },
  {
   "cell_type": "code",
   "execution_count": 3,
   "id": "40c60d86",
   "metadata": {},
   "outputs": [
    {
     "name": "stdout",
     "output_type": "stream",
     "text": [
      "34\n",
      "34\n"
     ]
    }
   ],
   "source": [
    "#!/bin/python3\n",
    "\n",
    "import math\n",
    "import os\n",
    "import random\n",
    "import re\n",
    "import sys\n",
    "\n",
    "\n",
    "\n",
    "if __name__ == '__main__':\n",
    "    S = input().strip()\n",
    "    try:\n",
    "        int_value= int(S)\n",
    "        print(int_value)\n",
    "    except ValueError:\n",
    "        print('Bad String')"
   ]
  },
  {
   "cell_type": "code",
   "execution_count": 21,
   "id": "584d95b0",
   "metadata": {},
   "outputs": [
    {
     "name": "stdout",
     "output_type": "stream",
     "text": [
      "1\n",
      "2\n",
      "3\n",
      "4\n",
      "5\n"
     ]
    }
   ],
   "source": [
    "n=6\n",
    "for i in range(0,n-1):\n",
    "    print(i+1)"
   ]
  },
  {
   "cell_type": "code",
   "execution_count": 17,
   "id": "de857a18",
   "metadata": {},
   "outputs": [
    {
     "name": "stdout",
     "output_type": "stream",
     "text": [
      "1\n",
      "2\n",
      "3\n"
     ]
    }
   ],
   "source": [
    "n=6\n",
    "for i in range(2,n-1):\n",
    "    print(i-1)"
   ]
  },
  {
   "cell_type": "code",
   "execution_count": 9,
   "id": "66996d42",
   "metadata": {},
   "outputs": [
    {
     "name": "stdout",
     "output_type": "stream",
     "text": [
      "0\n",
      "1\n",
      "2\n",
      "3\n",
      "4\n"
     ]
    }
   ],
   "source": [
    "n=6\n",
    "for i in range(0,n-1):\n",
    "    print(i)"
   ]
  },
  {
   "cell_type": "code",
   "execution_count": 25,
   "id": "a834bff7",
   "metadata": {},
   "outputs": [
    {
     "name": "stdout",
     "output_type": "stream",
     "text": [
      "a\n",
      "1\n"
     ]
    }
   ],
   "source": [
    "def first(container):\n",
    "    return container[0]\n",
    "  \n",
    "if __name__ == \"__main__\":\n",
    "    list_one = [\"a\", \"b\", \"c\"]\n",
    "    print(first(list_one))\n",
    "    \n",
    "    list_two = [1, 2, 3]\n",
    "    print(first(list_two))"
   ]
  },
  {
   "cell_type": "code",
   "execution_count": 5,
   "id": "14c3de07",
   "metadata": {},
   "outputs": [
    {
     "name": "stdout",
     "output_type": "stream",
     "text": [
      "b\n",
      "2\n"
     ]
    }
   ],
   "source": [
    "from typing import Any, List\n",
    "\n",
    "def first(container: List[Any]) -> Any:\n",
    "    return container[1]\n",
    "  \n",
    "if __name__ == \"__main__\":\n",
    "    list_one: List[str] = [\"a\", \"b\", \"c\"]\n",
    "    print(first(list_one))\n",
    "    \n",
    "    list_two: List[int] = [1, 2, 3]\n",
    "    print(first(list_two))"
   ]
  },
  {
   "cell_type": "code",
   "execution_count": 3,
   "id": "f779af91",
   "metadata": {},
   "outputs": [
    {
     "name": "stdout",
     "output_type": "stream",
     "text": [
      "a\n"
     ]
    }
   ],
   "source": [
    "from typing import Any,List\n",
    "def first(container:List[Any]) -> Any:\n",
    "    return container[0]\n",
    "if __name__==\"__main__\":\n",
    "    list_one=['a','b','c']\n",
    "    print(first(list_one))"
   ]
  },
  {
   "cell_type": "code",
   "execution_count": 23,
   "id": "104bc8c1",
   "metadata": {},
   "outputs": [],
   "source": [
    "\n",
    "def get_middle(s):\n",
    "    for i in range(len(s)):\n",
    "        \n",
    "        if i%3==0:\n",
    "            if len(s)==3:\n",
    "                return s[1]\n",
    "            if len(s)==5:\n",
    "                return s[2]\n",
    "            if len(s)==7:\n",
    "                return s[3]\n",
    "            print(i,s)\n",
    "        else:\n",
    "            if i%2==0:\n",
    "                if len(s) ==2:\n",
    "                    return s[0::]\n",
    "                if len(s) ==4:\n",
    "                    return s[1:3]\n",
    "                if len(s)==6:\n",
    "                    return s[2:4]\n",
    "            print(i,s)"
   ]
  },
  {
   "cell_type": "code",
   "execution_count": 24,
   "id": "eecb12d2",
   "metadata": {},
   "outputs": [
    {
     "ename": "NameError",
     "evalue": "name 's' is not defined",
     "output_type": "error",
     "traceback": [
      "\u001b[1;31m---------------------------------------------------------------------------\u001b[0m",
      "\u001b[1;31mNameError\u001b[0m                                 Traceback (most recent call last)",
      "Cell \u001b[1;32mIn[24], line 2\u001b[0m\n\u001b[0;32m      1\u001b[0m st\u001b[38;5;241m=\u001b[39m\u001b[38;5;124m\"\u001b[39m\u001b[38;5;124mhage tassang\u001b[39m\u001b[38;5;124m\"\u001b[39m\n\u001b[1;32m----> 2\u001b[0m get_middle(\u001b[43ms\u001b[49m)\n",
      "\u001b[1;31mNameError\u001b[0m: name 's' is not defined"
     ]
    }
   ],
   "source": [
    "st=\"hage tassang\"\n",
    "get_middle(s)"
   ]
  },
  {
   "cell_type": "code",
   "execution_count": 43,
   "id": "6ad266eb",
   "metadata": {},
   "outputs": [],
   "source": [
    "def reverse_words(text):\n",
    "    n=len(text)\n",
    "    i=0\n",
    "    n2=[]\n",
    "    while(i<n):\n",
    "        if len(text)>1:\n",
    "            \n",
    "            r=text[::-1]\n",
    "            n2.append(r)\n",
    "            i=i+1\n",
    "            \n",
    "    print(n2)"
   ]
  },
  {
   "cell_type": "code",
   "execution_count": 44,
   "id": "13c386ad",
   "metadata": {},
   "outputs": [
    {
     "name": "stdout",
     "output_type": "stream",
     "text": [
      "[['asdd', 'hagetassang'], ['asdd', 'hagetassang']]\n"
     ]
    }
   ],
   "source": [
    "s=[\"hagetassang\",'asdd']\n",
    "reverse_words(s)"
   ]
  },
  {
   "cell_type": "code",
   "execution_count": 59,
   "id": "f9dc5e67",
   "metadata": {},
   "outputs": [],
   "source": [
    "def reverse_words(text):\n",
    "    rev=[]\n",
    "    for i in range(len(text)):\n",
    "        for j in text:\n",
    "            rev.append(j[::-1])\n",
    "    print(rev)\n",
    "        \n",
    "    "
   ]
  },
  {
   "cell_type": "code",
   "execution_count": 60,
   "id": "bd552554",
   "metadata": {},
   "outputs": [
    {
     "name": "stdout",
     "output_type": "stream",
     "text": [
      "['gnassategah', 'ddsa', 'gnassategah', 'ddsa']\n"
     ]
    }
   ],
   "source": [
    "s=[\"hagetassang\",'asdd']\n",
    "reverse_words(s)"
   ]
  },
  {
   "cell_type": "code",
   "execution_count": null,
   "id": "f76cbc81",
   "metadata": {},
   "outputs": [],
   "source": []
  },
  {
   "cell_type": "code",
   "execution_count": null,
   "id": "16d0b54d",
   "metadata": {},
   "outputs": [],
   "source": []
  },
  {
   "cell_type": "code",
   "execution_count": null,
   "id": "f5ffc2d4",
   "metadata": {},
   "outputs": [],
   "source": []
  },
  {
   "cell_type": "code",
   "execution_count": null,
   "id": "b9de49ac",
   "metadata": {},
   "outputs": [],
   "source": []
  },
  {
   "cell_type": "code",
   "execution_count": null,
   "id": "5c97f35f",
   "metadata": {},
   "outputs": [],
   "source": []
  },
  {
   "cell_type": "code",
   "execution_count": null,
   "id": "0b97c601",
   "metadata": {},
   "outputs": [],
   "source": []
  },
  {
   "cell_type": "code",
   "execution_count": null,
   "id": "aa95e02b",
   "metadata": {},
   "outputs": [],
   "source": []
  },
  {
   "cell_type": "code",
   "execution_count": null,
   "id": "ce1b8365",
   "metadata": {},
   "outputs": [],
   "source": []
  },
  {
   "cell_type": "code",
   "execution_count": null,
   "id": "5c54365f",
   "metadata": {},
   "outputs": [],
   "source": []
  },
  {
   "cell_type": "code",
   "execution_count": null,
   "id": "21b6bdbe",
   "metadata": {},
   "outputs": [],
   "source": []
  },
  {
   "cell_type": "code",
   "execution_count": null,
   "id": "5d35d206",
   "metadata": {},
   "outputs": [],
   "source": []
  },
  {
   "cell_type": "code",
   "execution_count": null,
   "id": "8eb15643",
   "metadata": {},
   "outputs": [],
   "source": []
  },
  {
   "cell_type": "code",
   "execution_count": null,
   "id": "c63f7c2f",
   "metadata": {},
   "outputs": [],
   "source": []
  },
  {
   "cell_type": "code",
   "execution_count": null,
   "id": "abd2534d",
   "metadata": {},
   "outputs": [],
   "source": []
  },
  {
   "cell_type": "code",
   "execution_count": null,
   "id": "7809bc31",
   "metadata": {},
   "outputs": [],
   "source": []
  },
  {
   "cell_type": "code",
   "execution_count": null,
   "id": "e71c2c2c",
   "metadata": {},
   "outputs": [],
   "source": []
  },
  {
   "cell_type": "code",
   "execution_count": null,
   "id": "f4bb4d0a",
   "metadata": {},
   "outputs": [],
   "source": []
  },
  {
   "cell_type": "code",
   "execution_count": null,
   "id": "9f5aacef",
   "metadata": {},
   "outputs": [],
   "source": []
  },
  {
   "cell_type": "code",
   "execution_count": null,
   "id": "4dd38d78",
   "metadata": {},
   "outputs": [],
   "source": []
  },
  {
   "cell_type": "code",
   "execution_count": null,
   "id": "9b37542d",
   "metadata": {},
   "outputs": [],
   "source": []
  },
  {
   "cell_type": "code",
   "execution_count": null,
   "id": "b973ac16",
   "metadata": {},
   "outputs": [],
   "source": []
  },
  {
   "cell_type": "code",
   "execution_count": null,
   "id": "331b388c",
   "metadata": {},
   "outputs": [],
   "source": []
  }
 ],
 "metadata": {
  "kernelspec": {
   "display_name": "Python 3 (ipykernel)",
   "language": "python",
   "name": "python3"
  },
  "language_info": {
   "codemirror_mode": {
    "name": "ipython",
    "version": 3
   },
   "file_extension": ".py",
   "mimetype": "text/x-python",
   "name": "python",
   "nbconvert_exporter": "python",
   "pygments_lexer": "ipython3",
   "version": "3.10.9"
  }
 },
 "nbformat": 4,
 "nbformat_minor": 5
}
