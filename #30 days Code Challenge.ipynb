{
 "cells": [
  {
   "cell_type": "code",
   "execution_count": 1,
   "id": "8ef9a7f9",
   "metadata": {},
   "outputs": [],
   "source": [
    "#HACKERRANK ONE PROBLEM SOLVE PRACTICE SECTION and Attempts"
   ]
  },
  {
   "cell_type": "code",
   "execution_count": null,
   "id": "40c511ec",
   "metadata": {},
   "outputs": [],
   "source": [
    "i = 4\n",
    "d = 4.0\n",
    "s = 'HackerRank '\n",
    "# Declare second integer, double, and String variables.\n",
    "int_var= 6+6\n",
    "double_var= 2+2.0\n",
    "string_var= 'is the best place to learn and practice coding!.'\n",
    "# Read and save an integer, double, and String to your variables.\n",
    "i1=int_var\n",
    "d1=double_var\n",
    "s1=string_var\n",
    "# Print the sum of both integer variables on a new line.\n",
    "print(i+i1)\n",
    "# Print the sum of the double variables on a new line.\n",
    "print(d+d1)\n",
    "# Concatenate and print the String variables on a new line\n",
    "print(s+s1)\n",
    "# The 's' variable above should be printed first.\n"
   ]
  },
  {
   "cell_type": "code",
   "execution_count": null,
   "id": "9fcc55f3",
   "metadata": {},
   "outputs": [],
   "source": [
    "if __name__ == '__main__':\n",
    "    n = int(input())\n",
    "    for i in range(0,n+1):\n",
    "        sqaured= i**2\n",
    "        print(sqaured)"
   ]
  },
  {
   "cell_type": "code",
   "execution_count": null,
   "id": "e95a17d2",
   "metadata": {},
   "outputs": [],
   "source": [
    "check= int(input(\"enter a year\"))\n",
    "if check%100 == 0:\n",
    "    result= check%100\n",
    "    print(\"it is a leap year\")\n",
    "    print(result)\n",
    "elif check%100!=0:\n",
    "    print(\"it is not leap year\")\n",
    "else:\n",
    "    print(\"it is not a leap year\")"
   ]
  },
  {
   "cell_type": "code",
   "execution_count": null,
   "id": "615fd846",
   "metadata": {},
   "outputs": [],
   "source": [
    "def is_leap(year):\n",
    "    leap = False\n",
    "    \n",
    "    # Write your logic here\n",
    "    while leap==False:\n",
    "        if year%100==0:\n",
    "            leap=False\n",
    "            return False\n",
    "        elif year%100!=0:\n",
    "            leap=True\n",
    "            return True\n",
    "        elif year%400==0:\n",
    "            leap=True\n",
    "            return True\n",
    "        elif year%400!=0:\n",
    "            leap=False\n",
    "            return False\n",
    "        elif year%4==0:\n",
    "            leap=True\n",
    "            return True\n",
    "        elif year%4!=0:\n",
    "            leap=False\n",
    "            return False\n",
    "        else:\n",
    "            leap=False\n",
    "            return False\n",
    "    \n",
    "    return leap\n",
    "\n",
    "year = int(input())\n",
    "print(is_leap(year))"
   ]
  },
  {
   "cell_type": "code",
   "execution_count": null,
   "id": "860afd54",
   "metadata": {},
   "outputs": [],
   "source": [
    "def is_leap(year):\n",
    "    leap = False\n",
    "    \n",
    "    # Write your logic here\n",
    "    while leap==False:\n",
    "        if year%4==0:\n",
    "            return True\n",
    "        if year%4!=0:\n",
    "            return False\n",
    "    return leap\n",
    "\n",
    "year = int(input())\n",
    "print(is_leap(year))"
   ]
  },
  {
   "cell_type": "code",
   "execution_count": null,
   "id": "beb787c1",
   "metadata": {},
   "outputs": [],
   "source": [
    "def is_leap(year):\n",
    "    leap = False\n",
    "    \n",
    "    # Write your logic here\n",
    "    while leap==False:\n",
    "        if year%4==0:\n",
    "            return True\n",
    "        if year%4!=0:\n",
    "            return False\n",
    "        if year%100==0:\n",
    "            return False\n",
    "        if year%100!=0:\n",
    "            return True\n",
    "        if year%400==0:\n",
    "            return True\n",
    "        if year%400!=0:\n",
    "            return False\n",
    "        else:\n",
    "            leap=True\n",
    "            return False\n",
    "    return leap\n",
    "\n",
    "year = int(input())\n",
    "print(is_leap(year))"
   ]
  },
  {
   "cell_type": "code",
   "execution_count": null,
   "id": "3fde40bf",
   "metadata": {},
   "outputs": [],
   "source": [
    "def is_leap(year):\n",
    "    leap = False\n",
    "    \n",
    "    # Write your logic here\n",
    "    while leap==False:\n",
    "        if (year%4==0) and (year%100!=0):\n",
    "            return True\n",
    "        elif (year%100==0) and (year%400!=0):\n",
    "            leap=True\n",
    "            return True\n",
    "        elif year%400==0:\n",
    "            leap=True\n",
    "            return True\n",
    "        else:\n",
    "            leap=False\n",
    "            return False\n",
    "    return leap\n",
    "\n",
    "year = int(input())\n",
    "print(is_leap(year))"
   ]
  },
  {
   "cell_type": "code",
   "execution_count": null,
   "id": "3970df04",
   "metadata": {},
   "outputs": [],
   "source": [
    "def is_leap(year):\n",
    "    leap = False\n",
    "    \n",
    "    # Write your logic here\n",
    "    while leap==False:\n",
    "        if (year%4==0) and (year%100!=0):\n",
    "            return True\n",
    "        elif (year%100==0) and (year%400!=0):\n",
    "            leap=True\n",
    "            return True\n",
    "        elif year%4==0:\n",
    "            leap=True\n",
    "            return True\n",
    "        elif year%400==0:\n",
    "            leap=True\n",
    "            return True\n",
    "        else:\n",
    "            leap=False\n",
    "            return False\n",
    "\n",
    "year = int(input())\n",
    "print(is_leap(year))"
   ]
  },
  {
   "cell_type": "code",
   "execution_count": null,
   "id": "2d8d938a",
   "metadata": {},
   "outputs": [],
   "source": [
    "def is_leap(year):\n",
    "    leap = False\n",
    "    \n",
    "    # Write your logic here\n",
    "    while leap==False:\n",
    "        if (year%4==0) and (year%100!=0):\n",
    "            return True\n",
    "        elif (year%100==0) and (year%400!=0):\n",
    "            leap=True\n",
    "            return True\n",
    "        elif year%4!=0:\n",
    "            leap=True\n",
    "            return True\n",
    "        elif year%4==0:\n",
    "            leap=False\n",
    "            return False\n",
    "        elif year%400==0:\n",
    "            leap=True\n",
    "            return True\n",
    "        else:\n",
    "            leap=False\n",
    "            return False\n",
    "\n",
    "year = int(input())\n",
    "print(is_leap(year))"
   ]
  },
  {
   "cell_type": "code",
   "execution_count": null,
   "id": "0e144bfd",
   "metadata": {},
   "outputs": [],
   "source": [
    "n=10**5\n",
    "print(n)"
   ]
  },
  {
   "cell_type": "code",
   "execution_count": null,
   "id": "0c935bf6",
   "metadata": {},
   "outputs": [],
   "source": [
    "def leap():\n",
    "    loop = True\n",
    "    year = int(input())\n",
    "    if year in range(0,10**5):\n",
    "        \n",
    "        while loop==True:\n",
    "            if year%4==0:\n",
    "                loop=False\n",
    "                return True\n",
    "            else:\n",
    "                loop=True\n",
    "                print(year)\n",
    "    return loop\n",
    "leap()"
   ]
  },
  {
   "cell_type": "code",
   "execution_count": null,
   "id": "7275517a",
   "metadata": {},
   "outputs": [],
   "source": [
    "def is_leap(year):\n",
    "    leap = False\n",
    "    \n",
    "    # Write your logic here\n",
    "    if (year%4==0) and (year%100==0):\n",
    "        leap=False\n",
    "    if (year%100!=0) and (year%4==0):\n",
    "        leap=True\n",
    "    if (year%100!=0) and (year%400==0):\n",
    "        leap=True\n",
    "    if (year%4==0)and(year%400==0):\n",
    "        leap=True\n",
    "    else:\n",
    "        pass\n",
    "    return leap\n",
    "\n",
    "year = int(input())\n",
    "print(is_leap(year))"
   ]
  },
  {
   "cell_type": "code",
   "execution_count": null,
   "id": "f6f5a613",
   "metadata": {},
   "outputs": [],
   "source": [
    "if __name__ == '__main__':\n",
    "    n = int(input())\n",
    "    i=0\n",
    "    while i<n:\n",
    "        i+=1\n",
    "        result=str(i)\n",
    "        result2=str(result)\n",
    "        print(int(result2))"
   ]
  },
  {
   "cell_type": "code",
   "execution_count": null,
   "id": "bcd3a7b3",
   "metadata": {},
   "outputs": [],
   "source": [
    "if __name__ == '__main__':\n",
    "    n = int(input())\n",
    "    i=0\n",
    "    while i<n:\n",
    "        i+=1\n",
    "        result=str(i)\n",
    "        result2=str(result)\n",
    "        print(int(result2))"
   ]
  },
  {
   "cell_type": "code",
   "execution_count": null,
   "id": "2258982b",
   "metadata": {},
   "outputs": [],
   "source": [
    "# Initialize a list of numbers\n",
    "numbers = [1, 2, 3, 4, 5]\n",
    "\n",
    "# Create a new list by adding items as strings using list comprehension\n",
    "string_numbers = [str(num) for num in numbers]\n",
    "\n",
    "# Unpack the list using the asterisk (*) operator\n",
    "print(*string_numbers)\n"
   ]
  },
  {
   "cell_type": "code",
   "execution_count": null,
   "id": "7960c4cb",
   "metadata": {},
   "outputs": [],
   "source": [
    "n = int(input(\"Enter a number: \"))\n",
    "\n",
    "# Create an empty string to store the result\n",
    "result = \"\"\n",
    "\n",
    "# Iterate through the range from 1 to n+1\n",
    "for i in range(1, n+1):\n",
    "    # Add the current number to the result string\n",
    "    result += str(i)\n",
    "\n",
    "# Print the result string\n",
    "print(result)\n"
   ]
  },
  {
   "cell_type": "code",
   "execution_count": null,
   "id": "f5413519",
   "metadata": {},
   "outputs": [],
   "source": [
    "# Example 1: Unpacking a list with known length\n",
    "numbers = [1, 2, 3]\n",
    "a, b, c = numbers\n",
    "print(a,b,c)  # Output: 1\n",
    " # Output: 3\n",
    "\n",
    "# Example 2: Unpacking a list with unknown length using an asterisk (*)\n",
    "numbers = [1, 2, 3, 4, 5]\n",
    "a, b, *rest = numbers\n",
    "print(a,b,rest)     # Output: 1\n",
    "print(b)     # Output: 2\n",
    "print(rest)  # Output: [3, 4, 5]\n"
   ]
  },
  {
   "cell_type": "code",
   "execution_count": null,
   "id": "86008726",
   "metadata": {},
   "outputs": [],
   "source": [
    "def is_leap(year):\n",
    "    leap = False\n",
    "    \n",
    "    # Write your logic here\n",
    "    if (year%4==0) and (year%100==0):\n",
    "        leap=False\n",
    "    if (year%100!=0) and (year%4==0):\n",
    "        leap=True\n",
    "    if (year%4==0) and (year%400==0):\n",
    "        leap=True\n",
    "    else:\n",
    "        leap=False\n",
    "    return leap\n",
    "\n",
    "year = int(input())\n",
    "print(is_leap(year))"
   ]
  },
  {
   "cell_type": "code",
   "execution_count": null,
   "id": "01e8c164",
   "metadata": {},
   "outputs": [],
   "source": [
    "#!/bin/python3\n",
    "\n",
    "import math\n",
    "import os\n",
    "import random\n",
    "import re\n",
    "import sys\n",
    "\n",
    "#\n",
    "# Complete the 'solve' function below.\n",
    "#\n",
    "# The function accepts following parameters:\n",
    "#  1. DOUBLE meal_cost\n",
    "#  2. INTEGER tip_percent\n",
    "#  3. INTEGER tax_percent\n",
    "#\n",
    "\n",
    "def solve(meal_cost, tip_percent, tax_percent):\n",
    "    # Write your code here\n",
    "\n",
    "if __name__ == '__main__':\n",
    "    meal_cost = float(input().strip())\n",
    "\n",
    "    tip_percent = int(input().strip())\n",
    "\n",
    "    tax_percent = int(input().strip())\n",
    "\n",
    "    solve(meal_cost, tip_percent, tax_percent)\n"
   ]
  },
  {
   "cell_type": "code",
   "execution_count": 11,
   "id": "50850087",
   "metadata": {},
   "outputs": [
    {
     "name": "stdout",
     "output_type": "stream",
     "text": [
      "19.8\n",
      "3\n",
      "34\n",
      "56.8\n",
      "57\n"
     ]
    }
   ],
   "source": [
    "x=float(99/5)\n",
    "y=int(34/9)\n",
    "z=int(69/2)\n",
    "r=x+y+z\n",
    "print(x)\n",
    "print(y)\n",
    "print(z)\n",
    "print(r)\n",
    "print(round(r))\n",
    "#print(round(x))"
   ]
  },
  {
   "cell_type": "code",
   "execution_count": 14,
   "id": "696a9e49",
   "metadata": {},
   "outputs": [
    {
     "name": "stdout",
     "output_type": "stream",
     "text": [
      "30\n",
      "2\n",
      "4\n",
      "32\n"
     ]
    }
   ],
   "source": [
    "#!/bin/python3\n",
    "\n",
    "import math\n",
    "import os\n",
    "import random\n",
    "import re\n",
    "import sys\n",
    "\n",
    "#\n",
    "# Complete the 'solve' function below.\n",
    "#\n",
    "# The function accepts following parameters:\n",
    "#  1. DOUBLE meal_cost\n",
    "#  2. INTEGER tip_percent\n",
    "#  3. INTEGER tax_percent\n",
    "#\n",
    "\n",
    "def solve(meal_cost, tip_percent, tax_percent):\n",
    "    # Write your code here\n",
    "    tip=(meal_cost/100)*tip_percent\n",
    "    tax=(tax_percent/100)*meal_cost\n",
    "    total_cost=meal_cost+tip+tax\n",
    "    result=int(round(total_cost))\n",
    "    print(result)\n",
    "    \n",
    "\n",
    "if __name__ == '__main__':\n",
    "    meal_cost = float(input().strip())\n",
    "\n",
    "    tip_percent = int(input().strip())\n",
    "\n",
    "    tax_percent = int(input().strip())\n",
    "\n",
    "    solve(meal_cost, tip_percent, tax_percent)"
   ]
  },
  {
   "cell_type": "code",
   "execution_count": 15,
   "id": "d77d118c",
   "metadata": {},
   "outputs": [
    {
     "name": "stdout",
     "output_type": "stream",
     "text": [
      "30\n",
      "2\n",
      "4\n",
      "32\n"
     ]
    }
   ],
   "source": [
    "#!/bin/python3\n",
    "\n",
    "import math\n",
    "import os\n",
    "import random\n",
    "import re\n",
    "import sys\n",
    "\n",
    "#\n",
    "# Complete the 'solve' function below.\n",
    "#\n",
    "# The function accepts following parameters:\n",
    "#  1. DOUBLE meal_cost\n",
    "#  2. INTEGER tip_percent\n",
    "#  3. INTEGER tax_percent\n",
    "#\n",
    "\n",
    "def solve(meal_cost, tip_percent, tax_percent):\n",
    "    # Write your code here\n",
    "    tip=meal_cost/100*tip_percent\n",
    "    tax=tax_percent/100*meal_cost\n",
    "    total_cost=meal_cost+tip+tax\n",
    "    result=round(total_cost)\n",
    "    print(result)\n",
    "    \n",
    "\n",
    "if __name__ == '__main__':\n",
    "    meal_cost = float(input().strip())\n",
    "\n",
    "    tip_percent = int(input().strip())\n",
    "\n",
    "    tax_percent = int(input().strip())\n",
    "\n",
    "    solve(meal_cost, tip_percent, tax_percent)\n"
   ]
  },
  {
   "cell_type": "code",
   "execution_count": null,
   "id": "12d8fbbb",
   "metadata": {},
   "outputs": [],
   "source": []
  },
  {
   "cell_type": "code",
   "execution_count": 20,
   "id": "8680c517",
   "metadata": {},
   "outputs": [
    {
     "name": "stdout",
     "output_type": "stream",
     "text": [
      "4\n",
      "Not Weird\n"
     ]
    }
   ],
   "source": [
    "import math\n",
    "import os\n",
    "import random\n",
    "import re\n",
    "import sys\n",
    "\n",
    "\n",
    "\n",
    "if __name__ == '__main__':\n",
    "    N = int(input().strip())\n",
    "    if 1<=N<=100:\n",
    "        if N%2==0 or N in range(2,5):\n",
    "            print('Not Weird')"
   ]
  },
  {
   "cell_type": "code",
   "execution_count": 23,
   "id": "2448e189",
   "metadata": {},
   "outputs": [
    {
     "name": "stdout",
     "output_type": "stream",
     "text": [
      "24\n",
      "Not Weird\n"
     ]
    }
   ],
   "source": [
    "#!/bin/python3\n",
    "\n",
    "import math\n",
    "import os\n",
    "import random\n",
    "import re\n",
    "import sys\n",
    "\n",
    "\n",
    "\n",
    "if __name__ == '__main__':\n",
    "    N = int(input().strip())\n",
    "    if 1<=N<=100:\n",
    "        if N%2==0 and N in range(2,5):\n",
    "            print('Not Weird')\n",
    "        if N%2==0 and N in range(6,20):\n",
    "            print('Weird')\n",
    "        if N%2==0 and N>20:\n",
    "            print('Not Weird')"
   ]
  },
  {
   "cell_type": "code",
   "execution_count": 24,
   "id": "df26cffa",
   "metadata": {},
   "outputs": [
    {
     "name": "stdout",
     "output_type": "stream",
     "text": [
      "3\n",
      "Not Weird\n"
     ]
    }
   ],
   "source": [
    "#!/bin/python3\n",
    "\n",
    "import math\n",
    "import os\n",
    "import random\n",
    "import re\n",
    "import sys\n",
    "\n",
    "\n",
    "\n",
    "if __name__ == '__main__':\n",
    "    N = int(input().strip())\n",
    "    if 1<=N<=100:\n",
    "        if N%2!=0 and N in range(2,5):\n",
    "            print('Not Weird')\n",
    "        if N%2==0 and N in range(6,20):\n",
    "            print('Weird')\n",
    "        if N%2==0 and N>20:\n",
    "            print('Not Weird')"
   ]
  },
  {
   "cell_type": "code",
   "execution_count": 26,
   "id": "a74a8559",
   "metadata": {},
   "outputs": [
    {
     "name": "stdout",
     "output_type": "stream",
     "text": [
      "3\n",
      "Weird\n"
     ]
    }
   ],
   "source": [
    "#!/bin/python3\n",
    "\n",
    "import math\n",
    "import os\n",
    "import random\n",
    "import re\n",
    "import sys\n",
    "\n",
    "\n",
    "\n",
    "if __name__ == '__main__':\n",
    "    N = int(input().strip())\n",
    "    if 1<=N<=100:\n",
    "        if N%2!=0:\n",
    "            print('Weird')\n",
    "        if N%2==0 and N in range(2,5):\n",
    "            print('Not Weird')\n",
    "        if N%2==0 and N in range(6,20):\n",
    "            print('Weird')\n",
    "        if N%2==0 and N>20:\n",
    "            print('Not Weird')"
   ]
  },
  {
   "cell_type": "code",
   "execution_count": 29,
   "id": "7f3d0b82",
   "metadata": {},
   "outputs": [
    {
     "name": "stdout",
     "output_type": "stream",
     "text": [
      "20\n",
      "Weird\n",
      "Not Weird\n"
     ]
    }
   ],
   "source": [
    "#!/bin/python3\n",
    "\n",
    "import math\n",
    "import os\n",
    "import random\n",
    "import re\n",
    "import sys\n",
    "\n",
    "\n",
    "\n",
    "if __name__ == '__main__':\n",
    "    N = int(input().strip())\n",
    "    if 1<=N<=100:\n",
    "        if N%2!=0:\n",
    "            print('Weird')\n",
    "        if N%2==0 and N in range(2,5):\n",
    "            print('Not Weird')\n",
    "        if N%2==0 and N in range(6,20+1):\n",
    "            print('Weird')\n",
    "        if N%2==0 and N>20:\n",
    "            print('Not Weird')"
   ]
  },
  {
   "cell_type": "code",
   "execution_count": null,
   "id": "fad82226",
   "metadata": {},
   "outputs": [],
   "source": []
  },
  {
   "cell_type": "code",
   "execution_count": null,
   "id": "1aa183ff",
   "metadata": {},
   "outputs": [],
   "source": []
  },
  {
   "cell_type": "code",
   "execution_count": null,
   "id": "53719fd2",
   "metadata": {},
   "outputs": [],
   "source": []
  },
  {
   "cell_type": "code",
   "execution_count": null,
   "id": "488f6025",
   "metadata": {},
   "outputs": [],
   "source": []
  },
  {
   "cell_type": "code",
   "execution_count": null,
   "id": "666f3846",
   "metadata": {},
   "outputs": [],
   "source": []
  },
  {
   "cell_type": "code",
   "execution_count": null,
   "id": "1dac6ad4",
   "metadata": {},
   "outputs": [],
   "source": []
  },
  {
   "cell_type": "code",
   "execution_count": null,
   "id": "f10e1d06",
   "metadata": {},
   "outputs": [],
   "source": []
  },
  {
   "cell_type": "code",
   "execution_count": null,
   "id": "791e33f0",
   "metadata": {},
   "outputs": [],
   "source": []
  },
  {
   "cell_type": "code",
   "execution_count": null,
   "id": "4a07814b",
   "metadata": {},
   "outputs": [],
   "source": []
  },
  {
   "cell_type": "code",
   "execution_count": null,
   "id": "4bdf7786",
   "metadata": {},
   "outputs": [],
   "source": []
  },
  {
   "cell_type": "code",
   "execution_count": null,
   "id": "2493c377",
   "metadata": {},
   "outputs": [],
   "source": []
  },
  {
   "cell_type": "code",
   "execution_count": null,
   "id": "25fa5c34",
   "metadata": {},
   "outputs": [],
   "source": []
  },
  {
   "cell_type": "code",
   "execution_count": null,
   "id": "f2d1159d",
   "metadata": {},
   "outputs": [],
   "source": []
  },
  {
   "cell_type": "code",
   "execution_count": null,
   "id": "360735a8",
   "metadata": {},
   "outputs": [],
   "source": []
  },
  {
   "cell_type": "code",
   "execution_count": null,
   "id": "5f272994",
   "metadata": {},
   "outputs": [],
   "source": []
  },
  {
   "cell_type": "code",
   "execution_count": null,
   "id": "fac3c716",
   "metadata": {},
   "outputs": [],
   "source": []
  },
  {
   "cell_type": "code",
   "execution_count": null,
   "id": "26b7b986",
   "metadata": {},
   "outputs": [],
   "source": []
  },
  {
   "cell_type": "code",
   "execution_count": null,
   "id": "fd5b2a0f",
   "metadata": {},
   "outputs": [],
   "source": []
  },
  {
   "cell_type": "code",
   "execution_count": null,
   "id": "c035facc",
   "metadata": {},
   "outputs": [],
   "source": []
  },
  {
   "cell_type": "code",
   "execution_count": null,
   "id": "1772a2e8",
   "metadata": {},
   "outputs": [],
   "source": []
  },
  {
   "cell_type": "code",
   "execution_count": null,
   "id": "acddf83f",
   "metadata": {},
   "outputs": [],
   "source": []
  },
  {
   "cell_type": "code",
   "execution_count": null,
   "id": "c7fccbaa",
   "metadata": {},
   "outputs": [],
   "source": []
  },
  {
   "cell_type": "code",
   "execution_count": null,
   "id": "3a5748bc",
   "metadata": {},
   "outputs": [],
   "source": []
  },
  {
   "cell_type": "code",
   "execution_count": null,
   "id": "12a25065",
   "metadata": {},
   "outputs": [],
   "source": []
  },
  {
   "cell_type": "code",
   "execution_count": null,
   "id": "a1b8e463",
   "metadata": {},
   "outputs": [],
   "source": []
  },
  {
   "cell_type": "code",
   "execution_count": null,
   "id": "afb850d2",
   "metadata": {},
   "outputs": [],
   "source": []
  },
  {
   "cell_type": "code",
   "execution_count": null,
   "id": "18bf8cf8",
   "metadata": {},
   "outputs": [],
   "source": []
  },
  {
   "cell_type": "code",
   "execution_count": null,
   "id": "1ad8f6a6",
   "metadata": {},
   "outputs": [],
   "source": []
  },
  {
   "cell_type": "code",
   "execution_count": null,
   "id": "ab27e34b",
   "metadata": {},
   "outputs": [],
   "source": []
  },
  {
   "cell_type": "code",
   "execution_count": null,
   "id": "7dd0d020",
   "metadata": {},
   "outputs": [],
   "source": []
  },
  {
   "cell_type": "code",
   "execution_count": null,
   "id": "0dd87a02",
   "metadata": {},
   "outputs": [],
   "source": []
  },
  {
   "cell_type": "code",
   "execution_count": null,
   "id": "7869c6ad",
   "metadata": {},
   "outputs": [],
   "source": []
  },
  {
   "cell_type": "code",
   "execution_count": null,
   "id": "13524427",
   "metadata": {},
   "outputs": [],
   "source": []
  },
  {
   "cell_type": "code",
   "execution_count": null,
   "id": "64aac425",
   "metadata": {},
   "outputs": [],
   "source": []
  },
  {
   "cell_type": "code",
   "execution_count": null,
   "id": "67646a93",
   "metadata": {},
   "outputs": [],
   "source": []
  },
  {
   "cell_type": "code",
   "execution_count": null,
   "id": "047c3320",
   "metadata": {},
   "outputs": [],
   "source": []
  },
  {
   "cell_type": "code",
   "execution_count": null,
   "id": "fe13f910",
   "metadata": {},
   "outputs": [],
   "source": []
  },
  {
   "cell_type": "code",
   "execution_count": null,
   "id": "e81b0737",
   "metadata": {},
   "outputs": [],
   "source": []
  },
  {
   "cell_type": "code",
   "execution_count": null,
   "id": "5d7091a1",
   "metadata": {},
   "outputs": [],
   "source": []
  },
  {
   "cell_type": "code",
   "execution_count": null,
   "id": "142702c4",
   "metadata": {},
   "outputs": [],
   "source": []
  },
  {
   "cell_type": "code",
   "execution_count": null,
   "id": "17c320e1",
   "metadata": {},
   "outputs": [],
   "source": []
  },
  {
   "cell_type": "code",
   "execution_count": null,
   "id": "2674ee5b",
   "metadata": {},
   "outputs": [],
   "source": []
  },
  {
   "cell_type": "code",
   "execution_count": null,
   "id": "9c4ef1dd",
   "metadata": {},
   "outputs": [],
   "source": []
  },
  {
   "cell_type": "code",
   "execution_count": null,
   "id": "aad82cfe",
   "metadata": {},
   "outputs": [],
   "source": []
  },
  {
   "cell_type": "code",
   "execution_count": null,
   "id": "afaa6d95",
   "metadata": {},
   "outputs": [],
   "source": [
    "\n"
   ]
  }
 ],
 "metadata": {
  "kernelspec": {
   "display_name": "Python 3 (ipykernel)",
   "language": "python",
   "name": "python3"
  },
  "language_info": {
   "codemirror_mode": {
    "name": "ipython",
    "version": 3
   },
   "file_extension": ".py",
   "mimetype": "text/x-python",
   "name": "python",
   "nbconvert_exporter": "python",
   "pygments_lexer": "ipython3",
   "version": "3.10.9"
  }
 },
 "nbformat": 4,
 "nbformat_minor": 5
}
