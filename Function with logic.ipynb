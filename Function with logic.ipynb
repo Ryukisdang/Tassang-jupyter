{
 "cells": [
  {
   "cell_type": "code",
   "execution_count": 1,
   "id": "9bca7a6e",
   "metadata": {},
   "outputs": [
    {
     "data": {
      "text/plain": [
       "False"
      ]
     },
     "execution_count": 1,
     "metadata": {},
     "output_type": "execute_result"
    }
   ],
   "source": [
    "# Logic with def func\n",
    "\n",
    "def even_check(num):\n",
    "    result= num%2 == 0\n",
    "    return result\n",
    "even_check(5)"
   ]
  },
  {
   "cell_type": "code",
   "execution_count": 13,
   "id": "a855134f",
   "metadata": {},
   "outputs": [
    {
     "data": {
      "text/plain": [
       "True"
      ]
     },
     "execution_count": 13,
     "metadata": {},
     "output_type": "execute_result"
    }
   ],
   "source": [
    "def check_even(num_list):\n",
    "    for numbers in num_list:\n",
    "        if numbers%2 == 0:\n",
    "            return True\n",
    "        else:\n",
    "            pass\n",
    "    return False\n",
    "check_even([1,2,3,5])"
   ]
  },
  {
   "cell_type": "code",
   "execution_count": 17,
   "id": "2ad1c58e",
   "metadata": {},
   "outputs": [
    {
     "data": {
      "text/plain": [
       "[2, 4, 6]"
      ]
     },
     "execution_count": 17,
     "metadata": {},
     "output_type": "execute_result"
    }
   ],
   "source": [
    "def check_even_list(num_list):\n",
    "    even_list = []\n",
    "    string_check =\" \"\n",
    "    for number in num_list:\n",
    "        if number%2 == 0:\n",
    "            even_list.append(number)\n",
    "        else:\n",
    "            pass\n",
    "    return even_list\n",
    "check_even_list([1,2,3,4,5,6])\n",
    "    "
   ]
  },
  {
   "cell_type": "code",
   "execution_count": 23,
   "id": "8ffea73b",
   "metadata": {},
   "outputs": [
    {
     "name": "stdout",
     "output_type": "stream",
     "text": [
      " name of the company is apple and company stock value is 100\n",
      " name of the company is google and company stock value is 400\n",
      " name of the company is microsoft and company stock value is 800\n",
      "company stock over time interest : 110.0\n",
      "company stock over time interest : 440.0\n",
      "company stock over time interest : 880.0\n"
     ]
    }
   ],
   "source": [
    "# Functions and Tuple Unpacking in python \n",
    "stock_prices = [('apple',100),('google',400),('microsoft',800)]\n",
    "for company,value in stock_prices:\n",
    "    print(f' name of the company is {company} and company stock value is {value}')\n",
    "for company,value in stock_prices:\n",
    "        print(\"company stock over time interest : \" + str(value+ 0.1*value))"
   ]
  },
  {
   "cell_type": "code",
   "execution_count": 24,
   "id": "09b343f2",
   "metadata": {},
   "outputs": [],
   "source": [
    "works_hours = [('sanjay',400),('pavas',800),('Tassang',10000000)]\n",
    "def employee_check(works_hours):\n",
    "    current_max = 0\n",
    "    employee_of_month =' '\n",
    "    for employee,hours in work_hours:\n",
    "        if hours>current_max:\n",
    "            current_max = hours\n",
    "            employee_of_month = employee\n",
    "        else:\n",
    "            pass\n",
    "    return(employee_of_month,current_max)"
   ]
  },
  {
   "cell_type": "code",
   "execution_count": 26,
   "id": "15dc1c5d",
   "metadata": {},
   "outputs": [
    {
     "data": {
      "text/plain": [
       "('Tassang', 10000000)"
      ]
     },
     "execution_count": 26,
     "metadata": {},
     "output_type": "execute_result"
    }
   ],
   "source": [
    "employee_check(works_hours)"
   ]
  },
  {
   "cell_type": "code",
   "execution_count": 27,
   "id": "d2da104b",
   "metadata": {},
   "outputs": [],
   "source": [
    "result = employee_check(works_hours)"
   ]
  },
  {
   "cell_type": "code",
   "execution_count": 28,
   "id": "e211a397",
   "metadata": {},
   "outputs": [
    {
     "data": {
      "text/plain": [
       "('Tassang', 10000000)"
      ]
     },
     "execution_count": 28,
     "metadata": {},
     "output_type": "execute_result"
    }
   ],
   "source": [
    "result"
   ]
  },
  {
   "cell_type": "code",
   "execution_count": null,
   "id": "8734db46",
   "metadata": {},
   "outputs": [],
   "source": []
  }
 ],
 "metadata": {
  "kernelspec": {
   "display_name": "Python 3 (ipykernel)",
   "language": "python",
   "name": "python3"
  },
  "language_info": {
   "codemirror_mode": {
    "name": "ipython",
    "version": 3
   },
   "file_extension": ".py",
   "mimetype": "text/x-python",
   "name": "python",
   "nbconvert_exporter": "python",
   "pygments_lexer": "ipython3",
   "version": "3.10.9"
  }
 },
 "nbformat": 4,
 "nbformat_minor": 5
}
