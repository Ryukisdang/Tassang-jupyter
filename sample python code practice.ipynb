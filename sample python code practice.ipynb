{
 "cells": [
  {
   "cell_type": "code",
   "execution_count": 1,
   "id": "83f397a5",
   "metadata": {},
   "outputs": [
    {
     "data": {
      "text/plain": [
       "390"
      ]
     },
     "execution_count": 1,
     "metadata": {},
     "output_type": "execute_result"
    }
   ],
   "source": [
    "##write express of calculation of +,-,%,//,*\n",
    "345+45\n"
   ]
  },
  {
   "cell_type": "code",
   "execution_count": 2,
   "id": "22fd44e5",
   "metadata": {},
   "outputs": [
    {
     "data": {
      "text/plain": [
       "0"
      ]
     },
     "execution_count": 2,
     "metadata": {},
     "output_type": "execute_result"
    }
   ],
   "source": [
    "345//676"
   ]
  },
  {
   "cell_type": "code",
   "execution_count": 3,
   "id": "6f6e57ec",
   "metadata": {},
   "outputs": [
    {
     "data": {
      "text/plain": [
       "123"
      ]
     },
     "execution_count": 3,
     "metadata": {},
     "output_type": "execute_result"
    }
   ],
   "source": [
    "123%234"
   ]
  },
  {
   "cell_type": "code",
   "execution_count": 4,
   "id": "fde0a0e5",
   "metadata": {},
   "outputs": [
    {
     "data": {
      "text/plain": [
       "9750"
      ]
     },
     "execution_count": 4,
     "metadata": {},
     "output_type": "execute_result"
    }
   ],
   "source": [
    "125*78"
   ]
  },
  {
   "cell_type": "code",
   "execution_count": 5,
   "id": "b76faf98",
   "metadata": {},
   "outputs": [
    {
     "name": "stdout",
     "output_type": "stream",
     "text": [
      "22 150 -3\n"
     ]
    }
   ],
   "source": [
    "a=10\n",
    "b=12\n",
    "c=15\n",
    "add=a+b\n",
    "multiply= c*a\n",
    "subtract= b-c\n",
    "print(add,multiply,subtract)"
   ]
  },
  {
   "cell_type": "code",
   "execution_count": 6,
   "id": "e502e5c4",
   "metadata": {},
   "outputs": [
    {
     "name": "stdout",
     "output_type": "stream",
     "text": [
      "10.0\n"
     ]
    }
   ],
   "source": [
    "my_income = 100\n",
    "tax_rate = 0.1\n",
    "print(my_income * tax_rate)\n"
   ]
  },
  {
   "cell_type": "code",
   "execution_count": null,
   "id": "4f044cf1",
   "metadata": {},
   "outputs": [],
   "source": []
  }
 ],
 "metadata": {
  "kernelspec": {
   "display_name": "Python 3 (ipykernel)",
   "language": "python",
   "name": "python3"
  },
  "language_info": {
   "codemirror_mode": {
    "name": "ipython",
    "version": 3
   },
   "file_extension": ".py",
   "mimetype": "text/x-python",
   "name": "python",
   "nbconvert_exporter": "python",
   "pygments_lexer": "ipython3",
   "version": "3.10.9"
  }
 },
 "nbformat": 4,
 "nbformat_minor": 5
}
