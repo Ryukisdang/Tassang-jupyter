{
 "cells": [
  {
   "cell_type": "code",
   "execution_count": 1,
   "id": "6c7f631e",
   "metadata": {},
   "outputs": [],
   "source": [
    "                                            # CHAPTER-1.........\n",
    "#TLO-Topic learning outcome\n",
    "#The concept of python\n",
    "#How to run a simple Python program\n"
   ]
  },
  {
   "cell_type": "code",
   "execution_count": null,
   "id": "d9e0a340",
   "metadata": {},
   "outputs": [],
   "source": [
    "#What is python ?\n",
    "# - Pythonn is an general purpose interpreted, interactive, object-oriented and high level programing language, Python was created by guido van Rossum \n",
    "# in the late eighties and early ninetie like perl,python code is also now available under GNU(General purpose public License)-GPL"
   ]
  },
  {
   "cell_type": "code",
   "execution_count": null,
   "id": "7c5bc90d",
   "metadata": {},
   "outputs": [],
   "source": [
    "#Features of Python:-\n",
    "#Simple-\n",
    "# Python is a simple and minimilistic language. Reading a good python program feels like reading english, although very strict englist!.\n",
    "#This  pseudo code nature is one of its greatest strenght"
   ]
  },
  {
   "cell_type": "code",
   "execution_count": null,
   "id": "588f938b",
   "metadata": {},
   "outputs": [],
   "source": [
    "#Easy to learn-\n",
    "# Python is very easy to get started with and  has a extaordinary simple syntax."
   ]
  },
  {
   "cell_type": "code",
   "execution_count": null,
   "id": "f4acd91d",
   "metadata": {},
   "outputs": [],
   "source": [
    "#High Level- Language-\n",
    "# When you write program in  python, you do not need to bother about low level detail such as managing memory used by your program"
   ]
  },
  {
   "cell_type": "code",
   "execution_count": null,
   "id": "aca91ce7",
   "metadata": {},
   "outputs": [],
   "source": [
    "#Portable-\n",
    "# Due to its open source  nature ,Python has been ported to many platform(changed to make it work on). All your python program can run on these platform without requiring any changes as long as you are careful to avoid any system-specific features."
   ]
  },
  {
   "cell_type": "code",
   "execution_count": null,
   "id": "186b9404",
   "metadata": {},
   "outputs": [],
   "source": [
    "#Interpreted -\n",
    "# This term requires a bit of explanation. A program written in compiled language like c or c++ is converted from the source langauge into a langauge that is spoken by your computer(binary 0 and 1)) using a compiler with various flags and options.\n",
    "#when you run the program, the linker/loader software copies the program from the hard disk to memory and starts running it .\n",
    "# On the other hand python does not need compilation and converts the source program into an intermediate form called bytescodesn and then translates this into the native language of your specific system and then runs it. all this actually makes python much easier to use since you do not have to worry about compiling the program,making sure the proper libaries are linked and loaded,etc.This also makes your python program more portable since you can just copy the porgam to another computer and it just works!"
   ]
  },
  {
   "cell_type": "code",
   "execution_count": null,
   "id": "ee87e8ad",
   "metadata": {},
   "outputs": [],
   "source": [
    "#Object-oriented-\n",
    "# Python supports both procedure-oriented programming as well as object oriented. \n",
    "#In the  procedure-oriented programming , the program is build around the procedure or functions which are just reusable pieces to which data is fed. In the object-oriented programming, the programs is built around objects which combine both data and funcitonality. \n",
    "#Python has a very power ful simplistic wayy ofn doing object - oriented programming, especially when compared to big languages liks c++ or java."
   ]
  },
  {
   "cell_type": "code",
   "execution_count": null,
   "id": "3d0d24af",
   "metadata": {},
   "outputs": [],
   "source": [
    "# Extensible -\n",
    "#If you need a critical pieces of code in your program to run very fast or want to have a pieces of algorithm to be hidden from the outside world, \n",
    "#then you can write that part of the program in languages like c or c++ and then use that part from your Python porgams."
   ]
  },
  {
   "cell_type": "code",
   "execution_count": null,
   "id": "6c0b4016",
   "metadata": {},
   "outputs": [],
   "source": [
    "# Embeddable-\n",
    "# You can embed Python in your programs written in other language c or c++ to give 'Scripting'  Capabilities for your program's users."
   ]
  },
  {
   "cell_type": "code",
   "execution_count": null,
   "id": "af7f5e8f",
   "metadata": {},
   "outputs": [],
   "source": [
    "#Extensive libraries-\n",
    "#The python standard library is huge. It can help you with \n",
    "#regular expressions , Documentation generationm  unit testing, Threading , databases, Web browser,CGI,FTP,email.XML,HTML,WAv files, \n",
    "#Cryptography, GUI using tk and many other system - specific Functionality as well.\n"
   ]
  },
  {
   "cell_type": "code",
   "execution_count": 2,
   "id": "ed04c107",
   "metadata": {},
   "outputs": [],
   "source": [
    "# Multiple OS support\n",
    "# Fowling are the different os which supports Python\n",
    "#UNIX/linux\n",
    "#MAc OS x\n",
    "#Windows\n",
    "# Mobile Platform: Android,IOS : Mobile platform typically need to use scripting pack and enviroment which allow you to run python application python.\n",
    "#Eembbed systems: some of the embedded system supports python.\n"
   ]
  },
  {
   "cell_type": "code",
   "execution_count": null,
   "id": "ac39a5a4",
   "metadata": {},
   "outputs": [],
   "source": [
    "# Install pythons on windows:\n",
    "#Here the are the steps to follow- Just go the the link copy paste it on your browser python.org and watch youtube how to install it"
   ]
  },
  {
   "cell_type": "code",
   "execution_count": 7,
   "id": "0a97b652",
   "metadata": {},
   "outputs": [
    {
     "name": "stdout",
     "output_type": "stream",
     "text": [
      "Hello Python!\n"
     ]
    }
   ],
   "source": [
    "# Your first code-\n",
    "user = \"Python\"\n",
    "print(\"Hello\" , user + \"!\")"
   ]
  },
  {
   "cell_type": "code",
   "execution_count": null,
   "id": "9a312c51",
   "metadata": {},
   "outputs": [],
   "source": [
    "# The interactive interpreter:\n",
    "# One of the most useful tools for writting Python code is the Python interpreter, an interactive editing and executive enviroments in which commands are run as soon as the you press enter them.\n",
    "# On  the unix and machintosh machines, the Python interpreter can usually be found in the usr/local/bin/python directory, which can be accesed by simply typing the command python/\n",
    "#On the windows cmd : set path = %path%;c:\\python25."
   ]
  },
  {
   "cell_type": "code",
   "execution_count": null,
   "id": "63dc4cfc",
   "metadata": {},
   "outputs": [],
   "source": [
    "                                                                            #Chapter- 2\n",
    "#TLO-topic learning outcome \n",
    "# level-1\n",
    "# Data types\n",
    "#keywords\n",
    "#number\n",
    "#strings\n",
    "#Keyboard input\n",
    "# List\n",
    "\n",
    "\n",
    "#hey lazy people dont copy paste the code try to understand it and make typing habit.\n",
    "#if you dont understand it search for 2d animated video about that concept"
   ]
  },
  {
   "cell_type": "code",
   "execution_count": null,
   "id": "23da8500",
   "metadata": {},
   "outputs": [],
   "source": [
    "# Identifier \n",
    "#and Keywords:\n",
    "# An identifiers is a unique name that enables you to identify something. Identifiers are used to label variables,functions,classes,objects and modules.\n",
    "#They begin with either a letter or an underscore, and they can contain letters , \n",
    "#underscores, or digits. a valid python identifier is a nojn empty sequence of characters of any lenght that conist of a start characters and zero or more continous characters."
   ]
  },
  {
   "cell_type": "code",
   "execution_count": null,
   "id": "1fdd84e6",
   "metadata": {},
   "outputs": [],
   "source": [
    "#Keywords:\n",
    "# Keywords in python are words that have special meaning. They are used as part of the programming language itself and therefore must not be used for anything else. For example.\n",
    "if your try to use keywords as variables, or use them in the wrong way, you will get strange error messages from the python console.The keywords are as follows:\n",
    "    \n",
    "# and , assert,break,class,continue,def,del, elif, \n",
    "# else, except,exec,finally, for, from, global,if, import,in , \n",
    "# is , lamda, not, or, pass, print,raise,return, try,while,yield.\n",
    "    \n",
    "    "
   ]
  },
  {
   "cell_type": "code",
   "execution_count": 59,
   "id": "121d0ed5",
   "metadata": {},
   "outputs": [
    {
     "name": "stdout",
     "output_type": "stream",
     "text": [
      "Data type           Attributes                                                                                                                      Examples\n",
      "Numbers      Number data types store numberic values                                                                              Var1=5\n",
      "string       it is immutable,list of char,represented by single qoute or double                                                   'th's is strong'\n",
      "List         A mutable sequence of data types.List of element                                                                     ''[1,23,34, hage]''\n",
      "             do not have to be 'like' in other words, you have could have a float element and an integeres ele in single list\n",
      "Tuple        it is an immutable sequence of data types.Other than the fact that is cannot be changed, it workds just like a list  ''(123,1243,123)''\n",
      "Dictionary   A  list of items with key and value pairs                                                                            d={key:34}\n"
     ]
    }
   ],
   "source": [
    "#Data types:\n",
    "# Python is known as dynamically typed language, which means that you dont have to explicity identify the data type when you initialize a variable.\n",
    "# import module\n",
    "from tabulate import tabulate\n",
    " \n",
    "# assign data\n",
    "mydata = [\n",
    "    [\"Numbers\", \" Number data types store numberic values\",           \"Var1=5 \"],\n",
    "    \n",
    "    \n",
    "    [\"string\", \"it is immutable,list of char,represented by single qoute or double\",\" 'th's is strong' \"],\n",
    "    \n",
    "    \n",
    "    [\"List\", \"A mutable sequence of data types.List of element\", \" ''[1,23,34,\"' hage' \"]'' \"],\n",
    "    \n",
    "    \n",
    "    [\" \",      \" do not have to be 'like' in other words, you have could have a float element and an integeres ele in single list \",   \"  \"],\n",
    "    \n",
    "    [\"Tuple\", \" it is an immutable sequence of data types.Other than the fact that is cannot be changed, it workds just like a list\", \" ''(123,1243,123)''  \"],\n",
    "    \n",
    "    \n",
    "    [\"Dictionary\", \" A  list of items with key and value pairs\", \" d={\" 'key' \":34} \"]\n",
    "]\n",
    " \n",
    "# create header\n",
    "head = [\"Data type\",        \"       Attributes\",         \"                  Examples\"]\n",
    " \n",
    "# display table\n",
    "print(tabulate(mydata, headers=head, tablefmt=\"plain\"))"
   ]
  },
  {
   "cell_type": "code",
   "execution_count": null,
   "id": "acced58a",
   "metadata": {},
   "outputs": [],
   "source": [
    "#Python Numbers :\n",
    "# Number data types store numberic values. they are immutable data types, which means that changing ther values of a number data types results in newly\n",
    "#Which means that changing the value of a number data type results in a newly allocated object. Number objects are created when you assign a value to them. for \n",
    "#example:\n",
    "# a = 1\n",
    "# b = 2\n",
    "#Types                                             Attributes                                                                                                                   examples\n",
    "# Int   -       often called just integers or ints, are positve or negative whole numbers with no decimal point.                         100\n",
    "# Long-     Longs are integers of unlimited size, written like integers and followed by an uppercase or lower case L.         -0x19323L\n",
    "# Float-     float represent real numbers and are written with a decimal point dividing the integers                                    15.45 , 3.0\n",
    "# Complex-   Complex are the form of a a + bj , where a and ab are floats and j represent the square root of -1 \n",
    "                     #(which is an imaginary numbers).a is the real part of the number, and b is athe imaginary part                  3e+26j"
   ]
  },
  {
   "cell_type": "code",
   "execution_count": 63,
   "id": "e882864f",
   "metadata": {},
   "outputs": [
    {
     "name": "stdout",
     "output_type": "stream",
     "text": [
      " There are total of  1250 apples\n"
     ]
    }
   ],
   "source": [
    "# Examples of integers number:\n",
    "# calcuate total number of apples in basket\n",
    "baskets = 25\n",
    "apples_in_baskets = 50\n",
    "total = baskets * apples_in_baskets\n",
    "print ( \" There are total of \",total,\"apples\")"
   ]
  },
  {
   "cell_type": "code",
   "execution_count": 66,
   "id": "f15a6e55",
   "metadata": {},
   "outputs": [
    {
     "name": "stdout",
     "output_type": "stream",
     "text": [
      "The distance is234, The time is 0.000988888888888889,The speed of the person is 236629.21348314604\n"
     ]
    }
   ],
   "source": [
    "#Example of float:\n",
    "# Calculate the speed of a person with given distance as d = 234km and time  as t = 3.67 kmh 1 hr = 3600\n",
    "d = 234\n",
    "t = 3.56 / 3600\n",
    "speed = d / t\n",
    "print(f'The distance is{d}, The time is {t},The speed of the person is {speed}')"
   ]
  },
  {
   "cell_type": "code",
   "execution_count": null,
   "id": "5773beaa",
   "metadata": {},
   "outputs": [],
   "source": []
  },
  {
   "cell_type": "code",
   "execution_count": null,
   "id": "55d58eef",
   "metadata": {},
   "outputs": [],
   "source": []
  }
 ],
 "metadata": {
  "kernelspec": {
   "display_name": "Python 3 (ipykernel)",
   "language": "python",
   "name": "python3"
  },
  "language_info": {
   "codemirror_mode": {
    "name": "ipython",
    "version": 3
   },
   "file_extension": ".py",
   "mimetype": "text/x-python",
   "name": "python",
   "nbconvert_exporter": "python",
   "pygments_lexer": "ipython3",
   "version": "3.10.9"
  }
 },
 "nbformat": 4,
 "nbformat_minor": 5
}
