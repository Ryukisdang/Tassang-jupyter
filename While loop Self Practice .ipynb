{
 "cells": [
  {
   "cell_type": "markdown",
   "id": "48059c6b",
   "metadata": {},
   "source": [
    "Q. WRITE A PROGRAM TO PRINT THE FOLLOWING USING WHILE LOOP\n",
    "FIRST 10 EVEN NUMBERS\n",
    "FIRST 10 ODD NUMBERS\n",
    "FIRST 10 NATURAL NUMBERS\n",
    "FIRST 10 WHOLE NUMBER\n",
    "find mystery number\n"
   ]
  },
  {
   "cell_type": "code",
   "execution_count": 6,
   "id": "d78bcc42",
   "metadata": {},
   "outputs": [
    {
     "name": "stdout",
     "output_type": "stream",
     "text": [
      "2\n",
      "4\n",
      "6\n",
      "8\n",
      "10\n",
      "12\n",
      "14\n",
      "16\n",
      "18\n"
     ]
    }
   ],
   "source": [
    "# FIRST 10 EVEN NUMBERS\n",
    "x=2\n",
    "while(x<20):\n",
    "    print(x)\n",
    "    x=x+2\n",
    "    "
   ]
  },
  {
   "cell_type": "code",
   "execution_count": 7,
   "id": "54507612",
   "metadata": {},
   "outputs": [
    {
     "name": "stdout",
     "output_type": "stream",
     "text": [
      "1\n",
      "3\n",
      "5\n",
      "7\n",
      "9\n",
      "11\n",
      "13\n",
      "15\n",
      "17\n",
      "19\n"
     ]
    }
   ],
   "source": [
    "# FIRST 10 ODD NUMBERS\n",
    "x=1\n",
    "while(x<=20):\n",
    "    print(x)\n",
    "    x=x+2"
   ]
  },
  {
   "cell_type": "code",
   "execution_count": 8,
   "id": "d595e87f",
   "metadata": {},
   "outputs": [],
   "source": [
    "# FIRST 10 NATURAL NUMBERS"
   ]
  },
  {
   "cell_type": "code",
   "execution_count": 9,
   "id": "5b80274e",
   "metadata": {},
   "outputs": [
    {
     "name": "stdout",
     "output_type": "stream",
     "text": [
      "1\n",
      "2\n",
      "3\n",
      "4\n",
      "5\n",
      "6\n",
      "7\n",
      "8\n",
      "9\n",
      "10\n"
     ]
    }
   ],
   "source": [
    "x=1\n",
    "while(x<=10):\n",
    "    print(x)\n",
    "    x= x+1\n"
   ]
  },
  {
   "cell_type": "code",
   "execution_count": 10,
   "id": "1a08f1c3",
   "metadata": {},
   "outputs": [
    {
     "name": "stdout",
     "output_type": "stream",
     "text": [
      "0\n",
      "1\n",
      "2\n",
      "3\n",
      "4\n",
      "5\n",
      "6\n",
      "7\n",
      "8\n",
      "9\n"
     ]
    }
   ],
   "source": [
    "# FIRST 10 WHOLE NUMBER\n",
    "x=0\n",
    "while(x<10):\n",
    "    print(x)\n",
    "    x= x+1"
   ]
  },
  {
   "cell_type": "code",
   "execution_count": 11,
   "id": "8d99d5c9",
   "metadata": {},
   "outputs": [
    {
     "name": "stdout",
     "output_type": "stream",
     "text": [
      " Hello \t World.\n",
      " Hello\\nWorld.\n",
      " Hello\n",
      "World.\n"
     ]
    }
   ],
   "source": [
    "string = \" Hello \\t World.\" \n",
    "string1 = r\" Hello\\nWorld.\"\n",
    "string2 = \" Hello\\nWorld.\"\n",
    "print(string)\n",
    "print(string1)\n",
    "print(string2)"
   ]
  },
  {
   "cell_type": "markdown",
   "id": "24ab8733",
   "metadata": {},
   "source": [
    "WRITE A PYTHON PROGRAM TO PRINT FIRST 10 INTEGERS AND \n",
    "THEIR SQAURES USING WHILE LOOP ..1 1 , 2 4 , 3 9\n",
    "WRITE FOR LOOP STATEMENT TO PRINT THE FOLLOWING SERIES:\n",
    "10, 20 ,30 ,.... 300\n",
    "write a while loop statement to print the following series 105.98,21,....7\n",
    "write a program to print first 10 natural numbers in reverse order using while loop"
   ]
  },
  {
   "cell_type": "code",
   "execution_count": 12,
   "id": "22da27cf",
   "metadata": {},
   "outputs": [],
   "source": [
    "# WRITE A PYTHON PROGRAM TO PRINT FIRST 10 INTEGERS AND \n",
    "# THEIR SQAURES USING WHILE LOOP ..1 1 , 2 4 , 3 9"
   ]
  },
  {
   "cell_type": "code",
   "execution_count": 13,
   "id": "65a79ac6",
   "metadata": {},
   "outputs": [
    {
     "name": "stdout",
     "output_type": "stream",
     "text": [
      "Numbers\t\tSqaures\n",
      "1 \t---\t\t--- 1\n",
      "2 \t---\t\t--- 4\n",
      "3 \t---\t\t--- 9\n",
      "4 \t---\t\t--- 16\n",
      "5 \t---\t\t--- 25\n",
      "6 \t---\t\t--- 36\n",
      "7 \t---\t\t--- 49\n",
      "8 \t---\t\t--- 64\n",
      "9 \t---\t\t--- 81\n",
      "10 \t---\t\t--- 100\n"
     ]
    }
   ],
   "source": [
    "num =1\n",
    "print(\"Numbers\\t\\tSqaures\")\n",
    "while(num<=10):\n",
    "    print(num,\"\\t---\\t\\t---\",num**2)\n",
    "    num = num+1"
   ]
  },
  {
   "cell_type": "code",
   "execution_count": 14,
   "id": "15702363",
   "metadata": {},
   "outputs": [],
   "source": [
    "#WRITE FOR LOOP STATEMENT TO PRINT THE FOLLOWING SERIES:\n",
    "# 10, 20 ,30 ,.... 300"
   ]
  },
  {
   "cell_type": "code",
   "execution_count": 15,
   "id": "7d3e4ded",
   "metadata": {},
   "outputs": [
    {
     "name": "stdout",
     "output_type": "stream",
     "text": [
      "10\n",
      "20\n",
      "30\n",
      "40\n",
      "50\n",
      "60\n",
      "70\n",
      "80\n",
      "90\n",
      "100\n",
      "110\n",
      "120\n",
      "130\n",
      "140\n",
      "150\n",
      "160\n",
      "170\n",
      "180\n",
      "190\n",
      "200\n",
      "210\n",
      "220\n",
      "230\n",
      "240\n",
      "250\n",
      "260\n",
      "270\n",
      "280\n",
      "290\n",
      "300\n"
     ]
    }
   ],
   "source": [
    "num=10\n",
    "while (num<=300):\n",
    "    print(num)\n",
    "    num=num+10"
   ]
  },
  {
   "cell_type": "code",
   "execution_count": 16,
   "id": "3fd92751",
   "metadata": {},
   "outputs": [],
   "source": [
    "#write a while loop statement to print the following series 105.98,21,....7"
   ]
  },
  {
   "cell_type": "code",
   "execution_count": 17,
   "id": "c721a0bc",
   "metadata": {},
   "outputs": [
    {
     "name": "stdout",
     "output_type": "stream",
     "text": [
      "105\n",
      "98\n",
      "91\n",
      "84\n",
      "77\n",
      "70\n",
      "63\n",
      "56\n",
      "49\n",
      "42\n",
      "35\n",
      "28\n",
      "21\n",
      "14\n",
      "7\n"
     ]
    }
   ],
   "source": [
    "num=105\n",
    "while (num>=7):\n",
    "    print(num)\n",
    "    num=num-7"
   ]
  },
  {
   "cell_type": "code",
   "execution_count": 18,
   "id": "82de509f",
   "metadata": {},
   "outputs": [
    {
     "name": "stdout",
     "output_type": "stream",
     "text": [
      "10\n",
      "9\n",
      "8\n",
      "7\n",
      "6\n",
      "5\n",
      "4\n",
      "3\n",
      "2\n",
      "1\n"
     ]
    }
   ],
   "source": [
    "#write a program to print first 10 natural numbers in reverse order using while loop\n",
    "num=10\n",
    "while (num>=1):\n",
    "    print(num)\n",
    "    num=num-1"
   ]
  },
  {
   "cell_type": "markdown",
   "id": "1515c77e",
   "metadata": {},
   "source": [
    "WRITE A PROGRAM TO PRINT SUM OF FIRST 10 NATURAL NUMBERS.\n",
    "WRITE A PROGRAM TO PRINT SUM OF FIRST 10 EVEN INTEGERS NUMBERS\n",
    "WRITE A PROGRAM TO PRINT TABLE OF NUMBER ENTERED FROM THE USER\n",
    "WRITE A PROGRAM TO PRINT ALL EVEN NUMBERS THAT FALLS BETWEEN TWO NUMBERS\n",
    "(EXCLUSIVE BOTH NUMBERS) ENTERED FRIN THE USER USING WHILE LOOP"
   ]
  },
  {
   "cell_type": "code",
   "execution_count": 19,
   "id": "e89a040c",
   "metadata": {},
   "outputs": [],
   "source": [
    "#WRITE A PROGRAM TO PRINT SUM OF FIRST 10 NATURAL NUMBERS."
   ]
  },
  {
   "cell_type": "code",
   "execution_count": 20,
   "id": "b2641a9c",
   "metadata": {},
   "outputs": [
    {
     "name": "stdout",
     "output_type": "stream",
     "text": [
      "10\n",
      "19\n",
      "27\n",
      "34\n",
      "40\n",
      "45\n",
      "49\n",
      "52\n",
      "54\n",
      "55\n",
      "Total 55\n"
     ]
    }
   ],
   "source": [
    "num=10\n",
    "sums=0\n",
    "while num>=1:\n",
    "    sums= sums+num\n",
    "    num= num-1\n",
    "    print(sums)\n",
    "print(\"Total\",sums)"
   ]
  },
  {
   "cell_type": "code",
   "execution_count": 21,
   "id": "9b2fe105",
   "metadata": {},
   "outputs": [
    {
     "name": "stdout",
     "output_type": "stream",
     "text": [
      "20\n",
      "38\n",
      "54\n",
      "68\n",
      "80\n",
      "90\n",
      "98\n",
      "104\n",
      "108\n",
      "110\n"
     ]
    }
   ],
   "source": [
    "#WRITE A PROGRAM TO PRINT SUM OF FIRST 10 EVEN INTEGERS NUMBERS\n",
    "num=20\n",
    "sums=0\n",
    "while(num>=1):\n",
    "    if num%2==0:\n",
    "        sums=sums+num\n",
    "        num= num-2\n",
    "        print(sums)"
   ]
  },
  {
   "cell_type": "code",
   "execution_count": 22,
   "id": "668411c6",
   "metadata": {},
   "outputs": [
    {
     "name": "stdout",
     "output_type": "stream",
     "text": [
      "2\n",
      "6\n",
      "12\n",
      "20\n",
      "30\n",
      "42\n",
      "56\n",
      "72\n",
      "90\n",
      "110\n",
      "TOTAL 110\n"
     ]
    }
   ],
   "source": [
    "num=2\n",
    "sums= 0\n",
    "while num<=20:\n",
    "    sums =sums + num\n",
    "    num = num+2\n",
    "    print(sums)\n",
    "print(\"TOTAL\", sums)"
   ]
  },
  {
   "cell_type": "code",
   "execution_count": 23,
   "id": "94c43e3f",
   "metadata": {},
   "outputs": [
    {
     "name": "stdout",
     "output_type": "stream",
     "text": [
      "enter a number to find its table3\n",
      "3 x 1 = 3\n",
      "3 x 2 = 6\n",
      "3 x 3 = 9\n",
      "3 x 4 = 12\n",
      "3 x 5 = 15\n",
      "3 x 6 = 18\n",
      "3 x 7 = 21\n",
      "3 x 8 = 24\n",
      "3 x 9 = 27\n",
      "3 x 10 = 30\n"
     ]
    }
   ],
   "source": [
    "#WRITE A PROGRAM TO PRINT TABLE OF NUMBER ENTERED FROM THE USER\n",
    "i=0\n",
    "num=int(input(\"enter a number to find its table\"))\n",
    "while i<10:\n",
    "    i= i+1\n",
    "    \n",
    "    print(num,'x',i,'=',i*num)\n"
   ]
  },
  {
   "cell_type": "code",
   "execution_count": 24,
   "id": "712332c4",
   "metadata": {},
   "outputs": [],
   "source": [
    "#WRITE A PROGRAM TO PRINT ALL EVEN NUMBERS THAT FALLS BETWEEN TWO NUMBERS\n",
    "#(EXCLUSIVE BOTH NUMBERS) ENTERED FRIN THE USER USING WHILE LOOP"
   ]
  },
  {
   "cell_type": "code",
   "execution_count": 25,
   "id": "04c8b216",
   "metadata": {},
   "outputs": [
    {
     "name": "stdout",
     "output_type": "stream",
     "text": [
      "enter a first no: 22\n",
      "enter a second no: 54\n",
      "22\n",
      "24\n",
      "26\n",
      "28\n",
      "30\n",
      "32\n",
      "34\n",
      "36\n",
      "38\n",
      "40\n",
      "42\n",
      "44\n",
      "46\n",
      "48\n",
      "50\n",
      "52\n"
     ]
    }
   ],
   "source": [
    "num1=int(input(\"enter a first no: \"))\n",
    "num2=int(input(\"enter a second no: \"))\n",
    "if num1>num2:\n",
    "    while(num1>num2):\n",
    "        if num2%2==0:\n",
    "            print(num2)\n",
    "        num2=num2+1\n",
    "else:\n",
    "    while(num1<num2):\n",
    "        if num1%2==0:\n",
    "            print(num1)\n",
    "        num1=num1+1\n",
    "            \n",
    "        \n"
   ]
  },
  {
   "cell_type": "code",
   "execution_count": 28,
   "id": "95d6b8c4",
   "metadata": {},
   "outputs": [
    {
     "name": "stdout",
     "output_type": "stream",
     "text": [
      "enter a first no: 12\n",
      "enter a second no: 32\n",
      "12\n",
      "14\n",
      "16\n",
      "18\n",
      "20\n",
      "22\n",
      "24\n",
      "26\n",
      "28\n",
      "30\n"
     ]
    }
   ],
   "source": [
    "num1=int(input(\"enter a first no: \"))\n",
    "num2=int(input(\"enter a second no: \"))\n",
    "if num1>num2:\n",
    "    while(num1>num2):\n",
    "        if num2%2==0:\n",
    "            print(num2)\n",
    "        num2=num2+1\n",
    "else:\n",
    "    while(num1<num2):\n",
    "        if num1%2==0:\n",
    "            print(num1)\n",
    "        num1=num1+1"
   ]
  },
  {
   "cell_type": "markdown",
   "id": "6d03979f",
   "metadata": {},
   "source": [
    "WRITE A PYTHON PROGRAM TO CHECK WHETER A NUMBER IS PRIME OR NOT USING WHILE LOOP\n",
    "WRITE A PROGRAM TO FIND THE SUM OF THE DIGITS OF A NUMBER ACCEPTED FROM THE USER\n",
    "WRITE A PROGRAM TO FIND THE PRODUCT OF THE DIGITS OF A NUMBER ACCEPTED FROM THE USER\n",
    "WRITE A PROGRAM TO REVERSE THE NUMBER ACCEPTED FROM USER USING WHILE LOOP\n",
    "WRITE A PROGRAM TO DISPLAY THE NUMBER NAMES OF THE DIGITS ENTERED BY USER. FOR EXAMPLE IF THE NUMBER IS\n",
    "231 THE OUTPUT SHOULD BE TWO THREE ONE"
   ]
  },
  {
   "cell_type": "code",
   "execution_count": 29,
   "id": "96f7e648",
   "metadata": {},
   "outputs": [],
   "source": [
    "#WRITE A PYTHON PROGRAM TO CHECK WHETER A NUMBER IS PRIME OR NOT USING WHILE LOOP"
   ]
  },
  {
   "cell_type": "code",
   "execution_count": 31,
   "id": "704ed08b",
   "metadata": {},
   "outputs": [
    {
     "name": "stdout",
     "output_type": "stream",
     "text": [
      "Enter any number to check if its a prime number or not22\n",
      "22  is a not prime number\n"
     ]
    }
   ],
   "source": [
    "num1=int(input(\"Enter any number to check if its a prime number or not\"))\n",
    "k=0\n",
    "if num1==0 or num1==1:\n",
    "    print(\"not a prime number\")\n",
    "else:\n",
    "    i=2\n",
    "    while(i<num1):\n",
    "        if num1%i==0:\n",
    "            k=k+1\n",
    "        i+=1\n",
    "if k==0:\n",
    "    print(num1,' is a prime number')\n",
    "else:\n",
    "    print(num1,' is a not prime number')"
   ]
  },
  {
   "cell_type": "code",
   "execution_count": null,
   "id": "e611ffd3",
   "metadata": {},
   "outputs": [],
   "source": [
    "#WRITE A PROGRAM TO FIND THE SUM OF THE DIGITS OF A NUMBER ACCEPTED FROM THE USER"
   ]
  },
  {
   "cell_type": "code",
   "execution_count": 55,
   "id": "9b306f27",
   "metadata": {},
   "outputs": [
    {
     "name": "stdout",
     "output_type": "stream",
     "text": [
      "Enter any no: 4567\n",
      "sum of the digits are:  22\n"
     ]
    }
   ],
   "source": [
    "num1=int(input(\"Enter any no: \"))\n",
    "r=0\n",
    "s=0\n",
    "while(num1!=0):\n",
    "    r=num1%10\n",
    "    s=s+r\n",
    "    num1=num1//10\n",
    "print(\"sum of the digits are: \",s)"
   ]
  },
  {
   "cell_type": "code",
   "execution_count": null,
   "id": "de48d2cd",
   "metadata": {},
   "outputs": [],
   "source": []
  },
  {
   "cell_type": "code",
   "execution_count": 65,
   "id": "0c57852d",
   "metadata": {},
   "outputs": [
    {
     "data": {
      "text/plain": [
       "0"
      ]
     },
     "execution_count": 65,
     "metadata": {},
     "output_type": "execute_result"
    }
   ],
   "source": [
    "4//10"
   ]
  },
  {
   "cell_type": "code",
   "execution_count": 66,
   "id": "89915db3",
   "metadata": {},
   "outputs": [
    {
     "data": {
      "text/plain": [
       "0"
      ]
     },
     "execution_count": 66,
     "metadata": {},
     "output_type": "execute_result"
    }
   ],
   "source": [
    "0%10"
   ]
  },
  {
   "cell_type": "code",
   "execution_count": 67,
   "id": "924004dd",
   "metadata": {},
   "outputs": [
    {
     "data": {
      "text/plain": [
       "22"
      ]
     },
     "execution_count": 67,
     "metadata": {},
     "output_type": "execute_result"
    }
   ],
   "source": [
    "7+6+5+4"
   ]
  },
  {
   "cell_type": "code",
   "execution_count": null,
   "id": "fe8dcdd6",
   "metadata": {},
   "outputs": [],
   "source": [
    "#WRITE A PROGRAM TO FIND THE PRODUCT OF THE DIGITS OF A NUMBER ACCEPTED FROM THE USER"
   ]
  },
  {
   "cell_type": "code",
   "execution_count": 69,
   "id": "e68dc755",
   "metadata": {},
   "outputs": [
    {
     "name": "stdout",
     "output_type": "stream",
     "text": [
      "Enter any no: 342\n",
      "product of the digits are:  24\n"
     ]
    }
   ],
   "source": [
    "num1=int(input(\"Enter any no: \"))\n",
    "r=0\n",
    "p=1\n",
    "while(num1!=0):\n",
    "    r=num1%10\n",
    "    p=p*r\n",
    "    num1=num1//10\n",
    "print(\"product of the digits are: \",s)"
   ]
  },
  {
   "cell_type": "code",
   "execution_count": null,
   "id": "3a03a846",
   "metadata": {},
   "outputs": [],
   "source": [
    "#WRITE A PROGRAM TO REVERSE THE NUMBER ACCEPTED FROM USER USING WHILE LOOP"
   ]
  },
  {
   "cell_type": "code",
   "execution_count": 101,
   "id": "b43b9824",
   "metadata": {},
   "outputs": [
    {
     "name": "stdout",
     "output_type": "stream",
     "text": [
      "Enter any no: 67023\n",
      "reverse of the digits are:  32076\n"
     ]
    }
   ],
   "source": [
    "num1=int(input(\"Enter any no: \"))\n",
    "r=0\n",
    "rnum=0\n",
    "while(num1!=0):\n",
    "    r=num1%10\n",
    "    rnum=rnum*10+r\n",
    "    num1=num1//10\n",
    "print(\"reverse of the digits are: \",rnum)"
   ]
  },
  {
   "cell_type": "code",
   "execution_count": null,
   "id": "4b1bd85b",
   "metadata": {},
   "outputs": [],
   "source": [
    "# WRITE A PROGRAM TO DISPLAY THE NUMBER NAMES OF THE DIGITS ENTERED BY USER. FOR EXAMPLE IF THE NUMBER IS 231 THE OUTPUT SHOULD BE TWO THREE ONE"
   ]
  },
  {
   "cell_type": "code",
   "execution_count": 122,
   "id": "7ea91dc6",
   "metadata": {},
   "outputs": [
    {
     "name": "stdout",
     "output_type": "stream",
     "text": [
      "enter any number: 345\n",
      "Three Four Five "
     ]
    }
   ],
   "source": [
    "num1= input(\"enter any number: \")\n",
    "L1=list(num1)\n",
    "L=len(L1)\n",
    "i=0\n",
    "n={0:'Zero',1:'One',2:'Two',3:'Three',4:'Four',5:'Five',6:'Six',7:'Seven',8:'Eight',9:'Nine'}\n",
    "while(i<L):\n",
    "    print(n[int(L1[i])],end=\" \")\n",
    "    i=i+1"
   ]
  },
  {
   "cell_type": "markdown",
   "id": "7e2ab854",
   "metadata": {},
   "source": [
    "mark poin start from question number 15 of\n",
    "https://csiplearninghub.com/questions-of-while-loop-in-python/"
   ]
  },
  {
   "cell_type": "code",
   "execution_count": 31,
   "id": "7392dc1c",
   "metadata": {},
   "outputs": [],
   "source": [
    "def add(num):\n",
    "    return num+1"
   ]
  },
  {
   "cell_type": "code",
   "execution_count": 32,
   "id": "624632ef",
   "metadata": {},
   "outputs": [
    {
     "data": {
      "text/plain": [
       "[1, 2, 3, 4, 5, 6]"
      ]
     },
     "execution_count": 32,
     "metadata": {},
     "output_type": "execute_result"
    }
   ],
   "source": [
    "n=[0,1,2,3,4,5]\n",
    "list(map(add,n))"
   ]
  },
  {
   "cell_type": "code",
   "execution_count": 33,
   "id": "c91fd51c",
   "metadata": {},
   "outputs": [
    {
     "name": "stdout",
     "output_type": "stream",
     "text": [
      "1\n",
      "2\n",
      "3\n",
      "4\n",
      "5\n",
      "6\n"
     ]
    }
   ],
   "source": [
    "for item in map(add,n):\n",
    "    print(item)"
   ]
  },
  {
   "cell_type": "code",
   "execution_count": 34,
   "id": "48d4d994",
   "metadata": {},
   "outputs": [
    {
     "data": {
      "text/plain": [
       "[1, 2, 3, 4, 5, 6]"
      ]
     },
     "execution_count": 34,
     "metadata": {},
     "output_type": "execute_result"
    }
   ],
   "source": [
    "list(map(add,n))"
   ]
  },
  {
   "cell_type": "code",
   "execution_count": 35,
   "id": "18100a0a",
   "metadata": {},
   "outputs": [],
   "source": [
    "def splicer(mystr):\n",
    "    if len(mystr)%2==0:\n",
    "        return 'EVEN'\n",
    "    else:\n",
    "        return mystr[0]"
   ]
  },
  {
   "cell_type": "code",
   "execution_count": 36,
   "id": "5fd284ad",
   "metadata": {},
   "outputs": [],
   "source": [
    "name=['regina','tassang','jui','ryuk']"
   ]
  },
  {
   "cell_type": "code",
   "execution_count": 37,
   "id": "e8c9a75e",
   "metadata": {},
   "outputs": [
    {
     "data": {
      "text/plain": [
       "['EVEN', 't', 'j', 'EVEN']"
      ]
     },
     "execution_count": 37,
     "metadata": {},
     "output_type": "execute_result"
    }
   ],
   "source": [
    "list(map(splicer,name))"
   ]
  },
  {
   "cell_type": "code",
   "execution_count": 55,
   "id": "ce2222d4",
   "metadata": {},
   "outputs": [],
   "source": [
    "def check_even(num):\n",
    "    return num%2==0"
   ]
  },
  {
   "cell_type": "code",
   "execution_count": 56,
   "id": "c123b457",
   "metadata": {},
   "outputs": [
    {
     "data": {
      "text/plain": [
       "[False, True, False, True, False, True]"
      ]
     },
     "execution_count": 56,
     "metadata": {},
     "output_type": "execute_result"
    }
   ],
   "source": [
    "mynums= [1,2,3,4,5,6]\n",
    "list(map(check_even,mynums))"
   ]
  },
  {
   "cell_type": "code",
   "execution_count": 57,
   "id": "eab48117",
   "metadata": {},
   "outputs": [
    {
     "data": {
      "text/plain": [
       "[2, 4, 6]"
      ]
     },
     "execution_count": 57,
     "metadata": {},
     "output_type": "execute_result"
    }
   ],
   "source": [
    "list(filter(check_even,mynums))"
   ]
  },
  {
   "cell_type": "code",
   "execution_count": 60,
   "id": "831b5b7c",
   "metadata": {},
   "outputs": [
    {
     "name": "stdout",
     "output_type": "stream",
     "text": [
      "2\n",
      "4\n",
      "6\n"
     ]
    }
   ],
   "source": [
    "for n in filter(check_even,mynums):\n",
    "    print(n)"
   ]
  },
  {
   "cell_type": "code",
   "execution_count": 67,
   "id": "40253ecc",
   "metadata": {},
   "outputs": [
    {
     "data": {
      "text/plain": [
       "[1, 4, 9, 16, 25, 36]"
      ]
     },
     "execution_count": 67,
     "metadata": {},
     "output_type": "execute_result"
    }
   ],
   "source": [
    "list(map(lambda x:x **2,mynums))"
   ]
  },
  {
   "cell_type": "code",
   "execution_count": 68,
   "id": "dbcdbadb",
   "metadata": {},
   "outputs": [
    {
     "data": {
      "text/plain": [
       "[3, 6, 9, 12, 15, 18]"
      ]
     },
     "execution_count": 68,
     "metadata": {},
     "output_type": "execute_result"
    }
   ],
   "source": [
    "list(map(lambda y:y * 3,mynums))"
   ]
  },
  {
   "cell_type": "code",
   "execution_count": 69,
   "id": "9ba68c70",
   "metadata": {},
   "outputs": [
    {
     "data": {
      "text/plain": [
       "[2, 4, 6]"
      ]
     },
     "execution_count": 69,
     "metadata": {},
     "output_type": "execute_result"
    }
   ],
   "source": [
    "list(filter(lambda num:num %2 ==0,mynums))"
   ]
  },
  {
   "cell_type": "code",
   "execution_count": 70,
   "id": "8292ca23",
   "metadata": {},
   "outputs": [
    {
     "data": {
      "text/plain": [
       "['ydnA', 'evE', 'yllaS']"
      ]
     },
     "execution_count": 70,
     "metadata": {},
     "output_type": "execute_result"
    }
   ],
   "source": [
    "names = ['Andy','Eve','Sally']\n",
    "list(map(lambda x:x[::-1],names))"
   ]
  },
  {
   "cell_type": "code",
   "execution_count": null,
   "id": "830d9e28",
   "metadata": {},
   "outputs": [],
   "source": [
    "# WRITE A PYTHON PROGRAM TO PRINT THE FIBONACCI SERIES TILL N TERMS"
   ]
  },
  {
   "cell_type": "code",
   "execution_count": 7,
   "id": "69573c4a",
   "metadata": {},
   "outputs": [
    {
     "name": "stdout",
     "output_type": "stream",
     "text": [
      "How many terms of you want in fibonacci series: 4\n",
      "1 1 2 3 "
     ]
    }
   ],
   "source": [
    "n=int(input(\"How many terms of you want in fibonacci series: \"))\n",
    "if n==1:\n",
    "    print('1')\n",
    "elif n==2:\n",
    "    print(\"1,1\")\n",
    "elif n<=0:\n",
    "    print(\"Please enter positive number greater than 0\")\n",
    "else:\n",
    "    ft=1\n",
    "    st=1\n",
    "    print(ft,end=' ')\n",
    "    print(st,end=' ')\n",
    "    i=2\n",
    "    while(i<n):\n",
    "        nt=ft+st\n",
    "        print(nt,end=' ')\n",
    "        ft=st\n",
    "        st=nt\n",
    "        i=i+1"
   ]
  },
  {
   "cell_type": "code",
   "execution_count": 8,
   "id": "85587a52",
   "metadata": {},
   "outputs": [],
   "source": [
    "# write a program to print the factorial of given number"
   ]
  },
  {
   "cell_type": "code",
   "execution_count": 11,
   "id": "b63a217f",
   "metadata": {},
   "outputs": [
    {
     "name": "stdout",
     "output_type": "stream",
     "text": [
      "Enter a number to find its factorial: 4\n",
      "Fact of number is : 24\n"
     ]
    }
   ],
   "source": [
    "n=int(input(\"Enter a number to find its factorial: \"))\n",
    "f=1\n",
    "i=1\n",
    "while(i<=n):\n",
    "    f=f*i\n",
    "    i=i+1\n",
    "print('Fact of number is :',f)"
   ]
  },
  {
   "cell_type": "code",
   "execution_count": 17,
   "id": "956626b6",
   "metadata": {},
   "outputs": [],
   "source": [
    "#write a python program to check if th number is an armstrong or not"
   ]
  },
  {
   "cell_type": "code",
   "execution_count": 28,
   "id": "ffe8aacd",
   "metadata": {},
   "outputs": [
    {
     "name": "stdout",
     "output_type": "stream",
     "text": [
      "enter any number: 153\n",
      "Its an armsstrong number\n"
     ]
    }
   ],
   "source": [
    "num1=input(\"enter any number: \")\n",
    "p=0\n",
    "L=len(num1)\n",
    "L2=list(num1)\n",
    "i=0\n",
    "while(i<L):\n",
    "    p=p+int(L2[i])**3\n",
    "    i=i+1\n",
    "if int(num1)==p:\n",
    "    print(\"Its an armsstrong number\")\n",
    "else:\n",
    "    print(\"not an armstrong number\")"
   ]
  },
  {
   "cell_type": "code",
   "execution_count": 36,
   "id": "83e62678",
   "metadata": {},
   "outputs": [],
   "source": [
    "#write a python program to add first n terms of the following series using loop:\n",
    "# 1/1! + 1/2! + 1/3!............... 1/n!"
   ]
  },
  {
   "cell_type": "code",
   "execution_count": 53,
   "id": "ffaea5e1",
   "metadata": {},
   "outputs": [
    {
     "name": "stdout",
     "output_type": "stream",
     "text": [
      "enter any number: 5\n",
      "sums is          :  10\n"
     ]
    }
   ],
   "source": [
    "num=int(input(\"enter any number: \"))\n",
    "sums=0\n",
    "fact=1\n",
    "i=1\n",
    "while(i<num):\n",
    "    fact=fact*1\n",
    "    sums=sums+ i/fact\n",
    "    i=i+1\n",
    "print(\"sums is          : \",round(sums))"
   ]
  },
  {
   "cell_type": "code",
   "execution_count": null,
   "id": "9a4907a9",
   "metadata": {},
   "outputs": [],
   "source": []
  },
  {
   "cell_type": "code",
   "execution_count": null,
   "id": "3b9520ed",
   "metadata": {},
   "outputs": [],
   "source": []
  },
  {
   "cell_type": "code",
   "execution_count": null,
   "id": "56d86cb5",
   "metadata": {},
   "outputs": [],
   "source": []
  },
  {
   "cell_type": "code",
   "execution_count": null,
   "id": "72d407ec",
   "metadata": {},
   "outputs": [],
   "source": []
  },
  {
   "cell_type": "code",
   "execution_count": null,
   "id": "3a64b4ea",
   "metadata": {},
   "outputs": [],
   "source": []
  },
  {
   "cell_type": "code",
   "execution_count": null,
   "id": "450f85ff",
   "metadata": {},
   "outputs": [],
   "source": []
  },
  {
   "cell_type": "code",
   "execution_count": null,
   "id": "1bf5c479",
   "metadata": {},
   "outputs": [],
   "source": []
  }
 ],
 "metadata": {
  "kernelspec": {
   "display_name": "Python 3 (ipykernel)",
   "language": "python",
   "name": "python3"
  },
  "language_info": {
   "codemirror_mode": {
    "name": "ipython",
    "version": 3
   },
   "file_extension": ".py",
   "mimetype": "text/x-python",
   "name": "python",
   "nbconvert_exporter": "python",
   "pygments_lexer": "ipython3",
   "version": "3.10.9"
  }
 },
 "nbformat": 4,
 "nbformat_minor": 5
}
