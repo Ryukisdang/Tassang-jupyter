{
 "cells": [
  {
   "cell_type": "code",
   "execution_count": 3,
   "id": "b8f16148",
   "metadata": {},
   "outputs": [
    {
     "name": "stdout",
     "output_type": "stream",
     "text": [
      "Enter a radius value: 69\n",
      "Enter a height value: 69\n",
      "Volume of cylinder is  1031518.26\n"
     ]
    }
   ],
   "source": [
    "#write a python program to take user input and calculate the volume  of cylinder\n",
    "pi= 3.14 # pi value is 3.14 constant \n",
    "r = float(input(\"Enter a radius value: \"))     #takes user input in float or number value only from user                                                    \n",
    "h = float(input(\"Enter a height value: \"))\n",
    "volume_of_cylinder =pi*r**2*h\n",
    "print(\"Volume of cylinder is \",volume_of_cylinder)"
   ]
  },
  {
   "cell_type": "code",
   "execution_count": 6,
   "id": "c20bdbf9",
   "metadata": {},
   "outputs": [
    {
     "name": "stdout",
     "output_type": "stream",
     "text": [
      "Enter lenght: 234\n",
      "Enter height: 34\n",
      "Area of rectangle:  7956.0\n"
     ]
    }
   ],
   "source": [
    "#write a python program to take user input and calculate the area of rectangle\n",
    "lenght = float(input(\"Enter lenght: \"))\n",
    "height = float(input(\"Enter height: \"))\n",
    "Area_of_rectangle = lenght*height\n",
    "print(\"Area of rectangle: \",Area_of_rectangle)"
   ]
  },
  {
   "cell_type": "code",
   "execution_count": null,
   "id": "ff8f9e7d",
   "metadata": {},
   "outputs": [],
   "source": []
  }
 ],
 "metadata": {
  "kernelspec": {
   "display_name": "Python 3 (ipykernel)",
   "language": "python",
   "name": "python3"
  },
  "language_info": {
   "codemirror_mode": {
    "name": "ipython",
    "version": 3
   },
   "file_extension": ".py",
   "mimetype": "text/x-python",
   "name": "python",
   "nbconvert_exporter": "python",
   "pygments_lexer": "ipython3",
   "version": "3.10.9"
  }
 },
 "nbformat": 4,
 "nbformat_minor": 5
}
