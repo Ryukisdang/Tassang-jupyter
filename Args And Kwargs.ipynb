{
 "cells": [
  {
   "cell_type": "code",
   "execution_count": 26,
   "id": "feb19faf",
   "metadata": {},
   "outputs": [
    {
     "name": "stdout",
     "output_type": "stream",
     "text": [
      "['H', 'e', 'l', 'l', 'o']\n",
      "['W', 'e', 'l', 'c', 'o', 'm', 'e']\n",
      "['t', 'o']\n",
      "['G', 'e', 'e', 'k', 's', 'f', 'o', 'r', 'G', 'e', 'e', 'k', 's']\n",
      "['o', 'i', 'e']\n"
     ]
    }
   ],
   "source": [
    "# Args and Kwargs\n",
    "#Python program to illustrate *args for a variable number of arguments\n",
    "def myFun(*args):\n",
    "\tfor arg in args:\n",
    "\t\tprint(list(arg))\n",
    "\n",
    "\n",
    "myFun('Hello', 'Welcome', 'to', 'GeeksforGeeks',\"oie\")\n"
   ]
  },
  {
   "cell_type": "code",
   "execution_count": 4,
   "id": "047ac64d",
   "metadata": {},
   "outputs": [
    {
     "name": "stdout",
     "output_type": "stream",
     "text": [
      "First argument : Hello\n",
      "Next argument through *argv : Welcome\n",
      "Next argument through *argv : to\n",
      "Next argument through *argv : GeeksforGeeks\n"
     ]
    }
   ],
   "source": [
    "#Python program to illustrate *args with a first extra argument\n",
    "def myFun(arg1, *argv):\n",
    "\tprint(\"First argument :\", arg1)\n",
    "\tfor arg in argv:\n",
    "\t\tprint(\"Next argument through *argv :\", arg)\n",
    "\n",
    "\n",
    "myFun('Hello', 'Welcome', 'to', 'GeeksforGeeks')\n"
   ]
  },
  {
   "cell_type": "code",
   "execution_count": 25,
   "id": "1c0f124e",
   "metadata": {},
   "outputs": [
    {
     "name": "stdout",
     "output_type": "stream",
     "text": [
      "first == Geeks\n",
      "mid == for\n",
      "last == Geeks\n"
     ]
    }
   ],
   "source": [
    "#Python program to illustrate *kwargs for a variable number of keyword arguments. Here **kwargs accept keyworded variable-length argument passed by the function call. for first=’Geeks’ first is key and ‘Geeks’ is a value. in simple words, what we assign is value, and to whom we assign is key. \n",
    "def myFun(**kwargs):\n",
    "    for key, value in kwargs.items():\n",
    "        #print(\"%s == %s\" % (key, value))\n",
    "        print(\"%s == %s\" % (key, value))\n",
    "\n",
    "# Driver code\n",
    "myFun(first='Geeks', mid='for', last='Geeks')\n"
   ]
  },
  {
   "cell_type": "code",
   "execution_count": 10,
   "id": "6fc265e6",
   "metadata": {},
   "outputs": [
    {
     "name": "stdout",
     "output_type": "stream",
     "text": [
      "My name is tassang and I am 21 years old.\n"
     ]
    }
   ],
   "source": [
    "#string format method old legacy method\n",
    "name = \"tassang\"\n",
    "age = 21\n",
    "formatted_string = \"My name is %s and I am %s years old.\" % (name, age)\n",
    "print(formatted_string)\n"
   ]
  },
  {
   "cell_type": "code",
   "execution_count": 17,
   "id": "b65c4134",
   "metadata": {},
   "outputs": [
    {
     "name": "stdout",
     "output_type": "stream",
     "text": [
      "arg1: Geeks\n",
      "arg2: for\n",
      "arg3: Geeks\n",
      "arg1: Geeks\n",
      "arg2: for\n",
      "arg3: Geeks\n"
     ]
    }
   ],
   "source": [
    "#Using both *args and **kwargs in Python to call a function\n",
    "#Example 1:\n",
    "\n",
    "#Here, we are passing *args and **kwargs as an argument in the myFun function.\n",
    "#Passing *args to myFun simply means that we pass the positional and variable-length arguments which are contained by args. so, “Geeks” pass to the arg1 , “for” pass to the arg2, and “Geeks” pass to the arg3. \n",
    "#When we pass **kwargs as an argument to the myFun it means that it accepts keyword arguments. Here, “arg1” is key and the value is “Geeks” which is passed to arg1, and just like that “for” and “Geeks” pass to arg2 and arg3 respectively. After passing all the data we are printing all the data in lines.\n",
    "def myFun(arg1, arg2, arg3):\n",
    "\tprint(\"arg1:\", arg1)\n",
    "\tprint(\"arg2:\", arg2)\n",
    "\tprint(\"arg3:\", arg3)\n",
    "\n",
    "\n",
    "# Now we can use *args or **kwargs to\n",
    "# pass arguments to this function :\n",
    "args = (\"Geeks\", \"for\", \"Geeks\")\n",
    "myFun(*args)\n",
    "\n",
    "kwargs = {\"arg1\": \"Geeks\", \"arg2\": \"for\", \"arg3\": \"Geeks\"}\n",
    "myFun(**kwargs)\n"
   ]
  },
  {
   "cell_type": "code",
   "execution_count": 27,
   "id": "07a5886b",
   "metadata": {},
   "outputs": [
    {
     "name": "stdout",
     "output_type": "stream",
     "text": [
      "args:  ('geeks', 'for', 'geeks')\n",
      "kwargs:  {'first': 'Geeks', 'mid': 'for', 'last': 'Geeks'}\n"
     ]
    }
   ],
   "source": [
    "#Here, we are passing *args and **kwargs as an argument in the myFun function.\n",
    "#where ‘geeks’, ‘for’, ‘geeks’ is passed as *args, and first=”Geeks”, mid=”for”, last=”Geeks”  is passed as **kwargs and printing in the same line.\n",
    "def myFun(*args, **kwargs):\n",
    "\tprint(\"args: \", args)\n",
    "\tprint(\"kwargs: \", kwargs)\n",
    "\n",
    "\n",
    "# Now we can use both *args ,**kwargs\n",
    "# to pass arguments to this function :\n",
    "myFun('geeks', 'for', 'geeks', first=\"Geeks\", mid=\"for\", last=\"Geeks\")\n",
    "\n"
   ]
  },
  {
   "cell_type": "code",
   "execution_count": 29,
   "id": "8e9d1951",
   "metadata": {},
   "outputs": [
    {
     "name": "stdout",
     "output_type": "stream",
     "text": [
      "args:  ('hage', 'is', 'dedicated')\n",
      "kwargs:  {'left': 'hage', 'center': 'is', 'right': 'dedicated'}\n"
     ]
    }
   ],
   "source": [
    "def Arg_Kwarg(*args,**kwargs):\n",
    "    print(\"args: \",args)\n",
    "    print(\"kwargs: \",kwargs)\n",
    "    \n",
    "    \n",
    "Arg_Kwarg('hage','is','dedicated',left='hage',center='is',right='dedicated')"
   ]
  },
  {
   "cell_type": "code",
   "execution_count": null,
   "id": "3144b045",
   "metadata": {},
   "outputs": [],
   "source": []
  }
 ],
 "metadata": {
  "kernelspec": {
   "display_name": "Python 3 (ipykernel)",
   "language": "python",
   "name": "python3"
  },
  "language_info": {
   "codemirror_mode": {
    "name": "ipython",
    "version": 3
   },
   "file_extension": ".py",
   "mimetype": "text/x-python",
   "name": "python",
   "nbconvert_exporter": "python",
   "pygments_lexer": "ipython3",
   "version": "3.10.9"
  }
 },
 "nbformat": 4,
 "nbformat_minor": 5
}
