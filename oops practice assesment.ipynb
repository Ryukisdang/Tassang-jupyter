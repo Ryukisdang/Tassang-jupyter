{
 "cells": [
  {
   "cell_type": "code",
   "execution_count": 99,
   "id": "ee8d9c02",
   "metadata": {},
   "outputs": [],
   "source": [
    "#Object Oriented Programming\n",
    "#Practice Assessment\n",
    "#Problem 1\n",
    "#Fill in the Line class methods to accept coordinates as a pair of tuples and return the slope and distance of\n",
    "#the line.\n",
    "\n",
    "\n",
    "\n",
    "\n",
    "\n",
    "\n",
    "\n",
    "\n",
    "\n",
    "\n",
    "\n",
    "\n",
    "\n",
    "\n",
    "#test area\n",
    "import math\n",
    "class Line:\n",
    "    def __init__(self,coor1,coor2):\n",
    "        self.coor1 = coor1\n",
    "        self.coor2 = coor2\n",
    "    def distance(self):\n",
    "        k=((2-3)**2)+((10-8)**2)*1/2\n",
    "        return k\n",
    "    def slope(self):\n",
    "        pass\n"
   ]
  },
  {
   "cell_type": "code",
   "execution_count": 100,
   "id": "3f158b04",
   "metadata": {},
   "outputs": [
    {
     "data": {
      "text/plain": [
       "4.0"
      ]
     },
     "execution_count": 100,
     "metadata": {},
     "output_type": "execute_result"
    }
   ],
   "source": [
    "k = (3,2)\n",
    "k2 = (8,10)\n",
    "li = Line(k,k2)\n",
    "li.distance()"
   ]
  },
  {
   "cell_type": "code",
   "execution_count": null,
   "id": "48013850",
   "metadata": {},
   "outputs": [],
   "source": [
    "coordinate1 = (3,2)\n",
    "coordinate2 = (8,10)\n",
    "li = Line(coordinate1,coordinate2)"
   ]
  },
  {
   "cell_type": "code",
   "execution_count": null,
   "id": "38336a8f",
   "metadata": {},
   "outputs": [],
   "source": [
    "li.distance()"
   ]
  },
  {
   "cell_type": "code",
   "execution_count": 44,
   "id": "e7a42dd4",
   "metadata": {},
   "outputs": [
    {
     "ename": "NameError",
     "evalue": "name 'self' is not defined",
     "output_type": "error",
     "traceback": [
      "\u001b[1;31m---------------------------------------------------------------------------\u001b[0m",
      "\u001b[1;31mNameError\u001b[0m                                 Traceback (most recent call last)",
      "Cell \u001b[1;32mIn[44], line 1\u001b[0m\n\u001b[1;32m----> 1\u001b[0m k\u001b[38;5;241m=\u001b[39m(\u001b[38;5;28;43mself\u001b[39;49m\u001b[38;5;241m.\u001b[39mcoor1[\u001b[38;5;241m1\u001b[39m]\u001b[38;5;241m-\u001b[39m\u001b[38;5;28mself\u001b[39m\u001b[38;5;241m.\u001b[39mcoor1[\u001b[38;5;241m0\u001b[39m])\u001b[38;5;241m*\u001b[39m(\u001b[38;5;28mself\u001b[39m\u001b[38;5;241m.\u001b[39mcoor1[\u001b[38;5;241m1\u001b[39m]\u001b[38;5;241m-\u001b[39m\u001b[38;5;28mself\u001b[39m\u001b[38;5;241m.\u001b[39mcoor1[\u001b[38;5;241m0\u001b[39m])\n\u001b[0;32m      2\u001b[0m \u001b[38;5;28mprint\u001b[39m(k)\n",
      "\u001b[1;31mNameError\u001b[0m: name 'self' is not defined"
     ]
    }
   ],
   "source": [
    "k=(self.coor1[1]-self.coor1[0])*(self.coor1[1]-self.coor1[0])\n",
    "print(k)"
   ]
  },
  {
   "cell_type": "code",
   "execution_count": 1,
   "id": "c04a4296",
   "metadata": {},
   "outputs": [
    {
     "name": "stdout",
     "output_type": "stream",
     "text": [
      "8\n"
     ]
    }
   ],
   "source": [
    "#test area\n",
    "c1= (8,10)\n",
    "c2= (8,10)\n",
    "r= c1[0]\n",
    "print(r)"
   ]
  },
  {
   "cell_type": "code",
   "execution_count": 39,
   "id": "23375e44",
   "metadata": {},
   "outputs": [],
   "source": [
    "import math\n",
    "class Line:\n",
    "    def __init__(self,coor1,coor2):\n",
    "        self.coor1 = coor1\n",
    "        self.coor2 = coor2\n",
    "    def distance(self):\n",
    "        r1 = (math.sqrt(((self.coor1[1]-self.coor1[0])**2)+((self.coor2[1]-self.coor2[0])**2)))\n",
    "        #r1 = (((self.coor1[1]-self.coor1[0])**2)+((self.coor2[1]-self.coor2[0])**2))**2\n",
    "        return r1\n",
    "    def slope(self):\n",
    "        r2 = ((self.coor2[1]-self.coor2[0]))//((self.coor1[1]-self.coor1[0]))\n",
    "        return r2\n",
    "        \n"
   ]
  },
  {
   "cell_type": "code",
   "execution_count": 40,
   "id": "09546dc7",
   "metadata": {},
   "outputs": [],
   "source": [
    "coordinate1 = (3,2)\n",
    "coordinate2 = (8,10)\n",
    "li = Line(coordinate1,coordinate2)"
   ]
  },
  {
   "cell_type": "code",
   "execution_count": 41,
   "id": "fb493466",
   "metadata": {},
   "outputs": [
    {
     "data": {
      "text/plain": [
       "2.23606797749979"
      ]
     },
     "execution_count": 41,
     "metadata": {},
     "output_type": "execute_result"
    }
   ],
   "source": [
    "li.distance()"
   ]
  },
  {
   "cell_type": "code",
   "execution_count": 42,
   "id": "b497b759",
   "metadata": {},
   "outputs": [
    {
     "data": {
      "text/plain": [
       "-2"
      ]
     },
     "execution_count": 42,
     "metadata": {},
     "output_type": "execute_result"
    }
   ],
   "source": [
    "li.slope()"
   ]
  },
  {
   "cell_type": "code",
   "execution_count": null,
   "id": "66293ffe",
   "metadata": {},
   "outputs": [],
   "source": [
    " k=((2-3)**2)+((10-8)**2)*1/2"
   ]
  },
  {
   "cell_type": "code",
   "execution_count": 63,
   "id": "8a7641fe",
   "metadata": {},
   "outputs": [],
   "source": [
    "class Cylinder:\n",
    "    pi=3.14\n",
    "    def __init__(self,height=1,radius=1):\n",
    "        self.height= height\n",
    "        self.radius=radius\n",
    "        pass\n",
    "    def volume(self):\n",
    "        h=self.height\n",
    "        r=self.radius\n",
    "        return (self.pi*(r**2)*h)\n",
    "    def surface_area(self):\n",
    "        h=self.height\n",
    "        r=self.radius\n",
    "        return (2*self.pi*r*h)+ (2*self.pi*(r**2))\n",
    "    \n"
   ]
  },
  {
   "cell_type": "code",
   "execution_count": 64,
   "id": "0f2360bb",
   "metadata": {},
   "outputs": [],
   "source": [
    "c = Cylinder(2,3)\n"
   ]
  },
  {
   "cell_type": "code",
   "execution_count": 65,
   "id": "83f71460",
   "metadata": {},
   "outputs": [
    {
     "data": {
      "text/plain": [
       "56.52"
      ]
     },
     "execution_count": 65,
     "metadata": {},
     "output_type": "execute_result"
    }
   ],
   "source": [
    "c.volume()"
   ]
  },
  {
   "cell_type": "code",
   "execution_count": 66,
   "id": "8d077ad1",
   "metadata": {},
   "outputs": [
    {
     "data": {
      "text/plain": [
       "94.2"
      ]
     },
     "execution_count": 66,
     "metadata": {},
     "output_type": "execute_result"
    }
   ],
   "source": [
    "c.surface_area()\n"
   ]
  },
  {
   "cell_type": "code",
   "execution_count": null,
   "id": "2e343e3b",
   "metadata": {},
   "outputs": [],
   "source": []
  },
  {
   "cell_type": "code",
   "execution_count": null,
   "id": "3b07fc29",
   "metadata": {},
   "outputs": [],
   "source": [
    "#test zone\n",
    "x=2\n",
    "y=x**2\n",
    "z= x*x\n",
    "print(y)\n",
    "print(z)"
   ]
  },
  {
   "cell_type": "markdown",
   "id": "a5d19576",
   "metadata": {},
   "source": [
    "Object Oriented Programming Challenge\n",
    "For this challenge, create a bank account class that has two attributes:\n",
    "owner\n",
    "balance\n",
    "and two methods:\n",
    "deposit\n",
    "withdraw\n",
    "As an added requirement, withdrawals may not exceed the available balance.\n",
    "Instantiate your class, make several deposits and withdrawals, and test to make sure the account can't be\n",
    "overdrawn.\n"
   ]
  },
  {
   "cell_type": "code",
   "execution_count": 1,
   "id": "c5132c05",
   "metadata": {},
   "outputs": [],
   "source": [
    "class Account:\n",
    "    def __init__(self,owner,balance):\n",
    "        self.owner = owner\n",
    "        self.balance = balance\n",
    "    def __str__(self):\n",
    "        return f'Account owner: {self.owner}\\nAccount balance: ${self.balance}'\n",
    "    def deposit(self,d):\n",
    "        deposit=self.balance+d\n",
    "        print(\"Deposit accepted ${}\\ncurrent new balance is ${}\".format(d,self.balance))\n",
    "    def withdraw(self,w):\n",
    "        withdraw=self.balance-w\n",
    "        print(\"Withdraw accepted ${}\\ncurrent new balance is ${}\".format(w,self.balance))\n",
    "        if withdraw>self.balance:\n",
    "            return \"Funds Unavailable\"\n",
    "        \n",
    "    "
   ]
  },
  {
   "cell_type": "code",
   "execution_count": 2,
   "id": "9685d746",
   "metadata": {},
   "outputs": [],
   "source": [
    "acct1 = Account('Jose',100)\n"
   ]
  },
  {
   "cell_type": "code",
   "execution_count": 3,
   "id": "88d70975",
   "metadata": {},
   "outputs": [
    {
     "name": "stdout",
     "output_type": "stream",
     "text": [
      "Account owner: Jose\n",
      "Account balance: $100\n"
     ]
    }
   ],
   "source": [
    "print(acct1)"
   ]
  },
  {
   "cell_type": "code",
   "execution_count": 4,
   "id": "0f431c2f",
   "metadata": {},
   "outputs": [
    {
     "data": {
      "text/plain": [
       "'Jose'"
      ]
     },
     "execution_count": 4,
     "metadata": {},
     "output_type": "execute_result"
    }
   ],
   "source": [
    "acct1.owner\n"
   ]
  },
  {
   "cell_type": "code",
   "execution_count": 5,
   "id": "45e0557e",
   "metadata": {},
   "outputs": [
    {
     "data": {
      "text/plain": [
       "100"
      ]
     },
     "execution_count": 5,
     "metadata": {},
     "output_type": "execute_result"
    }
   ],
   "source": [
    "acct1.balance\n"
   ]
  },
  {
   "cell_type": "code",
   "execution_count": 6,
   "id": "4f0b2d24",
   "metadata": {},
   "outputs": [
    {
     "name": "stdout",
     "output_type": "stream",
     "text": [
      "Deposit accepted $50\n",
      "current new balance is $100\n"
     ]
    }
   ],
   "source": [
    "acct1.deposit(50)"
   ]
  },
  {
   "cell_type": "code",
   "execution_count": 7,
   "id": "83d2fdc5",
   "metadata": {},
   "outputs": [
    {
     "name": "stdout",
     "output_type": "stream",
     "text": [
      "Withdraw accepted $75\n",
      "current new balance is $100\n"
     ]
    }
   ],
   "source": [
    "acct1.withdraw(75)"
   ]
  },
  {
   "cell_type": "code",
   "execution_count": 80,
   "id": "e9a5ce50",
   "metadata": {},
   "outputs": [],
   "source": [
    "class Account:\n",
    "    def __init__(self,owner,balance):\n",
    "        self.owner = owner\n",
    "        self.balance = balance\n",
    "    def __str__(self):\n",
    "        return f'Account owner: {self.owner}\\nAccount balance: ${self.balance}'\n",
    "    def deposit(self,d):\n",
    "        self.balance=self.balance+d\n",
    "        print(\"Deposit accepted ${}\\ncurrent new balance is ${}\".format(d,self.balance))\n",
    "    def withdraw(self,w):\n",
    "        if self.balance>w:\n",
    "            self.balance=self.balance-w\n",
    "            print(\"Withdraw accepted ${}\\ncurrent new balance is ${}\".format(w,self.balance))\n",
    "        elif self.balance<w:\n",
    "            print(\"Fund Unavailable\")\n",
    "     \n",
    "        \n",
    "    "
   ]
  },
  {
   "cell_type": "code",
   "execution_count": 81,
   "id": "f545daf4",
   "metadata": {},
   "outputs": [],
   "source": [
    "acct2 = Account('Tassang',100)"
   ]
  },
  {
   "cell_type": "code",
   "execution_count": 82,
   "id": "73bb9747",
   "metadata": {},
   "outputs": [
    {
     "name": "stdout",
     "output_type": "stream",
     "text": [
      "Account owner: Tassang\n",
      "Account balance: $100\n"
     ]
    }
   ],
   "source": [
    "print(acct2)"
   ]
  },
  {
   "cell_type": "code",
   "execution_count": 83,
   "id": "66ddb63c",
   "metadata": {},
   "outputs": [
    {
     "data": {
      "text/plain": [
       "'Tassang'"
      ]
     },
     "execution_count": 83,
     "metadata": {},
     "output_type": "execute_result"
    }
   ],
   "source": [
    "acct2.owner"
   ]
  },
  {
   "cell_type": "code",
   "execution_count": 84,
   "id": "eeb4007b",
   "metadata": {},
   "outputs": [
    {
     "data": {
      "text/plain": [
       "100"
      ]
     },
     "execution_count": 84,
     "metadata": {},
     "output_type": "execute_result"
    }
   ],
   "source": [
    "acct2.balance"
   ]
  },
  {
   "cell_type": "code",
   "execution_count": 85,
   "id": "3b9ab60e",
   "metadata": {},
   "outputs": [
    {
     "name": "stdout",
     "output_type": "stream",
     "text": [
      "Deposit accepted $50\n",
      "current new balance is $150\n"
     ]
    }
   ],
   "source": [
    "acct2.deposit(50)"
   ]
  },
  {
   "cell_type": "code",
   "execution_count": 86,
   "id": "06ad710b",
   "metadata": {},
   "outputs": [
    {
     "name": "stdout",
     "output_type": "stream",
     "text": [
      "Withdraw accepted $75\n",
      "current new balance is $75\n"
     ]
    }
   ],
   "source": [
    "acct2.withdraw(75)"
   ]
  },
  {
   "cell_type": "code",
   "execution_count": 87,
   "id": "7277c3e1",
   "metadata": {},
   "outputs": [
    {
     "data": {
      "text/plain": [
       "75"
      ]
     },
     "execution_count": 87,
     "metadata": {},
     "output_type": "execute_result"
    }
   ],
   "source": [
    "acct2.balance"
   ]
  },
  {
   "cell_type": "code",
   "execution_count": 88,
   "id": "b9ab3d1c",
   "metadata": {},
   "outputs": [
    {
     "name": "stdout",
     "output_type": "stream",
     "text": [
      "Fund Unavailable\n"
     ]
    }
   ],
   "source": [
    "acct2.withdraw(500)"
   ]
  },
  {
   "cell_type": "code",
   "execution_count": null,
   "id": "fa2e2699",
   "metadata": {},
   "outputs": [],
   "source": []
  },
  {
   "cell_type": "code",
   "execution_count": null,
   "id": "8ca186fd",
   "metadata": {},
   "outputs": [],
   "source": []
  }
 ],
 "metadata": {
  "kernelspec": {
   "display_name": "Python 3 (ipykernel)",
   "language": "python",
   "name": "python3"
  },
  "language_info": {
   "codemirror_mode": {
    "name": "ipython",
    "version": 3
   },
   "file_extension": ".py",
   "mimetype": "text/x-python",
   "name": "python",
   "nbconvert_exporter": "python",
   "pygments_lexer": "ipython3",
   "version": "3.10.9"
  }
 },
 "nbformat": 4,
 "nbformat_minor": 5
}
