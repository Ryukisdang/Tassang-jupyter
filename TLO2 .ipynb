{
 "cells": [
  {
   "cell_type": "code",
   "execution_count": 1,
   "id": "3ca34524",
   "metadata": {},
   "outputs": [
    {
     "name": "stdout",
     "output_type": "stream",
     "text": [
      "30 35.0 2.857142857142857\n"
     ]
    }
   ],
   "source": [
    "#Create variables of different data types (integer, float, string, and boolean) and perform various arithmetic operations on them.\n",
    "a = 10\n",
    "b = 3.5\n",
    "c = \"20\"\n",
    "result1 = a + int(c)\n",
    "result2 = a * b\n",
    "result3 = a / b\n",
    "print(result1, result2, result3)\n"
   ]
  },
  {
   "cell_type": "code",
   "execution_count": 2,
   "id": "b016f076",
   "metadata": {},
   "outputs": [
    {
     "name": "stdout",
     "output_type": "stream",
     "text": [
      "is\n"
     ]
    }
   ],
   "source": [
    "#Given a string s = \"Programming is fun!\", extract the word \"is\" using slicing.\n",
    "s = \"Programming is fun!\"\n",
    "extracted_word = s[12:14]\n",
    "print(extracted_word)\n"
   ]
  },
  {
   "cell_type": "code",
   "execution_count": 4,
   "id": "5f48feca",
   "metadata": {},
   "outputs": [
    {
     "name": "stdout",
     "output_type": "stream",
     "text": [
      "area of rectangle:  50\n"
     ]
    }
   ],
   "source": [
    "#Calculate the area of a rectangle with length l and width w using the multiplication operator.\n",
    "l = 10\n",
    "w = 5\n",
    "area = l * w\n",
    "print(\"area of rectangle: \",area)\n"
   ]
  },
  {
   "cell_type": "code",
   "execution_count": 5,
   "id": "3c70b55e",
   "metadata": {},
   "outputs": [
    {
     "name": "stdout",
     "output_type": "stream",
     "text": [
      "Sum: 15\n",
      "Difference: -5\n",
      "Product: 50\n",
      "Quotient: 0.5\n"
     ]
    }
   ],
   "source": [
    "#Given two numbers x and y, calculate their sum, difference, product, and quotient using arithmetic operators.\n",
    "x = 5\n",
    "y = 10\n",
    "sum_result = x + y\n",
    "diff_result = x - y\n",
    "prod_result = x * y\n",
    "quot_result = x / y\n",
    "print(\"Sum:\", sum_result)\n",
    "print(\"Difference:\", diff_result)\n",
    "print(\"Product:\", prod_result)\n",
    "print(\"Quotient:\", quot_result)\n"
   ]
  },
  {
   "cell_type": "code",
   "execution_count": 6,
   "id": "9e55f48d",
   "metadata": {},
   "outputs": [
    {
     "name": "stdout",
     "output_type": "stream",
     "text": [
      "The remainder of the division is: 3\n"
     ]
    }
   ],
   "source": [
    "#Determine the remainder of the division of two numbers a and b using the modulo operator.\n",
    "a = 15\n",
    "b = 4\n",
    "remainder = a % b\n",
    "print(\"The remainder of the division is:\", remainder)\n"
   ]
  },
  {
   "cell_type": "code",
   "execution_count": 7,
   "id": "a0d6af31",
   "metadata": {},
   "outputs": [
    {
     "name": "stdout",
     "output_type": "stream",
     "text": [
      "Enter the first number: 123\n",
      "Enter the second number: 123\n",
      "Sum: 246.0\n",
      "Difference: 0.0\n",
      "Product: 15129.0\n",
      "Quotient: 1.0\n"
     ]
    }
   ],
   "source": [
    "#take two numbers as input from the user and perform addition, subtraction, multiplication, and division operations.\n",
    "\n",
    "x = float(input(\"Enter the first number: \"))\n",
    "y = float(input(\"Enter the second number: \"))\n",
    "\n",
    "\n",
    "sum_result = x + y\n",
    "diff_result = x - y\n",
    "prod_result = x * y\n",
    "quot_result = x / y\n",
    "\n",
    "\n",
    "print(\"Sum:\", sum_result)\n",
    "print(\"Difference:\", diff_result)\n",
    "print(\"Product:\", prod_result)\n",
    "print(\"Quotient:\", quot_result)\n"
   ]
  },
  {
   "cell_type": "code",
   "execution_count": 8,
   "id": "72e83fd5",
   "metadata": {},
   "outputs": [
    {
     "name": "stdout",
     "output_type": "stream",
     "text": [
      "Enter the length of the rectangle: 2343\n",
      "Enter the width of the rectangle: 34\n",
      "The area of the rectangle is: 79662.0\n"
     ]
    }
   ],
   "source": [
    "#Take the length and width of a rectangle as input from the user and calculate its area.\n",
    "l = float(input(\"Enter the length of the rectangle: \"))\n",
    "w = float(input(\"Enter the width of the rectangle: \"))\n",
    "area = l * w\n",
    "print(\"The area of the rectangle is:\", area)\n"
   ]
  },
  {
   "cell_type": "code",
   "execution_count": null,
   "id": "68aacebd",
   "metadata": {},
   "outputs": [],
   "source": []
  }
 ],
 "metadata": {
  "kernelspec": {
   "display_name": "Python 3 (ipykernel)",
   "language": "python",
   "name": "python3"
  },
  "language_info": {
   "codemirror_mode": {
    "name": "ipython",
    "version": 3
   },
   "file_extension": ".py",
   "mimetype": "text/x-python",
   "name": "python",
   "nbconvert_exporter": "python",
   "pygments_lexer": "ipython3",
   "version": "3.10.9"
  }
 },
 "nbformat": 4,
 "nbformat_minor": 5
}
