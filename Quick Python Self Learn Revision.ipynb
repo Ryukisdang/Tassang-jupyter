{
 "cells": [
  {
   "cell_type": "code",
   "execution_count": 1,
   "id": "65ba6555",
   "metadata": {},
   "outputs": [
    {
     "data": {
      "text/plain": [
       "False"
      ]
     },
     "execution_count": 1,
     "metadata": {},
     "output_type": "execute_result"
    }
   ],
   "source": [
    "# Data Types---\n",
    "# Int \n",
    "-2323213\n",
    "234234\n",
    "\n",
    "\n",
    "#Float\n",
    "34.2343\n",
    "324234.0\n",
    "-334.34\n",
    "\n",
    "\n",
    "#String\n",
    "\"\",' ',\"hekki\",\"hello world\",'asjdhasd'\n",
    "#Bool\n",
    "#0 or 1\n",
    "True\n",
    "False\n",
    "#intermediate data type this are data container\n",
    "#dictionary\n",
    "{}\n",
    "{\"dsf\":324}\n",
    "#tuples - immutable\n",
    "()\n",
    "(\"asdsa\",324.0,234)\n",
    "# List -mutable \n",
    "[]\n",
    "['sadasd',324,234.34]\n",
    "\n"
   ]
  },
  {
   "cell_type": "code",
   "execution_count": 9,
   "id": "de50ed8e",
   "metadata": {},
   "outputs": [
    {
     "name": "stdout",
     "output_type": "stream",
     "text": [
      "Helo world!\n",
      "34.34\n",
      "343 343 True\n",
      "32423|sfsd\n"
     ]
    }
   ],
   "source": [
    "#Output And Printing\n",
    "print(\"Helo world!\")\n",
    "print(34.34)\n",
    "print('343',343,True,end= \"\\n\")\n",
    "print(\"32423\",end='|')\n",
    "print(\"sfsd\")"
   ]
  },
  {
   "cell_type": "code",
   "execution_count": 11,
   "id": "8933f10c",
   "metadata": {},
   "outputs": [
    {
     "name": "stdout",
     "output_type": "stream",
     "text": [
      "ewww poop\n",
      "\n",
      "tassang\n"
     ]
    }
   ],
   "source": [
    "#variable\n",
    "hello = \"ewww\"\n",
    "world = \"poop\"\n",
    "print(hello,world)\n",
    "hello_world = \"tassang\"\n",
    "print()\n",
    "print(hello_world)"
   ]
  },
  {
   "cell_type": "code",
   "execution_count": 43,
   "id": "08c58ec7",
   "metadata": {},
   "outputs": [
    {
     "name": "stdout",
     "output_type": "stream",
     "text": [
      "sdfsd\n",
      "name: tassang\n",
      "tassang\n",
      "hello tassang\n",
      "number: 234\n",
      "number: 234\n",
      "234 234 (468, 0, 54756, 234, True, False, False, False, 249178538343859897602905502443311043993439555524386353334919645233978226164374923992664084240228232612531762046271219867904955214558573629332472984206557670667189362730123279184166580532455983805685592477224145886132226970683610096853152635030854871522599874400057925220369575731646992466829871299057657531920433486693162778218525983666154269364606901276372985321897170775515984390535656224834531099082447321597365396891406594511302843688865574199097101098949624120392314116694942946957629250352843442590129284541608525436456495833414399819834252104564736, 249178538343859897602905502443311043993439555524386353334919645233978226164374923992664084240228232612531762046271219867904955214558573629332472984206557670667189362730123279184166580532455983805685592477224145886132226970683610096853152635030854871522599874400057925220369575731646992466829871299057657531920433486693162778218525983666154269364606901276372985321897170775515984390535656224834531099082447321597365396891406594511302843688865574199097101098949624120392314116694942946957629250352843442590129284541608525436456495833414399819834252104564736, 1.0, 1, 0)\n"
     ]
    }
   ],
   "source": [
    "#user input\n",
    "input()\n",
    "userinput=input(\"name: \")\n",
    "print(userinput)\n",
    "print(\"hello\",userinput)\n",
    "x = int(input(\"number: \"))\n",
    "y =int(input(\"number: \"))\n",
    "z =  x+y, x-y, x*y , x&y, x == y,x!=y,x>y,x<y,x**y,x**x,x/y,x//y,(x%y)\n",
    "print(x,y,z)"
   ]
  },
  {
   "cell_type": "code",
   "execution_count": null,
   "id": "66071c14",
   "metadata": {},
   "outputs": [],
   "source": []
  },
  {
   "cell_type": "code",
   "execution_count": 39,
   "id": "2cb650aa",
   "metadata": {},
   "outputs": [
    {
     "name": "stdout",
     "output_type": "stream",
     "text": [
      "[True] False\n",
      "[(61, -53, 228, 0, False, True, False, True, 20769187434139310514121985316880384, 256, 0.07017543859649122, 0, 4)]\n",
      "\n",
      "{(61, -53, 228, 0, False, True, False, True, 20769187434139310514121985316880384, 256, 0.07017543859649122, 0, 4)}\n"
     ]
    }
   ],
   "source": [
    "#Arthmetic Operator\n",
    "x = 4\n",
    "y =57\n",
    "result= x+y, x-y, x*y , x&y, x == y,x!=y,x>y,x<y,x**y,x**x,x/y,x//y,(x%y)\n",
    "print([result!=5],result ==5)\n",
    "print([result])\n",
    "print()\n",
    "print({result})\n"
   ]
  },
  {
   "cell_type": "code",
   "execution_count": 59,
   "id": "c5fdd6df",
   "metadata": {},
   "outputs": [
    {
     "name": "stdout",
     "output_type": "stream",
     "text": [
      "<class 'str'>\n",
      "<class 'dict'>\n",
      "<class 'list'>\n",
      "<class 'tuple'>\n"
     ]
    }
   ],
   "source": [
    "#to check data type\n",
    "hi = \"asd\"\n",
    "hello = {\"asdasd\":324}\n",
    "dog = [3243,'32423']\n",
    "cat = (\"asdsa\",21312)\n",
    "print(type(hi))\n",
    "print(type(hello))\n",
    "print(type(dog))\n",
    "print(type(cat))\n"
   ]
  },
  {
   "cell_type": "code",
   "execution_count": 70,
   "id": "d6d6f23c",
   "metadata": {},
   "outputs": [
    {
     "name": "stdout",
     "output_type": "stream",
     "text": [
      "THIS IS MY FIRST SELF LEARN!!\n",
      "this is my first self learn!!\n",
      "This is my first self learn!!\n",
      "2\n",
      "2\n"
     ]
    }
   ],
   "source": [
    "#string method\n",
    "var = \"This is my First self learn!!\"\n",
    "print(var.upper())\n",
    "print(var.lower())\n",
    "print(var.capitalize())\n",
    "print(var.count(\"e\"))\n",
    "print(var.lower().count('l'))\n"
   ]
  },
  {
   "cell_type": "code",
   "execution_count": 87,
   "id": "7221482e",
   "metadata": {},
   "outputs": [
    {
     "name": "stdout",
     "output_type": "stream",
     "text": [
      "False True False True\n",
      "120\n",
      "True\n"
     ]
    }
   ],
   "source": [
    "##conditional operators in python\\\n",
    "#==\n",
    "#!=\n",
    "#=>\n",
    "#<=\n",
    "#<     >\n",
    "x = 'helllo'\n",
    "y='hello'\n",
    "print(x==y,x!=y,x>y,x<y)\n",
    "print(ord(\"x\"))\n",
    "result1 = 6 == 6\n",
    "print(result1)"
   ]
  },
  {
   "cell_type": "code",
   "execution_count": 102,
   "id": "c53e94bc",
   "metadata": {},
   "outputs": [
    {
     "name": "stdout",
     "output_type": "stream",
     "text": [
      "True True True False True\n",
      "True\n",
      "False\n"
     ]
    }
   ],
   "source": [
    "##Chained conditionals\n",
    "#and\n",
    "#or\n",
    "#not\n",
    "a= 7\n",
    "b = 8\n",
    "c = 0\n",
    "result2= a == a\n",
    "result3 = b>a\n",
    "result4 = c<a\n",
    "result5 = a > b +c\n",
    "result6 =a != b\n",
    "result7= result4 or not result2 and result3\n",
    " \n",
    "print(result2,result3,result4,result5,result6)\n",
    "print(result7)\n",
    "print(not (False and True or True))\n"
   ]
  },
  {
   "cell_type": "code",
   "execution_count": 105,
   "id": "053e2fc1",
   "metadata": {},
   "outputs": [
    {
     "name": "stdout",
     "output_type": "stream",
     "text": [
      "name: tassang\n",
      "oh this is your name\n"
     ]
    }
   ],
   "source": [
    "#conditional statement\n",
    "x = input(\"name: \")\n",
    "if x == 'tim':\n",
    "    print(\"oh this is your name\")"
   ]
  },
  {
   "cell_type": "code",
   "execution_count": 116,
   "id": "965e2c41",
   "metadata": {},
   "outputs": [
    {
     "name": "stdout",
     "output_type": "stream",
     "text": [
      "Enter your Player Name: Hage Tassng\n",
      "This will be your user name\n"
     ]
    }
   ],
   "source": [
    "x = str(input(\"Enter your Player Name: \"))\n",
    "y = x\n",
    "if x == y:\n",
    "    print(\"This will be your user name\")\n",
    "else:\n",
    "    print(\"sorry you cant add number in your name\")"
   ]
  },
  {
   "cell_type": "code",
   "execution_count": 123,
   "id": "cf94a7ec",
   "metadata": {},
   "outputs": [
    {
     "name": "stdout",
     "output_type": "stream",
     "text": [
      "Name: time\n",
      "nice\n",
      "time\n"
     ]
    }
   ],
   "source": [
    "y =input(\"Name: \")\n",
    "if y == 'time':\n",
    "    print(\"nice\")\n",
    "elif y == 'name':\n",
    "    print(\"worng\")\n",
    "else:\n",
    "    print(\"try again\")\n",
    "print(y)"
   ]
  },
  {
   "cell_type": "code",
   "execution_count": 141,
   "id": "6cc29c93",
   "metadata": {},
   "outputs": [
    {
     "name": "stdout",
     "output_type": "stream",
     "text": [
      "[345, True, 'turtle', 3.5, False, -234, -34.0] (345, True, 'turtle', 3.5, False, -234, -34.0)\n",
      "7\n",
      "7 7\n",
      "{'This is your data': 7}\n"
     ]
    }
   ],
   "source": [
    "#List and tuples\n",
    "x = [345,True,\"turtle\",3.5,False,-234,-34.0]\n",
    "y=(345,True,\"turtle\",3.5,False,-234,-34.0)\n",
    "print(x,y,end='\\n')\n",
    "print(len(x and y)) # if you use comma it will give error syntax as len can take one argument but with and,or operator it wont\n",
    "print(len(x),len(y))\n",
    "#or with dictionary\n",
    "z = \"This is your data\"\n",
    "print({z:len(x)})"
   ]
  },
  {
   "cell_type": "code",
   "execution_count": 17,
   "id": "7113f49c",
   "metadata": {},
   "outputs": [
    {
     "name": "stdout",
     "output_type": "stream",
     "text": [
      "[345, True, 'turtle', 3.5, False, -234, -34.0, 'hello world']\n",
      "[345, True, 'turtle', 3.5, False, -234, -34.0, 'hello world', 234, 324, 34]\n",
      "[345, True, 3.5, False, -234, -34.0, 'hello world', 234, 324, 34]\n",
      "hello world\n",
      "['i am changed', True, 3.5, False, -234, -34.0, 'hello world', 234, 324, 34]\n",
      "['i am changed', True, 3.5, False, -234, -34.0, 'hello world', 234, 324, 34]\n",
      "[34, 324, 234, 'hello world', -34.0, -234, False, 3.5, True, 'i am changed']\n",
      "[34]\n"
     ]
    }
   ],
   "source": [
    "#some list method\n",
    "x = [345,True,\"turtle\",3.5,False,-234,-34.0]\n",
    "x.append(\"hello world\")\n",
    "print(x)\n",
    "x.extend([234,324,34])\n",
    "print(x)\n",
    "x.pop(2)\n",
    "print(x)\n",
    "#accesing \n",
    "print(x[6])\n",
    "#changing value by positonal arguement\n",
    "x[0] = 'i am changed'\n",
    "print(x)\n",
    "#copy of list of whole lsit\n",
    "y = x[:] #Start:stop:stop emtpy : this means whole index\n",
    "print(y)\n",
    "# You cant do this in tuples\\\n",
    "x.reverse()\n",
    "print(x)\n",
    "\n"
   ]
  },
  {
   "cell_type": "code",
   "execution_count": 154,
   "id": "39f87b16",
   "metadata": {},
   "outputs": [
    {
     "name": "stdout",
     "output_type": "stream",
     "text": [
      "[(True, False), [345], (34, 34), 'asd', [324]]\n"
     ]
    }
   ],
   "source": [
    "# Nested list \n",
    "x = [(True,False),[345], (34,34), \"asd\",[324]]\n",
    "print(x)"
   ]
  },
  {
   "cell_type": "code",
   "execution_count": 169,
   "id": "cb775e24",
   "metadata": {},
   "outputs": [
    {
     "name": "stdout",
     "output_type": "stream",
     "text": [
      "0\n",
      "1\n",
      "2\n",
      "3\n",
      "4\n",
      "5\n",
      "6\n",
      "7\n",
      "8\n",
      "9\n",
      "\n",
      "15\n",
      "13\n",
      "11\n",
      "9\n",
      "7\n",
      "5\n",
      "3\n"
     ]
    }
   ],
   "source": [
    "#types of loops \n",
    "# for loop -  allow us to iterate or count for set no amount of time\n",
    "#while loop - runs at indefinite time we dont know\n",
    "#FOR LOOPS\n",
    "for i in range(10):\n",
    "    print(i)    #for loops check data given And put that data inn and range is a function that creates a collection of input we given \n",
    "print()                #it does start:stop:stop\n",
    "#usign range\n",
    "for x in range(15,1,-2):\n",
    "    print(x) \n"
   ]
  },
  {
   "cell_type": "code",
   "execution_count": 179,
   "id": "71d00d49",
   "metadata": {},
   "outputs": [
    {
     "name": "stdout",
     "output_type": "stream",
     "text": [
      "345\n",
      "True\n",
      "turtle\n",
      "3.5\n",
      "False\n",
      "-234\n",
      "-34.0\n",
      "0\n",
      "1\n",
      "2\n",
      "3\n",
      "4\n",
      "5\n",
      "6\n",
      "0\n",
      "1\n",
      "2\n",
      "3\n",
      "4\n",
      "5\n",
      "6\n"
     ]
    }
   ],
   "source": [
    "## use for loop to check data and count or iterate it and give output\n",
    "x = [345,True,\"turtle\",3.5,False,-234,-34.0]\n",
    "for i in x:\n",
    "    print(i)\n",
    "for z in range(len(x)):\n",
    "    print(z)\n",
    "    #count the total index and except last index and gives output"
   ]
  },
  {
   "cell_type": "code",
   "execution_count": 188,
   "id": "21c68e07",
   "metadata": {},
   "outputs": [
    {
     "name": "stdout",
     "output_type": "stream",
     "text": [
      "[345, True, 'turtle', 3.5, False, -234, -34.0]\n",
      "[345, True, 'turtle', 3.5, False, -234, -34.0]\n",
      "[345, True, 'turtle', 3.5, False, -234, -34.0]\n",
      "[345, True, 'turtle', 3.5, False, -234, -34.0]\n",
      "[345, True, 'turtle', 3.5, False, -234, -34.0]\n",
      "[345, True, 'turtle', 3.5, False, -234, -34.0]\n",
      "[345, True, 'turtle', 3.5, False, -234, -34.0]\n",
      "0\n",
      "1\n",
      "2\n",
      "3\n",
      "4\n",
      "5\n",
      "6\n",
      "0 345\n",
      "1 True\n",
      "2 turtle\n",
      "3 3.5\n",
      "4 False\n",
      "5 -234\n",
      "6 -34.0\n"
     ]
    }
   ],
   "source": [
    "# new method in for loop enumerate does the same thing but in better way and its faster \n",
    "# Enumerate counts the index and elements in the list can be output by typing element before enumerate\n",
    "x = [345,True,\"turtle\",3.5,False,-234,-34.0]\n",
    "for i in enumerate(x):\n",
    "    print(x)\n",
    "for c, element in enumerate(x):\n",
    "    print(c)\n",
    "#to get both we use this method\n",
    "for z, element in enumerate(x):\n",
    "    print(z,element)"
   ]
  },
  {
   "cell_type": "code",
   "execution_count": 21,
   "id": "83418224",
   "metadata": {},
   "outputs": [],
   "source": [
    "#while loops\n",
    "\n"
   ]
  },
  {
   "cell_type": "code",
   "execution_count": 41,
   "id": "7f67382a",
   "metadata": {},
   "outputs": [
    {
     "name": "stdout",
     "output_type": "stream",
     "text": [
      "Enter a number to find its factorial8\n",
      "fact of num : 8 is  40320\n"
     ]
    }
   ],
   "source": [
    "def recur(n):\n",
    "    if n==1:\n",
    "        return 1\n",
    "    else:\n",
    "        return (n*recur(n-1))\n",
    "num=int(input(\"Enter a number to find its factorial\"))\n",
    "resut=recur(num)\n",
    "print(\"fact of num :\",num,\"is \",resut)\n"
   ]
  },
  {
   "cell_type": "code",
   "execution_count": 47,
   "id": "1834bdbd",
   "metadata": {},
   "outputs": [],
   "source": [
    "\n",
    "r= n%2"
   ]
  },
  {
   "cell_type": "code",
   "execution_count": 48,
   "id": "9d155dcf",
   "metadata": {},
   "outputs": [
    {
     "name": "stdout",
     "output_type": "stream",
     "text": [
      "1\n"
     ]
    }
   ],
   "source": [
    "print(r)"
   ]
  },
  {
   "cell_type": "code",
   "execution_count": 81,
   "id": "acb3f706",
   "metadata": {},
   "outputs": [],
   "source": [
    "# how to find binary of a number\n",
    "n=127\n",
    "k=[]\n",
    "for i in range(1,n+1):\n",
    "    r= i%2\n",
    "    l=r%2\n",
    "    k.append(l)\n",
    "    \n",
    "    "
   ]
  },
  {
   "cell_type": "code",
   "execution_count": 82,
   "id": "472dd2c8",
   "metadata": {},
   "outputs": [
    {
     "name": "stdout",
     "output_type": "stream",
     "text": [
      "[1, 0, 1, 0, 1, 0, 1, 0, 1, 0, 1, 0, 1, 0, 1, 0, 1, 0, 1, 0, 1, 0, 1, 0, 1, 0, 1, 0, 1, 0, 1, 0, 1, 0, 1, 0, 1, 0, 1, 0, 1, 0, 1, 0, 1, 0, 1, 0, 1, 0, 1, 0, 1, 0, 1, 0, 1, 0, 1, 0, 1, 0, 1, 0, 1, 0, 1, 0, 1, 0, 1, 0, 1, 0, 1, 0, 1, 0, 1, 0, 1, 0, 1, 0, 1, 0, 1, 0, 1, 0, 1, 0, 1, 0, 1, 0, 1, 0, 1, 0, 1, 0, 1, 0, 1, 0, 1, 0, 1, 0, 1, 0, 1, 0, 1, 0, 1, 0, 1, 0, 1, 0, 1, 0, 1, 0, 1]\n"
     ]
    }
   ],
   "source": [
    "print(k)"
   ]
  },
  {
   "cell_type": "code",
   "execution_count": 83,
   "id": "5d7b8452",
   "metadata": {},
   "outputs": [
    {
     "name": "stdout",
     "output_type": "stream",
     "text": [
      "[1, 0, 1, 0, 1, 0, 1, 0, 1, 0, 1, 0, 1, 0, 1, 0, 1, 0, 1, 0, 1, 0, 1, 0, 1, 0, 1, 0, 1, 0, 1, 0, 1, 0, 1, 0, 1, 0, 1, 0, 1, 0, 1, 0, 1, 0, 1, 0, 1, 0, 1, 0, 1, 0, 1, 0, 1, 0, 1, 0, 1, 0, 1, 0, 1, 0, 1, 0, 1, 0, 1, 0, 1, 0, 1, 0, 1, 0, 1, 0, 1, 0, 1, 0, 1, 0, 1, 0, 1, 0, 1, 0, 1, 0, 1, 0, 1, 0, 1, 0, 1, 0, 1, 0, 1, 0, 1, 0, 1, 0, 1, 0, 1, 0, 1, 0, 1, 0, 1, 0, 1, 0, 1, 0, 1, 0, 1]\n",
      "[0, 0, 0, 0, 0, 0, 0, 0, 0, 0, 0, 0, 0, 0, 0, 0, 0, 0, 0, 0, 0, 0, 0, 0, 0, 0, 0, 0, 0, 0, 0, 0, 0, 0, 0, 0, 0, 0, 0, 0, 0, 0, 0, 0, 0, 0, 0, 0, 0, 0, 0, 0, 0, 0, 0, 0, 0, 0, 0, 0, 0, 0, 0, 1, 1, 1, 1, 1, 1, 1, 1, 1, 1, 1, 1, 1, 1, 1, 1, 1, 1, 1, 1, 1, 1, 1, 1, 1, 1, 1, 1, 1, 1, 1, 1, 1, 1, 1, 1, 1, 1, 1, 1, 1, 1, 1, 1, 1, 1, 1, 1, 1, 1, 1, 1, 1, 1, 1, 1, 1, 1, 1, 1, 1, 1, 1, 1]\n"
     ]
    }
   ],
   "source": [
    "print(k)\n",
    "k.sort()\n",
    "print(k)"
   ]
  },
  {
   "cell_type": "code",
   "execution_count": null,
   "id": "50684e5a",
   "metadata": {},
   "outputs": [],
   "source": [
    "#!/bin/python3\n",
    "\n",
    "import math\n",
    "import os\n",
    "import random\n",
    "import re\n",
    "import sys\n",
    "\n",
    "\n",
    "\n",
    "if __name__ == '__main__':\n",
    "    n = int(input().strip())\n",
    "    current_c_1s = 0\n",
    "    max_c_1s = 0\n",
    "    while n>0:\n",
    "        r=n%2\n",
    "        if r==1:\n",
    "            current_c_1s += 1\n",
    "            if current_c_1s > max_c_1s:\n",
    "                max_c_1s = current_c_1s\n",
    "        else:\n",
    "            current_c_1s = 0\n",
    "        n=n//2\n",
    "    print(max_c_1s)\n",
    "            \n"
   ]
  },
  {
   "cell_type": "code",
   "execution_count": null,
   "id": "6f3c68b3",
   "metadata": {},
   "outputs": [],
   "source": []
  },
  {
   "cell_type": "code",
   "execution_count": null,
   "id": "023939b1",
   "metadata": {},
   "outputs": [],
   "source": []
  },
  {
   "cell_type": "code",
   "execution_count": null,
   "id": "edc524ca",
   "metadata": {},
   "outputs": [],
   "source": []
  },
  {
   "cell_type": "code",
   "execution_count": null,
   "id": "bb032221",
   "metadata": {},
   "outputs": [],
   "source": []
  },
  {
   "cell_type": "code",
   "execution_count": null,
   "id": "70db1447",
   "metadata": {},
   "outputs": [],
   "source": []
  },
  {
   "cell_type": "code",
   "execution_count": null,
   "id": "f73f7813",
   "metadata": {},
   "outputs": [],
   "source": []
  },
  {
   "cell_type": "code",
   "execution_count": null,
   "id": "9b175717",
   "metadata": {},
   "outputs": [],
   "source": []
  },
  {
   "cell_type": "code",
   "execution_count": null,
   "id": "2ed2eb1b",
   "metadata": {},
   "outputs": [],
   "source": []
  },
  {
   "cell_type": "code",
   "execution_count": null,
   "id": "adc125ac",
   "metadata": {},
   "outputs": [],
   "source": []
  },
  {
   "cell_type": "code",
   "execution_count": null,
   "id": "78e9c598",
   "metadata": {},
   "outputs": [],
   "source": []
  },
  {
   "cell_type": "code",
   "execution_count": null,
   "id": "df84c54e",
   "metadata": {},
   "outputs": [],
   "source": []
  },
  {
   "cell_type": "code",
   "execution_count": null,
   "id": "8ebf661d",
   "metadata": {},
   "outputs": [],
   "source": []
  },
  {
   "cell_type": "code",
   "execution_count": null,
   "id": "123cd728",
   "metadata": {},
   "outputs": [],
   "source": []
  },
  {
   "cell_type": "code",
   "execution_count": null,
   "id": "57b9c266",
   "metadata": {},
   "outputs": [],
   "source": []
  },
  {
   "cell_type": "code",
   "execution_count": null,
   "id": "5f881423",
   "metadata": {},
   "outputs": [],
   "source": []
  }
 ],
 "metadata": {
  "kernelspec": {
   "display_name": "Python 3 (ipykernel)",
   "language": "python",
   "name": "python3"
  },
  "language_info": {
   "codemirror_mode": {
    "name": "ipython",
    "version": 3
   },
   "file_extension": ".py",
   "mimetype": "text/x-python",
   "name": "python",
   "nbconvert_exporter": "python",
   "pygments_lexer": "ipython3",
   "version": "3.10.9"
  }
 },
 "nbformat": 4,
 "nbformat_minor": 5
}
