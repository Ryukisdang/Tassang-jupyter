{
 "cells": [
  {
   "cell_type": "code",
   "execution_count": 1,
   "id": "0dbc48a7",
   "metadata": {},
   "outputs": [],
   "source": [
    "# THREE KEYWORDS ARE TRY , EXCEPT  AND FINALLY"
   ]
  },
  {
   "cell_type": "code",
   "execution_count": 2,
   "id": "83ed8e51",
   "metadata": {},
   "outputs": [
    {
     "name": "stdout",
     "output_type": "stream",
     "text": [
      "Int and string cant be concanated together\n",
      "20\n"
     ]
    }
   ],
   "source": [
    "try:\n",
    "    result=10+'10'\n",
    "except:\n",
    "    print(\"Int and string cant be concanated together\")\n",
    "finally:\n",
    "    print(10+10)"
   ]
  },
  {
   "cell_type": "code",
   "execution_count": 41,
   "id": "3cb76857",
   "metadata": {},
   "outputs": [
    {
     "name": "stdout",
     "output_type": "stream",
     "text": [
      "Please provide a numberfg\n",
      "Whoops! that is not a number\n",
      "End of try except finally\n",
      "I always run at the end\n",
      "Please provide a number45\n",
      "Yes thank You\n",
      "End of try except finally\n",
      "I always run at the end\n"
     ]
    }
   ],
   "source": [
    "def ask_for_int():\n",
    "    while True:\n",
    "        try:\n",
    "            result = int(input('Please provide a number'))\n",
    "        except:\n",
    "            print('Whoops! that is not a number')\n",
    "            continue\n",
    "        else:\n",
    "            print('Yes thank You')\n",
    "            break\n",
    "        finally:\n",
    "            print('End of try except finally')\n",
    "            print('I always run at the end')\n",
    "ask_for_int()"
   ]
  },
  {
   "cell_type": "code",
   "execution_count": 50,
   "id": "6fdeae6b",
   "metadata": {},
   "outputs": [],
   "source": [
    "def adding():\n",
    "    try:\n",
    "        num1 = 10\n",
    "        num2 = input('Please provide an integer')\n",
    "        result=num1+num2\n",
    "        print(result)\n",
    "    except:\n",
    "        print('Please enter both integers')\n",
    "    finally:\n",
    "        print('Adding numbers\\nResult: ',num1+int(num2))"
   ]
  },
  {
   "cell_type": "code",
   "execution_count": 51,
   "id": "ff1db098",
   "metadata": {},
   "outputs": [
    {
     "name": "stdout",
     "output_type": "stream",
     "text": [
      "Please provide an integer45\n",
      "Please enter both integers\n",
      "Adding numbers\n",
      "Result:  55\n"
     ]
    }
   ],
   "source": [
    "adding()"
   ]
  },
  {
   "cell_type": "code",
   "execution_count": null,
   "id": "48ab7e90",
   "metadata": {},
   "outputs": [],
   "source": []
  },
  {
   "cell_type": "code",
   "execution_count": null,
   "id": "588b50a7",
   "metadata": {},
   "outputs": [],
   "source": []
  },
  {
   "cell_type": "code",
   "execution_count": null,
   "id": "e3f8c7ba",
   "metadata": {},
   "outputs": [],
   "source": []
  },
  {
   "cell_type": "code",
   "execution_count": 15,
   "id": "eacdb398",
   "metadata": {},
   "outputs": [
    {
     "name": "stdout",
     "output_type": "stream",
     "text": [
      "Siya\n",
      "Tiya\n",
      "Guru\n",
      "Found the name Guru\n",
      "After while-loop exit\n"
     ]
    }
   ],
   "source": [
    "my_list = ['Siya', 'Tiya', 'Guru', 'Daksh', 'Riya', 'Guru'] \n",
    "i = 0\n",
    "\n",
    "while True:\n",
    "    print(my_list[i])\n",
    "    if (my_list[i] == 'Guru'):\n",
    "        print('Found the name Guru')\n",
    "        break\n",
    "        print('After break statement')\n",
    "    i += 1\n",
    "\n",
    "print('After while-loop exit')"
   ]
  },
  {
   "cell_type": "code",
   "execution_count": 2,
   "id": "a16b4a77",
   "metadata": {},
   "outputs": [
    {
     "name": "stdout",
     "output_type": "stream",
     "text": [
      "Try is getting executed as there is no error\n",
      "Add went well\n",
      "20\n"
     ]
    }
   ],
   "source": [
    "try:\n",
    "#want to attempt this code\n",
    "#WE may have an error\n",
    "    result = 10+10\n",
    "    print('Try is getting executed as there is no error')\n",
    "except:\n",
    "    print(\"Hey looks like you aren't adding correctly\")\n",
    "else:\n",
    "    print('Add went well')\n",
    "    print(result)"
   ]
  },
  {
   "cell_type": "code",
   "execution_count": 3,
   "id": "a4b09101",
   "metadata": {},
   "outputs": [
    {
     "name": "stdout",
     "output_type": "stream",
     "text": [
      "Hey you have an OSError\n",
      "I always run\n"
     ]
    }
   ],
   "source": [
    "try:\n",
    "    f = open('testfile.txt','r')\n",
    "    print('ran textfile')\n",
    "    f.write('Write a new text file')\n",
    "except TypeError:\n",
    "    print('There was a type error')\n",
    "except OSError:\n",
    "    print('Hey you have an OSError')\n",
    "except:\n",
    "    print('Other errors')\n",
    "finally:\n",
    "    print('I always run')"
   ]
  },
  {
   "cell_type": "code",
   "execution_count": 3,
   "id": "84c166ef",
   "metadata": {},
   "outputs": [],
   "source": [
    "def ask_int():\n",
    "    try:\n",
    "        result = int(input('Please provide a number'))\n",
    "    except:\n",
    "        print('Whoops! that is not a number')\n",
    "    finally:\n",
    "        print('I always run')"
   ]
  },
  {
   "cell_type": "code",
   "execution_count": 4,
   "id": "102eba96",
   "metadata": {},
   "outputs": [
    {
     "name": "stdout",
     "output_type": "stream",
     "text": [
      "Please provide a number45\n",
      "I always run\n"
     ]
    }
   ],
   "source": [
    "ask_int()"
   ]
  },
  {
   "cell_type": "code",
   "execution_count": 8,
   "id": "3037016c",
   "metadata": {},
   "outputs": [],
   "source": [
    "\n",
    "            \n",
    "                  "
   ]
  },
  {
   "cell_type": "code",
   "execution_count": null,
   "id": "f98ffa28",
   "metadata": {},
   "outputs": [],
   "source": []
  },
  {
   "cell_type": "code",
   "execution_count": null,
   "id": "e278aae8",
   "metadata": {},
   "outputs": [],
   "source": []
  },
  {
   "cell_type": "code",
   "execution_count": null,
   "id": "cc9de8ba",
   "metadata": {},
   "outputs": [],
   "source": []
  },
  {
   "cell_type": "code",
   "execution_count": null,
   "id": "7d37425b",
   "metadata": {},
   "outputs": [],
   "source": []
  },
  {
   "cell_type": "code",
   "execution_count": null,
   "id": "568bd643",
   "metadata": {},
   "outputs": [],
   "source": []
  }
 ],
 "metadata": {
  "kernelspec": {
   "display_name": "Python 3 (ipykernel)",
   "language": "python",
   "name": "python3"
  },
  "language_info": {
   "codemirror_mode": {
    "name": "ipython",
    "version": 3
   },
   "file_extension": ".py",
   "mimetype": "text/x-python",
   "name": "python",
   "nbconvert_exporter": "python",
   "pygments_lexer": "ipython3",
   "version": "3.10.9"
  }
 },
 "nbformat": 4,
 "nbformat_minor": 5
}
