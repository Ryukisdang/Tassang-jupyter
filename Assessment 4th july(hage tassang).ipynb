{
 "cells": [
  {
   "cell_type": "code",
   "execution_count": null,
   "id": "7278dc8b",
   "metadata": {},
   "outputs": [],
   "source": [
    "Assessment 1: Temperature Converter (5 Marks)\n",
    "Problem Statement:\n",
    "Write a Python function called convert_temperature(temp, from_scale, to_scale) that takes a temperature, a scale to convert from, and a scale to convert to as input. The scales can be \"Celsius\", \"Fahrenheit\", or \"Kelvin\". The function should convert the temperature to the requested scale.\n",
    "Example Inputs and Outputs:\n",
    "•\tconvert_temperature(0, 'Celsius', 'Fahrenheit') should return 32\n",
    "•\tconvert_temperature(32, 'Fahrenheit', 'Celsius') should return 0\n",
    "•\tconvert_temperature(0, 'Celsius', 'Kelvin') should return 273.15\n",
    "\n",
    "Assessment 2: Create python program using modules , collections, OS, date-time, math, and random operations also note the usecase of each modules\n",
    "Assessment 3: Program to perform Linear Search.\n",
    "Linear search is a simple search algorithm that checks every element in the list sequentially until it finds the target value.\n"
   ]
  },
  {
   "cell_type": "code",
   "execution_count": null,
   "id": "28001036",
   "metadata": {},
   "outputs": [],
   "source": [
    "#Write a Python function called convert_temperature(temp, from_scale, to_scale) that takes a temperature, a scale to convert from, and a scale to convert to as input. The scales can be \"Celsius\", \"Fahrenheit\", or \"Kelvin\". The function should convert the temperature to the requested scale.\n",
    "Example Inputs and Outputs:\n",
    "•\tconvert_temperature(0, 'Celsius', 'Fahrenheit') should return 32\n",
    "•\tconvert_temperature(32, 'Fahrenheit', 'Celsius') should return 0\n",
    "•\tconvert_temperature(0, 'Celsius', 'Kelvin') should return 273.15\n",
    "formulas: \n",
    "Celsius to Kelvin: K = C + 273.15\n",
    "Kelvin to Celcius: C = K - 273.15\n",
    "Fahrenheit to Celcius: C = (F-32) (5/9)\n",
    "Celsius to Fahrenheit: F = C(9/5) + 32\n",
    "Fahrenheit to Kelvin: K = (F-32) (5/9) + 273.15\n",
    "Kelvin to Fahrenheit: F = (K-273.15) (9/5) + 32"
   ]
  },
  {
   "cell_type": "code",
   "execution_count": 120,
   "id": "af7add8c",
   "metadata": {},
   "outputs": [],
   "source": [
    "class Temperature_Convert:\n",
    "    def __init__(self,k,c,f):\n",
    "        self.k=k\n",
    "        self.c=c\n",
    "        self.f=f\n",
    "    def show(self):\n",
    "        print(f'Current value:\\nCelcius: *{self.c}\\nfahrenheit: *{self.f}\\nKelvin: {self.k}k')\n",
    "    def convert_celcius_to_fahrenheit(self):\n",
    "        #Celsius to Fahrenheit: F = C(9/5) + 32\n",
    "        F=(self.c*(9/5))+32\n",
    "        print(f'converted celcius to fahrenheit is *{F}')\n",
    "    \n",
    "    def convert_fahrenheit_to_celcius(self):\n",
    "        #Fahrenheit to Celcius: C = (F-32) (5/9)\n",
    "        C=(self.f-32)*(5/9)\n",
    "        print(f'converted fahrenheit to celcius  is *{C}')\n",
    "    \n",
    "    def convert_celcius_to_kelvin(self):\n",
    "        #Celsius to Kelvin: K = C + 273.15\n",
    "        K=(self.c+self.k)\n",
    "        print(f'converted celcius to kelvin  is {K} k')"
   ]
  },
  {
   "cell_type": "code",
   "execution_count": 121,
   "id": "8b421dda",
   "metadata": {},
   "outputs": [
    {
     "name": "stdout",
     "output_type": "stream",
     "text": [
      "Give a value for celcius or use 0 >> 0\n",
      "Give a value for fahrenheit or use 0>> 32\n",
      "Current value:\n",
      "Celcius: *32\n",
      "fahrenheit: *273.15\n",
      "Kelvin: 0k\n",
      "converted celcius to fahrenheit is *89.6\n",
      "converted fahrenheit to celcius  is *133.97222222222223\n",
      "converted celcius to kelvin  is 32 k\n"
     ]
    }
   ],
   "source": [
    "if __name__==\"__main__\":\n",
    "    user_value1= int(input(\"Give a value for celcius or use 0 >> \"))\n",
    "    user_value2= int(input(\"Give a value for fahrenheit or use 0>> \"))\n",
    "    user_value3=float(273.15)\n",
    "    temp=Temperature_Convert(user_value1,user_value2,user_value3)\n",
    "    temp.show()\n",
    "    temp.convert_celcius_to_fahrenheit()\n",
    "    temp.convert_fahrenheit_to_celcius()\n",
    "    temp.convert_celcius_to_kelvin()"
   ]
  },
  {
   "cell_type": "code",
   "execution_count": 138,
   "id": "849ebef5",
   "metadata": {},
   "outputs": [],
   "source": [
    "def convert_celcius_to_fahrenheit(temp):\n",
    "        #Celsius to Fahrenheit: F = C(9/5) + 32\n",
    "        F=temp*(9/5)+32\n",
    "        return f'converted celcius to fahrenheit is {F}'\n",
    "def convert_fahrenheit_to_celcius(temp):\n",
    "        #Fahrenheit to Celcius: C = (F-32) (5/9)\n",
    "        C=(temp-32)*(5/9)\n",
    "        return f'converted fahrenheit to celcius  is c*{C}'\n",
    "def convert_celcius_to_kelvin(temp):\n",
    "        #Celsius to Kelvin: K = C + 273.15\n",
    "        K=(temp+273.15)\n",
    "        return f'converted celcius to kelvin  is {K} K'\n"
   ]
  },
  {
   "cell_type": "code",
   "execution_count": 139,
   "id": "7c55da40",
   "metadata": {},
   "outputs": [
    {
     "data": {
      "text/plain": [
       "'converted celcius to fahrenheit is 32.0'"
      ]
     },
     "execution_count": 139,
     "metadata": {},
     "output_type": "execute_result"
    }
   ],
   "source": [
    "n=0\n",
    "convert_celcius_to_fahrenheit(n)"
   ]
  },
  {
   "cell_type": "code",
   "execution_count": 140,
   "id": "83b66f82",
   "metadata": {},
   "outputs": [
    {
     "data": {
      "text/plain": [
       "'converted fahrenheit to celcius  is c*0.0'"
      ]
     },
     "execution_count": 140,
     "metadata": {},
     "output_type": "execute_result"
    }
   ],
   "source": [
    "n=32\n",
    "convert_fahrenheit_to_celcius(n)"
   ]
  },
  {
   "cell_type": "code",
   "execution_count": 141,
   "id": "cc16e267",
   "metadata": {},
   "outputs": [
    {
     "data": {
      "text/plain": [
       "'converted celcius to kelvin  is 273.15 K'"
      ]
     },
     "execution_count": 141,
     "metadata": {},
     "output_type": "execute_result"
    }
   ],
   "source": [
    "n=0\n",
    "convert_celcius_to_kelvin(n)"
   ]
  },
  {
   "cell_type": "code",
   "execution_count": null,
   "id": "258082c6",
   "metadata": {},
   "outputs": [],
   "source": []
  },
  {
   "cell_type": "code",
   "execution_count": null,
   "id": "23e691b9",
   "metadata": {},
   "outputs": [],
   "source": []
  },
  {
   "cell_type": "code",
   "execution_count": null,
   "id": "1c269aa7",
   "metadata": {},
   "outputs": [],
   "source": []
  },
  {
   "cell_type": "code",
   "execution_count": null,
   "id": "b6b74a28",
   "metadata": {},
   "outputs": [],
   "source": []
  },
  {
   "cell_type": "code",
   "execution_count": null,
   "id": "aa91c1f4",
   "metadata": {},
   "outputs": [],
   "source": []
  },
  {
   "cell_type": "code",
   "execution_count": null,
   "id": "ab686c80",
   "metadata": {},
   "outputs": [],
   "source": []
  },
  {
   "cell_type": "code",
   "execution_count": null,
   "id": "147176ec",
   "metadata": {},
   "outputs": [],
   "source": [
    "#Assessment 2: Create python program using modules , collections, OS, date-time, math, and random operations also note the usecase of each modules"
   ]
  },
  {
   "cell_type": "code",
   "execution_count": 281,
   "id": "2b717754",
   "metadata": {},
   "outputs": [],
   "source": [
    "import collections\n",
    "from collections import OrderedDict \n",
    "#The collection Module in Python provides different types of containers. A Container is an object that is used to store different objects and provide a way to access the contained objects and iterate over them. \n",
    "#Some of the built-in containers are Tuple, List, Dictionary,\n",
    "\n",
    "import os #it is used for working with operating system file directory and getting os info and current working directory\n",
    "import random # it is used to print random number or make random set of no. or use to shuffle randomly a set of \n",
    "#element\n",
    "\n",
    "import math # it is use to to mathmatical function easily like sqr or matrix etc\n",
    "\n",
    "import datetime # it use to deal with telling current date time \n",
    "from datetime import time\n",
    "from datetime import datetime\n",
    "from datetime import date\n",
    "def sqrroot(num):\n",
    "    r=math.sqrt(num)\n",
    "    return f'Sqaured no is {r}'\n",
    "def currentdate():\n",
    "    pass\n",
    "def currentdirectory():\n",
    "    return os.getcwd()\n",
    "def openfile():\n",
    "    try:\n",
    "        fd = \"X:\\\\Tassang-jupyter\\\\Python File handle\\\\Story.txt\"\n",
    "        file = open(fd, 'r')\n",
    "        text = file.read()\n",
    "        print(text)\n",
    "        os.close(file)\n",
    "    except TypeError as e:\n",
    "        print(\"text io error \")\n",
    "        print(text)\n",
    "        \n",
    "def randomgeneration():\n",
    "    list1=[1,2,3,4,5,6]\n",
    "    choice=random.choice(list1)\n",
    "    print(\"picking up random number from\",list1,'>>>',choice)\n",
    "    list2=[]\n",
    "    r= random.randint(1,100)\n",
    "    for i in range(1,r):\n",
    "        list2.append(i)\n",
    "    random.shuffle(list2)\n",
    "    print('Shuffle randomly list >>>',list2)\n",
    "    print('random int: ',r)\n",
    "def create_odered_dict():\n",
    "    print(\"This is a Dict:\\n\") \n",
    "    d = {} \n",
    "    d['a'] = int(input(\"Enter a value\"))\n",
    "    d['b'] =  int(input(\"Enter a value\"))\n",
    "    d['c'] =  int(input(\"Enter a value\"))\n",
    "    d['d'] =  int(input(\"Enter a value\"))\n",
    "    for key, value in d.items(): \n",
    "        print(key,'Variable Holds value >',value) \n",
    "def showtodaydate():\n",
    "    today=date.today()\n",
    "    print('Today dates>> ',today)\n",
    "    \n",
    "        \n",
    "    \n",
    "\n",
    "\n"
   ]
  },
  {
   "cell_type": "code",
   "execution_count": 282,
   "id": "c90d30d3",
   "metadata": {},
   "outputs": [
    {
     "data": {
      "text/plain": [
       "'Sqaured no is 1.4142135623730951'"
      ]
     },
     "execution_count": 282,
     "metadata": {},
     "output_type": "execute_result"
    }
   ],
   "source": [
    "n=2\n",
    "sqrroot(n)"
   ]
  },
  {
   "cell_type": "code",
   "execution_count": 283,
   "id": "8d4dc9c1",
   "metadata": {},
   "outputs": [
    {
     "data": {
      "text/plain": [
       "'X:\\\\Tassang-jupyter'"
      ]
     },
     "execution_count": 283,
     "metadata": {},
     "output_type": "execute_result"
    }
   ],
   "source": [
    "currentdirectory()"
   ]
  },
  {
   "cell_type": "code",
   "execution_count": 284,
   "id": "4b839ca3",
   "metadata": {},
   "outputs": [
    {
     "name": "stdout",
     "output_type": "stream",
     "text": [
      "Hage tassang is hage tassang nothingggg ehlse\n",
      "oh maaa gooood \n",
      "yahoooooo\n",
      "\n",
      "text io error \n",
      "Hage tassang is hage tassang nothingggg ehlse\n",
      "oh maaa gooood \n",
      "yahoooooo\n",
      "\n"
     ]
    }
   ],
   "source": [
    "openfile()"
   ]
  },
  {
   "cell_type": "code",
   "execution_count": 285,
   "id": "c86969db",
   "metadata": {},
   "outputs": [
    {
     "name": "stdout",
     "output_type": "stream",
     "text": [
      "picking up random number from [1, 2, 3, 4, 5, 6] >>> 2\n",
      "Shuffle randomly list >>> [46, 33, 21, 7, 32, 15, 9, 6, 22, 36, 17, 43, 20, 26, 18, 4, 16, 11, 38, 42, 29, 27, 31, 47, 23, 39, 19, 8, 37, 41, 40, 3, 14, 12, 1, 34, 10, 25, 44, 5, 35, 13, 28, 45, 2, 30, 24]\n",
      "random int:  48\n"
     ]
    }
   ],
   "source": [
    "randomgeneration()"
   ]
  },
  {
   "cell_type": "code",
   "execution_count": 286,
   "id": "033d7828",
   "metadata": {},
   "outputs": [
    {
     "name": "stdout",
     "output_type": "stream",
     "text": [
      "This is a Dict:\n",
      "\n",
      "Enter a value34\n",
      "Enter a value34\n",
      "Enter a value35\n",
      "Enter a value32\n",
      "a Variable Holds value > 34\n",
      "b Variable Holds value > 34\n",
      "c Variable Holds value > 35\n",
      "d Variable Holds value > 32\n"
     ]
    }
   ],
   "source": [
    "create_odered_dict()\n",
    "    \n"
   ]
  },
  {
   "cell_type": "code",
   "execution_count": 287,
   "id": "507a065d",
   "metadata": {},
   "outputs": [
    {
     "name": "stdout",
     "output_type": "stream",
     "text": [
      "Today dates>>  2023-07-04\n"
     ]
    }
   ],
   "source": [
    "showtodaydate()\n"
   ]
  },
  {
   "cell_type": "code",
   "execution_count": null,
   "id": "d35ec5af",
   "metadata": {},
   "outputs": [],
   "source": []
  },
  {
   "cell_type": "code",
   "execution_count": null,
   "id": "8c6b16cb",
   "metadata": {},
   "outputs": [],
   "source": []
  },
  {
   "cell_type": "code",
   "execution_count": null,
   "id": "1b1d6d12",
   "metadata": {},
   "outputs": [],
   "source": [
    "#Assessment 3: Program to perform Linear Search."
   ]
  },
  {
   "cell_type": "code",
   "execution_count": 142,
   "id": "10eebdc3",
   "metadata": {},
   "outputs": [],
   "source": [
    "#with while loop with in keyword\n",
    "def linearsearch(studentnames):\n",
    "    '''\n",
    "    taking user input and finding it in a list data structure\n",
    "    '''\n",
    "    i=0\n",
    "    size=len(studentnames)\n",
    "    match=input(\"Enter a name to find: \")\n",
    "    while(i<size):\n",
    "        i=i+1\n",
    "        if match in studentnames:\n",
    "            print(\"Name Found of in a list \",match)\n",
    "            break\n",
    "        else:\n",
    "            print(\"Not found in the list\")\n",
    "            match=input(\"Enter a name to find: \")\n",
    "        \n",
    "            \n",
    "            \n",
    "        \n",
    "    "
   ]
  },
  {
   "cell_type": "code",
   "execution_count": 143,
   "id": "da46a170",
   "metadata": {},
   "outputs": [
    {
     "name": "stdout",
     "output_type": "stream",
     "text": [
      "Enter a name to find: diwas sir\n",
      "Name Found of in a list  diwas sir\n"
     ]
    }
   ],
   "source": [
    "names=['hage tassang','diwas sir','sayel','zulen','daniel']\n",
    "linearsearch(names)"
   ]
  },
  {
   "cell_type": "code",
   "execution_count": 145,
   "id": "6b9ca4c4",
   "metadata": {},
   "outputs": [
    {
     "name": "stdout",
     "output_type": "stream",
     "text": [
      "enter a name or number to found: zulen\n",
      "Found\n"
     ]
    }
   ],
   "source": [
    "# with for loop\n",
    "def linearsearch(names, n):\n",
    "    for i in range(len(names)):\n",
    "        if names[i] == n:\n",
    "            return True\n",
    "    return False\n",
    "  \n",
    "\n",
    "names= ['hage tassang','diwas sir','sayel','zulen','daniel','3','4','6','8']\n",
    "  \n",
    "\n",
    "n = input(\"enter a name or number to found: \")\n",
    "if linearsearch(names, n):\n",
    "    print(\"Found\")\n",
    "else:\n",
    "    print(\"Not Found\")"
   ]
  },
  {
   "cell_type": "code",
   "execution_count": 162,
   "id": "11fae300",
   "metadata": {},
   "outputs": [],
   "source": [
    "#with while loop (checking all element one by one)\n",
    "def linearsearch(studentnames):\n",
    "    i=0\n",
    "    size=len(studentnames)\n",
    "    match=input(\"Enter that name to find: \")\n",
    "    while(i<size):\n",
    "        if match== studentnames[i]:\n",
    "            print(\"Name Found in a list that matches \",match,\"matches the index\",i,'That was: ',studentnames[i])\n",
    "            break\n",
    "        else:\n",
    "            print(\"Not found in the list as it is not in index\",i)\n",
    "            match=input(\"Enter that name to find : \")\n",
    "        i=i+1\n"
   ]
  },
  {
   "cell_type": "code",
   "execution_count": 163,
   "id": "f181ec5d",
   "metadata": {},
   "outputs": [
    {
     "name": "stdout",
     "output_type": "stream",
     "text": [
      "Enter that name to find: diwas sir\n",
      "Not found in the list as it is not in index 0\n",
      "Enter that name to find : diwas sir\n",
      "Name Found in a list that matches  diwas sir matches the index 1 That was:  diwas sir\n"
     ]
    }
   ],
   "source": [
    "names=['hage tassang','diwas sir','sayel','zulen','daniel']\n",
    "linearsearch(names)"
   ]
  },
  {
   "cell_type": "code",
   "execution_count": null,
   "id": "75a7fea0",
   "metadata": {},
   "outputs": [],
   "source": []
  },
  {
   "cell_type": "code",
   "execution_count": null,
   "id": "fad3f1d3",
   "metadata": {},
   "outputs": [],
   "source": []
  },
  {
   "cell_type": "code",
   "execution_count": null,
   "id": "ba37c850",
   "metadata": {},
   "outputs": [],
   "source": []
  },
  {
   "cell_type": "code",
   "execution_count": null,
   "id": "7a9f927e",
   "metadata": {},
   "outputs": [],
   "source": []
  },
  {
   "cell_type": "code",
   "execution_count": null,
   "id": "d3b333a1",
   "metadata": {},
   "outputs": [],
   "source": []
  },
  {
   "cell_type": "code",
   "execution_count": null,
   "id": "97c65f42",
   "metadata": {},
   "outputs": [],
   "source": []
  }
 ],
 "metadata": {
  "kernelspec": {
   "display_name": "Python 3 (ipykernel)",
   "language": "python",
   "name": "python3"
  },
  "language_info": {
   "codemirror_mode": {
    "name": "ipython",
    "version": 3
   },
   "file_extension": ".py",
   "mimetype": "text/x-python",
   "name": "python",
   "nbconvert_exporter": "python",
   "pygments_lexer": "ipython3",
   "version": "3.10.9"
  }
 },
 "nbformat": 4,
 "nbformat_minor": 5
}
