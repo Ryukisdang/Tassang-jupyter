{
 "cells": [
  {
   "cell_type": "code",
   "execution_count": 1,
   "id": "5638aa96",
   "metadata": {},
   "outputs": [
    {
     "name": "stdout",
     "output_type": "stream",
     "text": [
      "enter a brand: BMW\n",
      "enter a model: TS34CV\n",
      "enter a color: cyan\n",
      "the car brand:  BMW\n",
      "the car color:  cyan\n",
      "the car model:  TS34CV\n",
      "Enter action start or stop: start\n",
      "The Car BMW is Starting in time 1\n",
      "The Car BMW is Starting in time 2\n",
      "The Car BMW is Starting in time 3\n"
     ]
    }
   ],
   "source": [
    "import time\n",
    "class Car:\n",
    "    def __init__(self,brand,model,color):\n",
    "        self.brand=brand\n",
    "        self.model=model\n",
    "        self.color=color\n",
    "    def engine(self):\n",
    "        user=input('Enter action start or stop: ')\n",
    "        for i in range(1,4):\n",
    "            if user==\"start\":\n",
    "                print(\"The Car {} is Starting in time {}\".format(self.brand,i))\n",
    "            else:\n",
    "                if user=='stop':\n",
    "                    print(\"The Car {} is not started yet\".format(self.brand))\n",
    "            time.sleep(0.5)\n",
    "    def show(self):\n",
    "        print('the car brand: ',self.brand)\n",
    "        print('the car color: ',self.color)\n",
    "        print('the car model: ',self.model)\n",
    "brand=input('enter a brand: ')\n",
    "model=input(\"enter a model: \")\n",
    "color=input(\"enter a color: \")\n",
    "cars=Car(brand,model,color)\n",
    "cars.show()\n",
    "cars.engine()\n",
    "           \n",
    "        \n",
    "                \n",
    "                "
   ]
  },
  {
   "cell_type": "code",
   "execution_count": 2,
   "id": "da2a48a6",
   "metadata": {},
   "outputs": [],
   "source": [
    "class Dog:\n",
    "    species= 'Mammal'\n",
    "    def __init__(self,breed,name,spots):\n",
    "        self.breed=breed\n",
    "        self.name=name\n",
    "        self.spots=spots\n",
    "    def behavior(self):\n",
    "        print(\"The dog name is {} \\n it is of the breed {} \\n it has spot {} \\n it can bark bow boww\".format((self.name),(self.breed),(self.spots)))\n",
    "    def tail_wiggle(self):\n",
    "              print(f' {self.name} is wiggling it tails due to happiness')\n",
    "    \n",
    "            \n",
    "        "
   ]
  },
  {
   "cell_type": "code",
   "execution_count": 3,
   "id": "ef956baa",
   "metadata": {},
   "outputs": [
    {
     "name": "stdout",
     "output_type": "stream",
     "text": [
      "enter its breed: lab\n",
      "enter your dog name: tobo\n",
      "The dog name is tobo \n",
      " it is of the breed lab \n",
      " it has spot False \n",
      " it can bark bow boww\n",
      " it species : Mammal\n",
      " tobo is wiggling it tails due to happiness\n"
     ]
    }
   ],
   "source": [
    "x=input(\"enter its breed: \")\n",
    "y=input(\"enter your dog name: \")\n",
    "z=False\n",
    "mydog=Dog(x,y,z)\n",
    "mydog.behavior()\n",
    "print(f' it species : {mydog.species}')\n",
    "mydog.tail_wiggle()"
   ]
  },
  {
   "cell_type": "code",
   "execution_count": 10,
   "id": "5822cd84",
   "metadata": {},
   "outputs": [],
   "source": [
    "class Circle():\n",
    "    pi = 3.14\n",
    "    def __init__(self,radius=1):\n",
    "        self.radius = radiu\n",
    "        \n",
    "    def get_circumference(self):\n",
    "        return 2*self.pi*self.radius"
   ]
  },
  {
   "cell_type": "code",
   "execution_count": 12,
   "id": "504ed887",
   "metadata": {},
   "outputs": [
    {
     "name": "stdout",
     "output_type": "stream",
     "text": [
      "3.14\n",
      "1\n"
     ]
    },
    {
     "data": {
      "text/plain": [
       "6.28"
      ]
     },
     "execution_count": 12,
     "metadata": {},
     "output_type": "execute_result"
    }
   ],
   "source": [
    "my_circle = Circle()\n",
    "print(my_circle.pi)\n",
    "print(my_circle.radius)\n",
    "my_circle.get_circumference()"
   ]
  },
  {
   "cell_type": "code",
   "execution_count": 13,
   "id": "a630829a",
   "metadata": {},
   "outputs": [],
   "source": [
    "class Circle():\n",
    "    pi = 3.14\n",
    "    def __init__(self,radius=1):\n",
    "        self.radius = radius\n",
    "        self.area = Circle.pi*radius*radius\n",
    "    def get_circumference(self):\n",
    "        return 2*Circle.pi*self.radius\n"
   ]
  },
  {
   "cell_type": "code",
   "execution_count": 16,
   "id": "3d471353",
   "metadata": {},
   "outputs": [
    {
     "name": "stdout",
     "output_type": "stream",
     "text": [
      "2826.0\n"
     ]
    },
    {
     "data": {
      "text/plain": [
       "188.4"
      ]
     },
     "execution_count": 16,
     "metadata": {},
     "output_type": "execute_result"
    }
   ],
   "source": [
    "my_circle = Circle(30)\n",
    "print(my_circle.area)\n",
    "my_circle.get_circumference()"
   ]
  },
  {
   "cell_type": "code",
   "execution_count": 17,
   "id": "970339e2",
   "metadata": {},
   "outputs": [],
   "source": [
    "class Dog():\n",
    "    def __init__(self,breed,name,spots):\n",
    "        self.breed = breed\n",
    "        self.name = name\n",
    "        self.spots = spots"
   ]
  },
  {
   "cell_type": "code",
   "execution_count": 18,
   "id": "9f225d35",
   "metadata": {},
   "outputs": [],
   "source": [
    "my_dog = Dog(breed= 'Huskie',name = 'Frankie',spots = False)"
   ]
  },
  {
   "cell_type": "code",
   "execution_count": 19,
   "id": "8658535c",
   "metadata": {},
   "outputs": [
    {
     "data": {
      "text/plain": [
       "__main__.Dog"
      ]
     },
     "execution_count": 19,
     "metadata": {},
     "output_type": "execute_result"
    }
   ],
   "source": [
    "type(my_dog)"
   ]
  },
  {
   "cell_type": "code",
   "execution_count": 21,
   "id": "aecc92ce",
   "metadata": {},
   "outputs": [
    {
     "name": "stdout",
     "output_type": "stream",
     "text": [
      "Huskie\n",
      "Frankie\n",
      "False\n"
     ]
    }
   ],
   "source": [
    "print(my_dog.breed)\n",
    "print(my_dog.name)\n",
    "print(my_dog.spots)"
   ]
  },
  {
   "cell_type": "code",
   "execution_count": 133,
   "id": "4a9ca756",
   "metadata": {},
   "outputs": [],
   "source": [
    "class Animal:\n",
    "    def __init__(self,name):\n",
    "        self.name = name\n",
    "        print(\"i am parent class animal\")\n",
    "    def whoami(self):\n",
    "        print(\"i am an animal\")\n",
    "    def eat(self):\n",
    "        print(\"I am eating\")\n",
    "    "
   ]
  },
  {
   "cell_type": "code",
   "execution_count": 134,
   "id": "fd3a5214",
   "metadata": {},
   "outputs": [
    {
     "name": "stdout",
     "output_type": "stream",
     "text": [
      "i am parent class animal\n"
     ]
    }
   ],
   "source": [
    "my_animal=Animal(\"I am Animal\")"
   ]
  },
  {
   "cell_type": "code",
   "execution_count": 135,
   "id": "56cfc976",
   "metadata": {},
   "outputs": [
    {
     "name": "stdout",
     "output_type": "stream",
     "text": [
      "I am eating\n"
     ]
    },
    {
     "ename": "NameError",
     "evalue": "name 'name' is not defined",
     "output_type": "error",
     "traceback": [
      "\u001b[1;31m---------------------------------------------------------------------------\u001b[0m",
      "\u001b[1;31mNameError\u001b[0m                                 Traceback (most recent call last)",
      "Cell \u001b[1;32mIn[135], line 2\u001b[0m\n\u001b[0;32m      1\u001b[0m my_animal\u001b[38;5;241m.\u001b[39meat()\n\u001b[1;32m----> 2\u001b[0m \u001b[38;5;28mprint\u001b[39m(\u001b[43mname\u001b[49m)\n",
      "\u001b[1;31mNameError\u001b[0m: name 'name' is not defined"
     ]
    }
   ],
   "source": [
    "my_animal.eat()\n",
    "print(name)"
   ]
  },
  {
   "cell_type": "code",
   "execution_count": 136,
   "id": "935b3abd",
   "metadata": {},
   "outputs": [
    {
     "name": "stdout",
     "output_type": "stream",
     "text": [
      "i am an animal\n"
     ]
    }
   ],
   "source": [
    "my_animal.whoami()"
   ]
  },
  {
   "cell_type": "code",
   "execution_count": 137,
   "id": "d93f060d",
   "metadata": {},
   "outputs": [],
   "source": [
    "class Dog(Animal):\n",
    "    def __init__(self):\n",
    "        Animal.__init__(self)\n",
    "        print(\"I am animal called Dog\")"
   ]
  },
  {
   "cell_type": "code",
   "execution_count": 138,
   "id": "c10a5061",
   "metadata": {},
   "outputs": [
    {
     "ename": "TypeError",
     "evalue": "Animal.__init__() missing 1 required positional argument: 'name'",
     "output_type": "error",
     "traceback": [
      "\u001b[1;31m---------------------------------------------------------------------------\u001b[0m",
      "\u001b[1;31mTypeError\u001b[0m                                 Traceback (most recent call last)",
      "Cell \u001b[1;32mIn[138], line 1\u001b[0m\n\u001b[1;32m----> 1\u001b[0m my_dog \u001b[38;5;241m=\u001b[39m \u001b[43mDog\u001b[49m\u001b[43m(\u001b[49m\u001b[43m)\u001b[49m\n",
      "Cell \u001b[1;32mIn[137], line 3\u001b[0m, in \u001b[0;36mDog.__init__\u001b[1;34m(self)\u001b[0m\n\u001b[0;32m      2\u001b[0m \u001b[38;5;28;01mdef\u001b[39;00m \u001b[38;5;21m__init__\u001b[39m(\u001b[38;5;28mself\u001b[39m):\n\u001b[1;32m----> 3\u001b[0m     \u001b[43mAnimal\u001b[49m\u001b[38;5;241;43m.\u001b[39;49m\u001b[38;5;21;43m__init__\u001b[39;49m\u001b[43m(\u001b[49m\u001b[38;5;28;43mself\u001b[39;49m\u001b[43m)\u001b[49m\n\u001b[0;32m      4\u001b[0m     \u001b[38;5;28mprint\u001b[39m(\u001b[38;5;124m\"\u001b[39m\u001b[38;5;124mI am animal called Dog\u001b[39m\u001b[38;5;124m\"\u001b[39m)\n",
      "\u001b[1;31mTypeError\u001b[0m: Animal.__init__() missing 1 required positional argument: 'name'"
     ]
    }
   ],
   "source": [
    "my_dog = Dog()"
   ]
  },
  {
   "cell_type": "code",
   "execution_count": 20,
   "id": "e732bd64",
   "metadata": {},
   "outputs": [
    {
     "name": "stdout",
     "output_type": "stream",
     "text": [
      "I am eating\n"
     ]
    }
   ],
   "source": [
    "my_dog.eat()"
   ]
  },
  {
   "cell_type": "code",
   "execution_count": 21,
   "id": "316c145b",
   "metadata": {},
   "outputs": [
    {
     "name": "stdout",
     "output_type": "stream",
     "text": [
      "i am an animal\n"
     ]
    }
   ],
   "source": [
    "my_dog.whoami()"
   ]
  },
  {
   "cell_type": "code",
   "execution_count": 22,
   "id": "7f2761b5",
   "metadata": {},
   "outputs": [],
   "source": [
    "class Dog():\n",
    "    def __init__(self,name):\n",
    "        self.name = name\n",
    "    def speak(self):\n",
    "        return self.name + ' says woof!'\n",
    "class Cat():\n",
    "    def __init__(self,name):\n",
    "        self.name = name\n",
    "    def speak(self):\n",
    "        return self.name + ' says meow!'"
   ]
  },
  {
   "cell_type": "code",
   "execution_count": 23,
   "id": "77156c5c",
   "metadata": {},
   "outputs": [],
   "source": [
    "niko = Dog(\"Tobo\")"
   ]
  },
  {
   "cell_type": "code",
   "execution_count": 24,
   "id": "53582c42",
   "metadata": {},
   "outputs": [],
   "source": [
    "rui = Cat(\"Rui\")"
   ]
  },
  {
   "cell_type": "code",
   "execution_count": 25,
   "id": "ca9ba6b9",
   "metadata": {},
   "outputs": [
    {
     "name": "stdout",
     "output_type": "stream",
     "text": [
      "Tobo says woof!\n"
     ]
    }
   ],
   "source": [
    "print(niko.speak())"
   ]
  },
  {
   "cell_type": "code",
   "execution_count": 26,
   "id": "35742ea9",
   "metadata": {},
   "outputs": [
    {
     "name": "stdout",
     "output_type": "stream",
     "text": [
      "Rui says meow!\n"
     ]
    }
   ],
   "source": [
    "print(rui.speak())"
   ]
  },
  {
   "cell_type": "code",
   "execution_count": 30,
   "id": "61f6ffda",
   "metadata": {},
   "outputs": [
    {
     "name": "stdout",
     "output_type": "stream",
     "text": [
      "<class '__main__.Dog'>\n",
      "Tobo says woof!\n",
      "<class '__main__.Cat'>\n",
      "Rui says meow!\n"
     ]
    }
   ],
   "source": [
    "for pet in [niko,rui]:\n",
    "    print(type(pet))\n",
    "    print(pet.speak())"
   ]
  },
  {
   "cell_type": "code",
   "execution_count": 31,
   "id": "00b04b19",
   "metadata": {},
   "outputs": [],
   "source": [
    "def pet_speak(pet):\n",
    "    print(pet.speak())"
   ]
  },
  {
   "cell_type": "code",
   "execution_count": 32,
   "id": "5d43e91b",
   "metadata": {},
   "outputs": [
    {
     "name": "stdout",
     "output_type": "stream",
     "text": [
      "Tobo says woof!\n"
     ]
    }
   ],
   "source": [
    "pet_speak(niko)"
   ]
  },
  {
   "cell_type": "code",
   "execution_count": 34,
   "id": "b87c1470",
   "metadata": {},
   "outputs": [
    {
     "name": "stdout",
     "output_type": "stream",
     "text": [
      "Rui says meow!\n"
     ]
    }
   ],
   "source": [
    "pet_speak(rui)"
   ]
  },
  {
   "cell_type": "code",
   "execution_count": 54,
   "id": "207ff4ed",
   "metadata": {},
   "outputs": [],
   "source": [
    "class Animal:\n",
    "    def __init__(self,name):\n",
    "        self.name = name\n",
    "    def speak(self):\n",
    "        raise NotImplementedError(\"Pls try again sub class must implement this abstract method\")\n"
   ]
  },
  {
   "cell_type": "code",
   "execution_count": 55,
   "id": "a44698f2",
   "metadata": {},
   "outputs": [],
   "source": [
    "animal= Animal(\"I am animal\")"
   ]
  },
  {
   "cell_type": "code",
   "execution_count": 56,
   "id": "444f0c4e",
   "metadata": {},
   "outputs": [
    {
     "ename": "NotImplementedError",
     "evalue": "Pls try again sub class must implement this abstract method",
     "output_type": "error",
     "traceback": [
      "\u001b[1;31m---------------------------------------------------------------------------\u001b[0m",
      "\u001b[1;31mNotImplementedError\u001b[0m                       Traceback (most recent call last)",
      "Cell \u001b[1;32mIn[56], line 1\u001b[0m\n\u001b[1;32m----> 1\u001b[0m \u001b[38;5;28mprint\u001b[39m(\u001b[43manimal\u001b[49m\u001b[38;5;241;43m.\u001b[39;49m\u001b[43mspeak\u001b[49m\u001b[43m(\u001b[49m\u001b[43m)\u001b[49m)\n",
      "Cell \u001b[1;32mIn[54], line 5\u001b[0m, in \u001b[0;36mAnimal.speak\u001b[1;34m(self)\u001b[0m\n\u001b[0;32m      4\u001b[0m \u001b[38;5;28;01mdef\u001b[39;00m \u001b[38;5;21mspeak\u001b[39m(\u001b[38;5;28mself\u001b[39m):\n\u001b[1;32m----> 5\u001b[0m     \u001b[38;5;28;01mraise\u001b[39;00m \u001b[38;5;167;01mNotImplementedError\u001b[39;00m(\u001b[38;5;124m\"\u001b[39m\u001b[38;5;124mPls try again sub class must implement this abstract method\u001b[39m\u001b[38;5;124m\"\u001b[39m)\n",
      "\u001b[1;31mNotImplementedError\u001b[0m: Pls try again sub class must implement this abstract method"
     ]
    }
   ],
   "source": [
    "print(animal.speak())"
   ]
  },
  {
   "cell_type": "code",
   "execution_count": 57,
   "id": "f6f1a5f3",
   "metadata": {},
   "outputs": [],
   "source": [
    "class Dog(Animal):\n",
    "    def speak(self):\n",
    "        return self.name + \" Says woof woof!!!\"\n",
    "    \n"
   ]
  },
  {
   "cell_type": "code",
   "execution_count": 58,
   "id": "8f26b99f",
   "metadata": {},
   "outputs": [],
   "source": [
    "fido=Dog(\"Fido\")"
   ]
  },
  {
   "cell_type": "code",
   "execution_count": 59,
   "id": "aaa70798",
   "metadata": {},
   "outputs": [
    {
     "name": "stdout",
     "output_type": "stream",
     "text": [
      "Fido Says woof woof!!!\n"
     ]
    }
   ],
   "source": [
    "print(fido.speak())"
   ]
  },
  {
   "cell_type": "code",
   "execution_count": 60,
   "id": "64aacbd0",
   "metadata": {},
   "outputs": [],
   "source": [
    "class Cat(Animal):\n",
    "    def speak(self):\n",
    "        return self.name + \" Says meoww meowwwuu!!!\""
   ]
  },
  {
   "cell_type": "code",
   "execution_count": 61,
   "id": "e98d1cb0",
   "metadata": {},
   "outputs": [],
   "source": [
    "yin = Cat(\"Yin\")"
   ]
  },
  {
   "cell_type": "code",
   "execution_count": 62,
   "id": "af3487a2",
   "metadata": {},
   "outputs": [
    {
     "name": "stdout",
     "output_type": "stream",
     "text": [
      "Yin Says meoww meowwwuu!!!\n"
     ]
    }
   ],
   "source": [
    "print(yin.speak())"
   ]
  },
  {
   "cell_type": "code",
   "execution_count": 63,
   "id": "b2027765",
   "metadata": {},
   "outputs": [],
   "source": [
    "# Special Methods or Dhunder Methodsss"
   ]
  },
  {
   "cell_type": "code",
   "execution_count": 64,
   "id": "217ad742",
   "metadata": {},
   "outputs": [],
   "source": [
    "class Sample():\n",
    "    pass"
   ]
  },
  {
   "cell_type": "code",
   "execution_count": 65,
   "id": "f2ed656a",
   "metadata": {},
   "outputs": [],
   "source": [
    "mysam= Sample()"
   ]
  },
  {
   "cell_type": "code",
   "execution_count": 66,
   "id": "c2bad7f4",
   "metadata": {},
   "outputs": [
    {
     "ename": "TypeError",
     "evalue": "object of type 'Sample' has no len()",
     "output_type": "error",
     "traceback": [
      "\u001b[1;31m---------------------------------------------------------------------------\u001b[0m",
      "\u001b[1;31mTypeError\u001b[0m                                 Traceback (most recent call last)",
      "Cell \u001b[1;32mIn[66], line 1\u001b[0m\n\u001b[1;32m----> 1\u001b[0m \u001b[38;5;28;43mlen\u001b[39;49m\u001b[43m(\u001b[49m\u001b[43mmysam\u001b[49m\u001b[43m)\u001b[49m\n",
      "\u001b[1;31mTypeError\u001b[0m: object of type 'Sample' has no len()"
     ]
    }
   ],
   "source": [
    "len(mysam)"
   ]
  },
  {
   "cell_type": "code",
   "execution_count": 67,
   "id": "badd1e38",
   "metadata": {},
   "outputs": [
    {
     "name": "stdout",
     "output_type": "stream",
     "text": [
      "<__main__.Sample object at 0x000001CF22587E80>\n"
     ]
    }
   ],
   "source": [
    "print(mysam)"
   ]
  },
  {
   "cell_type": "code",
   "execution_count": 94,
   "id": "9dde5c3f",
   "metadata": {},
   "outputs": [],
   "source": [
    "#DUNDER METHOD OR MAGIC METHOD\n",
    "class Book:\n",
    "    def __init__(self,title,author,pages):\n",
    "        self.title= title\n",
    "        self.author=author\n",
    "        self.pages=pages\n",
    "    def __str__(self):\n",
    "        return f'{self.title} by {self.author}'\n",
    "    def __len__(self):\n",
    "        return self.pages\n",
    "    def __del__(self):\n",
    "        print (\"A book obj Has been deleted sorry\")\n",
    "        "
   ]
  },
  {
   "cell_type": "code",
   "execution_count": 95,
   "id": "146e83de",
   "metadata": {},
   "outputs": [],
   "source": [
    "b=(\"Python is lob\",\"diwas\",400)"
   ]
  },
  {
   "cell_type": "code",
   "execution_count": 96,
   "id": "401f847d",
   "metadata": {},
   "outputs": [
    {
     "name": "stdout",
     "output_type": "stream",
     "text": [
      "('Python is lob', 'diwas', 400)\n"
     ]
    }
   ],
   "source": [
    "print(b)"
   ]
  },
  {
   "cell_type": "code",
   "execution_count": 97,
   "id": "398be42a",
   "metadata": {},
   "outputs": [
    {
     "data": {
      "text/plain": [
       "3"
      ]
     },
     "execution_count": 97,
     "metadata": {},
     "output_type": "execute_result"
    }
   ],
   "source": [
    "len(b)"
   ]
  },
  {
   "cell_type": "code",
   "execution_count": 98,
   "id": "bf38a612",
   "metadata": {},
   "outputs": [
    {
     "name": "stdout",
     "output_type": "stream",
     "text": [
      "('Python is lob', 'diwas', 400)\n"
     ]
    }
   ],
   "source": [
    "print(b)"
   ]
  },
  {
   "cell_type": "code",
   "execution_count": 99,
   "id": "8777f2e5",
   "metadata": {},
   "outputs": [],
   "source": [
    "del b"
   ]
  },
  {
   "cell_type": "code",
   "execution_count": 100,
   "id": "5095c442",
   "metadata": {},
   "outputs": [
    {
     "ename": "NameError",
     "evalue": "name 'b' is not defined",
     "output_type": "error",
     "traceback": [
      "\u001b[1;31m---------------------------------------------------------------------------\u001b[0m",
      "\u001b[1;31mNameError\u001b[0m                                 Traceback (most recent call last)",
      "Cell \u001b[1;32mIn[100], line 1\u001b[0m\n\u001b[1;32m----> 1\u001b[0m \u001b[38;5;28mprint\u001b[39m(\u001b[43mb\u001b[49m)\n",
      "\u001b[1;31mNameError\u001b[0m: name 'b' is not defined"
     ]
    }
   ],
   "source": [
    "print(b)"
   ]
  },
  {
   "cell_type": "code",
   "execution_count": 102,
   "id": "e65b16b7",
   "metadata": {},
   "outputs": [],
   "source": [
    "class Simple():\n",
    "    def __init__(self,value):\n",
    "        self.value = value\n",
    "    def add_to_value(self,amount):\n",
    "        self.value = self.value+ amount"
   ]
  },
  {
   "cell_type": "code",
   "execution_count": 103,
   "id": "9ecc67d7",
   "metadata": {},
   "outputs": [],
   "source": [
    "my_obj = Simple(300)"
   ]
  },
  {
   "cell_type": "code",
   "execution_count": 104,
   "id": "55654806",
   "metadata": {},
   "outputs": [
    {
     "data": {
      "text/plain": [
       "300"
      ]
     },
     "execution_count": 104,
     "metadata": {},
     "output_type": "execute_result"
    }
   ],
   "source": [
    "my_obj.value"
   ]
  },
  {
   "cell_type": "code",
   "execution_count": 105,
   "id": "478a706f",
   "metadata": {},
   "outputs": [],
   "source": [
    "my_obj.add_to_value(200)"
   ]
  },
  {
   "cell_type": "code",
   "execution_count": 106,
   "id": "b6ecec51",
   "metadata": {},
   "outputs": [
    {
     "data": {
      "text/plain": [
       "500"
      ]
     },
     "execution_count": 106,
     "metadata": {},
     "output_type": "execute_result"
    }
   ],
   "source": [
    "my_obj.value"
   ]
  },
  {
   "cell_type": "code",
   "execution_count": 107,
   "id": "7139ee3b",
   "metadata": {},
   "outputs": [],
   "source": [
    "#calling the method that Affect the attributes"
   ]
  },
  {
   "cell_type": "code",
   "execution_count": 114,
   "id": "f66453cd",
   "metadata": {},
   "outputs": [],
   "source": [
    "class Simple():\n",
    "    def __init__(self,value):\n",
    "        self.value=value\n",
    "    def add_to_value(self,amount):\n",
    "        #takes the curent value to to be added with the instance attributes\n",
    "        self.value = self.value + amount\n",
    "        print(f'we just added {amount} to instance variables value')\n",
    "    def new_value(self):\n",
    "        print(\"The new value of instance variable is :\",self.value)"
   ]
  },
  {
   "cell_type": "code",
   "execution_count": 115,
   "id": "e6917167",
   "metadata": {},
   "outputs": [],
   "source": [
    "obj=Simple(500)"
   ]
  },
  {
   "cell_type": "code",
   "execution_count": 116,
   "id": "742e9827",
   "metadata": {},
   "outputs": [
    {
     "data": {
      "text/plain": [
       "500"
      ]
     },
     "execution_count": 116,
     "metadata": {},
     "output_type": "execute_result"
    }
   ],
   "source": [
    "obj.value"
   ]
  },
  {
   "cell_type": "code",
   "execution_count": 117,
   "id": "f28780d7",
   "metadata": {},
   "outputs": [
    {
     "name": "stdout",
     "output_type": "stream",
     "text": [
      "we just added 500 to instance variables value\n"
     ]
    }
   ],
   "source": [
    "obj.add_to_value(500)"
   ]
  },
  {
   "cell_type": "code",
   "execution_count": 118,
   "id": "d93ac5d5",
   "metadata": {},
   "outputs": [
    {
     "data": {
      "text/plain": [
       "1000"
      ]
     },
     "execution_count": 118,
     "metadata": {},
     "output_type": "execute_result"
    }
   ],
   "source": [
    "obj.value"
   ]
  },
  {
   "cell_type": "code",
   "execution_count": 119,
   "id": "36b90f49",
   "metadata": {},
   "outputs": [
    {
     "name": "stdout",
     "output_type": "stream",
     "text": [
      "The new value of instance variable is : 1000\n"
     ]
    }
   ],
   "source": [
    "obj.new_value()"
   ]
  },
  {
   "cell_type": "code",
   "execution_count": null,
   "id": "402743be",
   "metadata": {},
   "outputs": [],
   "source": []
  }
 ],
 "metadata": {
  "kernelspec": {
   "display_name": "Python 3 (ipykernel)",
   "language": "python",
   "name": "python3"
  },
  "language_info": {
   "codemirror_mode": {
    "name": "ipython",
    "version": 3
   },
   "file_extension": ".py",
   "mimetype": "text/x-python",
   "name": "python",
   "nbconvert_exporter": "python",
   "pygments_lexer": "ipython3",
   "version": "3.10.9"
  }
 },
 "nbformat": 4,
 "nbformat_minor": 5
}
