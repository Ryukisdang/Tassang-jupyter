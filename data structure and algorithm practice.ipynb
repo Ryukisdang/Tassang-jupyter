{
 "cells": [
  {
   "cell_type": "code",
   "execution_count": 1,
   "id": "4d44771b",
   "metadata": {},
   "outputs": [],
   "source": [
    "# creating array,appending its element, finding sum of its integers,\n",
    "def array_play(x):\n",
    "    rev_arr=[]\n",
    "    rev_arr2=[]\n",
    "    for i in x:\n",
    "        print(i,'+',end=' ')\n",
    "        rev_arr.append((i))\n",
    "    print('=',rev_arr,'putting this digit inside a list as an array element')\n",
    "    print('=',sum(rev_arr))\n",
    "    # adding the integeres\n",
    "    nums=0\n",
    "    sumed=0\n",
    "    result=0\n",
    "    k=0\n",
    "    for j in rev_arr:\n",
    "        if k<len(rev_arr):\n",
    "            r=j%2\n",
    "            sumed= sumed+nums\n",
    "            nums=nums+r\n",
    "            k=k+1\n",
    "        print(sumed,end=' ')\n",
    "        result+=sumed\n",
    "    print('=',result,' Here it is the sum remainder value of those int after being divided by the 2','\\n','reversed arr')\n",
    "    \n",
    "        \n",
    "    \n",
    "    rev_arr2=list(reversed(rev_arr))\n",
    "    ## Now array gonna be reverse\n",
    "    print(rev_arr2)\n",
    "    print('max of that array is ',max(rev_arr2))\n",
    "    #[poping out last element last in first out]\n",
    "   \n",
    "    n=int(input(\"enter a number: \"))\n",
    "    rev_arr2[0]=n\n",
    "    \n",
    "    print(rev_arr2,'first in and it gonna be out')\n",
    "    if type(rev_arr2[0])==int:\n",
    "        if n<max(rev_arr2):\n",
    "            z=rev_arr2.pop(0)\n",
    "            print(z,rev_arr2,\"the value that is lower than the max element value will be out of the array\")\n",
    "    l=int(input(\"enter a number: \"))\n",
    "    rev_arr2[-1]=l\n",
    "    print(rev_arr2)\n",
    "    if type(rev_arr2[-1])==int:\n",
    "        rev_arr2.pop(-1)\n",
    "        print(rev_arr2,' last in first out')\n",
    "        \n",
    "    \n",
    "    "
   ]
  },
  {
   "cell_type": "code",
   "execution_count": 2,
   "id": "426da2e2",
   "metadata": {},
   "outputs": [
    {
     "name": "stdout",
     "output_type": "stream",
     "text": [
      "1 + 2 + 3 + 4 + 5 + 6 + = [1, 2, 3, 4, 5, 6] putting this digit inside a list as an array element\n",
      "= 21\n",
      "0 1 2 4 6 9 = 22  Here it is the sum remainder value of those int after being divided by the 2 \n",
      " reversed arr\n",
      "[6, 5, 4, 3, 2, 1]\n",
      "max of that array is  6\n",
      "enter a number: 34\n",
      "[34, 5, 4, 3, 2, 1] first in and it gonna be out\n",
      "enter a number: 35\n",
      "[34, 5, 4, 3, 2, 35]\n",
      "[34, 5, 4, 3, 2]  last in first out\n"
     ]
    }
   ],
   "source": [
    "if __name__=='__main__':\n",
    "    n=[1,2,3,4,5,6]\n",
    "    array_play(n)"
   ]
  },
  {
   "cell_type": "code",
   "execution_count": 13,
   "id": "6e26aab1",
   "metadata": {},
   "outputs": [],
   "source": [
    "\n",
    "# meme just solving discord people problems\n"
   ]
  },
  {
   "cell_type": "code",
   "execution_count": 12,
   "id": "b84dd7e3",
   "metadata": {},
   "outputs": [
    {
     "name": "stdout",
     "output_type": "stream",
     "text": [
      "enter your name who gonna solve this: hage\n",
      "The user that is trying to solve this question name is  hage\n",
      "Can you solve this ?\n",
      " 29+56+78+80+87= I DONT KNOW\n",
      "MOFO LEARN SOME MATHS ATLEAST\n",
      "\n",
      "You thought i will reveal the answer? mommy kiddo\n",
      "TRY again in milena.. bro\n",
      "Can you solve this ?\n",
      " 29+56+78+80+87= I DONT KNOW\n",
      "Your mommy havent breast fed you well weakling go ask your mom\n",
      "Wanna try again kido ? Y n N: N\n"
     ]
    }
   ],
   "source": [
    "class Meme:\n",
    "    def __init__(self,name):\n",
    "        self.name=name\n",
    "    def show(self):\n",
    "        print(\"The user that is trying to solve this question name is \",self.name)\n",
    "    def loop_check(self):\n",
    "        n=input(\"Can you solve this ?\\n 29+56+78+80+87= \")\n",
    "        result=\"339\"\n",
    "        your_mom_gay=False\n",
    "        while your_mom_gay==False:\n",
    "            if n!=result:\n",
    "                print(\"MOFO LEARN SOME MATHS ATLEAST\\n\")\n",
    "                print(\"You thought i will reveal the answer? mommy kiddo\")\n",
    "                print(\"TRY again in milena.. bro\")\n",
    "                your_mom_gay=False\n",
    "                n=input(\"Can you solve this ?\\n 29+56+78+80+87= \")\n",
    "            if result==n:\n",
    "                print(\"Damn  you used calculator lollll i knew it\")\n",
    "                print(f' This was the right answer {result}\\nyour answer is correct congrats')\n",
    "                your_mom_gay=True\n",
    "                \n",
    "            if n.upper()=='I DONT KNOW':\n",
    "                print(\"Your mommy havent breast fed you well weakling go ask your mom\")\n",
    "                your_mom_gay==False\n",
    "                k=input(\"Wanna try again kido ? Y n N: \")\n",
    "                if k==\"Y\":\n",
    "                    your_mom_gay=False\n",
    "                    n=input(\"Can you solve this ?\\n 29+56+78+80+87= \")\n",
    "                elif k==\"N\":\n",
    "                    your_mom_gay=True\n",
    "                    return f'The correct answer was {result}'\n",
    "if __name__==\"__main__\":\n",
    "    z=input(\"enter your name who gonna solve this: \")\n",
    "    meme=Meme(z)\n",
    "    meme.show()\n",
    "    meme.loop_check()\n",
    "                    \n",
    "        \n",
    "            \n",
    "        \n"
   ]
  },
  {
   "cell_type": "code",
   "execution_count": null,
   "id": "52e8d164",
   "metadata": {},
   "outputs": [],
   "source": [
    "\n"
   ]
  },
  {
   "cell_type": "code",
   "execution_count": null,
   "id": "1c187190",
   "metadata": {},
   "outputs": [],
   "source": []
  },
  {
   "cell_type": "code",
   "execution_count": null,
   "id": "b633a0cc",
   "metadata": {},
   "outputs": [],
   "source": []
  },
  {
   "cell_type": "code",
   "execution_count": null,
   "id": "94555b4c",
   "metadata": {},
   "outputs": [],
   "source": []
  },
  {
   "cell_type": "code",
   "execution_count": null,
   "id": "751cc4b2",
   "metadata": {},
   "outputs": [],
   "source": []
  },
  {
   "cell_type": "code",
   "execution_count": null,
   "id": "a776cf4a",
   "metadata": {},
   "outputs": [],
   "source": [
    "x =str(input(\"Can you solve this ?\\n 29+56+78+89+87 = \"))\n",
    "while not x==\"339\":\n",
    "    if x!=\"399\":\n",
    "        print(\"wrong answer\\nGo ask your mom \")\n",
    "        x =str(input(\"Can you solve this ?\\n 29+56+78+89+87 = \"))\n",
    "    if x==\"339\":\n",
    "        print(\"right answer,I know you have asked your mom\")\n",
    "        break\n",
    "    if x.upper()==('I DONT KNOW'):\n",
    "        print(\"HAHAH you don't know,go touch some grass then come try again\")\n",
    "        n=input(\"try again? Y or N: \")\n",
    "        if n==\"Y\":\n",
    "            x =str(input(\"Can you solve this ?\\n 29+56+78+89+87 = \"))\n",
    "        elif n==\"N\":\n",
    "            break\n",
    "        "
   ]
  },
  {
   "cell_type": "code",
   "execution_count": null,
   "id": "13ef6663",
   "metadata": {},
   "outputs": [],
   "source": []
  },
  {
   "cell_type": "code",
   "execution_count": null,
   "id": "93cb5f39",
   "metadata": {},
   "outputs": [],
   "source": []
  },
  {
   "cell_type": "code",
   "execution_count": null,
   "id": "a9bb44ea",
   "metadata": {},
   "outputs": [],
   "source": []
  },
  {
   "cell_type": "code",
   "execution_count": null,
   "id": "9b711082",
   "metadata": {},
   "outputs": [],
   "source": []
  },
  {
   "cell_type": "code",
   "execution_count": null,
   "id": "b5074ce8",
   "metadata": {},
   "outputs": [],
   "source": []
  },
  {
   "cell_type": "code",
   "execution_count": null,
   "id": "7f20a973",
   "metadata": {},
   "outputs": [],
   "source": []
  },
  {
   "cell_type": "code",
   "execution_count": null,
   "id": "3d998e75",
   "metadata": {},
   "outputs": [],
   "source": []
  },
  {
   "cell_type": "code",
   "execution_count": null,
   "id": "43df86fd",
   "metadata": {},
   "outputs": [],
   "source": []
  },
  {
   "cell_type": "code",
   "execution_count": null,
   "id": "4ccdc637",
   "metadata": {},
   "outputs": [],
   "source": []
  },
  {
   "cell_type": "code",
   "execution_count": null,
   "id": "9286320b",
   "metadata": {},
   "outputs": [],
   "source": []
  },
  {
   "cell_type": "code",
   "execution_count": null,
   "id": "75db5574",
   "metadata": {},
   "outputs": [],
   "source": []
  },
  {
   "cell_type": "code",
   "execution_count": null,
   "id": "191cf213",
   "metadata": {},
   "outputs": [],
   "source": []
  },
  {
   "cell_type": "code",
   "execution_count": null,
   "id": "337c8ac3",
   "metadata": {},
   "outputs": [],
   "source": []
  },
  {
   "cell_type": "code",
   "execution_count": null,
   "id": "c33b5436",
   "metadata": {},
   "outputs": [],
   "source": []
  }
 ],
 "metadata": {
  "kernelspec": {
   "display_name": "Python 3 (ipykernel)",
   "language": "python",
   "name": "python3"
  },
  "language_info": {
   "codemirror_mode": {
    "name": "ipython",
    "version": 3
   },
   "file_extension": ".py",
   "mimetype": "text/x-python",
   "name": "python",
   "nbconvert_exporter": "python",
   "pygments_lexer": "ipython3",
   "version": "3.10.9"
  }
 },
 "nbformat": 4,
 "nbformat_minor": 5
}
