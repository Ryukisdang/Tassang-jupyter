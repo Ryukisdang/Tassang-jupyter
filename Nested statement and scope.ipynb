{
 "cells": [
  {
   "cell_type": "code",
   "execution_count": 1,
   "id": "8c7b00d3",
   "metadata": {},
   "outputs": [],
   "source": [
    "x = \"i am amazing\"\n",
    "def change():\n",
    "    print(x)"
   ]
  },
  {
   "cell_type": "code",
   "execution_count": 2,
   "id": "b661c506",
   "metadata": {},
   "outputs": [
    {
     "name": "stdout",
     "output_type": "stream",
     "text": [
      "i am amazing\n"
     ]
    }
   ],
   "source": [
    "print(x)"
   ]
  },
  {
   "cell_type": "code",
   "execution_count": 34,
   "id": "6141d070",
   "metadata": {},
   "outputs": [],
   "source": [
    "x = \"spiderman is hero\"\n",
    "def he_lost(x):\n",
    "    x = x\n",
    "    print(x)\n",
    "    return x"
   ]
  },
  {
   "cell_type": "code",
   "execution_count": 35,
   "id": "6dc4ec64",
   "metadata": {},
   "outputs": [
    {
     "name": "stdout",
     "output_type": "stream",
     "text": [
      "he lost the battle\n"
     ]
    },
    {
     "data": {
      "text/plain": [
       "'he lost the battle'"
      ]
     },
     "execution_count": 35,
     "metadata": {},
     "output_type": "execute_result"
    }
   ],
   "source": [
    "he_lost(\"he lost the battle\")"
   ]
  },
  {
   "cell_type": "code",
   "execution_count": 36,
   "id": "a3b537e1",
   "metadata": {},
   "outputs": [
    {
     "name": "stdout",
     "output_type": "stream",
     "text": [
      "he won the battle\n"
     ]
    },
    {
     "data": {
      "text/plain": [
       "'he won the battle'"
      ]
     },
     "execution_count": 36,
     "metadata": {},
     "output_type": "execute_result"
    }
   ],
   "source": [
    "he_lost(\"he won the battle\")"
   ]
  },
  {
   "cell_type": "code",
   "execution_count": 37,
   "id": "42220697",
   "metadata": {},
   "outputs": [
    {
     "name": "stdout",
     "output_type": "stream",
     "text": [
      "spiderman is hero\n"
     ]
    }
   ],
   "source": [
    "print(x)"
   ]
  },
  {
   "cell_type": "code",
   "execution_count": 39,
   "id": "fcca5f49",
   "metadata": {},
   "outputs": [
    {
     "name": "stdout",
     "output_type": "stream",
     "text": [
      "he won the battle, spiderman is hero\n"
     ]
    }
   ],
   "source": [
    "x = he_lost(\"he won the battle, spiderman is hero\")"
   ]
  },
  {
   "cell_type": "code",
   "execution_count": 40,
   "id": "f5376dc5",
   "metadata": {},
   "outputs": [
    {
     "name": "stdout",
     "output_type": "stream",
     "text": [
      "he won the battle, spiderman is hero\n"
     ]
    }
   ],
   "source": [
    "print(x)"
   ]
  },
  {
   "cell_type": "code",
   "execution_count": 48,
   "id": "a4f617ae",
   "metadata": {},
   "outputs": [
    {
     "name": "stdout",
     "output_type": "stream",
     "text": [
      "40\n"
     ]
    }
   ],
   "source": [
    "x = 50\n",
    "def change_local():\n",
    "    global x\n",
    "    x = 40\n",
    "    print(x)\n",
    "change_local()"
   ]
  },
  {
   "cell_type": "code",
   "execution_count": 50,
   "id": "8af6c43b",
   "metadata": {},
   "outputs": [
    {
     "name": "stdout",
     "output_type": "stream",
     "text": [
      "60\n"
     ]
    }
   ],
   "source": [
    "x = 50\n",
    "def change_local():\n",
    "    global x\n",
    "    x = 60\n",
    "    print(x)\n",
    "change_local()"
   ]
  },
  {
   "cell_type": "code",
   "execution_count": 51,
   "id": "1c81515e",
   "metadata": {},
   "outputs": [
    {
     "name": "stdout",
     "output_type": "stream",
     "text": [
      "60\n"
     ]
    }
   ],
   "source": [
    "print(x)"
   ]
  },
  {
   "cell_type": "code",
   "execution_count": 53,
   "id": "06f945de",
   "metadata": {},
   "outputs": [
    {
     "name": "stdout",
     "output_type": "stream",
     "text": [
      "40\n"
     ]
    }
   ],
   "source": [
    "x = 50\n",
    "def change_local(x):\n",
    "    x = x\n",
    "    print(x)\n",
    "change_local(40)"
   ]
  },
  {
   "cell_type": "code",
   "execution_count": 66,
   "id": "7b5a022f",
   "metadata": {},
   "outputs": [
    {
     "data": {
      "text/plain": [
       "40"
      ]
     },
     "execution_count": 66,
     "metadata": {},
     "output_type": "execute_result"
    }
   ],
   "source": [
    "x = 50\n",
    "def change_local():\n",
    "    global x\n",
    "    x = 40\n",
    "    local = x\n",
    "    return local\n",
    "change_local()"
   ]
  },
  {
   "cell_type": "code",
   "execution_count": 73,
   "id": "efe00a70",
   "metadata": {},
   "outputs": [
    {
     "data": {
      "text/plain": [
       "' i am human who are you'"
      ]
     },
     "execution_count": 73,
     "metadata": {},
     "output_type": "execute_result"
    }
   ],
   "source": [
    "# using global inside local\n",
    "x = \" who are you\"\n",
    "def _human():\n",
    "    global x\n",
    "    human = \" i am human\"\n",
    "    return human +  x\n",
    "_human()"
   ]
  },
  {
   "cell_type": "code",
   "execution_count": 74,
   "id": "2822ca85",
   "metadata": {},
   "outputs": [
    {
     "data": {
      "text/plain": [
       "' i am human i am intelligent'"
      ]
     },
     "execution_count": 74,
     "metadata": {},
     "output_type": "execute_result"
    }
   ],
   "source": [
    "# changing global inside a local\n",
    "x = \" who are you\"\n",
    "def _human():\n",
    "    global x\n",
    "    human = \" i am human\"\n",
    "    x = \" i am intelligent\"\n",
    "    return human +  x\n",
    "_human()"
   ]
  },
  {
   "cell_type": "code",
   "execution_count": 104,
   "id": "48ffc5de",
   "metadata": {},
   "outputs": [],
   "source": [
    "x = \" Emotional damange!!!! \"\n",
    "def roasted():\n",
    "    x = \"nooo\"\n",
    "    return x\n",
    "def not_roasted():\n",
    "    x = roasted()\n",
    "    return x\n",
    "        #def les_go():\n",
    "            #global roast\n",
    "        "
   ]
  },
  {
   "cell_type": "code",
   "execution_count": 105,
   "id": "0a6ff0e9",
   "metadata": {},
   "outputs": [
    {
     "name": "stdout",
     "output_type": "stream",
     "text": [
      "nooo Emotional damange!!!! \n"
     ]
    }
   ],
   "source": [
    "call= not_roasted()+x\n",
    "print(call)"
   ]
  },
  {
   "cell_type": "code",
   "execution_count": null,
   "id": "6fe9ca83",
   "metadata": {},
   "outputs": [],
   "source": []
  },
  {
   "cell_type": "code",
   "execution_count": null,
   "id": "6bf0680f",
   "metadata": {},
   "outputs": [],
   "source": []
  },
  {
   "cell_type": "code",
   "execution_count": 79,
   "id": "a885130f",
   "metadata": {},
   "outputs": [
    {
     "name": "stdout",
     "output_type": "stream",
     "text": [
      "i am tassang,hi nice to meet you and bye i am busy \n"
     ]
    }
   ],
   "source": [
    "# Legacy method\n",
    "x = \"hi\"\n",
    "y = \"bye\"\n",
    "hello = \"i am tassang,%s nice to meet you and %s i am busy \" % (x,y)\n",
    "print(hello)"
   ]
  },
  {
   "cell_type": "code",
   "execution_count": 3,
   "id": "35155c3c",
   "metadata": {},
   "outputs": [
    {
     "name": "stdout",
     "output_type": "stream",
     "text": [
      "Enter a lenght of  password9\n",
      "lcue9qpxr\n"
     ]
    }
   ],
   "source": [
    "import random \n",
    "    \n",
    "# Importing string library function \n",
    "import string \n",
    "    \n",
    "def rand_pass(size): \n",
    "        \n",
    "    # Takes random choices and its from random libary\n",
    "    # ascii_letters and digits using string method .join \n",
    "    generate_pass = ''.join([random.choice( \n",
    "                        string.ascii_lowercase + string.digits) \n",
    "                        for n in range(size)]) \n",
    "                            \n",
    "    return generate_pass \n",
    "    \n",
    "# Takes user input\n",
    "user_input = input('Enter a lenght of  password')\n",
    "password = rand_pass(int(user_input)) \n",
    "print(password) \n",
    "      "
   ]
  },
  {
   "cell_type": "code",
   "execution_count": null,
   "id": "bb4404ab",
   "metadata": {},
   "outputs": [],
   "source": []
  },
  {
   "cell_type": "code",
   "execution_count": null,
   "id": "e331af9d",
   "metadata": {},
   "outputs": [],
   "source": []
  },
  {
   "cell_type": "code",
   "execution_count": null,
   "id": "4c26465c",
   "metadata": {},
   "outputs": [],
   "source": []
  }
 ],
 "metadata": {
  "kernelspec": {
   "display_name": "Python 3 (ipykernel)",
   "language": "python",
   "name": "python3"
  },
  "language_info": {
   "codemirror_mode": {
    "name": "ipython",
    "version": 3
   },
   "file_extension": ".py",
   "mimetype": "text/x-python",
   "name": "python",
   "nbconvert_exporter": "python",
   "pygments_lexer": "ipython3",
   "version": "3.10.9"
  }
 },
 "nbformat": 4,
 "nbformat_minor": 5
}
