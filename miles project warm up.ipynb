{
 "cells": [
  {
   "cell_type": "code",
   "execution_count": 3,
   "id": "ccc6f657",
   "metadata": {},
   "outputs": [
    {
     "name": "stdout",
     "output_type": "stream",
     "text": [
      "__|__|__ \n",
      "__|__|_x_\n",
      "    |    |    \n"
     ]
    }
   ],
   "source": [
    "print(\"__|__|__ \")\n",
    "print(\"__|__|_x_\")\n",
    "print(\"    |    |    \")"
   ]
  },
  {
   "cell_type": "code",
   "execution_count": 4,
   "id": "99e7504f",
   "metadata": {},
   "outputs": [
    {
     "name": "stdout",
     "output_type": "stream",
     "text": [
      "[1, 2, 3]\n"
     ]
    }
   ],
   "source": [
    "print([1,2,3])\n"
   ]
  },
  {
   "cell_type": "code",
   "execution_count": 5,
   "id": "ef536dc8",
   "metadata": {},
   "outputs": [
    {
     "name": "stdout",
     "output_type": "stream",
     "text": [
      "[0, 0, 0, 0, 0, 0, 0, 0, 0]\n"
     ]
    }
   ],
   "source": [
    "matrice = [\n",
    "    0,0,0,\n",
    "    0,0,0,\n",
    "    0,0,0\n",
    "                ]\n",
    "print(matrice)"
   ]
  },
  {
   "cell_type": "code",
   "execution_count": 6,
   "id": "56e2f610",
   "metadata": {},
   "outputs": [
    {
     "name": "stdout",
     "output_type": "stream",
     "text": [
      "[1, 2, 3]\n",
      "[1, 2, 3]\n",
      "[1, 2, 3]\n"
     ]
    }
   ],
   "source": [
    "print([1,2,3])\n",
    "print([1,2,3])\n",
    "print([1,2,3])"
   ]
  },
  {
   "cell_type": "code",
   "execution_count": 8,
   "id": "66fc31fb",
   "metadata": {},
   "outputs": [],
   "source": [
    "def display(row1,row2,row3):\n",
    "    print(row1)\n",
    "    print(row2)\n",
    "    print(row3)\n",
    "    \n",
    "\n"
   ]
  },
  {
   "cell_type": "code",
   "execution_count": 14,
   "id": "daad8beb",
   "metadata": {},
   "outputs": [],
   "source": [
    "row1=[''  ,'',  '']\n",
    "row2=[''  ,'',  '']\n",
    "row3=[''  ,'',  '']\n",
    "row1[1]='x'\n",
    "row2[1]='x'\n",
    "row3[2]='0'"
   ]
  },
  {
   "cell_type": "code",
   "execution_count": 15,
   "id": "02a5d34e",
   "metadata": {},
   "outputs": [
    {
     "name": "stdout",
     "output_type": "stream",
     "text": [
      "['', 'x', '']\n",
      "['', 'x', '']\n",
      "['', '', '0']\n"
     ]
    }
   ],
   "source": [
    "print(row1)\n",
    "print(row2)\n",
    "print(row3)"
   ]
  },
  {
   "cell_type": "code",
   "execution_count": 18,
   "id": "2e71d022",
   "metadata": {},
   "outputs": [
    {
     "name": "stdout",
     "output_type": "stream",
     "text": [
      "enter a no: 1\n",
      "['', 'x', '']\n",
      "['', '', '']\n",
      "['', '', '']\n"
     ]
    }
   ],
   "source": [
    "position=int(input(\"enter a no: \"))\n",
    "row1=[''  ,'',  '']\n",
    "row2=[''  ,'',  '']\n",
    "row3=[''  ,'',  '']\n",
    "row1[position]='x'\n",
    "print(row1)\n",
    "print(row2)\n",
    "print(row3)"
   ]
  },
  {
   "cell_type": "code",
   "execution_count": 19,
   "id": "14da849d",
   "metadata": {},
   "outputs": [
    {
     "name": "stdout",
     "output_type": "stream",
     "text": [
      "['', 'x', '']\n",
      "['', '', '']\n",
      "['', '', '']\n"
     ]
    }
   ],
   "source": [
    "print(row1)\n",
    "print(row2)\n",
    "print(row3)"
   ]
  },
  {
   "cell_type": "code",
   "execution_count": null,
   "id": "a2e5bc25",
   "metadata": {},
   "outputs": [],
   "source": [
    "\n"
   ]
  },
  {
   "cell_type": "code",
   "execution_count": 30,
   "id": "2f9f378f",
   "metadata": {},
   "outputs": [
    {
     "name": "stdout",
     "output_type": "stream",
     "text": [
      "name2\n",
      "2\n"
     ]
    }
   ],
   "source": [
    "userInput=input(\"name\")\n",
    "if userInput.isdigit():\n",
    "    try:\n",
    "        val = int(userInput)\n",
    "        print(val)\n",
    "    except ValueError:\n",
    "        print(\"That's not an int!\")\n"
   ]
  },
  {
   "cell_type": "code",
   "execution_count": 5,
   "id": "e0cdfec3",
   "metadata": {},
   "outputs": [
    {
     "name": "stdout",
     "output_type": "stream",
     "text": [
      "Enter a digit 1,2,3 but not like one,two or three: three\n",
      "Sorry enter a valid format of digit\n",
      "Enter a digit 1,2,3 but not like one,two or three: 1\n",
      "you entered a correct value,continue to proceed with your entered choice: 1\n"
     ]
    },
    {
     "data": {
      "text/plain": [
       "1"
      ]
     },
     "execution_count": 5,
     "metadata": {},
     "output_type": "execute_result"
    }
   ],
   "source": [
    "def user_choice():\n",
    "    choice=\"WRONG\"\n",
    "    while choice.isdigit() == False:\n",
    "        choice = input(\"Enter a digit 1,2,3 but not like one,two or three: \")\n",
    "        if choice.isdigit() == False:\n",
    "            print(\"Sorry enter a valid format of digit\")\n",
    "        else:\n",
    "            print(\"you entered a correct value,continue to proceed with your entered choice:\" ,choice)\n",
    "    return int(choice)\n",
    "user_choice()"
   ]
  },
  {
   "cell_type": "code",
   "execution_count": 2,
   "id": "666aab3d",
   "metadata": {},
   "outputs": [],
   "source": [
    "def range_checker():\n",
    "    choice =\"Loop continue parameter\"\n",
    "    acceptable_range= range(0,10)\n",
    "    within_range = False\n",
    "    while choice.isdigit() ==False or within_range == False:\n",
    "            choice =input(\"please enter a number in a range 0-10: \")\n",
    "            if choice.isdigit() == True:\n",
    "                print(\"Sorry That is not a valid digit format\")\n",
    "            if choice.isdigit() == True:\n",
    "                if int(choice) in acceptable_range:\n",
    "                    within_range == False\n",
    "                    print(\"it is within the range\")\n",
    "                    print(f'your no {choice} is in range {acceptable_range}')\n",
    "                else:\n",
    "                    print('out of range')\n",
    "                    within_range = False\n",
    "                    \n",
    "    return int(choice)"
   ]
  },
  {
   "cell_type": "code",
   "execution_count": null,
   "id": "8816cfd1",
   "metadata": {},
   "outputs": [
    {
     "name": "stdout",
     "output_type": "stream",
     "text": [
      "please enter a number in a range 0-10: 3\n",
      "it is within the range\n",
      "your no 3 is in range range(0, 10)\n"
     ]
    }
   ],
   "source": [
    "range_checker()"
   ]
  },
  {
   "cell_type": "code",
   "execution_count": 4,
   "id": "538c44dd",
   "metadata": {},
   "outputs": [],
   "source": [
    "def user_choice():\n",
    "    choice = 'WRONG'\n",
    "    acceptable_range = range(0,10)\n",
    "    within_range = False\n",
    "    while choice.isdigit() == False or within_range == False:\n",
    "        choice = input('Please enter a number 0-10: ')\n",
    "        if choice.isdigit() == False:\n",
    "            print('Sorry that is not a digit')\n",
    "        if choice.isdigit() == True:\n",
    "            if int(choice) in acceptable_range:\n",
    "                within_range = True\n",
    "                print(f'your entered no is  {choice} is in range   {acceptable_range}')\n",
    "            else:\n",
    "                print('Sorry you are out of acceptable range 0-10')\n",
    "                within_range = False\n",
    "    return int(choice) "
   ]
  },
  {
   "cell_type": "code",
   "execution_count": 6,
   "id": "58777340",
   "metadata": {},
   "outputs": [
    {
     "name": "stdout",
     "output_type": "stream",
     "text": [
      "Please enter a number 0-10: 11\n",
      "Sorry you are out of acceptable range 0-10\n",
      "Please enter a number 0-10: 4\n",
      "your entered no is  4 is in range   range(0, 10)\n"
     ]
    },
    {
     "data": {
      "text/plain": [
       "4"
      ]
     },
     "execution_count": 6,
     "metadata": {},
     "output_type": "execute_result"
    }
   ],
   "source": [
    "user_choice()"
   ]
  },
  {
   "cell_type": "code",
   "execution_count": 2,
   "id": "5296a501",
   "metadata": {},
   "outputs": [
    {
     "name": "stdout",
     "output_type": "stream",
     "text": [
      "4\n",
      "1\n",
      "2\n",
      "3\n",
      "4\n"
     ]
    }
   ],
   "source": []
  },
  {
   "cell_type": "code",
   "execution_count": null,
   "id": "c8d138ee",
   "metadata": {},
   "outputs": [],
   "source": []
  },
  {
   "cell_type": "code",
   "execution_count": null,
   "id": "32a29ef5",
   "metadata": {},
   "outputs": [],
   "source": []
  },
  {
   "cell_type": "code",
   "execution_count": null,
   "id": "660dbead",
   "metadata": {},
   "outputs": [],
   "source": []
  },
  {
   "cell_type": "code",
   "execution_count": null,
   "id": "c275a4d3",
   "metadata": {},
   "outputs": [],
   "source": []
  }
 ],
 "metadata": {
  "kernelspec": {
   "display_name": "Python 3 (ipykernel)",
   "language": "python",
   "name": "python3"
  },
  "language_info": {
   "codemirror_mode": {
    "name": "ipython",
    "version": 3
   },
   "file_extension": ".py",
   "mimetype": "text/x-python",
   "name": "python",
   "nbconvert_exporter": "python",
   "pygments_lexer": "ipython3",
   "version": "3.10.9"
  }
 },
 "nbformat": 4,
 "nbformat_minor": 5
}
