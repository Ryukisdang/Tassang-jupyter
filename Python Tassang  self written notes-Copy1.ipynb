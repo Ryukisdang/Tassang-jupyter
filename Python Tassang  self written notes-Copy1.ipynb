{
 "cells": [
  {
   "cell_type": "code",
   "execution_count": 3,
   "id": "d3a383f6",
   "metadata": {},
   "outputs": [],
   "source": [
    "#DaILY BASIC FOUNDATION UPSKILL OF PYTHON\n",
    "#pYTHON IS A HIGH LEVEL PROGAMMING LANGAUGE\n",
    "\n",
    "#' ' ' ' ' '\n",
    "#1. Basic Python Concepts:\n",
    "#- Variables and Data Types- easy skill -20 min time\n",
    "#ke\n",
    "\n",
    "#- Operators- easy skill -7 min time\n",
    "#- Control Structures- easy skill - 35 min time\n",
    "#i Eg- if elf else\n",
    "\n",
    "#- Functions- medium skill - 1hr time\n",
    "#Functions:\n",
    "\n",
    "#Python Built-in Functions.\n",
    "#These are functions that are built into the Python language and can be used without importing any modules. examples include print(), len(), str(), and int().\n",
    "#code eg-\n",
    "my_string = \"Hello, world!\"\n",
    "string_length = len(my_string)\n",
    "print(string_length)  # Output: 13\n",
    "\n",
    "#Python Recursion Functions.:Python Recursion Functions: \n",
    "#These are functions that call themselves within their definition. Recursion can be used to solve problems that can be broken down into smaller sub-problems. Here's an example of a recursive function that calculates the factorial of a number:\n",
    "#code eg-\n",
    "def factorial(n):\n",
    "    if n == 0:\n",
    "        return 1\n",
    "    else:\n",
    "        return n * factorial(n-1)\n",
    "\n",
    "print(factorial(5))  # Output: 120\n",
    "\n",
    "\n",
    "#Python Lambda Functions.\n",
    "#These are small, anonymous functions that can take any number of arguments and can only have one expression. \n",
    "#They are useful for short, throwaway functions that don't need a name\n",
    "add_numbers = lambda x, y: x + y\n",
    "print(add_numbers(2, 3))  # Output: 5\n",
    "\n",
    "\n",
    "#Python User-defined Functions.\n",
    "#These are functions that are defined by the user to perform a specific task. \n",
    "#They can take arguments, return values, and can be called from other parts of the code. \n",
    "def add_numbers(x, y):\n",
    "    return x + y\n",
    "\n",
    "print(add_numbers(2, 3))  # Output: 5\n",
    "\n",
    "\n",
    "#- Basic Input and Output- easy skill -4 min\n",
    "#input() and print its output\n",
    "\n",
    "#- String Manipulation- medium skill - 1.3hr time\n",
    "# string eng \"tassng \"  anything can be string written under two qoutation sign \" ...\"\n",
    "#[start:stop:step] index and slicing\n",
    "\n",
    "\n",
    "\n",
    "\n",
    "#1. Variables and Data Types: Learn about data types such as strings, numbers, and Boolean, and how to assign values to variables.\n",
    "#Data types and vairables\n",
    "# int;232  ,  float;23.0 , string;\"tassang\"  , boolean;True,False  \n",
    "# abc  xyz etc any user defined word and = sign is use to declare its value like abc = 2132\n",
    "\n",
    "\n",
    "#2. Operators: Learn about arithmetic, comparison, and logical operators, as well as their order of operations.\n",
    "#Operators and operands in python\n",
    "# + = - /  // * % ,, maths = 60 etc .\n",
    "#operator does arthmetic operation  and operands means where we use operators Eg- A + b .\n",
    "\n",
    "\n",
    "\n",
    "#3. Control Structures: Learn about if/else statements, loops (for and while), and conditional expressions.\n",
    "# if something.. :\n",
    "#xyz... logic\n",
    "\n",
    "#elif somthing :\n",
    "#xyz.. logic\n",
    "\n",
    "\n",
    "# else something :\n",
    "#xyz logic..\n",
    "#Comparision operators\n",
    "# == ,!=, < ,> ,<= ,=>\n",
    "#Boolean conditional statement \n",
    "#and ,or , not which gives True or False Checking two statement\n",
    "#control flow for conditonal statement with loops\n",
    "#continue , break and pass\n",
    "\n",
    "\n",
    "#4. Functions: Learn how to define and call functions, use parameters, and return values.\n",
    "\n",
    "\n",
    "\n",
    "#. Intermediate Python Concepts:\n",
    "#- Data Structures (Lists, Tuples, Dictionaries)-medium skill\n",
    "# File Handling-medium -hard skill\n",
    "#- Exception Handling- easy skill\n",
    "#- Object-Oriented Programming- hard skill\n",
    "#- Regular Expressions-medium skill\n",
    "#- Modules and Packages- medium-hard skill\n",
    "#- Debugging Techniques- depends on you how better you understand codes\n",
    "#- Testing- easy\n",
    "\n",
    "\n",
    "#5. Data Structures: Learn about lists, tuples, and dictionaries, and how to manipulate them using methods and functions.\n",
    "#list- []\n",
    "#[123,123,'tassang']\n",
    "\n",
    "#dic-{key:value}\n",
    "#{\"key\":1}\n",
    "\n",
    "#tup-()\n",
    "#(1232.123,213,'3434')\n",
    "\n",
    "\n",
    "#6. File Handling: Learn how to read from and write to files, and how to handle errors.\n",
    "\n",
    "#7. Object-Oriented Programming: Learn about classes, objects, attributes, methods, and inheritance.\n",
    "\n",
    "#8. Modules and Packages: Learn how to import and use modules and packages, and how to create your own.\n",
    "\n",
    "#9. Decorators: Learn how to use decorators to modify the behavior of functions and methods.\n",
    "\n",
    "#10. Advanced Topics: Learn about topics such as generators, iterators, threading, multiprocessing, regular expressions, and more.\n"
   ]
  },
  {
   "cell_type": "code",
   "execution_count": 14,
   "id": "33c7fc0c",
   "metadata": {},
   "outputs": [
    {
     "name": "stdout",
     "output_type": "stream",
     "text": [
      "sum of two number:  698\n",
      "hello tassang\n"
     ]
    }
   ],
   "source": [
    "# PYTHON PROBLEM SOLVING PRACTICAL PRACTICE\n",
    "\n",
    "# this method is with predefined variables\n",
    "num_1= 234\n",
    "num_2= 464\n",
    "sum = num_1+num_2\n",
    "print(\"sum of two number: \",sum) #print(   ) or print ( \".....\") it just print output to screen of variable or logic or data types\n",
    "print(\"hello tassang\")"
   ]
  },
  {
   "cell_type": "code",
   "execution_count": 12,
   "id": "40e201b4",
   "metadata": {},
   "outputs": [
    {
     "name": "stdout",
     "output_type": "stream",
     "text": [
      "Enter a no: 1232\n",
      "Enter a second no. 324534\n",
      "THE SUM OF TWO NO GIVEN BY YOU IS:  325766.0\n"
     ]
    }
   ],
   "source": [
    "# with user input method\n",
    "num1= float(input(\"Enter a no: \"))    #float() is taken because user input can be of int,real no, whole no, and input method takes user input as string so converting\n",
    "                                                        #i  converting str to float data type with float()\n",
    "num2=float(input(\"Enter a second no. \"))\n",
    "sum = num1 + num2\n",
    "print(\"THE SUM OF TWO NO GIVEN BY YOU IS: \", sum)"
   ]
  },
  {
   "cell_type": "code",
   "execution_count": 15,
   "id": "d7a8978f",
   "metadata": {},
   "outputs": [
    {
     "name": "stdout",
     "output_type": "stream",
     "text": [
      "Sqare root of the number is  8.0\n"
     ]
    }
   ],
   "source": [
    "# Write code to find the sqaure root and its result\n",
    "#method 1 - exponentiation\n",
    "num = 64\n",
    "sqR= num**(1/2)\n",
    "print(\"Sqare root of the number is \", sqR)"
   ]
  },
  {
   "cell_type": "code",
   "execution_count": 20,
   "id": "8e4879c2",
   "metadata": {},
   "outputs": [
    {
     "name": "stdout",
     "output_type": "stream",
     "text": [
      "Enter a number to find its square root: 45\n",
      "Sqare root of the number is  6.708203932499369\n"
     ]
    }
   ],
   "source": [
    "#with user input\n",
    "num1 = int(input(\"Enter a number to find its square root: \"))\n",
    "sqR= num1**(1/2) #or sqR= num1**(0.5) half the power of the number\n",
    "print(\"Sqare root of the number is \", sqR)"
   ]
  },
  {
   "cell_type": "code",
   "execution_count": 21,
   "id": "44af7008",
   "metadata": {},
   "outputs": [
    {
     "name": "stdout",
     "output_type": "stream",
     "text": [
      "Enter a number: 45\n",
      "Square root of your entered no is  6.708203932499369\n"
     ]
    }
   ],
   "source": [
    "#method- 2(using maths module) #import :  this command helps to use libaries like book or prewritten code of others which makes our code easier to execute without wriing much bulk codes\n",
    "import math # import maths module its fucntion can be explored more on internet \n",
    "num =  int(input(\"Enter a number: \"))\n",
    "sr = math.sqrt(num)\n",
    "print(\"Square root of your entered no is \", sr)\n"
   ]
  },
  {
   "cell_type": "code",
   "execution_count": 25,
   "id": "5af11825",
   "metadata": {},
   "outputs": [
    {
     "name": "stdout",
     "output_type": "stream",
     "text": [
      "Enter a height for Triangle: 55\n",
      "Enter a base for Triangle: 45\n",
      "The given base is 45.0 and given height is 55.0 and the Result is 1237.5\n"
     ]
    }
   ],
   "source": [
    "#calculate area of triangle \n",
    "#mathmatical formula is 1/2 x base x heght\n",
    "# with f string method to print output\n",
    "Height= float(input(\"Enter a height for Triangle: \"))\n",
    "Base= float(input(\"Enter a base for Triangle: \"))\n",
    "Result = (1/2)*Base*Height\n",
    "print(f'The given base is {Base} and given height is {Height} and the Result is {Result}') # f string method f' somehting {variable}"
   ]
  },
  {
   "cell_type": "code",
   "execution_count": 141,
   "id": "bb383025",
   "metadata": {},
   "outputs": [
    {
     "name": "stdout",
     "output_type": "stream",
     "text": [
      "Enter a height for Triangle: 45\n",
      "Enter a base for Triangle: 45\n",
      "The given base is 45.0 and the given height is 45.0 and the result is  1012.5\n"
     ]
    }
   ],
   "source": [
    "#dot format method   # parameter of dot format ('' {}''.format()\n",
    "Height= float(input(\"Enter a height for Triangle: \"))\n",
    "Base= float(input(\"Enter a base for Triangle: \"))\n",
    "Result = (1/2)*Base*Height\n",
    "print('The given base is {} and the given height is {} and the result is  {}' .format(Base,Height,Result)) "
   ]
  },
  {
   "cell_type": "code",
   "execution_count": 37,
   "id": "a95a9b2e",
   "metadata": {},
   "outputs": [
    {
     "name": "stdout",
     "output_type": "stream",
     "text": [
      "Temporary variable is  21 as value of x is assigned to temp_variable\n",
      " value of x is now 20 as value of y is assigned to x\n",
      " value of y is 21 we now swaped value of x var to y var as temp var holded value of orignal x variable\n"
     ]
    }
   ],
   "source": [
    "# Python Program to swap two variables value\n",
    "#method 1 using third variable\n",
    "\n",
    "x = 21 # assign value to variables we need to swap x var to y and y var to x\n",
    "y = 20\n",
    "temp_variable = x #temp variable work as temp place holder for holding x varibale for now\n",
    "x = y # now x is and empty varibale as it value been taken by temp var becoz python  work as taking one line at a time\n",
    "# assign x variable as var for y var now x is gonna be 20\n",
    "print(f'Temporary variable is  {temp_variable } as value of x is assigned to temp_variable')\n",
    "print(f' value of x is now {x} as value of y is assigned to x')\n",
    "#now if we want back value of x to its original value \n",
    "y = temp_variable\n",
    "print(f' value of y is {y} we now swaped value of x var to y var as temp var holded value of orignal x variable')"
   ]
  },
  {
   "cell_type": "code",
   "execution_count": 42,
   "id": "592ffbe1",
   "metadata": {},
   "outputs": [
    {
     "name": "stdout",
     "output_type": "stream",
     "text": [
      "Enter a number to assign value to the variable of X: 13\n",
      "Enter a number to assign value to the variable of Y: 12\n",
      "The new Inter-Changed  value of y is 13 and the new value of x is 12\n"
     ]
    }
   ],
   "source": [
    "#MEthod 2 without third variables also with user input\n",
    "# The concept we follow is \n",
    "# x ,y = y , x\n",
    "# Left , Right = Right , Left  for swaping the values of user defined variables\n",
    "\n",
    "x = int(input(\"Enter a number to assign value to the variable of X: \"))\n",
    "y = int(input(\"Enter a number to assign value to the variable of Y: \"))\n",
    "x,y = y,x\n",
    "print(f'The new Inter-Changed  value of y is {y} and the new value of x is {x}')"
   ]
  },
  {
   "cell_type": "code",
   "execution_count": 49,
   "id": "e5b9e469",
   "metadata": {},
   "outputs": [
    {
     "name": "stdout",
     "output_type": "stream",
     "text": [
      "Enter a value for kilometers: 132\n",
      " the given km is 132.0km and km in miles will be 82.020972miles\n"
     ]
    }
   ],
   "source": [
    "# Python program to to convert Kilometers to MIles\n",
    "# Mathmetical formula we use for conversion \n",
    "# 1 km = 0.621371 miles but we can use 0.6 or 0.62 as mathical rule\n",
    "# so if we need to calculate the miles \n",
    "#5 miles = 5x0.62\n",
    "km = float(input(\"Enter a value for kilometers: \"))\n",
    "miles = (0.621371)*km\n",
    "print(f' the given km is {km}km and km in miles will be {miles}miles')"
   ]
  },
  {
   "cell_type": "code",
   "execution_count": 56,
   "id": "91496bb2",
   "metadata": {},
   "outputs": [
    {
     "name": "stdout",
     "output_type": "stream",
     "text": [
      "Enter a number either negative,positive or neutral or zero:  45\n",
      "The number you entered is positive: 45\n"
     ]
    }
   ],
   "source": [
    "# PYthon program to check if the  if a number is positive or negative  or 0\n",
    "# Use case of conditional statement and control flow use in python\n",
    "#l LOGic we used whole number is a set of -3,-2,-1,0,1,2,3,4,5 so on we used this to check the statement with user input\n",
    "num = int(input(\"Enter a number either negative,positive or neutral or zero:  \"))\n",
    "if num > 0:\n",
    "    print(f'The number you entered is positive: {num}')\n",
    "elif num < 0:\n",
    "        print(f'The number you entered is Negative: {num}')\n",
    "else:\n",
    "    print(\"The number you Entered is neutral\",num)\n"
   ]
  },
  {
   "cell_type": "code",
   "execution_count": 62,
   "id": "2f6e6901",
   "metadata": {},
   "outputs": [
    {
     "name": "stdout",
     "output_type": "stream",
     "text": [
      "Enter a number to check it is even or odd:  1\n",
      "it is neither odd or even\n"
     ]
    }
   ],
   "source": [
    "#Python program to check the given number is odd or even and also check if the number is neither odd or even\n",
    "#lLogic we used if a number is divisible by 2 then it is an even number and if it is divisble by 3 then it is an odd number\n",
    "Num = int(input(\"Enter a number to check it is even or odd:  \"))\n",
    "if Num%2 == 0:\n",
    "    print(f'The number you entered is an even no,{Num}')\n",
    "elif Num%3 ==0:\n",
    "     print(f'The number you entered is an and  odd no,{Num}')\n",
    "else:\n",
    "    print(\"it is neither odd or even\")"
   ]
  },
  {
   "cell_type": "code",
   "execution_count": 72,
   "id": "e87a26f3",
   "metadata": {},
   "outputs": [
    {
     "name": "stdout",
     "output_type": "stream",
     "text": [
      "Enter a year to check if its a leap year or not: 2021\n",
      "The entered year is not a leap year\n"
     ]
    }
   ],
   "source": [
    "#Python program to check leap year\n",
    "#logic we use \n",
    "# one year has 365 days\n",
    "#leap year has 366 days that comes after ones in 4 years\n",
    "# THe leap year came 1996,2000,2004,2006 and nxt leap year will come in 2024\n",
    "# any year divided by 4 or 400 or 100 = zero 0 is an leap year\n",
    "#we gonna use conditional statement for that\n",
    "Year =  int(input(\"Enter a year to check if its a leap year or not: \"))\n",
    "if Year%4==0:\n",
    "    print(f'THE ENTER YEAR {Year} IS AN LEAP YEAR as it is remainder is zero')\n",
    "elif (Year%100==0) and (Year%400==0):\n",
    "                        print(\"THE ENTER YEAR IS AN LEAP YEAR\",Year)\n",
    "else:\n",
    "    print(\"The entered year is not a leap year\")\n"
   ]
  },
  {
   "cell_type": "code",
   "execution_count": 85,
   "id": "b6008793",
   "metadata": {},
   "outputs": [
    {
     "name": "stdout",
     "output_type": "stream",
     "text": [
      "Enter first no: 3434\n",
      "Enter second no: 354634\n",
      "Enter Third no: 56\n",
      "The greatest number is 354634\n"
     ]
    }
   ],
   "source": [
    "#Python program to find the largest number among the three number\n",
    "num1= int(input(\"Enter first no: \"))\n",
    "num2= int(input(\"Enter second no: \"))\n",
    "num3=int(input(\"Enter Third no: \"))\n",
    "if (num1>num2) and (num1 > num3):\n",
    "    print(\"The greatest number is\",num1)\n",
    "elif (num2>num1) and (num2 > num3):\n",
    "        print(\"The greatest number is\",num2)\n",
    "elif (num3>num1) and (num3 > num2):\n",
    "     print(\"The greatest number is\",num3)\n",
    "elif  (num1<num2) and (num1 < num3) or (num2<num1) and (num2 <num3) or (num3<num1) and (num3 < num2):\n",
    "    print()\n",
    "    \n",
    "else:\n",
    "    print(f'Among the Three number is the smallest is{num1,num2,num3}')"
   ]
  },
  {
   "cell_type": "markdown",
   "id": "5d66242b",
   "metadata": {},
   "source": [
    "###### Python program to find the smallest number among the three number\n",
    "num1= int(input(\"Enter first no: \"))\n",
    "num2= int(input(\"Enter second no: \"))\n",
    "num3=int(input(\"Enter Third no: \"))\n",
    "if (num1<num2) and (num1 < num3):\n",
    "     print(\"The smallest number is\",num1)\n",
    "elif (num2<num1) and (num2 <num3):\n",
    "     print(\"The smallest number is\",num2)\n",
    "elif (num3<num1) and (num3 < num2):\n",
    "    print(\"The smallest number is\",num3)\n",
    "else:\n",
    "    print(\"Enter a valid number not a abcsddsd\")\n",
    "    \n",
    "    "
   ]
  },
  {
   "cell_type": "markdown",
   "id": "e482a273",
   "metadata": {},
   "source": [
    "###### Python program to find the smallest number among the three number\n",
    "num1= int(input(\"Enter first no: \"))\n",
    "num2= int(input(\"Enter second no: \"))\n",
    "num3=int(input(\"Enter Third no: \"))\n",
    "if (num1<num2) and (num1 < num3):\n",
    "     print(\"The smallest number is\",num1)\n",
    "elif (num2<num1) and (num2 <num3):\n",
    "     print(\"The smallest number is\",num2)\n",
    "elif (num3<num1) and (num3 < num2):\n",
    "    print(\"The smallest number is\",num3)\n",
    "else:\n",
    "    print(\"Enter a valid number not a abcsddsd\")\n",
    "    \n",
    "    "
   ]
  },
  {
   "cell_type": "markdown",
   "id": "01b809d1",
   "metadata": {},
   "source": [
    "###### Python program to find the smallest number among the three number\n",
    "num1= int(input(\"Enter first no: \"))\n",
    "num2= int(input(\"Enter second no: \"))\n",
    "num3=int(input(\"Enter Third no: \"))\n",
    "if (num1<num2) and (num1 < num3):\n",
    "     print(\"The smallest number is\",num1)\n",
    "elif (num2<num1) and (num2 <num3):\n",
    "     print(\"The smallest number is\",num2)\n",
    "elif (num3<num1) and (num3 < num2):\n",
    "    print(\"The smallest number is\",num3)\n",
    "else:\n",
    "    print(\"Enter a valid number not a abcsddsd\")\n",
    "    \n",
    "    "
   ]
  },
  {
   "cell_type": "code",
   "execution_count": 87,
   "id": "38ab5525",
   "metadata": {},
   "outputs": [
    {
     "name": "stdout",
     "output_type": "stream",
     "text": [
      "Enter first no: 32\n",
      "Enter second no: -23\n",
      "Enter Third no: 54\n",
      "The smallest number is -23\n"
     ]
    }
   ],
   "source": [
    "#Python program to find the smallest number among the three number\n",
    "num1= int(input(\"Enter first no: \"))\n",
    "num2= int(input(\"Enter second no: \")) \n",
    "num3=int(input(\"Enter Third no: \")) \n",
    "if (num1<num2) and (num1 < num3): \n",
    "    print(\"The smallest number is\",num1) \n",
    "elif (num2<num1) and (num2 <num3): \n",
    "    print(\"The smallest number is\",num2) \n",
    "elif (num3<num1) and (num3 < num2): \n",
    "    print(\"The smallest number is\",num3) \n",
    "else:\n",
    "    print(\"Enter a valid number not a abcsddsd\")"
   ]
  },
  {
   "cell_type": "code",
   "execution_count": 109,
   "id": "38cd174b",
   "metadata": {},
   "outputs": [
    {
     "name": "stdout",
     "output_type": "stream",
     "text": [
      "Enter a number to check if its a prime number or not: 11\n",
      "The entered no 11 is an prime number as the remainder is non zero 1\n"
     ]
    }
   ],
   "source": [
    "#Python program to check a number is prime number or not\n",
    "#Prime number are those number that is only divisible by itself except 1 or 0\n",
    "Prime_no = int(input(\"Enter a number to check if its a prime number or not: \"))\n",
    "if Prime_no%2 != 0: # this operator != tell if its not equal to zero then print output\n",
    "    print(f'The entered no {Prime_no} is an prime number as the remainder is non zero',Prime_no%2)\n",
    "elif Prime_no%2 == 0: # this operator == tell if the remainder is zero then print the output\n",
    "    print(f'The entered no {Prime_no} is not and prime number as it gives remainder',Prime_no%2)\n",
    "else:\n",
    "    print(\"It is not  a  prime number that is zero and 1 but we keep it as exception\")"
   ]
  },
  {
   "cell_type": "code",
   "execution_count": 139,
   "id": "e824c9a3",
   "metadata": {},
   "outputs": [
    {
     "name": "stdout",
     "output_type": "stream",
     "text": [
      "11 it is an prime number that is not divisble by 2\n",
      "11 it is an prime number that is not divisble by 3\n",
      "11 it is an prime number that is not divisble by 4\n",
      "11 it is an prime number that is not divisble by 5\n",
      "11 it is an prime number that is not divisble by 6\n",
      "11 it is an prime number that is not divisble by 7\n",
      "11 it is an prime number that is not divisble by 8\n",
      "11 it is an prime number that is not divisble by 9\n",
      "11 it is an prime number that is not divisble by 10\n"
     ]
    }
   ],
   "source": [
    "#Another method using for loop method the pythonic way\n",
    "#num = int(input(\"Enter a number to check prime number or not upto from 2 as zero and 1 are not considered as prime number: \"))\n",
    "num = 11\n",
    "if num == 1:\n",
    "    print(\"its is not a prime number\")\n",
    "if num > 1:\n",
    "    for i in range (2,num): # range func is used to set this upto that and store it in the i variable that work as iterator For for loop and holds all the value it checks\n",
    "        if num% i == 0: #here the given number by user is divided by the sequence of number to that range is set and divide num by each value i holds\n",
    "            print(num,'it is not a prime number that is divisible by',i)\n",
    "            #break we could have use break statement to end the condition here if satisfied\n",
    "            # just remove the # mark and run the code\n",
    "            break \n",
    "        else:\n",
    "            print(num,\"it is an prime number that is not divisble by\",i)"
   ]
  },
  {
   "cell_type": "code",
   "execution_count": 148,
   "id": "8f261afe",
   "metadata": {},
   "outputs": [
    {
     "name": "stdout",
     "output_type": "stream",
     "text": [
      "The Random number for now is 1\n"
     ]
    }
   ],
   "source": [
    "#Python program to generate random number we can use it make dice too as dice have 6 digit\n",
    "# For this we gonna use random libary\n",
    "# we gonna use function of random libary that is .randint()\n",
    "#we gonna use  import function to import libary to use it\n",
    "import random\n",
    "num = random.randint(0,6)\n",
    "print(f'The Random number for now is {num}')"
   ]
  },
  {
   "cell_type": "code",
   "execution_count": 5,
   "id": "f0e60d43",
   "metadata": {},
   "outputs": [
    {
     "name": "stdout",
     "output_type": "stream",
     "text": [
      "Enter a lower limit: 2\n",
      "Enter a upper limit: 100\n",
      "[2]\n",
      "[3]\n",
      "[5]\n",
      "[7]\n",
      "[11]\n",
      "[13]\n",
      "[17]\n",
      "[19]\n",
      "[23]\n",
      "[29]\n",
      "[31]\n",
      "[37]\n",
      "[41]\n",
      "[43]\n",
      "[47]\n",
      "[53]\n",
      "[59]\n",
      "[61]\n",
      "[67]\n",
      "[71]\n",
      "[73]\n",
      "[79]\n",
      "[83]\n",
      "[89]\n",
      "[97]\n"
     ]
    }
   ],
   "source": [
    "#python program to print all the prime number in a interval\n",
    "#prime number is an internal means it is an sequence\n",
    "lower = int(input(\"Enter a lower limit: \"))\n",
    "upper = int(input(\"Enter a upper limit: \"))\n",
    "#lower = 2 # we are setting up a range parameter to check from this number \n",
    "#upper =15 # to this number which are prime number\n",
    "for num in range(lower,upper +1): #we use for loop with conditional statement that will store all iterated data on num var\n",
    "    if num >1: # checking if ,those stored number is greater than 1 to satisfy the  conditon and start the loop\n",
    "        for i in range(2,num): # we as condition satisfy this loop will start from range 2, upto number stored in num variable as for loop check data sequence wise one by one\n",
    "            if num%i==0: # this is to check number present in the num variable in sequence which are divisible by 2 are not prime and break the statement and doesnt print any\n",
    "                # DOESnt print those number which are divisble by 2 if it is divisible by two then condition breaks\n",
    "                break\n",
    "        else: # then this loop will work print all the left over number which is not divisible by 2 and give remainder zero and print all the prime number\n",
    "            print(num)"
   ]
  },
  {
   "cell_type": "code",
   "execution_count": 168,
   "id": "35a01e09",
   "metadata": {},
   "outputs": [
    {
     "name": "stdout",
     "output_type": "stream",
     "text": [
      "Enter any value for farenheit: 34\n",
      "The given farenheit is 34.0 and the converted farenheit to celsius is 1.0^degree\n"
     ]
    }
   ],
   "source": [
    "#Python program to convert farenheit to celsius\n",
    "#formula we use farenhiet - 32 x 5 / 9 \n",
    "Farenheit = float(input(\"Enter any value for farenheit: \"))\n",
    "Celsius = (Farenheit - 32)*5//9\n",
    "print(f'The given farenheit is {Farenheit} and the converted farenheit to celsius is {Celsius}^degree') # pythong print method we use is f string method\n"
   ]
  },
  {
   "cell_type": "code",
   "execution_count": 171,
   "id": "1f8df3d9",
   "metadata": {},
   "outputs": [
    {
     "name": "stdout",
     "output_type": "stream",
     "text": [
      "Enter any value for celsius: 34\n",
      "The given celsius by you is 34.0 and the converted to farenheit value is 93.0\n"
     ]
    }
   ],
   "source": [
    "#python program to  convert celsius to farenheight\n",
    "celsius= float(input(\"Enter any value for celsius: \"))\n",
    "farenheit = ((celsius)*9//5)+32\n",
    "print('The given celsius by you is {} and the converted to farenheit value is {}'.format(celsius,farenheit))#print method using {}.format() ,method"
   ]
  },
  {
   "cell_type": "code",
   "execution_count": 42,
   "id": "04afdd15",
   "metadata": {},
   "outputs": [
    {
     "name": "stdout",
     "output_type": "stream",
     "text": [
      "Enter a number to be taken as factorial ! : 4\n",
      " entered num is 4! and its factors value is 1 \n",
      " entered num is 4! and its factors value is 2 \n",
      " entered num is 4! and its factors value is 6 \n",
      " entered num is 4! and its factors value is 24 \n"
     ]
    }
   ],
   "source": [
    "#Python program to find the factorial of number\n",
    "# example of factorial 5! = 5 x 4 x 3x2x1 =120\n",
    "#factorial is not taken of negative number\n",
    "# condition for ending this program we use num <0 , num = 0\n",
    "num = int(input(\"Enter a number to be taken as factorial ! : \"))\n",
    "fact =1 # act as counter start position\n",
    "if num < 0:\n",
    "    print(\"negative is invalid number\")\n",
    "elif num == 0:\n",
    "    print(\"zero is invalid number\")\n",
    "elif num>1:\n",
    "    for i in range(1,num+1): #iterates upto given range or parameter 1,2,3,4 if number 4 is found on this range it will end the statement and upto that new value assigned to fact it will be multilpied with it\n",
    "        fact=fact* i #resign iterated value in fact and multiply it and it will end the statement and upto that new value assigned to fact it will be multilpied with it\n",
    "        # first fact value is 1 first value i hold is 1 and new fact value will be 1 and nxt i value is 2 and the new fact value was 1 it will be multiply by that and new fact value is 2\n",
    "        # and now i holds the value 3 and new fact value was 2 it will multiplty and now i holds value 4 and new fact value was 3 it will multiply\n",
    "        #range fucntion set range and i act as iterater upto that range like 4 then 4 times it will take the loop\n",
    "        print(f' entered num is {num}! and its factors value is {fact} ')"
   ]
  },
  {
   "cell_type": "code",
   "execution_count": 1,
   "id": "010669f5",
   "metadata": {},
   "outputs": [
    {
     "name": "stdout",
     "output_type": "stream",
     "text": [
      "Enter a no: 4\n",
      "The factorial of the number is  24\n"
     ]
    }
   ],
   "source": [
    "# Another method is recurssion\n",
    "# it means we gonna create a function that it gonna call or repeat itself a several number of times\n",
    "def fact(a): # we are defining a funtion called fact and taking a as place holder for variable user gonna assign the given parameter is repeated the given number of times\n",
    "    if a == 0:\n",
    "        return 1\n",
    "    # return is a special function or method we use inside a function that sends the func result back to the caller\n",
    "    #A function without satified statement give us None statement\n",
    "    else:\n",
    "        return ((a)*fact(a-1)) # its first taKE THE USER input and upto that number returns the function several times upto it reaches zero and mulitply all \n",
    "num = int(input(\"Enter a no: \"))\n",
    "result = fact(num)\n",
    "print(\"The factorial of the number is \",result)"
   ]
  },
  {
   "cell_type": "code",
   "execution_count": 19,
   "id": "d499251d",
   "metadata": {},
   "outputs": [
    {
     "data": {
      "text/plain": [
       "'good boi'"
      ]
     },
     "execution_count": 19,
     "metadata": {},
     "output_type": "execute_result"
    }
   ],
   "source": [
    "# SImple python program using user defined fucntion to check is either tassang a good boi or bad boi\n",
    "def tassang(Good_guy):\n",
    "    if Good_guy == \"Tassang\":\n",
    "           return \"good boi\"\n",
    "    elif Good_guy != \"Tassang\":\n",
    "        return \"bad boi\"\n",
    "tassang(\"Tassang\")"
   ]
  },
  {
   "cell_type": "code",
   "execution_count": null,
   "id": "303a0fbf",
   "metadata": {},
   "outputs": [
    {
     "name": "stdout",
     "output_type": "stream",
     "text": [
      "How many names need to be entered?3\n",
      "Enter your name with a capital letter.Tassang\n",
      "['Tassang']\n"
     ]
    }
   ],
   "source": [
    "# dont mind this leave this python program it just me using stackoverflow for first time\n",
    "def make_list(number):\n",
    "    names = []\n",
    "    for item in range(0,number+1):\n",
    "        names.append(input(\"Enter your name with a capital letter.\"))\n",
    "        print(names)\n",
    "        \n",
    "number = int(input(\"How many names need to be entered?\"))\n",
    "names = make_list(number)\n",
    "for name in names:\n",
    "    if name [1] == 'A':\n",
    "        print(\"Name\", name, \"starts with A\")"
   ]
  },
  {
   "cell_type": "code",
   "execution_count": 28,
   "id": "f3b1e7fb",
   "metadata": {},
   "outputs": [
    {
     "name": "stdout",
     "output_type": "stream",
     "text": [
      "How many names need to be entered?3\n",
      "Enter your name with a capital letter.A\n",
      "['A']\n",
      "Enter your name with a capital letter.B\n",
      "['A', 'B']\n",
      "Enter your name with a capital letter.C\n",
      "['A', 'B', 'C']\n",
      "Name A starts with A\n"
     ]
    }
   ],
   "source": [
    "#working solution i found\n",
    "#You need to have range(numbers) to iterate, and you also forgot to return names from the make_list function. Also, as the arrays in Python are zero-indexed, you probably want to check if name [0]\n",
    "#1In python you can not loop through an integer. Try to switch for item in number with for item in range(number) I think this will solve your problem.\n",
    "\n",
    "def make_list(number):\n",
    "    names = []\n",
    "    for item in range(number):\n",
    "        names.append(input(\"Enter your name with a capital letter.\"))\n",
    "        print(names)\n",
    "    return names\n",
    "        \n",
    "number = int(input(\"How many names need to be entered?\"))\n",
    "names = make_list(number) #make_list is an fucntion\n",
    "for name in names:\n",
    "    if name [0] == 'A':\n",
    "        print(\"Name\", name, \"starts with A\")"
   ]
  },
  {
   "cell_type": "code",
   "execution_count": 36,
   "id": "f8386a5e",
   "metadata": {},
   "outputs": [
    {
     "name": "stdout",
     "output_type": "stream",
     "text": [
      "How many names need to be entered? 3\n",
      "Enter your name with a capital letter: TASSANG\n",
      "['TASSANG']\n",
      "Enter your name with a capital letter: TASSANG\n",
      "['TASSANG', 'TASSANG']\n",
      "Enter your name with a capital letter: TASSANG\n",
      "['TASSANG', 'TASSANG', 'TASSANG']\n"
     ]
    }
   ],
   "source": [
    "# solution two\n",
    "def make_list(number):\n",
    "    names = []\n",
    "    for _ in range(number):\n",
    "        names.append(input(\"Enter your name with a capital letter: \"))\n",
    "        print(names)\n",
    "    return(names)\n",
    "        \n",
    "number = int(input(\"How many names need to be entered? \"))\n",
    "names = make_list(number)\n",
    "for name in names:\n",
    "    if name.startswith(('A'): #startswith() is an function\n",
    "        print(\"Name\", name, \"starts with A\")"
   ]
  },
  {
   "cell_type": "code",
   "execution_count": null,
   "id": "b6605b1a",
   "metadata": {},
   "outputs": [],
   "source": [
    "#CONTINUE  from here the MAIN SMALL PYTHON PROGRAM \n"
   ]
  },
  {
   "cell_type": "code",
   "execution_count": null,
   "id": "b0046c75",
   "metadata": {},
   "outputs": [],
   "source": [
    "#Python Program to display the multiplication Table \n",
    "#creating a table \n",
    "Table= [1,2,3,4,5,6,7,8,9,10]\n",
    "for table in Table:\n",
    "    print(table)"
   ]
  },
  {
   "cell_type": "code",
   "execution_count": null,
   "id": "0ce006a4",
   "metadata": {},
   "outputs": [],
   "source": []
  },
  {
   "cell_type": "code",
   "execution_count": null,
   "id": "bb777f1c",
   "metadata": {},
   "outputs": [],
   "source": []
  },
  {
   "cell_type": "code",
   "execution_count": null,
   "id": "8ab44523",
   "metadata": {},
   "outputs": [],
   "source": []
  }
 ],
 "metadata": {
  "kernelspec": {
   "display_name": "Python 3 (ipykernel)",
   "language": "python",
   "name": "python3"
  },
  "language_info": {
   "codemirror_mode": {
    "name": "ipython",
    "version": 3
   },
   "file_extension": ".py",
   "mimetype": "text/x-python",
   "name": "python",
   "nbconvert_exporter": "python",
   "pygments_lexer": "ipython3",
   "version": "3.10.9"
  }
 },
 "nbformat": 4,
 "nbformat_minor": 5
}
