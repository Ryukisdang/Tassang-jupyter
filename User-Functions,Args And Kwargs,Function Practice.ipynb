{
 "cells": [
  {
   "cell_type": "code",
   "execution_count": 2,
   "id": "ed71caf2",
   "metadata": {},
   "outputs": [
    {
     "data": {
      "text/plain": [
       "6"
      ]
     },
     "execution_count": 2,
     "metadata": {},
     "output_type": "execute_result"
    }
   ],
   "source": [
    "#function 1 * args\n",
    "# Define a function called myfunc that takes in an arbitary number of arguments, and returns the sum of those Arguments\n",
    "def Total_Element(*args):\n",
    "    return len(args)\n",
    "myfunc1(1,2,3,4,5,6)"
   ]
  },
  {
   "cell_type": "code",
   "execution_count": 3,
   "id": "94ea8c98",
   "metadata": {},
   "outputs": [
    {
     "data": {
      "text/plain": [
       "6"
      ]
     },
     "execution_count": 3,
     "metadata": {},
     "output_type": "execute_result"
    }
   ],
   "source": [
    "def sum_of_element(*args):\n",
    "    return sum(args)\n",
    "myfunc1(1,2,3,4,5,6)"
   ]
  },
  {
   "cell_type": "code",
   "execution_count": 25,
   "id": "847ecf22",
   "metadata": {},
   "outputs": [
    {
     "data": {
      "text/plain": [
       "[0, 2, 4, 6, 8, 10]"
      ]
     },
     "execution_count": 25,
     "metadata": {},
     "output_type": "execute_result"
    }
   ],
   "source": [
    "def even_no(*Check_even):\n",
    "    even=[]\n",
    "    #_Odd=[]\n",
    "    for evens in Check_even:\n",
    "        if evens%2 == 0:\n",
    "            even.append(evens)\n",
    "    return even\n",
    "    print(f'your updated filter list{Even}')\n",
    "        #elif arg%2 != 0:\n",
    "            #Even.append(arg)\n",
    "            #print(f'your even no is {Odd}')\n",
    "            #return Odd\n",
    "even_no(0,1,2,3,4,5,6,7,8,9,10)"
   ]
  },
  {
   "cell_type": "code",
   "execution_count": 13,
   "id": "4c141e3b",
   "metadata": {},
   "outputs": [
    {
     "data": {
      "text/plain": [
       "[0]"
      ]
     },
     "execution_count": 13,
     "metadata": {},
     "output_type": "execute_result"
    }
   ],
   "source": [
    "def myfunc1(*args):\n",
    "    mylist = []\n",
    "    for number in args:\n",
    "        if number % 2 == 0:\n",
    "            mylist.append(number)\n",
    "        else:\n",
    "            pass\n",
    "        return mylist\n",
    "myfunc(0,1,2,3,4)"
   ]
  },
  {
   "cell_type": "code",
   "execution_count": 36,
   "id": "93cb72d9",
   "metadata": {},
   "outputs": [
    {
     "data": {
      "text/plain": [
       "[1, 3, 5, 7, 9]"
      ]
     },
     "execution_count": 36,
     "metadata": {},
     "output_type": "execute_result"
    }
   ],
   "source": [
    "def odd_no(*Check_odd):\n",
    "    _Odd=[]\n",
    "    for odd in Check_odd:\n",
    "        if odd%2 != 0:\n",
    "            _Odd.append(odd)\n",
    "    return _Odd\n",
    "\n",
    "\n",
    "\n",
    "odd_no(0,1,2,3,4,5,6,7,8,9,10)"
   ]
  },
  {
   "cell_type": "code",
   "execution_count": 53,
   "id": "4fa6b611",
   "metadata": {},
   "outputs": [
    {
     "data": {
      "text/plain": [
       "'pYtHoN Is lOvE'"
      ]
     },
     "execution_count": 53,
     "metadata": {},
     "output_type": "execute_result"
    }
   ],
   "source": [
    "def upper_even_lower_odd_strings(inputstring):\n",
    "    outputstring=''\n",
    "    for item in range(len(inputstring)):\n",
    "        if item%2 == 0:\n",
    "            outputstring += inputstring[item].lower()\n",
    "        else:\n",
    "            outputstring += inputstring[item].upper()\n",
    "    return outputstring\n",
    "            \n",
    "upper_even_lower_odd_strings('Python is love')     "
   ]
  },
  {
   "cell_type": "code",
   "execution_count": 52,
   "id": "0b8b7e51",
   "metadata": {},
   "outputs": [
    {
     "data": {
      "text/plain": [
       "'tAsSaNg iS NoT A NaMe iTs a bRaNd'"
      ]
     },
     "execution_count": 52,
     "metadata": {},
     "output_type": "execute_result"
    }
   ],
   "source": [
    "def myfunc2(inputstring):\n",
    "    outputstring=''\n",
    "    for item in range(len(inputstring)):\n",
    "        if item%2==0:\n",
    "            outputstring += inputstring[item].lower()\n",
    "        else:\n",
    "            outputstring += inputstring[item].upper()\n",
    "    return outputstring\n",
    "myfunc(\"Tassang is not a name its a brand\")"
   ]
  },
  {
   "cell_type": "code",
   "execution_count": 56,
   "id": "336f81aa",
   "metadata": {},
   "outputs": [
    {
     "data": {
      "text/plain": [
       "4.0"
      ]
     },
     "execution_count": 56,
     "metadata": {},
     "output_type": "execute_result"
    }
   ],
   "source": [
    "#method1\n",
    "def myfunc3(a,b): #this function calculate 5%\n",
    "    return sum((a,b)) * 0.05 #sum((a,b)\n",
    "myfunc3(30,50)"
   ]
  },
  {
   "cell_type": "code",
   "execution_count": 57,
   "id": "d9b5006d",
   "metadata": {},
   "outputs": [
    {
     "data": {
      "text/plain": [
       "5.0"
      ]
     },
     "execution_count": 57,
     "metadata": {},
     "output_type": "execute_result"
    }
   ],
   "source": [
    "#method2\n",
    "def nmyfunc(a,b,c=0,d=0): #This is to show what is args and kwargs(keyword like dic with some balue)\n",
    "    return sum((a,b,c,d))*0.05\n",
    "nmyfunc(10,20,30,40)\n"
   ]
  },
  {
   "cell_type": "code",
   "execution_count": 54,
   "id": "173d80c6",
   "metadata": {},
   "outputs": [
    {
     "data": {
      "text/plain": [
       "50"
      ]
     },
     "execution_count": 54,
     "metadata": {},
     "output_type": "execute_result"
    }
   ],
   "source": [
    "def _sum_all_no(*inputnumbers): # this func adds alll given number\n",
    "    return sum(inputnumbers)\n",
    "_sum_all_no(10,10,10,10,10)\n"
   ]
  },
  {
   "cell_type": "code",
   "execution_count": 55,
   "id": "49456d76",
   "metadata": {},
   "outputs": [
    {
     "data": {
      "text/plain": [
       "2500"
      ]
     },
     "execution_count": 55,
     "metadata": {},
     "output_type": "execute_result"
    }
   ],
   "source": [
    "def _sum_all_no(*inputnumbers): # adds all and sqrt it\n",
    "    return sum(inputnumbers)**2\n",
    "_sum_all_no(10,10,10,10,10)"
   ]
  },
  {
   "cell_type": "code",
   "execution_count": 82,
   "id": "1ac7cae8",
   "metadata": {},
   "outputs": [
    {
     "name": "stdout",
     "output_type": "stream",
     "text": [
      "[1]\n",
      "[1, 2]\n",
      "[1, 2, 3]\n",
      "[1, 2, 3, 4]\n",
      "[1, 2, 3, 4, 5]\n",
      "[1, 2, 3, 4, 5, 6]\n",
      "[1, 2, 3, 4, 5, 6, 7]\n",
      "[1, 2, 3, 4, 5, 6, 7, 8]\n",
      "[1, 2, 3, 4, 5, 6, 7, 8, 9]\n",
      "[1, 2, 3, 4, 5, 6, 7, 8, 9, 10]\n",
      "[1, 2, 3, 4, 5, 6, 7, 8, 9, 10, 11]\n",
      "[1, 2, 3, 4, 5, 6, 7, 8, 9, 10, 11, 12]\n",
      "[1, 2, 3, 4, 5, 6, 7, 8, 9, 10, 11, 12, 13]\n",
      "[1, 2, 3, 4, 5, 6, 7, 8, 9, 10, 11, 12, 13, 14]\n",
      "[1, 2, 3, 4, 5, 6, 7, 8, 9, 10, 11, 12, 13, 14, 15]\n",
      "[1, 2, 3, 4, 5, 6, 7, 8, 9, 10, 11, 12, 13, 14, 15, 16]\n",
      "['*']\n",
      "['*', '*']\n",
      "['*', '*', '*']\n",
      "['*', '*', '*', '*']\n",
      "['*', '*', '*', '*', '*']\n"
     ]
    }
   ],
   "source": [
    "def myfunc4(*args): # creating right angle  pattern\n",
    "    listed = []\n",
    "    for item in args:\n",
    "        listed.append(item)\n",
    "        print(listed)\n",
    "myfunc4(1,2,3,4,5,6,7,8,9,10,11,12,13,14,15,16)\n",
    "myfunc4('*','*','*','*','*')"
   ]
  },
  {
   "cell_type": "code",
   "execution_count": 89,
   "id": "ea55f8e5",
   "metadata": {},
   "outputs": [
    {
     "name": "stdout",
     "output_type": "stream",
     "text": [
      "0\n",
      "1\n",
      "2\n",
      "3\n",
      "4\n",
      "5\n",
      "6\n",
      "7\n",
      "8\n",
      "9\n",
      "10\n",
      "11\n",
      "12\n",
      "13\n",
      "14\n",
      "15\n"
     ]
    }
   ],
   "source": [
    "def myfunc4(*args): # creating right angle  pattern\n",
    "    for item in range(0,len(args)):\n",
    "        print(item)\n",
    "myfunc4(1,2,3,4,5,6,7,8,9,10,11,12,13,14,15,16)"
   ]
  },
  {
   "cell_type": "code",
   "execution_count": 95,
   "id": "10832898",
   "metadata": {},
   "outputs": [
    {
     "name": "stdout",
     "output_type": "stream",
     "text": [
      "{'fruit': 'Apple', 'food': 'Rice', 'veggie': 'lettuce'}\n",
      "My choice of fruit is lettuce\n"
     ]
    }
   ],
   "source": [
    "def myfunc(**kwargs):\n",
    "    print(kwargs)\n",
    "    if 'fruit' in kwargs:\n",
    "        print('My choice of fruit is {}'.format(kwargs['veggie'])) # this veggie is an keyword or key which has value lettuce\n",
    "    else:\n",
    "        print('I did not find any fruit here')\n",
    "myfunc(fruit='Apple',food = 'Rice',veggie = 'lettuce')"
   ]
  },
  {
   "cell_type": "code",
   "execution_count": 112,
   "id": "89dd6196",
   "metadata": {},
   "outputs": [
    {
     "name": "stdout",
     "output_type": "stream",
     "text": [
      "I would like 10 Mango and also 20 potato umm also 40 Biryani\n"
     ]
    }
   ],
   "source": [
    "#method 1 with less functionality not much modification\n",
    "def mynewfunc(*args,**kwargs):\n",
    "    print('I would like {} {} and also {} {} umm also {} {}'.format(args[0],kwargs['fruit'],args[1],kwargs['veggie'],args[3],kwargs['food']))\n",
    "mynewfunc(10,20,30,40,food= 'Biryani',fruit='Mango',veggie='potato')"
   ]
  },
  {
   "cell_type": "code",
   "execution_count": 13,
   "id": "e68b7bf2",
   "metadata": {},
   "outputs": [
    {
     "name": "stdout",
     "output_type": "stream",
     "text": [
      "850\n"
     ]
    }
   ],
   "source": [
    "a = 100 and 150\n",
    "b = 200 and 300\n",
    "c = 400 or 40\n",
    "d = a + b + c\n",
    "print(d)"
   ]
  },
  {
   "cell_type": "code",
   "execution_count": null,
   "id": "932b6a4c",
   "metadata": {},
   "outputs": [],
   "source": []
  },
  {
   "cell_type": "code",
   "execution_count": null,
   "id": "96363cb7",
   "metadata": {},
   "outputs": [],
   "source": []
  },
  {
   "cell_type": "code",
   "execution_count": null,
   "id": "69a7c562",
   "metadata": {},
   "outputs": [],
   "source": []
  },
  {
   "cell_type": "code",
   "execution_count": null,
   "id": "624d70a9",
   "metadata": {},
   "outputs": [],
   "source": []
  },
  {
   "cell_type": "code",
   "execution_count": null,
   "id": "b6da96be",
   "metadata": {},
   "outputs": [],
   "source": []
  },
  {
   "cell_type": "code",
   "execution_count": null,
   "id": "f8ccd43e",
   "metadata": {},
   "outputs": [],
   "source": []
  },
  {
   "cell_type": "code",
   "execution_count": null,
   "id": "110227b1",
   "metadata": {},
   "outputs": [],
   "source": []
  },
  {
   "cell_type": "code",
   "execution_count": null,
   "id": "401c2aca",
   "metadata": {},
   "outputs": [],
   "source": []
  },
  {
   "cell_type": "code",
   "execution_count": null,
   "id": "342d8880",
   "metadata": {},
   "outputs": [],
   "source": []
  },
  {
   "cell_type": "code",
   "execution_count": null,
   "id": "3d8b745e",
   "metadata": {},
   "outputs": [],
   "source": []
  }
 ],
 "metadata": {
  "kernelspec": {
   "display_name": "Python 3 (ipykernel)",
   "language": "python",
   "name": "python3"
  },
  "language_info": {
   "codemirror_mode": {
    "name": "ipython",
    "version": 3
   },
   "file_extension": ".py",
   "mimetype": "text/x-python",
   "name": "python",
   "nbconvert_exporter": "python",
   "pygments_lexer": "ipython3",
   "version": "3.10.9"
  }
 },
 "nbformat": 4,
 "nbformat_minor": 5
}
