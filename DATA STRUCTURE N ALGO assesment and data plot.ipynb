{
 "cells": [
  {
   "cell_type": "code",
   "execution_count": 41,
   "id": "3c3539ee",
   "metadata": {},
   "outputs": [
    {
     "data": {
      "text/plain": [
       "'Your element that is 3 it is in 2 index positon'"
      ]
     },
     "execution_count": 41,
     "metadata": {},
     "output_type": "execute_result"
    }
   ],
   "source": [
    "# Linear search is an simple algorithm that search through each element by their index position\n",
    "# if the thing or value we wanna find is in that index and matches the given input we met it will\n",
    "#print out that index that is the position of that element\n",
    "def linear_search(arr, target):\n",
    "    for i in range(len(arr)):\n",
    "        if arr[i] == target:\n",
    "            return f'Your element that is {arr[i]} it is in {i} index positon'\n",
    "    return \"Sorry it is not found in a array data structure \"\n",
    "array=[2,5,3,4,6,1,7]\n",
    "linear_search(array,3)\n",
    "\n"
   ]
  },
  {
   "cell_type": "code",
   "execution_count": null,
   "id": "d0267d62",
   "metadata": {},
   "outputs": [],
   "source": [
    "#algorithm for linear search\n",
    "linear search algo it iterate throught each index pos checking if that index value matches the value\n",
    "we are looking for, it search in horizontol plane in uni direction at reverse as right side[:-1] or default from left side index[0:]\n",
    "step1>define a function with parameter of array, to find element .\n",
    "step2>setting a parameter For for loop setting it range as size of array len(arr)\n",
    "myfunc(array,to find):\n",
    "    create a for looop\n",
    "    here i, will be storing it index position\n",
    "    for i in range(len(arr)):\n",
    "        conditional statement\n",
    "        if array[i] == to find:\n",
    "            return index positon that matches the to find element\n",
    "step 3>calling out function\n",
    "array=[2,5,3,4,6,1,7]\n",
    "x=5\n",
    "myfunc(array,x)\n",
    "\n",
    "    \n"
   ]
  },
  {
   "cell_type": "code",
   "execution_count": null,
   "id": "54179a1e",
   "metadata": {},
   "outputs": [],
   "source": [
    "#extension of code for looking mulitple data type\n",
    "while True:\n",
    "    user=input(\"select which data type you wanna find string or integer: \")\n",
    "    if user=='string':\n",
    "        _user=str(input(\"enter a word>> \"))\n",
    "        array=[\"tassang\",'diwas sir',3,4,6,1,7]\n",
    "        print(linear_search(array,_user))\n",
    "        break\n",
    "    elif user=='integer':\n",
    "        _user=int(input(\"enter a number to find\"))\n",
    "        array=[\"tassang\",'diwas sir',3,4,6,1,7]\n",
    "        print(linear_search(array,_user))\n",
    "        break\n",
    "    else:\n",
    "        print(\"pls enter correct thing you wanna find...sir\")\n",
    "        user=input(\"select which data type you wanna find string or integer: \")\n",
    "        "
   ]
  },
  {
   "cell_type": "code",
   "execution_count": 4,
   "id": "c0d239bd",
   "metadata": {},
   "outputs": [],
   "source": [
    "#binary search tree\n",
    "# it divide until one element is left and checking it index pos value with element value if found loop ends\n",
    "#iterative search method\n",
    "def binary_search(arr,target):\n",
    "    low,high=0,len(arr)\n",
    "    while low<=high:\n",
    "        mid=(low+high)//2 # this will be in loop updating always with new value # update mid ,low and high\n",
    "        if arr[mid]==target: #if x matches mid value \n",
    "            return mid\n",
    "        elif arr[mid]<target: #if mid is less than x, tree will go left side for search\n",
    "            low=mid+1\n",
    "        elif arr[mid]>target: #mid is greater than x,tree will go right side for search\n",
    "            high=mid-1\n",
    "    return -1\n"
   ]
  },
  {
   "cell_type": "code",
   "execution_count": 40,
   "id": "b9253dbf",
   "metadata": {},
   "outputs": [
    {
     "name": "stdout",
     "output_type": "stream",
     "text": [
      "sorted list is used for binary search tree  [1, 2, 3, 4, 5, 6, 7, 8]\n",
      "enter a value to compare with mid value of array if it matches with mid \n",
      "it will print out if not it will keep compare and update till match is found with mid value>> 4\n",
      "\n",
      "element is present at index posi 3 and its value >>  4\n"
     ]
    }
   ],
   "source": [
    "#list1=[1,3,4,2,5,7,6,8]\n",
    "list1=[1,3,4,2,5,7,6,8]\n",
    "list1.sort()\n",
    "list2=[]\n",
    "for i in list1:\n",
    "    list2.append(i)\n",
    "    \n",
    "print(\"sorted list is used for binary search tree \",list2)\n",
    "x=int(input(\"enter a value to compare with mid value of array if it matches with mid \\nit will print out if not it will keep compare and update till match is found with mid value>> \"))\n",
    "index= binary_search(list1,x)\n",
    "if index==-1:\n",
    "    print('element is not present in the bst in list format')\n",
    "else:\n",
    "    print(f'\\nelement is present at index posi {index} and its value >>  {x}')"
   ]
  },
  {
   "cell_type": "code",
   "execution_count": null,
   "id": "3b3db1ed",
   "metadata": {},
   "outputs": [],
   "source": [
    "# algorithm for binary search tree\n",
    "# logic we follow for binary search tree is that there is root where left child must be less than root\n",
    "# and right child of root must be greater than root value and so on\n",
    "#where height of tree is determine by the extension of root and child note connection by edges that\n",
    "# that is pointer to the subtree and empty sub tree or desendant of root also nxt root with empty child\n",
    "# is called its leaf"
   ]
  },
  {
   "cell_type": "code",
   "execution_count": null,
   "id": "3c84cb9f",
   "metadata": {},
   "outputs": [],
   "source": [
    "step 0>define a function  myfunct(array,to find)\n",
    "step1 > creating a array a=[1,3,4,2,5,7,6,8] , to find x=5\n",
    "keeping a low and high value\n",
    "high is max size of array\n",
    "step 2>low =0 high=max size of array ;8\n",
    "*to find median or average or mid we can say is max size of array/2\n",
    "step 3 > mid=arraysize/2\n",
    "create a loop statement\n",
    "step 4> while low<high:\n",
    "    ; that is true so loop run\n",
    "*conditon inside loop\n",
    "*if that array index element matches the element value we looking for return that index\n",
    "step 5>if a[mid]==x:\n",
    "    return mid\n",
    "*it will search left updating mid,low,high if mid index element value is less than x\n",
    "step 6 elif a[mid]<x:\n",
    "    low=mid+1\n",
    "    \n",
    "*it will search right updating mid,low,high if mid index element value is greater than x\n",
    "step 7>elif a[mid]>x:\n",
    "    high=mid-1\n",
    "*if it that element is not present in the array either return false or -1 for breaking the loop\n",
    "step 8>while(conditon true or false):\n",
    "    checking all if not found\n",
    "    return -1\n",
    "step 9 > call out funciton \n",
    "a=[1,3,4,2,5,7,6,8]\n",
    "x=5\n",
    "\n",
    "myfunct(a,x)"
   ]
  },
  {
   "cell_type": "code",
   "execution_count": 15,
   "id": "a89c86a9",
   "metadata": {},
   "outputs": [
    {
     "data": {
      "text/plain": [
       "True"
      ]
     },
     "execution_count": 15,
     "metadata": {},
     "output_type": "execute_result"
    }
   ],
   "source": [
    "5<6"
   ]
  },
  {
   "cell_type": "code",
   "execution_count": 11,
   "id": "84d127ed",
   "metadata": {},
   "outputs": [],
   "source": [
    "def merge_sort(arr): # little confusing\n",
    "    if len(arr) <= 1:\n",
    "        return arr\n",
    "    mid = len(arr) // 2\n",
    "    left_half = merge_sort(arr[:mid])\n",
    "    right_half = merge_sort(arr[mid:])\n",
    "    return merge(left_half, right_half)\n",
    "\n",
    "def merge(left, right):\n",
    "    merged = []\n",
    "    while left and right:\n",
    "        if left[0] <= right[0]:\n",
    "            merged.append(left.pop(0))\n",
    "        else:\n",
    "            merged.append(right.pop(0))\n",
    "    merged.extend(left or right)\n",
    "    return merged\n"
   ]
  },
  {
   "cell_type": "code",
   "execution_count": 12,
   "id": "77f4c381",
   "metadata": {},
   "outputs": [
    {
     "data": {
      "text/plain": [
       "[1, 2, 3, 4, 6]"
      ]
     },
     "execution_count": 12,
     "metadata": {},
     "output_type": "execute_result"
    }
   ],
   "source": [
    "a=[3,1,2,4,6]\n",
    "merge_sort(a)"
   ]
  },
  {
   "cell_type": "code",
   "execution_count": 31,
   "id": "69544f7b",
   "metadata": {},
   "outputs": [],
   "source": [
    "# code functionality breakdown\n",
    "def merge_sort(arr):\n",
    "    if len(arr) <= 1:\n",
    "        return arr\n",
    "    mid = len(arr) // 2\n",
    "    left_half = merge_sort(arr[:mid])\n",
    "    right_half = merge_sort(arr[mid:])\n",
    "    print(left_half[0])\n",
    "    print()\n",
    "    print(right_half[0])"
   ]
  },
  {
   "cell_type": "code",
   "execution_count": 38,
   "id": "0a539396",
   "metadata": {},
   "outputs": [
    {
     "data": {
      "text/plain": [
       "[4, 6, 5]"
      ]
     },
     "execution_count": 38,
     "metadata": {},
     "output_type": "execute_result"
    }
   ],
   "source": [
    "a=[3,2,1,4,6,5]\n",
    "#merge_sort(a)\n",
    "#a[:3]\n",
    "a[3:]"
   ]
  },
  {
   "cell_type": "code",
   "execution_count": 26,
   "id": "c11249f1",
   "metadata": {},
   "outputs": [
    {
     "data": {
      "text/plain": [
       "6"
      ]
     },
     "execution_count": 26,
     "metadata": {},
     "output_type": "execute_result"
    }
   ],
   "source": [
    "a=[3,1,2,4,6,5]\n",
    "len(a)"
   ]
  },
  {
   "cell_type": "code",
   "execution_count": 28,
   "id": "f616091a",
   "metadata": {},
   "outputs": [
    {
     "data": {
      "text/plain": [
       "3"
      ]
     },
     "execution_count": 28,
     "metadata": {},
     "output_type": "execute_result"
    }
   ],
   "source": [
    "6//2"
   ]
  },
  {
   "cell_type": "code",
   "execution_count": 6,
   "id": "d8ae2e7c",
   "metadata": {},
   "outputs": [],
   "source": [
    "def quicksort(arr):\n",
    "    if len(arr)<=1: # if array is invalid or none\n",
    "        return arr\n",
    "    pivot=arr[len(arr)//2]\n",
    "    left=[less for less in arr if less<pivot] # left variable holds value less than arr[pivot] index value\n",
    "    middle=[same for same in arr if same==pivot] # if data on middle index equals pivot value \n",
    "    right=[greater for greater in arr if greater>pivot] # if right variable holds value greater than pivot\n",
    "    return quicksort(left)+middle+quicksort(right) # using recussion technique and combining all \n"
   ]
  },
  {
   "cell_type": "code",
   "execution_count": 7,
   "id": "2410067c",
   "metadata": {},
   "outputs": [
    {
     "data": {
      "text/plain": [
       "[1, 2, 3, 4, 5, 6]"
      ]
     },
     "execution_count": 7,
     "metadata": {},
     "output_type": "execute_result"
    }
   ],
   "source": [
    "a=[3,1,2,4,6,5]\n",
    "quicksort(a)"
   ]
  },
  {
   "cell_type": "code",
   "execution_count": 3,
   "id": "f9c42758",
   "metadata": {},
   "outputs": [
    {
     "data": {
      "text/plain": [
       "[1, 2, 3, 0, 4, 5, 6]"
      ]
     },
     "execution_count": 3,
     "metadata": {},
     "output_type": "execute_result"
    }
   ],
   "source": [
    "#breakdown\n",
    "# list element and list container can be concanated \n",
    "[1,2,3]+[0]+[4,5,6]"
   ]
  },
  {
   "cell_type": "code",
   "execution_count": null,
   "id": "bb4bf979",
   "metadata": {},
   "outputs": [],
   "source": [
    "#algorithm for quicksort\n",
    "\n",
    "Quick sort is also a divide-and-conquer algorithm. It works by selecting a 'pivot' element from the array \n",
    "and partitioning the other elements into two sub-arrays, according to whether they are less than or greater than the pivot.\n",
    "\n",
    "def name(parameter): step1\n",
    "    if len(parameter)<=1: step 2 setting a boundaries so invalid array wont be quick sorted, len function just tell the size of array\n",
    "        return arr #return just return stuff in user define functions\n",
    "    # assign variable to hold value\n",
    "    compare/pivot=array[len(array)//2] step3 taking a mid value for later on for comparing index value with pivot value, taking median is same as taking avg value\n",
    "    #using list comprehenssion method iterate with for loop and compare and store all in a list at a same time -step4\n",
    "    left=[elements for elements in arr if elements<pivot] # compare with less value than pivot for left variable step 5\n",
    "    middle=[elements for elements in arr if elements==pivot] # compare with same value as pivot for middle variable step 6\n",
    "    right=[elements for elements in arr if elements>pivot] # comparing with greater value greater than pivot value for right variable step 7\n",
    "    return quicksort(left)+middle+quicksort(right) # using recurssion funcition calling itself and adding compared value list together and returning output step-8\n",
    "    \n",
    "    \n",
    "    \n"
   ]
  },
  {
   "cell_type": "code",
   "execution_count": null,
   "id": "584b6307",
   "metadata": {},
   "outputs": [],
   "source": []
  },
  {
   "cell_type": "code",
   "execution_count": null,
   "id": "5ff5bce6",
   "metadata": {},
   "outputs": [],
   "source": []
  },
  {
   "cell_type": "code",
   "execution_count": 11,
   "id": "11e1e2aa",
   "metadata": {},
   "outputs": [],
   "source": [
    "# \n",
    "def merge_sort(arr):\n",
    "    if len(arr) <= 1:\n",
    "        return arr\n",
    "    mid = len(arr) // 2\n",
    "    left_half = merge_sort(arr[:mid])\n",
    "    right_half = merge_sort(arr[mid:])\n",
    "    return merge(left_half, right_half)\n",
    "# understood upto here\n",
    "\n",
    "def merge(left, right):\n",
    "    merged = []\n",
    "    while left and right:\n",
    "        if left[0] <= right[0]:\n",
    "            merged.append(left.pop(0))\n",
    "        else:\n",
    "            merged.append(right.pop(0))\n",
    "    merged.extend(left or right) # confused here\n",
    "    return merged\n"
   ]
  },
  {
   "cell_type": "code",
   "execution_count": 12,
   "id": "e4615658",
   "metadata": {},
   "outputs": [
    {
     "data": {
      "text/plain": [
       "[1, 2, 3, 4, 5, 6]"
      ]
     },
     "execution_count": 12,
     "metadata": {},
     "output_type": "execute_result"
    }
   ],
   "source": [
    "a=[3,1,2,4,6,5]\n",
    "merge_sort(a)"
   ]
  },
  {
   "cell_type": "code",
   "execution_count": 8,
   "id": "40b9b0e8",
   "metadata": {},
   "outputs": [],
   "source": [
    "#tkinter gui"
   ]
  },
  {
   "cell_type": "code",
   "execution_count": 39,
   "id": "5ac55be6",
   "metadata": {},
   "outputs": [
    {
     "ename": "KeyboardInterrupt",
     "evalue": "",
     "output_type": "error",
     "traceback": [
      "\u001b[1;31m---------------------------------------------------------------------------\u001b[0m",
      "\u001b[1;31mKeyboardInterrupt\u001b[0m                         Traceback (most recent call last)",
      "Cell \u001b[1;32mIn[39], line 5\u001b[0m\n\u001b[0;32m      3\u001b[0m window\u001b[38;5;241m.\u001b[39mtitle(\u001b[38;5;124m\"\u001b[39m\u001b[38;5;124mWelcome to our Python app\u001b[39m\u001b[38;5;124m\"\u001b[39m)  \u001b[38;5;66;03m# Setting window title\u001b[39;00m\n\u001b[0;32m      4\u001b[0m window\u001b[38;5;241m.\u001b[39mgeometry(\u001b[38;5;124m'\u001b[39m\u001b[38;5;124m350x200\u001b[39m\u001b[38;5;124m'\u001b[39m)  \u001b[38;5;66;03m# Setting window size\u001b[39;00m\n\u001b[1;32m----> 5\u001b[0m \u001b[43mwindow\u001b[49m\u001b[38;5;241;43m.\u001b[39;49m\u001b[43mmainloop\u001b[49m\u001b[43m(\u001b[49m\u001b[43m)\u001b[49m\n",
      "File \u001b[1;32m~\\anaconda3\\lib\\tkinter\\__init__.py:1458\u001b[0m, in \u001b[0;36mMisc.mainloop\u001b[1;34m(self, n)\u001b[0m\n\u001b[0;32m   1456\u001b[0m \u001b[38;5;28;01mdef\u001b[39;00m \u001b[38;5;21mmainloop\u001b[39m(\u001b[38;5;28mself\u001b[39m, n\u001b[38;5;241m=\u001b[39m\u001b[38;5;241m0\u001b[39m):\n\u001b[0;32m   1457\u001b[0m     \u001b[38;5;124;03m\"\"\"Call the mainloop of Tk.\"\"\"\u001b[39;00m\n\u001b[1;32m-> 1458\u001b[0m     \u001b[38;5;28;43mself\u001b[39;49m\u001b[38;5;241;43m.\u001b[39;49m\u001b[43mtk\u001b[49m\u001b[38;5;241;43m.\u001b[39;49m\u001b[43mmainloop\u001b[49m\u001b[43m(\u001b[49m\u001b[43mn\u001b[49m\u001b[43m)\u001b[49m\n",
      "\u001b[1;31mKeyboardInterrupt\u001b[0m: "
     ]
    }
   ],
   "source": [
    "# understood\n",
    "from tkinter import Tk #tkinter is used for making gui  it helps to keep event in loop and track user input as mouse click or keyboard press\n",
    "window = Tk()\n",
    "window.title(\"Welcome to our Python app\")  # Setting window title\n",
    "window.geometry('350x200')  # Setting window size\n",
    "window.mainloop()  # Entering main event loop\n"
   ]
  },
  {
   "cell_type": "code",
   "execution_count": 15,
   "id": "7a1d0189",
   "metadata": {},
   "outputs": [],
   "source": [
    "# did not understood welll  monday explanation a little bit sir plss\n",
    "from tkinter import Tk\n",
    "def submit():\n",
    "    window = Tk()\n",
    "    \n",
    "    \n",
    "    label(window, text=\"Name\").grid(row=0)\n",
    "    label(window, text=\"Email\").grid(row=1)\n",
    "    entry_name = entry(window)\n",
    "     print(f\"Name: {entry_name.get()}\\nEmail: {entry_email.get()}\")\n",
    "    entry_email = entry(window)\n",
    "    entry_name.grid(row=0, column=1)\n",
    "    entry_email.grid(row=1, column=1)\n",
    "   \n",
    "    Button(window, text='Submit', command=submit).grid(row=3, column=1)\n",
    "    window.mainloop()\n"
   ]
  },
  {
   "cell_type": "code",
   "execution_count": 16,
   "id": "2df69c38",
   "metadata": {},
   "outputs": [
    {
     "ename": "NameError",
     "evalue": "name 'label' is not defined",
     "output_type": "error",
     "traceback": [
      "\u001b[1;31m---------------------------------------------------------------------------\u001b[0m",
      "\u001b[1;31mNameError\u001b[0m                                 Traceback (most recent call last)",
      "Cell \u001b[1;32mIn[16], line 1\u001b[0m\n\u001b[1;32m----> 1\u001b[0m \u001b[43msubmit\u001b[49m\u001b[43m(\u001b[49m\u001b[43m)\u001b[49m\n",
      "Cell \u001b[1;32mIn[15], line 7\u001b[0m, in \u001b[0;36msubmit\u001b[1;34m()\u001b[0m\n\u001b[0;32m      3\u001b[0m \u001b[38;5;28;01mdef\u001b[39;00m \u001b[38;5;21msubmit\u001b[39m():\n\u001b[0;32m      4\u001b[0m     window \u001b[38;5;241m=\u001b[39m Tk()\n\u001b[1;32m----> 7\u001b[0m     \u001b[43mlabel\u001b[49m(window, text\u001b[38;5;241m=\u001b[39m\u001b[38;5;124m\"\u001b[39m\u001b[38;5;124mName\u001b[39m\u001b[38;5;124m\"\u001b[39m)\u001b[38;5;241m.\u001b[39mgrid(row\u001b[38;5;241m=\u001b[39m\u001b[38;5;241m0\u001b[39m)\n\u001b[0;32m      8\u001b[0m     label(window, text\u001b[38;5;241m=\u001b[39m\u001b[38;5;124m\"\u001b[39m\u001b[38;5;124mEmail\u001b[39m\u001b[38;5;124m\"\u001b[39m)\u001b[38;5;241m.\u001b[39mgrid(row\u001b[38;5;241m=\u001b[39m\u001b[38;5;241m1\u001b[39m)\n\u001b[0;32m      9\u001b[0m     entry_name \u001b[38;5;241m=\u001b[39m entry(window)\n",
      "\u001b[1;31mNameError\u001b[0m: name 'label' is not defined"
     ]
    }
   ],
   "source": [
    "submit()"
   ]
  },
  {
   "cell_type": "code",
   "execution_count": 17,
   "id": "ca7cfe67",
   "metadata": {},
   "outputs": [
    {
     "data": {
      "image/png": "[encoded data removed]",
      "text/plain": [
       "<Figure size 640x480 with 1 Axes>"
      ]
     },
     "metadata": {},
     "output_type": "display_data"
    }
   ],
   "source": [
    "import matplotlib.pyplot as plt\n",
    "x=['A','B','C','D','C']\n",
    "y=[3,2,4,56,7]\n",
    "plt.bar(x,y)\n",
    "plt.show()"
   ]
  },
  {
   "cell_type": "code",
   "execution_count": 18,
   "id": "cb47fd9e",
   "metadata": {},
   "outputs": [
    {
     "data": {
      "image/png": "[encoded data removed]",
      "text/plain": [
       "<Figure size 640x480 with 1 Axes>"
      ]
     },
     "metadata": {},
     "output_type": "display_data"
    }
   ],
   "source": [
    "import numpy as np\n",
    "data = np.random.randn(1000)\n",
    "plt.hist(data, bins=30)\n",
    "plt.show()"
   ]
  },
  {
   "cell_type": "code",
   "execution_count": 19,
   "id": "b1acee34",
   "metadata": {},
   "outputs": [
    {
     "data": {
      "image/png": "[encoded data removed]",
      "text/plain": [
       "<Figure size 640x480 with 1 Axes>"
      ]
     },
     "metadata": {},
     "output_type": "display_data"
    }
   ],
   "source": [
    "x=np.random.rand(50)\n",
    "y=np.random.rand(50)\n",
    "plt.scatter(x,y)\n",
    "plt.show()"
   ]
  },
  {
   "cell_type": "code",
   "execution_count": null,
   "id": "5dd0ce37",
   "metadata": {},
   "outputs": [],
   "source": []
  },
  {
   "cell_type": "code",
   "execution_count": null,
   "id": "32011a7f",
   "metadata": {},
   "outputs": [],
   "source": []
  },
  {
   "cell_type": "code",
   "execution_count": null,
   "id": "370c5c5e",
   "metadata": {},
   "outputs": [],
   "source": []
  },
  {
   "cell_type": "code",
   "execution_count": null,
   "id": "2302de24",
   "metadata": {},
   "outputs": [],
   "source": []
  },
  {
   "cell_type": "code",
   "execution_count": null,
   "id": "5d6c951f",
   "metadata": {},
   "outputs": [],
   "source": []
  }
 ],
 "metadata": {
  "kernelspec": {
   "display_name": "Python 3 (ipykernel)",
   "language": "python",
   "name": "python3"
  },
  "language_info": {
   "codemirror_mode": {
    "name": "ipython",
    "version": 3
   },
   "file_extension": ".py",
   "mimetype": "text/x-python",
   "name": "python",
   "nbconvert_exporter": "python",
   "pygments_lexer": "ipython3",
   "version": "3.10.9"
  }
 },
 "nbformat": 4,
 "nbformat_minor": 5
}
