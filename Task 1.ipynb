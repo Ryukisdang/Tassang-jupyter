{
 "cells": [
  {
   "cell_type": "code",
   "execution_count": 1,
   "id": "a72310c4",
   "metadata": {},
   "outputs": [
    {
     "name": "stdout",
     "output_type": "stream",
     "text": [
      "3.3\n",
      "0.4347826086956522\n",
      "-1.2999999999999998\n",
      "2.3\n"
     ]
    }
   ],
   "source": [
    "##create two variable with integers or float value then add,sub,multiply,divide and print result\n",
    "a = 1\n",
    "b = 2.3\n",
    "print(a+b)\n",
    "print(a/b)\n",
    "print(a-b)\n",
    "print(a*b)"
   ]
  },
  {
   "cell_type": "code",
   "execution_count": null,
   "id": "17240bd6",
   "metadata": {},
   "outputs": [],
   "source": []
  },
  {
   "cell_type": "raw",
   "id": "46b6b10e",
   "metadata": {},
   "source": []
  },
  {
   "cell_type": "code",
   "execution_count": 5,
   "id": "c47418ab",
   "metadata": {},
   "outputs": [
    {
     "name": "stdout",
     "output_type": "stream",
     "text": [
      "Tassang ('age: 34',)\n",
      "7\n"
     ]
    }
   ],
   "source": [
    "hage = \"Tassang\"\n",
    "tassang = \"age: 34\",\n",
    "print(hage,tassang)\n",
    "z = len(hage)\n",
    "print(z)"
   ]
  },
  {
   "cell_type": "code",
   "execution_count": null,
   "id": "191d1dde",
   "metadata": {},
   "outputs": [],
   "source": []
  },
  {
   "cell_type": "code",
   "execution_count": 6,
   "id": "947d967e",
   "metadata": {},
   "outputs": [],
   "source": []
  },
  {
   "cell_type": "code",
   "execution_count": 9,
   "id": "4d073071",
   "metadata": {},
   "outputs": [],
   "source": [
    "#create a string and print it lenght\n",
    "str1 = \"hage\"\n",
    "str2 = \"324\""
   ]
  },
  {
   "cell_type": "code",
   "execution_count": 11,
   "id": "da8cf53e",
   "metadata": {},
   "outputs": [
    {
     "name": "stdout",
     "output_type": "stream",
     "text": [
      "4\n",
      "3\n"
     ]
    }
   ],
   "source": [
    "print(len(str1))\n",
    "print(len(str2))"
   ]
  },
  {
   "cell_type": "code",
   "execution_count": 12,
   "id": "51cbee4c",
   "metadata": {},
   "outputs": [
    {
     "ename": "NameError",
     "evalue": "name 'width' is not defined",
     "output_type": "error",
     "traceback": [
      "\u001b[1;31m---------------------------------------------------------------------------\u001b[0m",
      "\u001b[1;31mNameError\u001b[0m                                 Traceback (most recent call last)",
      "Cell \u001b[1;32mIn[12], line 1\u001b[0m\n\u001b[1;32m----> 1\u001b[0m \u001b[38;5;28mprint\u001b[39m(\u001b[38;5;124m'\u001b[39m\u001b[38;5;124marea of rectangle:\u001b[39m\u001b[38;5;124m'\u001b[39m, \u001b[43mwidth\u001b[49m \u001b[38;5;241m+\u001b[39m height)\n",
      "\u001b[1;31mNameError\u001b[0m: name 'width' is not defined"
     ]
    }
   ],
   "source": [
    "\n",
    "print('area of rectangle:', width + height)\n"
   ]
  },
  {
   "cell_type": "code",
   "execution_count": null,
   "id": "07baef0b",
   "metadata": {},
   "outputs": [],
   "source": []
  },
  {
   "cell_type": "code",
   "execution_count": null,
   "id": "4ed370fd",
   "metadata": {},
   "outputs": [],
   "source": [
    "\n"
   ]
  },
  {
   "cell_type": "code",
   "execution_count": 13,
   "id": "d8937428",
   "metadata": {},
   "outputs": [
    {
     "ename": "NameError",
     "evalue": "name 'width' is not defined",
     "output_type": "error",
     "traceback": [
      "\u001b[1;31m---------------------------------------------------------------------------\u001b[0m",
      "\u001b[1;31mNameError\u001b[0m                                 Traceback (most recent call last)",
      "Cell \u001b[1;32mIn[13], line 2\u001b[0m\n\u001b[0;32m      1\u001b[0m \u001b[38;5;66;03m#calculate area of rectangle width 10 And length \u001b[39;00m\n\u001b[1;32m----> 2\u001b[0m area_of_rectangle \u001b[38;5;241m=\u001b[39m \u001b[43mwidth\u001b[49m \u001b[38;5;241m+\u001b[39m height\n\u001b[0;32m      3\u001b[0m width \u001b[38;5;241m=\u001b[39m \u001b[38;5;241m10\u001b[39m\n\u001b[0;32m      4\u001b[0m height \u001b[38;5;241m=\u001b[39m \u001b[38;5;241m20\u001b[39m\n",
      "\u001b[1;31mNameError\u001b[0m: name 'width' is not defined"
     ]
    }
   ],
   "source": [
    "#calculate area of rectangle width 10 And length \n",
    "area_of_rectangle = width + height\n",
    "width = 10\n",
    "height = 20\n",
    "print(width*height)\n"
   ]
  },
  {
   "cell_type": "code",
   "execution_count": 14,
   "id": "c85642e3",
   "metadata": {},
   "outputs": [
    {
     "ename": "SyntaxError",
     "evalue": "invalid syntax (3794051166.py, line 3)",
     "output_type": "error",
     "traceback": [
      "\u001b[1;36m  Cell \u001b[1;32mIn[14], line 3\u001b[1;36m\u001b[0m\n\u001b[1;33m    area=width*height.\u001b[0m\n\u001b[1;37m                      ^\u001b[0m\n\u001b[1;31mSyntaxError\u001b[0m\u001b[1;31m:\u001b[0m invalid syntax\n"
     ]
    }
   ],
   "source": [
    "width=10.\n",
    "height=20.\n",
    "area=width*height.\n",
    "print(\"Area of rectangle=\"+str(area))"
   ]
  },
  {
   "cell_type": "code",
   "execution_count": 15,
   "id": "928bea7a",
   "metadata": {},
   "outputs": [
    {
     "ename": "SyntaxError",
     "evalue": "invalid syntax (367244154.py, line 3)",
     "output_type": "error",
     "traceback": [
      "\u001b[1;36m  Cell \u001b[1;32mIn[15], line 3\u001b[1;36m\u001b[0m\n\u001b[1;33m    area=width*height.\u001b[0m\n\u001b[1;37m                      ^\u001b[0m\n\u001b[1;31mSyntaxError\u001b[0m\u001b[1;31m:\u001b[0m invalid syntax\n"
     ]
    }
   ],
   "source": [
    "width=10.\n",
    "height=20.\n",
    "area=width*height.\n",
    "print(\"Area of rectangle=\"+int(area))"
   ]
  },
  {
   "cell_type": "code",
   "execution_count": 16,
   "id": "47ec91de",
   "metadata": {},
   "outputs": [
    {
     "ename": "TypeError",
     "evalue": "can only concatenate str (not \"int\") to str",
     "output_type": "error",
     "traceback": [
      "\u001b[1;31m---------------------------------------------------------------------------\u001b[0m",
      "\u001b[1;31mTypeError\u001b[0m                                 Traceback (most recent call last)",
      "Cell \u001b[1;32mIn[16], line 4\u001b[0m\n\u001b[0;32m      2\u001b[0m height\u001b[38;5;241m=\u001b[39m\u001b[38;5;241m20.\u001b[39m\n\u001b[0;32m      3\u001b[0m area\u001b[38;5;241m=\u001b[39m width \u001b[38;5;241m*\u001b[39m height\n\u001b[1;32m----> 4\u001b[0m \u001b[38;5;28mprint\u001b[39m(\u001b[38;5;124;43m\"\u001b[39;49m\u001b[38;5;124;43mArea of rectangle=\u001b[39;49m\u001b[38;5;124;43m\"\u001b[39;49m\u001b[38;5;241;43m+\u001b[39;49m\u001b[38;5;28;43mint\u001b[39;49m\u001b[43m(\u001b[49m\u001b[43marea\u001b[49m\u001b[43m)\u001b[49m)\n",
      "\u001b[1;31mTypeError\u001b[0m: can only concatenate str (not \"int\") to str"
     ]
    }
   ],
   "source": [
    "width=10.\n",
    "height=20.\n",
    "area= width * height\n",
    "print(\"Area of rectangle=\"+int(area))"
   ]
  },
  {
   "cell_type": "code",
   "execution_count": 17,
   "id": "014dd2d0",
   "metadata": {},
   "outputs": [
    {
     "ename": "TypeError",
     "evalue": "can only concatenate str (not \"int\") to str",
     "output_type": "error",
     "traceback": [
      "\u001b[1;31m---------------------------------------------------------------------------\u001b[0m",
      "\u001b[1;31mTypeError\u001b[0m                                 Traceback (most recent call last)",
      "Cell \u001b[1;32mIn[17], line 4\u001b[0m\n\u001b[0;32m      2\u001b[0m height\u001b[38;5;241m=\u001b[39m\u001b[38;5;241m20.\u001b[39m\n\u001b[0;32m      3\u001b[0m area\u001b[38;5;241m=\u001b[39m width \u001b[38;5;241m*\u001b[39m height\n\u001b[1;32m----> 4\u001b[0m \u001b[38;5;28mprint\u001b[39m(\u001b[38;5;124;43m\"\u001b[39;49m\u001b[38;5;124;43mArea of rectangle=\u001b[39;49m\u001b[38;5;124;43m\"\u001b[39;49m\u001b[38;5;241;43m+\u001b[39;49m\u001b[38;5;28;43mint\u001b[39;49m\u001b[43m(\u001b[49m\u001b[43marea\u001b[49m\u001b[43m)\u001b[49m)\n",
      "\u001b[1;31mTypeError\u001b[0m: can only concatenate str (not \"int\") to str"
     ]
    }
   ],
   "source": [
    "width=10.\n",
    "height=20.\n",
    "area= width * height\n",
    "print(\"Area of rectangle=\"+int(area))"
   ]
  },
  {
   "cell_type": "code",
   "execution_count": 18,
   "id": "a53db148",
   "metadata": {},
   "outputs": [
    {
     "name": "stdout",
     "output_type": "stream",
     "text": [
      "Area of rectangle=200.0\n"
     ]
    }
   ],
   "source": [
    "width=10.\n",
    "height=20.\n",
    "area= width * height\n",
    "print(\"Area of rectangle=\"+str(area))"
   ]
  },
  {
   "cell_type": "code",
   "execution_count": 19,
   "id": "82e5bb73",
   "metadata": {},
   "outputs": [
    {
     "name": "stdout",
     "output_type": "stream",
     "text": [
      "Area of rectangle=200.0\n"
     ]
    }
   ],
   "source": [
    "width=10.\n",
    "height=20.\n",
    "area= width * height\n",
    "print(\"Area of rectangle=\"+str(area))"
   ]
  },
  {
   "cell_type": "code",
   "execution_count": null,
   "id": "f2da09cd",
   "metadata": {},
   "outputs": [],
   "source": []
  }
 ],
 "metadata": {
  "kernelspec": {
   "display_name": "Python 3 (ipykernel)",
   "language": "python",
   "name": "python3"
  },
  "language_info": {
   "codemirror_mode": {
    "name": "ipython",
    "version": 3
   },
   "file_extension": ".py",
   "mimetype": "text/x-python",
   "name": "python",
   "nbconvert_exporter": "python",
   "pygments_lexer": "ipython3",
   "version": "3.10.9"
  }
 },
 "nbformat": 4,
 "nbformat_minor": 5
}
