{
 "cells": [
  {
   "cell_type": "code",
   "execution_count": 4,
   "id": "0406ea16",
   "metadata": {},
   "outputs": [
    {
     "name": "stdout",
     "output_type": "stream",
     "text": [
      "concatenated strings:  hage tassang is not a name its a brand\n"
     ]
    }
   ],
   "source": [
    "#Concatenate two strings and find the length of the concatenated string\n",
    "string1=\"hage tassang is \"\n",
    "string2= \"not a name its a brand\"\n",
    "added_strings= string1 + string2\n",
    "print('concatenated strings: ',added_strings)"
   ]
  },
  {
   "cell_type": "code",
   "execution_count": 11,
   "id": "d6518a46",
   "metadata": {},
   "outputs": [
    {
     "name": "stdout",
     "output_type": "stream",
     "text": [
      "value of given key is  2\n"
     ]
    }
   ],
   "source": [
    "#Use a dictionary to store the following key-value pairs: {\"A\": 1, \"B\": 2, \"C\": 3}. Retrieve the value associated with the key \"B\".\n",
    "dic = {\"A\":1,\"B\":2,\"C\":3}\n",
    "val= dic.get(\"B\")\n",
    "print(\"value of given key is \",val)"
   ]
  },
  {
   "cell_type": "code",
   "execution_count": 10,
   "id": "2f4e6b11",
   "metadata": {},
   "outputs": [
    {
     "name": "stdout",
     "output_type": "stream",
     "text": [
      "16\n"
     ]
    }
   ],
   "source": [
    "#Find the index of a specific character in a string\n",
    "char = \"pagal hai dimag jadu hein universe ke pas\"\n",
    "find = char.find(\"jadu\")\n",
    "print(find)"
   ]
  },
  {
   "cell_type": "code",
   "execution_count": 12,
   "id": "5dac68dc",
   "metadata": {},
   "outputs": [
    {
     "name": "stdout",
     "output_type": "stream",
     "text": [
      "len of my tup is  5\n"
     ]
    }
   ],
   "source": [
    "#Create a tuple with the following elements: 1, 4, 9, 16, 25. Find the length of the tuple.\n",
    "my_tuple = (1, 4, 9, 16, 25)\n",
    "length_of_tup = len(my_tuple)\n",
    "print(\"len of my tup is \", length_of_tup)"
   ]
  },
  {
   "cell_type": "code",
   "execution_count": 13,
   "id": "35987d91",
   "metadata": {},
   "outputs": [
    {
     "name": "stdout",
     "output_type": "stream",
     "text": [
      "Length of the set: 5\n"
     ]
    }
   ],
   "source": [
    "#Create a set with the following elements: 1, 2, 3, 4, 5, 2, 3, 4. Find the length of the set.\n",
    "my_set = {1, 2, 3, 4, 5, 2, 3, 4}\n",
    "length = len(my_set)\n",
    "print(\"Length of the set:\", length)\n"
   ]
  },
  {
   "cell_type": "code",
   "execution_count": 16,
   "id": "1f411269",
   "metadata": {},
   "outputs": [
    {
     "name": "stdout",
     "output_type": "stream",
     "text": [
      "Is 'madam' a palindrome? False\n",
      "Is 'cat' a palindrome? False\n"
     ]
    }
   ],
   "source": [
    "#Check if a given string is a palindrome or not.\n",
    "input_string = \"madam\"\n",
    "meow = \"cat\"\n",
    "is_palindrome = input_string.lower() == input_string.lower()[::-1]\n",
    "is_palindrome = meow.lower() == meow.lower()[::-1]\n",
    "print(f\"Is '{input_string}' a palindrome? {is_palindrome}\")\n",
    "print(f\"Is '{meow}' a palindrome? {is_palindrome}\")\n"
   ]
  },
  {
   "cell_type": "code",
   "execution_count": 18,
   "id": "d41d59f7",
   "metadata": {},
   "outputs": [
    {
     "name": "stdout",
     "output_type": "stream",
     "text": [
      "Maximum value: 9\n",
      "Minimum value: 1\n"
     ]
    }
   ],
   "source": [
    "#Find the maximum and minimum values in a list.\n",
    "my_list = [4, 6, 2, 9, 1, 3]\n",
    "max_value = max(my_list)\n",
    "min_value = min(my_list)\n",
    "print(\"Maximum value:\", max_value)\n",
    "print(\"Minimum value:\", min_value)\n"
   ]
  },
  {
   "cell_type": "code",
   "execution_count": 19,
   "id": "9777ad00",
   "metadata": {},
   "outputs": [
    {
     "name": "stdout",
     "output_type": "stream",
     "text": [
      "String with 'a' replaced by 'A': Python is An eAsy-to-leArn And powerful progrAmming lAnguAge\n"
     ]
    }
   ],
   "source": [
    "#Replace a specific character in a string\n",
    "input_string = \"Python is an easy-to-learn and powerful programming language\"\n",
    "character_to_replace = \"a\"\n",
    "replacement = \"A\"\n",
    "new_string = input_string.replace(character_to_replace, replacement)\n",
    "print(f\"String with '{character_to_replace}' replaced by '{replacement}': {new_string}\")\n"
   ]
  },
  {
   "cell_type": "code",
   "execution_count": 22,
   "id": "50797325",
   "metadata": {},
   "outputs": [
    {
     "name": "stdout",
     "output_type": "stream",
     "text": [
      "Merged dictionary: {'A': 1, 'B': 2, 'C': 3, 'D': 4, 'E': 5, 'F': 6}\n"
     ]
    }
   ],
   "source": [
    "# Exercise: Merge two dictionaries.\n",
    "dict1 = {\"A\": 1, \"B\": 2, \"C\": 3}\n",
    "dict2 = {\"D\": 4, \"E\": 5, \"F\": 6}\n",
    "merged_dict = {**dict1, **dict2}\n",
    "print(\"Merged dictionary:\", merged_dict)\n"
   ]
  },
  {
   "cell_type": "code",
   "execution_count": 24,
   "id": "4924765d",
   "metadata": {},
   "outputs": [
    {
     "name": "stdout",
     "output_type": "stream",
     "text": [
      "Does value 9 exist in the tuple? True\n"
     ]
    }
   ],
   "source": [
    "#Check if a given value exists in a tuple.\n",
    "my_tuple = (1, 4, 9, 16, 25)\n",
    "value_to_check = 9\n",
    "value_exists = value_to_check in my_tuple\n",
    "print(f\"Does value {value_to_check} exist in the tuple? {value_exists}\")\n"
   ]
  },
  {
   "cell_type": "code",
   "execution_count": 28,
   "id": "43c531fc",
   "metadata": {},
   "outputs": [
    {
     "name": "stdout",
     "output_type": "stream",
     "text": [
      "Set without duplicates: {1, 2, 3, 4, 5}\n"
     ]
    }
   ],
   "source": [
    "#Remove duplicates from a list and create a new set.\n",
    "my_list = [1, 2, 3, 4, 5, 2, 3, 4]\n",
    "unique_set = set(my_list)\n",
    "print(\"Set without duplicates:\", unique_set)\n",
    "\n"
   ]
  },
  {
   "cell_type": "code",
   "execution_count": null,
   "id": "cb686322",
   "metadata": {},
   "outputs": [],
   "source": []
  },
  {
   "cell_type": "code",
   "execution_count": null,
   "id": "c799473c",
   "metadata": {},
   "outputs": [],
   "source": []
  }
 ],
 "metadata": {
  "kernelspec": {
   "display_name": "Python 3 (ipykernel)",
   "language": "python",
   "name": "python3"
  },
  "language_info": {
   "codemirror_mode": {
    "name": "ipython",
    "version": 3
   },
   "file_extension": ".py",
   "mimetype": "text/x-python",
   "name": "python",
   "nbconvert_exporter": "python",
   "pygments_lexer": "ipython3",
   "version": "3.10.9"
  }
 },
 "nbformat": 4,
 "nbformat_minor": 5
}
