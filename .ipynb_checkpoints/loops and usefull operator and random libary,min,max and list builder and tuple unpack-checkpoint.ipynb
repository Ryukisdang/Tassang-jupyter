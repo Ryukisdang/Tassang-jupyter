{
 "cells": [
  {
   "cell_type": "code",
   "execution_count": 13,
   "id": "ff04c375",
   "metadata": {},
   "outputs": [
    {
     "name": "stdout",
     "output_type": "stream",
     "text": [
      "2\n",
      "4\n",
      "6\n",
      "8\n",
      "10\n",
      "Odd no. is 10\n"
     ]
    }
   ],
   "source": [
    "#Statement and condition\n",
    "#if, elif and else\n",
    "name = [1,2,3,4,5,6,7,8,9,10]\n",
    "for i in name:\n",
    "    if i%2==0:\n",
    "        print(i)\n",
    "else:\n",
    "    print(f'Odd no. is {i}')"
   ]
  },
  {
   "cell_type": "code",
   "execution_count": 10,
   "id": "2779049a",
   "metadata": {},
   "outputs": [
    {
     "name": "stdout",
     "output_type": "stream",
     "text": [
      "H\n",
      "e\n",
      "l\n",
      "l\n",
      "o\n",
      " \n",
      "w\n",
      "o\n",
      "r\n",
      "l\n",
      "d\n"
     ]
    }
   ],
   "source": [
    "#iterate over string\n",
    "mystring =\"Hello world\"\n",
    "for letter in mystring:\n",
    "    print(letter)"
   ]
  },
  {
   "cell_type": "code",
   "execution_count": 12,
   "id": "faf0b0d1",
   "metadata": {},
   "outputs": [
    {
     "name": "stdout",
     "output_type": "stream",
     "text": [
      "['tHello world']\n",
      "['tHello world']\n",
      "['tHello world']\n",
      "['tHello world']\n",
      "['tHello world']\n",
      "['tHello world']\n",
      "['tHello world']\n"
     ]
    }
   ],
   "source": [
    "#forloop without variable \n",
    "for _ in \"Tassang\":\n",
    "    print([\"tHello world\"])"
   ]
  },
  {
   "cell_type": "code",
   "execution_count": null,
   "id": "f177e1cf",
   "metadata": {},
   "outputs": [],
   "source": [
    "myno = [1,2,3,4,5]\n",
    "empy= 0\n",
    "for i in myno range(10(len(myno))):\n",
    "    no = myno + empy\n",
    "    i = no\n",
    "    print(i)\n",
    "    "
   ]
  },
  {
   "cell_type": "code",
   "execution_count": 17,
   "id": "bb673323",
   "metadata": {},
   "outputs": [
    {
     "name": "stdout",
     "output_type": "stream",
     "text": [
      "\n",
      "12\n",
      "\n",
      "2\n",
      "\n",
      "5\n"
     ]
    }
   ],
   "source": [
    "#tuple unpacking\n",
    "mytup = [(24,12),(1,2),(4,5)]\n",
    "for a,b in mytup:\n",
    "    print()\n",
    "    print(b)\n"
   ]
  },
  {
   "cell_type": "code",
   "execution_count": 19,
   "id": "56e85128",
   "metadata": {},
   "outputs": [
    {
     "name": "stdout",
     "output_type": "stream",
     "text": [
      "24\n",
      "12\n",
      "23\n",
      "1\n",
      "2\n",
      "435\n",
      "4\n",
      "5\n",
      "3\n"
     ]
    }
   ],
   "source": [
    "mytup = [(24,12,23),(1,2,435),(4,5,3)]\n",
    "for a,b,c in mytup:\n",
    "    print(a)\n",
    "    print(b)\n",
    "    print(c)"
   ]
  },
  {
   "cell_type": "code",
   "execution_count": 28,
   "id": "84efefde",
   "metadata": {},
   "outputs": [
    {
     "name": "stdout",
     "output_type": "stream",
     "text": [
      "a\n",
      "dict_values([1, 2, 3])\n",
      "b\n",
      "dict_values([1, 2, 3])\n",
      "c\n",
      "dict_values([1, 2, 3])\n"
     ]
    }
   ],
   "source": [
    "# for loop in dictionary\n",
    "d = {'a':1,'b':2,'c':3}\n",
    "for item in d.keys():\n",
    "    print(item)\n",
    "    print(d.values())"
   ]
  },
  {
   "cell_type": "code",
   "execution_count": 1,
   "id": "83dfb41f",
   "metadata": {},
   "outputs": [],
   "source": [
    "# WHILE LOOPS IN PYTHON\n"
   ]
  },
  {
   "cell_type": "code",
   "execution_count": 2,
   "id": "195a7144",
   "metadata": {},
   "outputs": [],
   "source": [
    "#while boolean_Condition:\n",
    "#do something\n",
    "  #  false:\n",
    "    #    do something else\n",
    "    "
   ]
  },
  {
   "cell_type": "code",
   "execution_count": 6,
   "id": "bce1aaa3",
   "metadata": {},
   "outputs": [
    {
     "name": "stdout",
     "output_type": "stream",
     "text": [
      "The current value of x is 0\n",
      "The current value of x is 1\n",
      "The current value of x is 2\n",
      "The current value of x is 3\n",
      "The current value of x is 4\n"
     ]
    }
   ],
   "source": [
    "x=0\n",
    "while x<5:\n",
    "    print(f'The current value of x is {x}')\n",
    "          #x+=1\n",
    "    x = x+1"
   ]
  },
  {
   "cell_type": "code",
   "execution_count": 7,
   "id": "e4cb0606",
   "metadata": {},
   "outputs": [
    {
     "name": "stdout",
     "output_type": "stream",
     "text": [
      "x is greater than 5\n"
     ]
    }
   ],
   "source": [
    "x=50\n",
    "while x<5:\n",
    "    print(f'The current value of x is {x}')\n",
    "          #x+=1\n",
    "    x = x+1\n",
    "else:\n",
    "    print(\"x is greater than 5\")"
   ]
  },
  {
   "cell_type": "code",
   "execution_count": 8,
   "id": "12fc725d",
   "metadata": {},
   "outputs": [],
   "source": [
    "#BREAK,CONTINUE,PASS\n"
   ]
  },
  {
   "cell_type": "code",
   "execution_count": 14,
   "id": "992b0c61",
   "metadata": {},
   "outputs": [],
   "source": [
    "#Break: breaks out of the closest enclosing group\n",
    "#Continue: Goes to the top of enclosing group\n",
    "#Pass: does nothing used as place holder"
   ]
  },
  {
   "cell_type": "code",
   "execution_count": 18,
   "id": "c97165a6",
   "metadata": {},
   "outputs": [
    {
     "name": "stdout",
     "output_type": "stream",
     "text": [
      "this is place holder\n"
     ]
    }
   ],
   "source": [
    "x= [1,2,3]\n",
    "for item in x:\n",
    "    pass\n",
    "print(\"this is place holder\")"
   ]
  },
  {
   "cell_type": "code",
   "execution_count": 25,
   "id": "ad27d8be",
   "metadata": {},
   "outputs": [
    {
     "name": "stdout",
     "output_type": "stream",
     "text": [
      "A\n",
      "p\n",
      "r\n"
     ]
    }
   ],
   "source": [
    "my_string = 'April'\n",
    "for letter in my_string:\n",
    "    if letter == 'i':\n",
    "        break\n",
    "    print(letter)"
   ]
  },
  {
   "cell_type": "code",
   "execution_count": 72,
   "id": "50d553dc",
   "metadata": {},
   "outputs": [
    {
     "name": "stdout",
     "output_type": "stream",
     "text": [
      "h\n",
      "A\n",
      "a\n",
      "work done\n"
     ]
    }
   ],
   "source": [
    "x = \"hage tassang\"\n",
    "for name in x:\n",
    "    if name == \"a\":\n",
    "        print(name.upper())\n",
    "    elif name == \"e\":\n",
    "        print(name, x.count('a'))\n",
    "        continue  \n",
    "    elif name == 'g':\n",
    "        break\n",
    "    print(name)\n",
    "print(\"work done\")\n",
    "\n",
    "    \n",
    "    ##my tries"
   ]
  },
  {
   "cell_type": "code",
   "execution_count": 70,
   "id": "904f865e",
   "metadata": {},
   "outputs": [
    {
     "name": "stdout",
     "output_type": "stream",
     "text": [
      " \n",
      "D\n",
      "A\n",
      "N\n",
      "N\n",
      "Y\n"
     ]
    }
   ],
   "source": [
    "name =' DaNny'\n",
    "for n in name:\n",
    "    if x == 'N':\n",
    "        break\n",
    "    print(n.upper())\n",
    "        "
   ]
  },
  {
   "cell_type": "code",
   "execution_count": 74,
   "id": "fd4e5205",
   "metadata": {},
   "outputs": [
    {
     "name": "stdout",
     "output_type": "stream",
     "text": [
      "[6, 4, 8, 3, 7, 1, 5, 2]\n"
     ]
    }
   ],
   "source": [
    "#Random libary\n",
    "from random import shuffle\n",
    "mylist = [1,2,3,4,5,6,7,8]\n",
    "shuffle(mylist)\n",
    "rdl = mylist\n",
    "print(rdl)"
   ]
  },
  {
   "cell_type": "code",
   "execution_count": 75,
   "id": "d22cac5e",
   "metadata": {},
   "outputs": [
    {
     "data": {
      "text/plain": [
       "list"
      ]
     },
     "execution_count": 75,
     "metadata": {},
     "output_type": "execute_result"
    }
   ],
   "source": [
    "type(rdl)"
   ]
  },
  {
   "cell_type": "code",
   "execution_count": 82,
   "id": "806657fe",
   "metadata": {
    "scrolled": true
   },
   "outputs": [
    {
     "name": "stdout",
     "output_type": "stream",
     "text": [
      "             CALCULATOR TO ADD TWO GIVEN NO>               \n",
      "\n",
      "\n",
      "Enter first no: 123\n",
      "Enter second no: 123\n",
      "Addition of your two given no:  246.0\n"
     ]
    }
   ],
   "source": [
    "print(\"             CALCULATOR TO ADD TWO GIVEN NO>               \")\n",
    "print(\"\\n\")\n",
    "number = float(input(\"Enter first no: \"))\n",
    "number2 = float(input(\"Enter second no: \"))\n",
    "x = number+number2\n",
    "print(\"Addition of your two given no: \",x)"
   ]
  },
  {
   "cell_type": "code",
   "execution_count": 86,
   "id": "e0394fbc",
   "metadata": {},
   "outputs": [
    {
     "name": "stdout",
     "output_type": "stream",
     "text": [
      "[1, 9, 1, 9, 1, 9, 1, 9]\n"
     ]
    }
   ],
   "source": [
    "## Use min max and store it value and make a list out of 1 and 9 sequence upto 4 times as final output\n",
    "#ANSWER\n",
    "l1 = [1,2,3,4,5,6,7,8,9]\n",
    "l2 = [1,2,3,4,5,6,7,8,9]\n",
    "l3 = [1,2,3,4,5,6,7,8,9]\n",
    "l4 = [1,2,3,4,5,6,7,8,9]\n",
    "result = min(l1),max(l1),min(l2),max(l2),min(l3),max(l3),min(l4),max(l4)\n",
    "print(list(result))"
   ]
  },
  {
   "cell_type": "code",
   "execution_count": 87,
   "id": "df467981",
   "metadata": {},
   "outputs": [
    {
     "name": "stdout",
     "output_type": "stream",
     "text": [
      "This is your index value: 0  that holds this letter in that pos: a\n",
      "This is your index value: 1  that holds this letter in that pos: b\n",
      "This is your index value: 2  that holds this letter in that pos: c\n",
      "This is your index value: 3  that holds this letter in that pos: d\n",
      "This is your index value: 4  that holds this letter in that pos: e\n"
     ]
    }
   ],
   "source": [
    "counter = 0\n",
    "for words in \"abcde\":\n",
    "    print(\"This is your index value: {}  that holds this letter in that pos: {}\".format(counter,words))\n",
    "    counter += 1"
   ]
  },
  {
   "cell_type": "code",
   "execution_count": null,
   "id": "b76545b4",
   "metadata": {},
   "outputs": [],
   "source": []
  }
 ],
 "metadata": {
  "kernelspec": {
   "display_name": "Python 3 (ipykernel)",
   "language": "python",
   "name": "python3"
  },
  "language_info": {
   "codemirror_mode": {
    "name": "ipython",
    "version": 3
   },
   "file_extension": ".py",
   "mimetype": "text/x-python",
   "name": "python",
   "nbconvert_exporter": "python",
   "pygments_lexer": "ipython3",
   "version": "3.10.9"
  }
 },
 "nbformat": 4,
 "nbformat_minor": 5
}
