{
 "cells": [
  {
   "cell_type": "code",
   "execution_count": 2,
   "id": "49d8ddbd",
   "metadata": {},
   "outputs": [
    {
     "ename": "SyntaxError",
     "evalue": "invalid syntax (2580414357.py, line 1)",
     "output_type": "error",
     "traceback": [
      "\u001b[1;36m  Cell \u001b[1;32mIn[2], line 1\u001b[1;36m\u001b[0m\n\u001b[1;33m    x = ' i am hero 'x\u001b[0m\n\u001b[1;37m                     ^\u001b[0m\n\u001b[1;31mSyntaxError\u001b[0m\u001b[1;31m:\u001b[0m invalid syntax\n"
     ]
    }
   ],
   "source": [
    "x = ' i am hero '\n"
   ]
  },
  {
   "cell_type": "code",
   "execution_count": 3,
   "id": "cfa92582",
   "metadata": {},
   "outputs": [
    {
     "name": "stdout",
     "output_type": "stream",
     "text": [
      " i am hero \n"
     ]
    }
   ],
   "source": [
    "print(x)"
   ]
  },
  {
   "cell_type": "code",
   "execution_count": 4,
   "id": "9381471b",
   "metadata": {},
   "outputs": [
    {
     "data": {
      "text/plain": [
       "str"
      ]
     },
     "execution_count": 4,
     "metadata": {},
     "output_type": "execute_result"
    }
   ],
   "source": [
    "type(x)"
   ]
  },
  {
   "cell_type": "code",
   "execution_count": 5,
   "id": "bfb186bc",
   "metadata": {},
   "outputs": [
    {
     "data": {
      "text/plain": [
       "' i am dave i am hero '"
      ]
     },
     "execution_count": 5,
     "metadata": {},
     "output_type": "execute_result"
    }
   ],
   "source": [
    "' i am dave' + x"
   ]
  },
  {
   "cell_type": "code",
   "execution_count": 6,
   "id": "817e2fa2",
   "metadata": {},
   "outputs": [],
   "source": [
    "letter_are = 'uasf35325'\n"
   ]
  },
  {
   "cell_type": "code",
   "execution_count": 7,
   "id": "5e007c53",
   "metadata": {},
   "outputs": [
    {
     "data": {
      "text/plain": [
       "'UASF35325'"
      ]
     },
     "execution_count": 7,
     "metadata": {},
     "output_type": "execute_result"
    }
   ],
   "source": [
    "letter_are.upper()"
   ]
  },
  {
   "cell_type": "code",
   "execution_count": 8,
   "id": "45788800",
   "metadata": {},
   "outputs": [
    {
     "data": {
      "text/plain": [
       "'uasf35325uasf35325uasf35325uasf35325uasf35325uasf35325uasf35325uasf35325uasf35325uasf35325uasf35325uasf35325uasf35325uasf35325uasf35325uasf35325uasf35325uasf35325uasf35325uasf35325uasf35325uasf35325uasf35325uasf35325uasf35325uasf35325uasf35325uasf35325uasf35325uasf35325uasf35325uasf35325uasf35325uasf35325'"
      ]
     },
     "execution_count": 8,
     "metadata": {},
     "output_type": "execute_result"
    }
   ],
   "source": [
    "letter_are * 34"
   ]
  },
  {
   "cell_type": "code",
   "execution_count": 10,
   "id": "436e72cd",
   "metadata": {},
   "outputs": [],
   "source": [
    "x = ' i am dave' + x"
   ]
  },
  {
   "cell_type": "code",
   "execution_count": 11,
   "id": "04b03d27",
   "metadata": {},
   "outputs": [
    {
     "data": {
      "text/plain": [
       "[' i am ', 'ave i am ', 'ave i am hero ']"
      ]
     },
     "execution_count": 11,
     "metadata": {},
     "output_type": "execute_result"
    }
   ],
   "source": [
    "x.split('d')"
   ]
  },
  {
   "cell_type": "code",
   "execution_count": 12,
   "id": "b8347f91",
   "metadata": {},
   "outputs": [
    {
     "name": "stdout",
     "output_type": "stream",
     "text": [
      "my name is  hage tassang \n"
     ]
    }
   ],
   "source": [
    "my_name = ' hage tassang '\n",
    "print(\"my name is \"+ my_name)"
   ]
  },
  {
   "cell_type": "code",
   "execution_count": 15,
   "id": "6c9b8be8",
   "metadata": {},
   "outputs": [
    {
     "ename": "SyntaxError",
     "evalue": "unterminated string literal (detected at line 1) (1769500069.py, line 1)",
     "output_type": "error",
     "traceback": [
      "\u001b[1;36m  Cell \u001b[1;32mIn[15], line 1\u001b[1;36m\u001b[0m\n\u001b[1;33m    string_manipulation =input( ' the {} {} {} '.format {a= 'hero'},{b= 'is ''},{c= 'me'}})\u001b[0m\n\u001b[1;37m                                                                                       ^\u001b[0m\n\u001b[1;31mSyntaxError\u001b[0m\u001b[1;31m:\u001b[0m unterminated string literal (detected at line 1)\n"
     ]
    }
   ],
   "source": [
    "string_manipulation =input( ' the {} {} {} '.format {a= 'hero'},{b= 'is ''},{c= 'me'}})\n",
    "print(string_manipulation)"
   ]
  },
  {
   "cell_type": "code",
   "execution_count": 16,
   "id": "539b0857",
   "metadata": {},
   "outputs": [
    {
     "ename": "SyntaxError",
     "evalue": "unterminated string literal (detected at line 1) (1769500069.py, line 1)",
     "output_type": "error",
     "traceback": [
      "\u001b[1;36m  Cell \u001b[1;32mIn[16], line 1\u001b[1;36m\u001b[0m\n\u001b[1;33m    string_manipulation =input( ' the {} {} {} '.format {a= 'hero'},{b= 'is ''},{c= 'me'}})\u001b[0m\n\u001b[1;37m                                                                                       ^\u001b[0m\n\u001b[1;31mSyntaxError\u001b[0m\u001b[1;31m:\u001b[0m unterminated string literal (detected at line 1)\n"
     ]
    }
   ],
   "source": [
    "string_manipulation =input( ' the {} {} {} '.format {a= 'hero'},{b= 'is ''},{c= 'me'}})\n",
    "print(string_manipulation)"
   ]
  },
  {
   "cell_type": "code",
   "execution_count": 17,
   "id": "3d10b0fb",
   "metadata": {},
   "outputs": [
    {
     "ename": "SyntaxError",
     "evalue": "unterminated string literal (detected at line 1) (1241678891.py, line 1)",
     "output_type": "error",
     "traceback": [
      "\u001b[1;36m  Cell \u001b[1;32mIn[17], line 1\u001b[1;36m\u001b[0m\n\u001b[1;33m    string_manipulation = ( ' the {a} {b} {c} '.format {a= 'hero'},{b= 'is ''},{c= 'me'}})\u001b[0m\n\u001b[1;37m                                                                                      ^\u001b[0m\n\u001b[1;31mSyntaxError\u001b[0m\u001b[1;31m:\u001b[0m unterminated string literal (detected at line 1)\n"
     ]
    }
   ],
   "source": [
    "string_manipulation = ( ' the {a} {b} {c} '.format {a= 'hero'},{b= 'is ''},{c= 'me'}})\n",
    "print(string_manipulation)"
   ]
  },
  {
   "cell_type": "code",
   "execution_count": 18,
   "id": "13a618dd",
   "metadata": {},
   "outputs": [
    {
     "ename": "SyntaxError",
     "evalue": "unterminated string literal (detected at line 1) (1488969170.py, line 1)",
     "output_type": "error",
     "traceback": [
      "\u001b[1;36m  Cell \u001b[1;32mIn[18], line 1\u001b[1;36m\u001b[0m\n\u001b[1;33m    string_manipulation = ' the {a} {b} {c} '.format {a= 'hero'},{b= 'is ''},{c= 'me'}\u001b[0m\n\u001b[1;37m                                                                                    ^\u001b[0m\n\u001b[1;31mSyntaxError\u001b[0m\u001b[1;31m:\u001b[0m unterminated string literal (detected at line 1)\n"
     ]
    }
   ],
   "source": [
    "string_manipulation = ' the {a} {b} {c} '.format {a= 'hero'},{b= 'is ''},{c= 'me'}\n",
    "print(string_manipulation)"
   ]
  },
  {
   "cell_type": "code",
   "execution_count": 20,
   "id": "25e14c81",
   "metadata": {},
   "outputs": [
    {
     "ename": "SyntaxError",
     "evalue": "invalid syntax. Maybe you meant '==' or ':=' instead of '='? (2123742676.py, line 1)",
     "output_type": "error",
     "traceback": [
      "\u001b[1;36m  Cell \u001b[1;32mIn[20], line 1\u001b[1;36m\u001b[0m\n\u001b[1;33m    print( ' the {a} {b} {c} '.format {a= 'hero'},{b= 'is' },{c= 'me'})\u001b[0m\n\u001b[1;37m                                       ^\u001b[0m\n\u001b[1;31mSyntaxError\u001b[0m\u001b[1;31m:\u001b[0m invalid syntax. Maybe you meant '==' or ':=' instead of '='?\n"
     ]
    }
   ],
   "source": [
    "\n"
   ]
  },
  {
   "cell_type": "code",
   "execution_count": 31,
   "id": "670280bc",
   "metadata": {},
   "outputs": [
    {
     "ename": "SyntaxError",
     "evalue": "unterminated string literal (detected at line 1) (1311978103.py, line 1)",
     "output_type": "error",
     "traceback": [
      "\u001b[1;36m  Cell \u001b[1;32mIn[31], line 1\u001b[1;36m\u001b[0m\n\u001b[1;33m    print(\"the {a} {b} {c}''.format({a= 'hero'},{b= 'is' },{c= 'me'}))\u001b[0m\n\u001b[1;37m          ^\u001b[0m\n\u001b[1;31mSyntaxError\u001b[0m\u001b[1;31m:\u001b[0m unterminated string literal (detected at line 1)\n"
     ]
    }
   ],
   "source": [
    "print(\"the {a} {b} {c}''.format({a= 'hero'},{b= 'is' },{c= 'me'}))"
   ]
  },
  {
   "cell_type": "code",
   "execution_count": 22,
   "id": "1756651d",
   "metadata": {},
   "outputs": [
    {
     "ename": "SyntaxError",
     "evalue": "invalid syntax (3429010756.py, line 6)",
     "output_type": "error",
     "traceback": [
      "\u001b[1;36m  Cell \u001b[1;32mIn[22], line 6\u001b[1;36m\u001b[0m\n\u001b[1;33m    .#6\tTake two numbers as input from the user and perform addition, subtraction, multiplication, and division operations.\u001b[0m\n\u001b[1;37m    ^\u001b[0m\n\u001b[1;31mSyntaxError\u001b[0m\u001b[1;31m:\u001b[0m invalid syntax\n"
     ]
    }
   ],
   "source": [
    " \n",
    "#1: Create variables of different data types (integer, float, string, and boolean) and perform various arithmetic operations on them.\n",
    " #2.Given a string s = \"Programming is fun!\", extract the word \"is\" using slicing.\n",
    " #3.Calculate the area of a rectangle with length l and width w using the multiplication operator.\n",
    " #4.Given two numbers x and y, calculate their sum, difference, product, and quotient using arithmetic operators.\n",
    " #5.Determine the remainder of the division of two numbers a and b using the modulo operator.\n",
    ".#6\tTake two numbers as input from the user and perform addition, subtraction, multiplication, and division operations.\n",
    " #7.Take the length and width of a rectangle as input from the user and calculate its area.\n",
    "    "
   ]
  },
  {
   "cell_type": "code",
   "execution_count": 32,
   "id": "4522e987",
   "metadata": {},
   "outputs": [
    {
     "ename": "SyntaxError",
     "evalue": "unterminated string literal (detected at line 1) (3108348427.py, line 1)",
     "output_type": "error",
     "traceback": [
      "\u001b[1;36m  Cell \u001b[1;32mIn[32], line 1\u001b[1;36m\u001b[0m\n\u001b[1;33m    print(\"The {a} {b} {c}'' .format (a= ' hero ', b= ' is ', c= ' me ' ) )\u001b[0m\n\u001b[1;37m          ^\u001b[0m\n\u001b[1;31mSyntaxError\u001b[0m\u001b[1;31m:\u001b[0m unterminated string literal (detected at line 1)\n"
     ]
    }
   ],
   "source": [
    "print(\"The {a} {b} {c}'' .format (a= ' hero ', b= ' is ', c= ' me ' ) )"
   ]
  },
  {
   "cell_type": "code",
   "execution_count": 33,
   "id": "9752577f",
   "metadata": {},
   "outputs": [
    {
     "name": "stdout",
     "output_type": "stream",
     "text": [
      "The hero my dad\n"
     ]
    }
   ],
   "source": [
    "print(\"The {b} {f} {c}\" .format (b= 'hero', f= 'my' , c= 'dad') )"
   ]
  },
  {
   "cell_type": "code",
   "execution_count": 69,
   "id": "c49f231d",
   "metadata": {},
   "outputs": [
    {
     "ename": "SyntaxError",
     "evalue": "invalid syntax. Perhaps you forgot a comma? (3887985744.py, line 10)",
     "output_type": "error",
     "traceback": [
      "\u001b[1;36m  Cell \u001b[1;32mIn[69], line 10\u001b[1;36m\u001b[0m\n\u001b[1;33m    print(test, 'is' bool(bool_test))\u001b[0m\n\u001b[1;37m                ^\u001b[0m\n\u001b[1;31mSyntaxError\u001b[0m\u001b[1;31m:\u001b[0m invalid syntax. Perhaps you forgot a comma?\n"
     ]
    }
   ],
   "source": [
    "#1: Create variables of different data types (integer, float, string, and boolean) and perform various arithmetic operations on them.\n",
    "my_int = int(123)\n",
    "x = my_int + my_int\n",
    "my_flo = float(3.12)\n",
    "y = my_flo*my_flo\n",
    "str1 = 'my name is hero'\n",
    "z = str1 + 'shazam'\n",
    "print('string:' ,(z))\n",
    "bool_test = 225\n",
    "print(test, 'is' bool(bool_test))\n",
    "bool_test2 = []\n",
    "print\n",
    "print(x,,y)"
   ]
  },
  {
   "cell_type": "code",
   "execution_count": 43,
   "id": "d76b02f2",
   "metadata": {},
   "outputs": [
    {
     "ename": "SyntaxError",
     "evalue": "unterminated string literal (detected at line 2) (1221016996.py, line 2)",
     "output_type": "error",
     "traceback": [
      "\u001b[1;36m  Cell \u001b[1;32mIn[43], line 2\u001b[1;36m\u001b[0m\n\u001b[1;33m    print(f''My name is {name}')\u001b[0m\n\u001b[1;37m                              ^\u001b[0m\n\u001b[1;31mSyntaxError\u001b[0m\u001b[1;31m:\u001b[0m unterminated string literal (detected at line 2)\n"
     ]
    }
   ],
   "source": [
    "name = 'antony'\n",
    "print(f''My name is {name}')"
   ]
  },
  {
   "cell_type": "code",
   "execution_count": 44,
   "id": "82f35681",
   "metadata": {},
   "outputs": [
    {
     "ename": "SyntaxError",
     "evalue": "invalid syntax (437279414.py, line 2)",
     "output_type": "error",
     "traceback": [
      "\u001b[1;36m  Cell \u001b[1;32mIn[44], line 2\u001b[1;36m\u001b[0m\n\u001b[1;33m    print(f 'My name is {name}')\u001b[0m\n\u001b[1;37m            ^\u001b[0m\n\u001b[1;31mSyntaxError\u001b[0m\u001b[1;31m:\u001b[0m invalid syntax\n"
     ]
    }
   ],
   "source": [
    "name = 'antony'\n",
    "print(f 'My name is {name}')"
   ]
  },
  {
   "cell_type": "code",
   "execution_count": 45,
   "id": "d41121c9",
   "metadata": {},
   "outputs": [
    {
     "name": "stdout",
     "output_type": "stream",
     "text": [
      " my name  is  antony \n"
     ]
    }
   ],
   "source": [
    "name = ' antony '\n",
    "print(f' my name  is {name}')"
   ]
  },
  {
   "cell_type": "code",
   "execution_count": 46,
   "id": "3ae60cc8",
   "metadata": {},
   "outputs": [
    {
     "ename": "NameError",
     "evalue": "name 'res' is not defined",
     "output_type": "error",
     "traceback": [
      "\u001b[1;31m---------------------------------------------------------------------------\u001b[0m",
      "\u001b[1;31mNameError\u001b[0m                                 Traceback (most recent call last)",
      "Cell \u001b[1;32mIn[46], line 4\u001b[0m\n\u001b[0;32m      2\u001b[0m b \u001b[38;5;241m=\u001b[39m \u001b[38;5;241m200\u001b[39m\n\u001b[0;32m      3\u001b[0m c \u001b[38;5;241m=\u001b[39m \u001b[38;5;241m346\u001b[39m\n\u001b[1;32m----> 4\u001b[0m \u001b[38;5;28mprint\u001b[39m(\u001b[38;5;124m'\u001b[39m\u001b[38;5;124mthe result is\u001b[39m\u001b[38;5;132;01m{r:1.6f}\u001b[39;00m\u001b[38;5;124m'\u001b[39m\u001b[38;5;241m.\u001b[39mformat(r \u001b[38;5;241m=\u001b[39m \u001b[43mres\u001b[49m))\n",
      "\u001b[1;31mNameError\u001b[0m: name 'res' is not defined"
     ]
    }
   ],
   "source": [
    "a = 100\n",
    "b = 200\n",
    "c = 346\n",
    "print('the result is{r:1.6f}'.format(r = res))"
   ]
  },
  {
   "cell_type": "code",
   "execution_count": 48,
   "id": "688c5b84",
   "metadata": {},
   "outputs": [
    {
     "name": "stdout",
     "output_type": "stream",
     "text": [
      "the result is 57.803468\n"
     ]
    }
   ],
   "source": [
    "a = 100\n",
    "b = 200\n",
    "c = 346\n",
    "res = (a*b)/c\n",
    "print('the result is {r:1.6f}'.format(r = res))"
   ]
  },
  {
   "cell_type": "code",
   "execution_count": 52,
   "id": "0fc4912e",
   "metadata": {},
   "outputs": [
    {
     "name": "stdout",
     "output_type": "stream",
     "text": [
      "python\n"
     ]
    }
   ],
   "source": [
    "x = 'python'\n",
    "print(x)"
   ]
  },
  {
   "cell_type": "code",
   "execution_count": 53,
   "id": "dbd872cc",
   "metadata": {},
   "outputs": [
    {
     "data": {
      "text/plain": [
       "'python'"
      ]
     },
     "execution_count": 53,
     "metadata": {},
     "output_type": "execute_result"
    }
   ],
   "source": [
    "x[0:]"
   ]
  },
  {
   "cell_type": "code",
   "execution_count": 54,
   "id": "61e4c5c0",
   "metadata": {},
   "outputs": [
    {
     "data": {
      "text/plain": [
       "'ython'"
      ]
     },
     "execution_count": 54,
     "metadata": {},
     "output_type": "execute_result"
    }
   ],
   "source": [
    "x[1:]"
   ]
  },
  {
   "cell_type": "code",
   "execution_count": 55,
   "id": "36721194",
   "metadata": {},
   "outputs": [
    {
     "data": {
      "text/plain": [
       "'ythonc'"
      ]
     },
     "execution_count": 55,
     "metadata": {},
     "output_type": "execute_result"
    }
   ],
   "source": [
    "x[1:] + 'c'"
   ]
  },
  {
   "cell_type": "code",
   "execution_count": 56,
   "id": "c85216d8",
   "metadata": {},
   "outputs": [
    {
     "data": {
      "text/plain": [
       "'ython'"
      ]
     },
     "execution_count": 56,
     "metadata": {},
     "output_type": "execute_result"
    }
   ],
   "source": [
    "x[1:]"
   ]
  },
  {
   "cell_type": "code",
   "execution_count": 57,
   "id": "cdb5b19c",
   "metadata": {},
   "outputs": [
    {
     "data": {
      "text/plain": [
       "'cython'"
      ]
     },
     "execution_count": 57,
     "metadata": {},
     "output_type": "execute_result"
    }
   ],
   "source": [
    "'c' + x[1:]"
   ]
  },
  {
   "cell_type": "code",
   "execution_count": 59,
   "id": "1a18a684",
   "metadata": {},
   "outputs": [
    {
     "name": "stdout",
     "output_type": "stream",
     "text": [
      "hello i am a python programmer\n"
     ]
    }
   ],
   "source": [
    "s1 = \"hello\"\n",
    "s2 = \" i am a \"\n",
    "s3= 'python programmer'\n",
    "s4= s1 + s2 + s3\n",
    "print(s4)"
   ]
  },
  {
   "cell_type": "code",
   "execution_count": 60,
   "id": "e57f655a",
   "metadata": {},
   "outputs": [
    {
     "data": {
      "text/plain": [
       "' THE QUICK BROWN FOX'"
      ]
     },
     "execution_count": 60,
     "metadata": {},
     "output_type": "execute_result"
    }
   ],
   "source": [
    "string_text = ' the quick brown fox'\n",
    "string_text.upper()"
   ]
  },
  {
   "cell_type": "code",
   "execution_count": 62,
   "id": "3bd12368",
   "metadata": {},
   "outputs": [
    {
     "name": "stdout",
     "output_type": "stream",
     "text": [
      "my name is john and my age is 25\n"
     ]
    }
   ],
   "source": [
    "name = 'john'\n",
    "age = '25'\n",
    "print(f'my name is {name} and my age is {age}')"
   ]
  },
  {
   "cell_type": "code",
   "execution_count": 63,
   "id": "8bdacd0f",
   "metadata": {},
   "outputs": [
    {
     "name": "stdout",
     "output_type": "stream",
     "text": [
      "i love programming\n"
     ]
    }
   ],
   "source": [
    "my_catch = 'i love programming in python'\n",
    "print(my_catch)"
   ]
  },
  {
   "cell_type": "code",
   "execution_count": 64,
   "id": "8d986b67",
   "metadata": {},
   "outputs": [
    {
     "data": {
      "text/plain": [
       "' programming'"
      ]
     },
     "execution_count": 64,
     "metadata": {},
     "output_type": "execute_result"
    }
   ],
   "source": [
    "my_catch[6:-10]"
   ]
  },
  {
   "cell_type": "code",
   "execution_count": 65,
   "id": "0306cd29",
   "metadata": {},
   "outputs": [
    {
     "data": {
      "text/plain": [
       "' p'"
      ]
     },
     "execution_count": 65,
     "metadata": {},
     "output_type": "execute_result"
    }
   ],
   "source": [
    "my_catch[6:-10]"
   ]
  },
  {
   "cell_type": "code",
   "execution_count": 66,
   "id": "d90f64a6",
   "metadata": {},
   "outputs": [
    {
     "data": {
      "text/plain": [
       "' programming'"
      ]
     },
     "execution_count": 66,
     "metadata": {},
     "output_type": "execute_result"
    }
   ],
   "source": [
    "my_catch[6:18]"
   ]
  },
  {
   "cell_type": "code",
   "execution_count": 67,
   "id": "701f62b3",
   "metadata": {},
   "outputs": [
    {
     "name": "stdout",
     "output_type": "stream",
     "text": [
      "The result is 0.2844\n"
     ]
    }
   ],
   "source": [
    "py = 3.14\n",
    "b = 592\n",
    "c = 6535\n",
    "d = (py*b/c)\n",
    "print('The result is {r:1.4f}'.format(r=d))\n",
    "\n"
   ]
  },
  {
   "cell_type": "code",
   "execution_count": 70,
   "id": "f350be49",
   "metadata": {},
   "outputs": [
    {
     "name": "stdout",
     "output_type": "stream",
     "text": [
      "my name ishage tasssang\n"
     ]
    }
   ],
   "source": [
    "name = input('my name is',  )"
   ]
  },
  {
   "cell_type": "code",
   "execution_count": 72,
   "id": "c9726e3f",
   "metadata": {},
   "outputs": [
    {
     "ename": "SyntaxError",
     "evalue": "invalid syntax. Perhaps you forgot a comma? (2773139184.py, line 5)",
     "output_type": "error",
     "traceback": [
      "\u001b[1;36m  Cell \u001b[1;32mIn[72], line 5\u001b[1;36m\u001b[0m\n\u001b[1;33m    print('resutl:' solved)\u001b[0m\n\u001b[1;37m          ^\u001b[0m\n\u001b[1;31mSyntaxError\u001b[0m\u001b[1;31m:\u001b[0m invalid syntax. Perhaps you forgot a comma?\n"
     ]
    }
   ],
   "source": []
  },
  {
   "cell_type": "code",
   "execution_count": 74,
   "id": "a713b953",
   "metadata": {},
   "outputs": [
    {
     "name": "stdout",
     "output_type": "stream",
     "text": [
      "Enter the height: 10\n",
      "Enter the width: 20\n"
     ]
    },
    {
     "ename": "TypeError",
     "evalue": "can't multiply sequence by non-int of type 'str'",
     "output_type": "error",
     "traceback": [
      "\u001b[1;31m---------------------------------------------------------------------------\u001b[0m",
      "\u001b[1;31mTypeError\u001b[0m                                 Traceback (most recent call last)",
      "Cell \u001b[1;32mIn[74], line 4\u001b[0m\n\u001b[0;32m      2\u001b[0m h \u001b[38;5;241m=\u001b[39m \u001b[38;5;28minput\u001b[39m(\u001b[38;5;124m'\u001b[39m\u001b[38;5;124mEnter the height: \u001b[39m\u001b[38;5;124m'\u001b[39m)\n\u001b[0;32m      3\u001b[0m w \u001b[38;5;241m=\u001b[39m \u001b[38;5;28minput\u001b[39m(\u001b[38;5;124m'\u001b[39m\u001b[38;5;124mEnter the width: \u001b[39m\u001b[38;5;124m'\u001b[39m)\n\u001b[1;32m----> 4\u001b[0m solved \u001b[38;5;241m=\u001b[39m \u001b[38;5;28mfloat\u001b[39m(\u001b[43mw\u001b[49m\u001b[38;5;241;43m*\u001b[39;49m\u001b[43mh\u001b[49m)\n\u001b[0;32m      5\u001b[0m \u001b[38;5;28mprint\u001b[39m(\u001b[38;5;124m'\u001b[39m\u001b[38;5;124mresult is : \u001b[39m\u001b[38;5;124m'\u001b[39m, solved)\n",
      "\u001b[1;31mTypeError\u001b[0m: can't multiply sequence by non-int of type 'str'"
     ]
    }
   ],
   "source": [
    "#Write a python programn that calculates the area of a rectangle using the input method.\n",
    "h = input('Enter the height: ')\n",
    "w = input('Enter the width: ')\n",
    "solved = float(w*h)\n",
    "print('result is : ', solved)"
   ]
  },
  {
   "cell_type": "code",
   "execution_count": 75,
   "id": "2eb31dd1",
   "metadata": {},
   "outputs": [
    {
     "ename": "SyntaxError",
     "evalue": "incomplete input (977347666.py, line 4)",
     "output_type": "error",
     "traceback": [
      "\u001b[1;36m  Cell \u001b[1;32mIn[75], line 4\u001b[1;36m\u001b[0m\n\u001b[1;33m    print('result is : ', solved\u001b[0m\n\u001b[1;37m                                ^\u001b[0m\n\u001b[1;31mSyntaxError\u001b[0m\u001b[1;31m:\u001b[0m incomplete input\n"
     ]
    }
   ],
   "source": [
    "h = input('Enter the height: ')\n",
    "w = input('Enter the width: ')\n",
    "solved = float(w*h)\n",
    "print('result is : ', solved"
   ]
  },
  {
   "cell_type": "code",
   "execution_count": 77,
   "id": "557aae31",
   "metadata": {},
   "outputs": [
    {
     "ename": "SyntaxError",
     "evalue": "cannot assign to function call here. Maybe you meant '==' instead of '='? (2987402054.py, line 3)",
     "output_type": "error",
     "traceback": [
      "\u001b[1;36m  Cell \u001b[1;32mIn[77], line 3\u001b[1;36m\u001b[0m\n\u001b[1;33m    float (solved) = w*h\u001b[0m\n\u001b[1;37m    ^\u001b[0m\n\u001b[1;31mSyntaxError\u001b[0m\u001b[1;31m:\u001b[0m cannot assign to function call here. Maybe you meant '==' instead of '='?\n"
     ]
    }
   ],
   "source": [
    "h = input('Enter the height: ')\n",
    "w = input('Enter the width: ')\n",
    "float (solved) = w*h\n",
    "print('result is : ', solved)"
   ]
  },
  {
   "cell_type": "code",
   "execution_count": 79,
   "id": "85249315",
   "metadata": {},
   "outputs": [
    {
     "ename": "ValueError",
     "evalue": "invalid literal for int() with base 10: 'Enter the height:'",
     "output_type": "error",
     "traceback": [
      "\u001b[1;31m---------------------------------------------------------------------------\u001b[0m",
      "\u001b[1;31mValueError\u001b[0m                                Traceback (most recent call last)",
      "Cell \u001b[1;32mIn[79], line 1\u001b[0m\n\u001b[1;32m----> 1\u001b[0m h \u001b[38;5;241m=\u001b[39m \u001b[38;5;28minput\u001b[39m(\u001b[38;5;28;43mint\u001b[39;49m\u001b[43m \u001b[49m\u001b[43m(\u001b[49m\u001b[38;5;124;43m'\u001b[39;49m\u001b[38;5;124;43mEnter the height:\u001b[39;49m\u001b[38;5;124;43m'\u001b[39;49m\u001b[43m)\u001b[49m)\n\u001b[0;32m      2\u001b[0m w \u001b[38;5;241m=\u001b[39m \u001b[38;5;28minput\u001b[39m(\u001b[38;5;28mint\u001b[39m (\u001b[38;5;124m'\u001b[39m\u001b[38;5;124mEnter the width:\u001b[39m\u001b[38;5;124m'\u001b[39m))\n\u001b[0;32m      3\u001b[0m solved \u001b[38;5;241m=\u001b[39m w\u001b[38;5;241m*\u001b[39mh\n",
      "\u001b[1;31mValueError\u001b[0m: invalid literal for int() with base 10: 'Enter the height:'"
     ]
    }
   ],
   "source": [
    "h = input(int ('Enter the height:'))\n",
    "w = input(int ('Enter the width:'))\n",
    "solved = w*h\n",
    "print('result is : ',float(solved))"
   ]
  },
  {
   "cell_type": "code",
   "execution_count": 84,
   "id": "6829d2cb",
   "metadata": {},
   "outputs": [
    {
     "ename": "SyntaxError",
     "evalue": "'(' was never closed (460867267.py, line 1)",
     "output_type": "error",
     "traceback": [
      "\u001b[1;36m  Cell \u001b[1;32mIn[84], line 1\u001b[1;36m\u001b[0m\n\u001b[1;33m    w = input (('Enter the height:',float())\u001b[0m\n\u001b[1;37m              ^\u001b[0m\n\u001b[1;31mSyntaxError\u001b[0m\u001b[1;31m:\u001b[0m '(' was never closed\n"
     ]
    }
   ],
   "source": [
    "w = input (('Enter the height:',float())\n",
    "h = input (('Enter the width:', float))\n",
    "solved = float(w*h)\n",
    "print('result is : ',float(solved))"
   ]
  },
  {
   "cell_type": "code",
   "execution_count": 85,
   "id": "3710b487",
   "metadata": {},
   "outputs": [
    {
     "ename": "SyntaxError",
     "evalue": "invalid syntax. Perhaps you forgot a comma? (1815929132.py, line 1)",
     "output_type": "error",
     "traceback": [
      "\u001b[1;36m  Cell \u001b[1;32mIn[85], line 1\u001b[1;36m\u001b[0m\n\u001b[1;33m    w = input (('Enter the height:',)\u001b[0m\n\u001b[1;37m               ^\u001b[0m\n\u001b[1;31mSyntaxError\u001b[0m\u001b[1;31m:\u001b[0m invalid syntax. Perhaps you forgot a comma?\n"
     ]
    }
   ],
   "source": [
    "w = input (('Enter the height:',)\n",
    "h = input (('Enter the width:', )\n",
    "solved = float(w*h)\n",
    "print('result is : ',solved)"
   ]
  },
  {
   "cell_type": "code",
   "execution_count": 86,
   "id": "04797edd",
   "metadata": {},
   "outputs": [
    {
     "ename": "SyntaxError",
     "evalue": "invalid syntax. Perhaps you forgot a comma? (3396799623.py, line 1)",
     "output_type": "error",
     "traceback": [
      "\u001b[1;36m  Cell \u001b[1;32mIn[86], line 1\u001b[1;36m\u001b[0m\n\u001b[1;33m    w = float(input ('Enter the height:',)\u001b[0m\n\u001b[1;37m              ^\u001b[0m\n\u001b[1;31mSyntaxError\u001b[0m\u001b[1;31m:\u001b[0m invalid syntax. Perhaps you forgot a comma?\n"
     ]
    }
   ],
   "source": [
    "w = float(input ('Enter the height:',)\n",
    "h = float(input ('Enter the width:',)\n",
    "solved = w*h\n",
    "print('result is : ',solved )"
   ]
  },
  {
   "cell_type": "code",
   "execution_count": 87,
   "id": "431ba845",
   "metadata": {
    "scrolled": true
   },
   "outputs": [
    {
     "ename": "SyntaxError",
     "evalue": "invalid syntax. Perhaps you forgot a comma? (1518490909.py, line 1)",
     "output_type": "error",
     "traceback": [
      "\u001b[1;36m  Cell \u001b[1;32mIn[87], line 1\u001b[1;36m\u001b[0m\n\u001b[1;33m    w = float(input ('Enter the height:')\u001b[0m\n\u001b[1;37m              ^\u001b[0m\n\u001b[1;31mSyntaxError\u001b[0m\u001b[1;31m:\u001b[0m invalid syntax. Perhaps you forgot a comma?\n"
     ]
    }
   ],
   "source": [
    "w = float(input ('Enter the height:')\n",
    "h = float(input ('Enter the width:')\n",
    "solved = w*h\n",
    "print('result is : ',solved )"
   ]
  },
  {
   "cell_type": "code",
   "execution_count": null,
   "id": "3618fb21",
   "metadata": {},
   "outputs": [],
   "source": [
    "w = float(input)"
   ]
  }
 ],
 "metadata": {
  "kernelspec": {
   "display_name": "Python 3 (ipykernel)",
   "language": "python",
   "name": "python3"
  },
  "language_info": {
   "codemirror_mode": {
    "name": "ipython",
    "version": 3
   },
   "file_extension": ".py",
   "mimetype": "text/x-python",
   "name": "python",
   "nbconvert_exporter": "python",
   "pygments_lexer": "ipython3",
   "version": "3.10.9"
  }
 },
 "nbformat": 4,
 "nbformat_minor": 5
}
