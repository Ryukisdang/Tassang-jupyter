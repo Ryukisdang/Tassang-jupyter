{
 "cells": [
  {
   "cell_type": "code",
   "execution_count": 1,
   "id": "260ca48f",
   "metadata": {},
   "outputs": [
    {
     "data": {
      "text/plain": [
       "'HELLO WORLD'"
      ]
     },
     "execution_count": 1,
     "metadata": {},
     "output_type": "execute_result"
    }
   ],
   "source": [
    "## python list command\n",
    "x = \"hello world\"\n",
    "x.upper()"
   ]
  },
  {
   "cell_type": "code",
   "execution_count": 2,
   "id": "9859be95",
   "metadata": {},
   "outputs": [
    {
     "data": {
      "text/plain": [
       "'hello world'"
      ]
     },
     "execution_count": 2,
     "metadata": {},
     "output_type": "execute_result"
    }
   ],
   "source": [
    "x.lower()"
   ]
  },
  {
   "cell_type": "code",
   "execution_count": 3,
   "id": "d8ad79db",
   "metadata": {},
   "outputs": [
    {
     "data": {
      "text/plain": [
       "' '"
      ]
     },
     "execution_count": 3,
     "metadata": {},
     "output_type": "execute_result"
    }
   ],
   "source": [
    "x[5]"
   ]
  },
  {
   "cell_type": "code",
   "execution_count": 4,
   "id": "9ba20879",
   "metadata": {},
   "outputs": [
    {
     "data": {
      "text/plain": [
       "['hello', 'world']"
      ]
     },
     "execution_count": 4,
     "metadata": {},
     "output_type": "execute_result"
    }
   ],
   "source": [
    "x.split()"
   ]
  },
  {
   "cell_type": "code",
   "execution_count": 5,
   "id": "711331be",
   "metadata": {},
   "outputs": [
    {
     "data": {
      "text/plain": [
       "' '"
      ]
     },
     "execution_count": 5,
     "metadata": {},
     "output_type": "execute_result"
    }
   ],
   "source": [
    "x[5]"
   ]
  },
  {
   "cell_type": "code",
   "execution_count": 6,
   "id": "19738c95",
   "metadata": {},
   "outputs": [
    {
     "ename": "NameError",
     "evalue": "name 'o' is not defined",
     "output_type": "error",
     "traceback": [
      "\u001b[1;31m---------------------------------------------------------------------------\u001b[0m",
      "\u001b[1;31mNameError\u001b[0m                                 Traceback (most recent call last)",
      "Cell \u001b[1;32mIn[6], line 1\u001b[0m\n\u001b[1;32m----> 1\u001b[0m x\u001b[38;5;241m.\u001b[39msplit(\u001b[43mo\u001b[49m)\n",
      "\u001b[1;31mNameError\u001b[0m: name 'o' is not defined"
     ]
    }
   ],
   "source": [
    "x.split(o)"
   ]
  },
  {
   "cell_type": "code",
   "execution_count": 7,
   "id": "d18e5ebd",
   "metadata": {},
   "outputs": [
    {
     "ename": "TypeError",
     "evalue": "must be str or None, not int",
     "output_type": "error",
     "traceback": [
      "\u001b[1;31m---------------------------------------------------------------------------\u001b[0m",
      "\u001b[1;31mTypeError\u001b[0m                                 Traceback (most recent call last)",
      "Cell \u001b[1;32mIn[7], line 1\u001b[0m\n\u001b[1;32m----> 1\u001b[0m \u001b[43mx\u001b[49m\u001b[38;5;241;43m.\u001b[39;49m\u001b[43msplit\u001b[49m\u001b[43m(\u001b[49m\u001b[38;5;241;43m5\u001b[39;49m\u001b[43m)\u001b[49m\n",
      "\u001b[1;31mTypeError\u001b[0m: must be str or None, not int"
     ]
    }
   ],
   "source": [
    "x.split(5)"
   ]
  },
  {
   "cell_type": "code",
   "execution_count": 8,
   "id": "00d4e225",
   "metadata": {},
   "outputs": [
    {
     "ename": "TypeError",
     "evalue": "must be str or None, not list",
     "output_type": "error",
     "traceback": [
      "\u001b[1;31m---------------------------------------------------------------------------\u001b[0m",
      "\u001b[1;31mTypeError\u001b[0m                                 Traceback (most recent call last)",
      "Cell \u001b[1;32mIn[8], line 1\u001b[0m\n\u001b[1;32m----> 1\u001b[0m \u001b[43mx\u001b[49m\u001b[38;5;241;43m.\u001b[39;49m\u001b[43msplit\u001b[49m\u001b[43m(\u001b[49m\u001b[43m[\u001b[49m\u001b[38;5;241;43m5\u001b[39;49m\u001b[43m]\u001b[49m\u001b[43m)\u001b[49m\n",
      "\u001b[1;31mTypeError\u001b[0m: must be str or None, not list"
     ]
    }
   ],
   "source": [
    "x.split([5])"
   ]
  },
  {
   "cell_type": "code",
   "execution_count": 9,
   "id": "e3c3136b",
   "metadata": {},
   "outputs": [
    {
     "data": {
      "text/plain": [
       "['hell', ' w', 'rld']"
      ]
     },
     "execution_count": 9,
     "metadata": {},
     "output_type": "execute_result"
    }
   ],
   "source": [
    "x.split('o')"
   ]
  },
  {
   "cell_type": "code",
   "execution_count": 10,
   "id": "17984ebe",
   "metadata": {},
   "outputs": [
    {
     "ename": "AttributeError",
     "evalue": "'list' object has no attribute 'split'",
     "output_type": "error",
     "traceback": [
      "\u001b[1;31m---------------------------------------------------------------------------\u001b[0m",
      "\u001b[1;31mAttributeError\u001b[0m                            Traceback (most recent call last)",
      "Cell \u001b[1;32mIn[10], line 2\u001b[0m\n\u001b[0;32m      1\u001b[0m y \u001b[38;5;241m=\u001b[39m [\u001b[38;5;241m324\u001b[39m,\u001b[38;5;124m\"\u001b[39m\u001b[38;5;124msanjay\u001b[39m\u001b[38;5;124m\"\u001b[39m]\n\u001b[1;32m----> 2\u001b[0m \u001b[43my\u001b[49m\u001b[38;5;241;43m.\u001b[39;49m\u001b[43msplit\u001b[49m(\u001b[38;5;241m2\u001b[39m)\n",
      "\u001b[1;31mAttributeError\u001b[0m: 'list' object has no attribute 'split'"
     ]
    }
   ],
   "source": [
    "y = [324,\"sanjay\"]\n",
    "y.split(2)"
   ]
  },
  {
   "cell_type": "code",
   "execution_count": 30,
   "id": "075d389b",
   "metadata": {},
   "outputs": [
    {
     "name": "stdout",
     "output_type": "stream",
     "text": [
      "[324, 'sanjay', 'tassang', 'tassang']\n"
     ]
    }
   ],
   "source": [
    "y = [324,\"sanjay\"]\n",
    "y.append(\"tassang\")\n",
    "y.append(\"tassang\")\n",
    "print(y)"
   ]
  },
  {
   "cell_type": "code",
   "execution_count": 31,
   "id": "af98b33b",
   "metadata": {},
   "outputs": [
    {
     "data": {
      "text/plain": [
       "[324, 'sanjay', 'tassang', 'tassang']"
      ]
     },
     "execution_count": 31,
     "metadata": {},
     "output_type": "execute_result"
    }
   ],
   "source": [
    "y.copy()"
   ]
  },
  {
   "cell_type": "code",
   "execution_count": 34,
   "id": "d63dfc2c",
   "metadata": {},
   "outputs": [
    {
     "data": {
      "text/plain": [
       "1"
      ]
     },
     "execution_count": 34,
     "metadata": {},
     "output_type": "execute_result"
    }
   ],
   "source": [
    "y.count(324)"
   ]
  },
  {
   "cell_type": "code",
   "execution_count": 36,
   "id": "336b568e",
   "metadata": {},
   "outputs": [
    {
     "data": {
      "text/plain": [
       "[324, 'sanjay', 'tassang', 'tassang', 's', 'a', 'n', 'j', 'a', 'y']"
      ]
     },
     "execution_count": 36,
     "metadata": {},
     "output_type": "execute_result"
    }
   ],
   "source": [
    "y.copy()"
   ]
  },
  {
   "cell_type": "code",
   "execution_count": 39,
   "id": "513ab4d8",
   "metadata": {},
   "outputs": [],
   "source": [
    "y.extend(\"tassang\")"
   ]
  },
  {
   "cell_type": "code",
   "execution_count": 40,
   "id": "cf293a6a",
   "metadata": {},
   "outputs": [
    {
     "name": "stdout",
     "output_type": "stream",
     "text": [
      "[324, 'sanjay', 'tassang', 'tassang', 's', 'a', 'n', 'j', 'a', 'y', 't', 'a', 's', 's', 'a', 'n', 'g', 't', 'a', 's', 's', 'a', 'n', 'g']\n"
     ]
    }
   ],
   "source": [
    "print(y)"
   ]
  },
  {
   "cell_type": "code",
   "execution_count": 41,
   "id": "dc12ecaf",
   "metadata": {},
   "outputs": [
    {
     "data": {
      "text/plain": [
       "4"
      ]
     },
     "execution_count": 41,
     "metadata": {},
     "output_type": "execute_result"
    }
   ],
   "source": [
    "y.index(\"s\")"
   ]
  },
  {
   "cell_type": "code",
   "execution_count": 42,
   "id": "ffb00316",
   "metadata": {},
   "outputs": [],
   "source": [
    "y.insert(1,\"yantu\")"
   ]
  },
  {
   "cell_type": "code",
   "execution_count": 43,
   "id": "efd20f38",
   "metadata": {},
   "outputs": [
    {
     "name": "stdout",
     "output_type": "stream",
     "text": [
      "[324, 'yantu', 'sanjay', 'tassang', 'tassang', 's', 'a', 'n', 'j', 'a', 'y', 't', 'a', 's', 's', 'a', 'n', 'g', 't', 'a', 's', 's', 'a', 'n', 'g']\n"
     ]
    }
   ],
   "source": [
    "print(y)"
   ]
  },
  {
   "cell_type": "code",
   "execution_count": 53,
   "id": "58bdd8d0",
   "metadata": {},
   "outputs": [
    {
     "name": "stdout",
     "output_type": "stream",
     "text": [
      "a\n",
      "[324, 'yantu', 'sanjay', 'tassang', 'n', 'j', 'a', 'y', 't', 'a', 's', 's', 'a', 'n', 'g', 't', 'a', 's', 's', 'a', 'n', 'g']\n"
     ]
    }
   ],
   "source": [
    "pop =  y.pop(4)\n",
    "\n",
    "print(pop)\n",
    "print(y)"
   ]
  },
  {
   "cell_type": "code",
   "execution_count": 58,
   "id": "5d69ddb0",
   "metadata": {},
   "outputs": [
    {
     "data": {
      "text/plain": [
       "[324,\n",
       " 'yantu',\n",
       " 'sanjay',\n",
       " 'tassang',\n",
       " 'n',\n",
       " 'j',\n",
       " 'a',\n",
       " 'y',\n",
       " 't',\n",
       " 'a',\n",
       " 's',\n",
       " 's',\n",
       " 'a',\n",
       " 'n',\n",
       " 'g',\n",
       " 't',\n",
       " 'a',\n",
       " 's',\n",
       " 's',\n",
       " 'a',\n",
       " 'n',\n",
       " 'g']"
      ]
     },
     "execution_count": 58,
     "metadata": {},
     "output_type": "execute_result"
    }
   ],
   "source": [
    "y"
   ]
  },
  {
   "cell_type": "code",
   "execution_count": 59,
   "id": "8d2bf48d",
   "metadata": {},
   "outputs": [],
   "source": [
    "y.remove(324)"
   ]
  },
  {
   "cell_type": "code",
   "execution_count": 60,
   "id": "4c6d948a",
   "metadata": {},
   "outputs": [
    {
     "name": "stdout",
     "output_type": "stream",
     "text": [
      "['yantu', 'sanjay', 'tassang', 'n', 'j', 'a', 'y', 't', 'a', 's', 's', 'a', 'n', 'g', 't', 'a', 's', 's', 'a', 'n', 'g']\n"
     ]
    }
   ],
   "source": [
    "print(y)"
   ]
  },
  {
   "cell_type": "code",
   "execution_count": 61,
   "id": "1d4523ee",
   "metadata": {},
   "outputs": [],
   "source": [
    "y.reverse()"
   ]
  },
  {
   "cell_type": "code",
   "execution_count": 62,
   "id": "5cc1edba",
   "metadata": {},
   "outputs": [
    {
     "name": "stdout",
     "output_type": "stream",
     "text": [
      "['g', 'n', 'a', 's', 's', 'a', 't', 'g', 'n', 'a', 's', 's', 'a', 't', 'y', 'a', 'j', 'n', 'tassang', 'sanjay', 'yantu']\n"
     ]
    }
   ],
   "source": [
    "print(y)"
   ]
  },
  {
   "cell_type": "code",
   "execution_count": 63,
   "id": "c5997a94",
   "metadata": {},
   "outputs": [
    {
     "data": {
      "text/plain": [
       "21"
      ]
     },
     "execution_count": 63,
     "metadata": {},
     "output_type": "execute_result"
    }
   ],
   "source": [
    "len(y)"
   ]
  },
  {
   "cell_type": "code",
   "execution_count": 64,
   "id": "148cfed2",
   "metadata": {},
   "outputs": [],
   "source": [
    "y.sort()"
   ]
  },
  {
   "cell_type": "code",
   "execution_count": 101,
   "id": "7d6ddf2c",
   "metadata": {},
   "outputs": [
    {
     "name": "stdout",
     "output_type": "stream",
     "text": [
      "['a', 'a', 'a', 'hello world', 'a', 'g', 'g', 'j', 'n', 'n', 'n', 's', 's', 's', 's', 'sanjay', 't', 't', 'tassang', 'y', 'yantu']\n"
     ]
    }
   ],
   "source": [
    "y[3] = \"hello world\"\n",
    "print (y)"
   ]
  },
  {
   "cell_type": "code",
   "execution_count": 70,
   "id": "dd8b6e58",
   "metadata": {},
   "outputs": [],
   "source": [
    "## python format method\n",
    "\n"
   ]
  },
  {
   "cell_type": "code",
   "execution_count": 73,
   "id": "a6598f9d",
   "metadata": {},
   "outputs": [
    {
     "name": "stdout",
     "output_type": "stream",
     "text": [
      "i am a student of msu i am father son i am rich\n"
     ]
    }
   ],
   "source": [
    "print(\"i am a student of {a} {b} {c}\".format(a= 'msu', c= 'i am rich', b= 'i am father son'))"
   ]
  },
  {
   "cell_type": "code",
   "execution_count": 84,
   "id": "9683ef50",
   "metadata": {},
   "outputs": [
    {
     "name": "stdout",
     "output_type": "stream",
     "text": [
      " i am a student of msu i am father son i am rich thats it\n"
     ]
    }
   ],
   "source": [
    "str1 =' i am a student of msu i am father son i am rich '\n",
    "print(str1 +  \"thats it\")"
   ]
  },
  {
   "cell_type": "code",
   "execution_count": 85,
   "id": "e3afbeb2",
   "metadata": {},
   "outputs": [],
   "source": [
    "#float formatting\n",
    "result = 12421/125"
   ]
  },
  {
   "cell_type": "code",
   "execution_count": 86,
   "id": "b5c0f0c9",
   "metadata": {},
   "outputs": [
    {
     "data": {
      "text/plain": [
       "99.368"
      ]
     },
     "execution_count": 86,
     "metadata": {},
     "output_type": "execute_result"
    }
   ],
   "source": [
    "result"
   ]
  },
  {
   "cell_type": "code",
   "execution_count": 90,
   "id": "ef28fcae",
   "metadata": {},
   "outputs": [
    {
     "name": "stdout",
     "output_type": "stream",
     "text": [
      "the result is 99.4\n"
     ]
    }
   ],
   "source": [
    "print('the result is {r:4.1f}' .format(r = result))"
   ]
  },
  {
   "cell_type": "code",
   "execution_count": 96,
   "id": "e6736b0f",
   "metadata": {},
   "outputs": [
    {
     "name": "stdout",
     "output_type": "stream",
     "text": [
      "result 99.37\n"
     ]
    }
   ],
   "source": [
    "j = 1000\n",
    "k = 2009\n",
    "i = 45\n",
    "res = j*k/i\n",
    "print(\"result {r:1.2f}\" .format(r=result))"
   ]
  },
  {
   "cell_type": "markdown",
   "id": "502d91fc",
   "metadata": {},
   "source": []
  },
  {
   "cell_type": "code",
   "execution_count": 97,
   "id": "d72c5bc3",
   "metadata": {},
   "outputs": [
    {
     "name": "stdout",
     "output_type": "stream",
     "text": [
      "my name is tassang\n"
     ]
    }
   ],
   "source": [
    "name = 'tassang'\n",
    "print(f\"my name is {name}\")"
   ]
  },
  {
   "cell_type": "code",
   "execution_count": 115,
   "id": "44b0aa09",
   "metadata": {},
   "outputs": [
    {
     "name": "stdout",
     "output_type": "stream",
     "text": [
      "{'azim': 'a', 'raju': [45, 'dgds']} {'apple': 50, 'ball': 30}\n"
     ]
    }
   ],
   "source": [
    "##dictionary in python\n",
    "dict1 ={'azim':'a','raju':[45,\"dgds\"] }\n",
    "dict2 ={'apple':50,'ball':(30)}\n",
    "print(dict1, dict2)"
   ]
  },
  {
   "cell_type": "code",
   "execution_count": 107,
   "id": "ab37ab96",
   "metadata": {},
   "outputs": [
    {
     "ename": "TypeError",
     "evalue": "unsupported operand type(s) for +: 'dict' and 'dict'",
     "output_type": "error",
     "traceback": [
      "\u001b[1;31m---------------------------------------------------------------------------\u001b[0m",
      "\u001b[1;31mTypeError\u001b[0m                                 Traceback (most recent call last)",
      "Cell \u001b[1;32mIn[107], line 1\u001b[0m\n\u001b[1;32m----> 1\u001b[0m \u001b[43mdict1\u001b[49m\u001b[43m \u001b[49m\u001b[38;5;241;43m+\u001b[39;49m\u001b[43m \u001b[49m\u001b[43mdict2\u001b[49m\n",
      "\u001b[1;31mTypeError\u001b[0m: unsupported operand type(s) for +: 'dict' and 'dict'"
     ]
    }
   ],
   "source": [
    "dict1 + dict2"
   ]
  },
  {
   "cell_type": "code",
   "execution_count": 109,
   "id": "39b55a33",
   "metadata": {},
   "outputs": [
    {
     "data": {
      "text/plain": [
       "'a'"
      ]
     },
     "execution_count": 109,
     "metadata": {},
     "output_type": "execute_result"
    }
   ],
   "source": [
    "dict1['azim']"
   ]
  },
  {
   "cell_type": "code",
   "execution_count": 112,
   "id": "6673c1fb",
   "metadata": {},
   "outputs": [
    {
     "data": {
      "text/plain": [
       "dict_keys(['azim', 'raju'])"
      ]
     },
     "execution_count": 112,
     "metadata": {},
     "output_type": "execute_result"
    }
   ],
   "source": [
    "dict1.keys()"
   ]
  },
  {
   "cell_type": "code",
   "execution_count": 114,
   "id": "299e7ef4",
   "metadata": {},
   "outputs": [
    {
     "data": {
      "text/plain": [
       "dict_values([50, 30])"
      ]
     },
     "execution_count": 114,
     "metadata": {},
     "output_type": "execute_result"
    }
   ],
   "source": [
    "dict2.values()"
   ]
  },
  {
   "cell_type": "code",
   "execution_count": 119,
   "id": "e9e1518d",
   "metadata": {},
   "outputs": [
    {
     "data": {
      "text/plain": [
       "45"
      ]
     },
     "execution_count": 119,
     "metadata": {},
     "output_type": "execute_result"
    }
   ],
   "source": [
    "dict1 ['raju'] [0]"
   ]
  },
  {
   "cell_type": "code",
   "execution_count": null,
   "id": "2bd10a2b",
   "metadata": {},
   "outputs": [],
   "source": []
  }
 ],
 "metadata": {
  "kernelspec": {
   "display_name": "Python 3 (ipykernel)",
   "language": "python",
   "name": "python3"
  },
  "language_info": {
   "codemirror_mode": {
    "name": "ipython",
    "version": 3
   },
   "file_extension": ".py",
   "mimetype": "text/x-python",
   "name": "python",
   "nbconvert_exporter": "python",
   "pygments_lexer": "ipython3",
   "version": "3.10.9"
  }
 },
 "nbformat": 4,
 "nbformat_minor": 5
}
