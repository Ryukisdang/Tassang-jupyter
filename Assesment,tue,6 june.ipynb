{
 "cells": [
  {
   "cell_type": "markdown",
   "id": "c235f5a4",
   "metadata": {},
   "source": [
    "Questions :\n",
    "1. Write a Python program function that inputs a number and prints the multiplication\n",
    "table of that number\n",
    "Input = 9\n",
    "Output =\n",
    "9 * 1 = 9\n",
    "9 * 2 = 18\n",
    "9 * 3 = 27\n",
    "9 * 4 = 36\n",
    "9 * 5 = 45\n",
    "9 * 6 = 54\n",
    "9 * 7 = 63\n",
    "9 * 8 = 72\n",
    "9 * 9 = 81\n",
    "9 * 10 = 90"
   ]
  },
  {
   "cell_type": "code",
   "execution_count": 3,
   "id": "757181a8",
   "metadata": {},
   "outputs": [
    {
     "name": "stdout",
     "output_type": "stream",
     "text": [
      "Enter a number to find it multiplication table: 9\n",
      "9 x 0 = 0\n",
      "9 x 1 = 9\n",
      "9 x 2 = 18\n",
      "9 x 3 = 27\n",
      "9 x 4 = 36\n",
      "9 x 5 = 45\n",
      "9 x 6 = 54\n",
      "9 x 7 = 63\n",
      "9 x 8 = 72\n",
      "9 x 9 = 81\n",
      "9 x 10 = 90\n"
     ]
    }
   ],
   "source": [
    "n = int(input(\"Enter a number to find it multiplication table: \"))\n",
    "for i in range(0,10+1):\n",
    "    print(n,'x',i,'=',n*i)"
   ]
  },
  {
   "cell_type": "markdown",
   "id": "bb1927ba",
   "metadata": {},
   "source": [
    "2. Write a Python function to find the maximum and minimum of three numbers"
   ]
  },
  {
   "cell_type": "code",
   "execution_count": 10,
   "id": "96585c01",
   "metadata": {},
   "outputs": [],
   "source": [
    "def _max(n1,n2,n3):\n",
    "    max_=[n1,n2,n3]\n",
    "    print(\"the max of three number: \",max(max_))\n",
    "    \n"
   ]
  },
  {
   "cell_type": "code",
   "execution_count": 11,
   "id": "8e9d2d0d",
   "metadata": {},
   "outputs": [
    {
     "name": "stdout",
     "output_type": "stream",
     "text": [
      "enter 1st no: 1\n",
      "enter 2nd no: 2\n",
      "enter 3rd no: 3\n",
      "the max of three number:  3\n"
     ]
    }
   ],
   "source": [
    "x=int(input(\"enter 1st no: \"))\n",
    "y=int(input(\"enter 2nd no: \"))\n",
    "z=int(input(\"enter 3rd no: \"))\n",
    "max_num= _max(x,y,z)\n",
    "    "
   ]
  },
  {
   "cell_type": "code",
   "execution_count": 15,
   "id": "2f861b93",
   "metadata": {},
   "outputs": [],
   "source": [
    "def _min(n1,n2,n3):\n",
    "    max_=[n1,n2,n3]\n",
    "    return min(max_) "
   ]
  },
  {
   "cell_type": "code",
   "execution_count": 16,
   "id": "d50a116b",
   "metadata": {},
   "outputs": [
    {
     "data": {
      "text/plain": [
       "2"
      ]
     },
     "execution_count": 16,
     "metadata": {},
     "output_type": "execute_result"
    }
   ],
   "source": [
    "_min(2,3,8)"
   ]
  },
  {
   "cell_type": "code",
   "execution_count": null,
   "id": "8568b322",
   "metadata": {},
   "outputs": [],
   "source": [
    "3.Write a function that takes in a list of floats and returns True if the list contains\n",
    "duplicates and False if the list does not contain duplicates\n",
    "Sample List : [1, 2, 3, 4, 5, 2, 7, 8, 9]\n",
    "Result : True, Duplicate Number is : 2"
   ]
  },
  {
   "cell_type": "code",
   "execution_count": 29,
   "id": "8b594165",
   "metadata": {},
   "outputs": [],
   "source": [
    "def duplicate_check(test_list):\n",
    "    new_list = set(test_list)\n",
    "    print(\"old list\",test_list)\n",
    "    print(\"old list\",new_list)\n",
    "    print(\"you can see the difference above to check duplicate number is kicked out\")\n",
    "    return len(test_list) != len(new_list)\n",
    "    \n",
    "    "
   ]
  },
  {
   "cell_type": "code",
   "execution_count": 30,
   "id": "1b9a05c9",
   "metadata": {},
   "outputs": [
    {
     "name": "stdout",
     "output_type": "stream",
     "text": [
      "old list [1, 2, 3, 4, 5, 2, 7, 8, 9]\n",
      "old list {1, 2, 3, 4, 5, 7, 8, 9}\n",
      "you can see the difference above to check duplicate number is kicked out\n"
     ]
    },
    {
     "data": {
      "text/plain": [
       "True"
      ]
     },
     "execution_count": 30,
     "metadata": {},
     "output_type": "execute_result"
    }
   ],
   "source": [
    "test=[1, 2, 3, 4, 5, 2, 7, 8, 9]\n",
    "duplicate_check(test)"
   ]
  },
  {
   "cell_type": "code",
   "execution_count": 8,
   "id": "3d2d4447",
   "metadata": {},
   "outputs": [
    {
     "ename": "SyntaxError",
     "evalue": "'return' outside function (2195835851.py, line 9)",
     "output_type": "error",
     "traceback": [
      "\u001b[1;36m  Cell \u001b[1;32mIn[8], line 9\u001b[1;36m\u001b[0m\n\u001b[1;33m    return False\u001b[0m\n\u001b[1;37m    ^\u001b[0m\n\u001b[1;31mSyntaxError\u001b[0m\u001b[1;31m:\u001b[0m 'return' outside function\n"
     ]
    }
   ],
   "source": [
    "#4. Write a LAMBDA function that takes in a list of floats and returns True if the list\n",
    "# contains duplicates and False if the list does not contain duplicates\n",
    "test=[1, 2, 3, 4, 5, 2, 7, 8, 9]\n",
    "test2=set(test)"
   ]
  },
  {
   "cell_type": "markdown",
   "id": "7e71e943",
   "metadata": {},
   "source": [
    "5. Write a Python program function to create a Simple Calculator with operations (+, -,\n",
    "*, /, ^ )"
   ]
  },
  {
   "cell_type": "code",
   "execution_count": 19,
   "id": "e02084b2",
   "metadata": {},
   "outputs": [],
   "source": [
    "def add():\n",
    "    x=int(input())\n",
    "    y=int(input())\n",
    "    add=x+y\n",
    "    return add\n",
    "\n",
    "def subtract():\n",
    "    x=int(input())\n",
    "    y=int(input())\n",
    "    sub=x-y\n",
    "    return sub\n",
    "def divide():\n",
    "    x=int(input())\n",
    "    y=int(input())\n",
    "    div=x/y\n",
    "    return div\n",
    "def product():\n",
    "    x=int(input())\n",
    "    y=int(input())\n",
    "    prod=x*y\n",
    "    return prod\n",
    "def sqr():\n",
    "    x=int(input())\n",
    "    sqred=x/y\n",
    "    return sqred\n",
    "    \n",
    "    "
   ]
  },
  {
   "cell_type": "code",
   "execution_count": 26,
   "id": "52773011",
   "metadata": {},
   "outputs": [
    {
     "name": "stdout",
     "output_type": "stream",
     "text": [
      "Enter add,sub,divide,sqr to do operation: ADD\n",
      "23\n",
      "34\n"
     ]
    },
    {
     "data": {
      "text/plain": [
       "57"
      ]
     },
     "execution_count": 26,
     "metadata": {},
     "output_type": "execute_result"
    }
   ],
   "source": [
    "def calculator():\n",
    "    user_call=input(\"Enter add,sub,divide,sqr to do operation: \").upper().strip()\n",
    "    if user_call=='ADD':\n",
    "        return add()\n",
    "    elif user_call==\"SUBTRACT\":\n",
    "        return sub()\n",
    "    elif user_call==\"DIVIDE\":\n",
    "        return divide()\n",
    "    elif user_call==\"PRODUCT\":\n",
    "        return product()\n",
    "    elif user_call==\"SQR\":\n",
    "        return sqr()\n",
    "    else:\n",
    "        pass\n",
    "calculator()"
   ]
  },
  {
   "cell_type": "code",
   "execution_count": null,
   "id": "47ef951c",
   "metadata": {},
   "outputs": [],
   "source": [
    "#sir help me with this while loop\n",
    "def calculator():\n",
    "    loop=False\n",
    "    user_call=input(\"Enter add,sub,divide,sqr to do operation: \").upper().strip()\n",
    "    while loop==False:\n",
    "        if user_call=='ADD':\n",
    "            loop=False\n",
    "            return add()\n",
    "        elif user_call==\"SUBTRACT\":\n",
    "            loop=False\n",
    "            return sub()\n",
    "        elif user_call==\"DIVIDE\":\n",
    "            loop=False\n",
    "    return divide()\n",
    "        elif user_call==\"PRODUCT\":\n",
    "            loop=False\n",
    "    return product()\n",
    "        elif user_call==\"SQR\":\n",
    "            loop=False\n",
    "    return sqr()\n",
    "        else:\n",
    "            x=input(\"You wanna try again y or n: \").upper()\n",
    "            if x == \"Y\":\n",
    "                loop=True\n",
    "            if x==\"N\":\n",
    "                loop=False\n",
    "                print(\"The program gonna end\")\n",
    "            else:\n",
    "                pass\n",
    "        \n",
    "        \n",
    "    "
   ]
  },
  {
   "cell_type": "code",
   "execution_count": null,
   "id": "e9fdf89b",
   "metadata": {},
   "outputs": [],
   "source": []
  },
  {
   "cell_type": "code",
   "execution_count": null,
   "id": "d539849f",
   "metadata": {},
   "outputs": [],
   "source": [
    "6. Generate a random list of 10 integers between 1 and 100, then print the minimum and\n",
    "maximum values.\n"
   ]
  },
  {
   "cell_type": "code",
   "execution_count": 45,
   "id": "578f776a",
   "metadata": {},
   "outputs": [
    {
     "name": "stdout",
     "output_type": "stream",
     "text": [
      "[85, 62, 44, 23, 78, 67, 4, 88, 1, 71]\n"
     ]
    }
   ],
   "source": [
    "import random\n",
    "new_list=[]\n",
    "for i in range(10):\n",
    "    random_num= random.randint(1,100)\n",
    "    new_list.append(random_num)\n",
    "print(new_list)"
   ]
  },
  {
   "cell_type": "code",
   "execution_count": null,
   "id": "7dcc17a6",
   "metadata": {},
   "outputs": [],
   "source": [
    "7. Use argument (*args) to get the table of 8:\n",
    "8 * 0 = 0\n",
    "8 * 1 = 8\n",
    "8 * 2 = 16\n",
    "8 * 3= 24\n",
    "8 * 4 = 32\n",
    "8 * 5 = 40\n",
    "8 * 6 = 48\n",
    "8 * 7 = 56\n",
    "8 * 8 = 64\n",
    "8 * 9 = 72\n",
    "8 * 10 = 80"
   ]
  },
  {
   "cell_type": "code",
   "execution_count": 47,
   "id": "f1f3611b",
   "metadata": {},
   "outputs": [],
   "source": [
    "def eight_table(*nums):\n",
    "    for num in range(10+1):\n",
    "        prod= 8*num\n",
    "        print(\"8\",'x',num,'=',prod)"
   ]
  },
  {
   "cell_type": "code",
   "execution_count": 48,
   "id": "b04b8f47",
   "metadata": {},
   "outputs": [
    {
     "name": "stdout",
     "output_type": "stream",
     "text": [
      "8 x 0 = 0\n",
      "8 x 1 = 8\n",
      "8 x 2 = 16\n",
      "8 x 3 = 24\n",
      "8 x 4 = 32\n",
      "8 x 5 = 40\n",
      "8 x 6 = 48\n",
      "8 x 7 = 56\n",
      "8 x 8 = 64\n",
      "8 x 9 = 72\n",
      "8 x 10 = 80\n"
     ]
    }
   ],
   "source": [
    "eight_table(1,2,3,4,5,6,7,8,10)"
   ]
  },
  {
   "cell_type": "code",
   "execution_count": 63,
   "id": "27a99f5b",
   "metadata": {},
   "outputs": [],
   "source": [
    "#better method\n",
    "def duplicate_check(test_list):\n",
    "    new_list = set(test_list)\n",
    "    print(\"old list\",test_list)\n",
    "    print(\"old list\",new_list)\n",
    "    print(\"you can see the difference above to check duplicate number is kicked out\")\n",
    "    if len(test_list) != len(new_list):\n",
    "        r1=sum(test_list)\n",
    "        r2=sum(new_list)\n",
    "        dups=str(r1-r2)\n",
    "    return \"duplicate num is: \" + dups\n",
    "        \n",
    "        "
   ]
  },
  {
   "cell_type": "code",
   "execution_count": 65,
   "id": "0fb7eb95",
   "metadata": {},
   "outputs": [
    {
     "name": "stdout",
     "output_type": "stream",
     "text": [
      "old list [1, 3, 3, 4, 5, 2, 2, 8, 9]\n",
      "old list {1, 2, 3, 4, 5, 8, 9}\n",
      "you can see the difference above to check duplicate number is kicked out\n"
     ]
    },
    {
     "data": {
      "text/plain": [
       "'duplicate num is: 5'"
      ]
     },
     "execution_count": 65,
     "metadata": {},
     "output_type": "execute_result"
    }
   ],
   "source": [
    "test=[1, 3, 3, 4, 5, 2, 2, 8, 9]\n",
    "duplicate_check(test)"
   ]
  },
  {
   "cell_type": "code",
   "execution_count": 57,
   "id": "332c9bc0",
   "metadata": {},
   "outputs": [],
   "source": [
    "t=[1, 2, 3, 4, 5, 2, 7, 8, 9]\n",
    "t2={1, 2, 3, 4, 5, 7, 8, 9}\n",
    "r1=sum(t)\n",
    "r2=sum(t2)"
   ]
  },
  {
   "cell_type": "code",
   "execution_count": 58,
   "id": "a515d91e",
   "metadata": {},
   "outputs": [
    {
     "name": "stdout",
     "output_type": "stream",
     "text": [
      "41\n"
     ]
    }
   ],
   "source": [
    "print(r1)"
   ]
  },
  {
   "cell_type": "code",
   "execution_count": 59,
   "id": "32b355fa",
   "metadata": {},
   "outputs": [
    {
     "name": "stdout",
     "output_type": "stream",
     "text": [
      "39\n"
     ]
    }
   ],
   "source": [
    "print(r2)"
   ]
  },
  {
   "cell_type": "code",
   "execution_count": 60,
   "id": "9ca4414c",
   "metadata": {},
   "outputs": [
    {
     "name": "stdout",
     "output_type": "stream",
     "text": [
      "2\n"
     ]
    }
   ],
   "source": [
    "r3=r1-r2\n",
    "print(r3)"
   ]
  },
  {
   "cell_type": "code",
   "execution_count": null,
   "id": "108c6d1b",
   "metadata": {},
   "outputs": [],
   "source": []
  },
  {
   "cell_type": "code",
   "execution_count": null,
   "id": "7513dad0",
   "metadata": {},
   "outputs": [],
   "source": []
  },
  {
   "cell_type": "code",
   "execution_count": null,
   "id": "26e4d5e8",
   "metadata": {},
   "outputs": [],
   "source": []
  },
  {
   "cell_type": "code",
   "execution_count": null,
   "id": "657767ae",
   "metadata": {},
   "outputs": [],
   "source": []
  },
  {
   "cell_type": "code",
   "execution_count": null,
   "id": "9f52f0a9",
   "metadata": {},
   "outputs": [],
   "source": []
  },
  {
   "cell_type": "code",
   "execution_count": null,
   "id": "9e960dfd",
   "metadata": {},
   "outputs": [],
   "source": []
  },
  {
   "cell_type": "code",
   "execution_count": null,
   "id": "96af4217",
   "metadata": {},
   "outputs": [],
   "source": []
  }
 ],
 "metadata": {
  "kernelspec": {
   "display_name": "Python 3 (ipykernel)",
   "language": "python",
   "name": "python3"
  },
  "language_info": {
   "codemirror_mode": {
    "name": "ipython",
    "version": 3
   },
   "file_extension": ".py",
   "mimetype": "text/x-python",
   "name": "python",
   "nbconvert_exporter": "python",
   "pygments_lexer": "ipython3",
   "version": "3.10.9"
  }
 },
 "nbformat": 4,
 "nbformat_minor": 5
}
